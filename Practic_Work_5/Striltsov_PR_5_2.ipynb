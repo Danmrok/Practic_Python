{
 "cells": [
  {
   "cell_type": "raw",
   "source": [
    "ПРАКТИЧНА РОБОТА 5 Plotly \n",
    "ЗАВДАННЯ 2 "
   ],
   "metadata": {
    "collapsed": false
   },
   "id": "fd93d5be0711da35"
  },
  {
   "cell_type": "code",
   "execution_count": 5,
   "outputs": [],
   "source": [
    "import plotly.express as px\n",
    "import plotly.graph_objects as go\n",
    "import numpy as np"
   ],
   "metadata": {
    "collapsed": false,
    "ExecuteTime": {
     "end_time": "2023-10-27T13:11:11.143708Z",
     "start_time": "2023-10-27T13:11:11.135002Z"
    }
   },
   "id": "8b7a47f386fbf7d1"
  },
  {
   "cell_type": "raw",
   "source": [
    "Для датасету px.data.iris() побудувати наступні графіки.  \n",
    "\n",
    "Графіки мають назву, що вирівнювання за центром. \n",
    "\n",
    "1.Побудуйте 3D-графік розподілу даних для датасету Iris з використанням властивостей \"sepal_length,\" \"sepal_width,\" та \"petal_length.\" Кожна точка має бути розфарбована відповідно до класу квітки (setosa, versicolor, virginica). "
   ],
   "metadata": {
    "collapsed": false
   },
   "id": "900b8e57ff8b8711"
  },
  {
   "cell_type": "code",
   "execution_count": 17,
   "outputs": [
    {
     "data": {
      "application/vnd.plotly.v1+json": {
       "data": [
        {
         "hovertemplate": "species=setosa<br>sepal_length=%{x}<br>sepal_width=%{y}<br>petal_length=%{z}<extra></extra>",
         "legendgroup": "setosa",
         "marker": {
          "color": "#636efa",
          "symbol": "circle"
         },
         "mode": "markers",
         "name": "setosa",
         "scene": "scene",
         "showlegend": true,
         "x": [
          5.1,
          4.9,
          4.7,
          4.6,
          5.0,
          5.4,
          4.6,
          5.0,
          4.4,
          4.9,
          5.4,
          4.8,
          4.8,
          4.3,
          5.8,
          5.7,
          5.4,
          5.1,
          5.7,
          5.1,
          5.4,
          5.1,
          4.6,
          5.1,
          4.8,
          5.0,
          5.0,
          5.2,
          5.2,
          4.7,
          4.8,
          5.4,
          5.2,
          5.5,
          4.9,
          5.0,
          5.5,
          4.9,
          4.4,
          5.1,
          5.0,
          4.5,
          4.4,
          5.0,
          5.1,
          4.8,
          5.1,
          4.6,
          5.3,
          5.0
         ],
         "y": [
          3.5,
          3.0,
          3.2,
          3.1,
          3.6,
          3.9,
          3.4,
          3.4,
          2.9,
          3.1,
          3.7,
          3.4,
          3.0,
          3.0,
          4.0,
          4.4,
          3.9,
          3.5,
          3.8,
          3.8,
          3.4,
          3.7,
          3.6,
          3.3,
          3.4,
          3.0,
          3.4,
          3.5,
          3.4,
          3.2,
          3.1,
          3.4,
          4.1,
          4.2,
          3.1,
          3.2,
          3.5,
          3.1,
          3.0,
          3.4,
          3.5,
          2.3,
          3.2,
          3.5,
          3.8,
          3.0,
          3.8,
          3.2,
          3.7,
          3.3
         ],
         "z": [
          1.4,
          1.4,
          1.3,
          1.5,
          1.4,
          1.7,
          1.4,
          1.5,
          1.4,
          1.5,
          1.5,
          1.6,
          1.4,
          1.1,
          1.2,
          1.5,
          1.3,
          1.4,
          1.7,
          1.5,
          1.7,
          1.5,
          1.0,
          1.7,
          1.9,
          1.6,
          1.6,
          1.5,
          1.4,
          1.6,
          1.6,
          1.5,
          1.5,
          1.4,
          1.5,
          1.2,
          1.3,
          1.5,
          1.3,
          1.5,
          1.3,
          1.3,
          1.3,
          1.6,
          1.9,
          1.4,
          1.6,
          1.4,
          1.5,
          1.4
         ],
         "type": "scatter3d"
        },
        {
         "hovertemplate": "species=versicolor<br>sepal_length=%{x}<br>sepal_width=%{y}<br>petal_length=%{z}<extra></extra>",
         "legendgroup": "versicolor",
         "marker": {
          "color": "#EF553B",
          "symbol": "circle"
         },
         "mode": "markers",
         "name": "versicolor",
         "scene": "scene",
         "showlegend": true,
         "x": [
          7.0,
          6.4,
          6.9,
          5.5,
          6.5,
          5.7,
          6.3,
          4.9,
          6.6,
          5.2,
          5.0,
          5.9,
          6.0,
          6.1,
          5.6,
          6.7,
          5.6,
          5.8,
          6.2,
          5.6,
          5.9,
          6.1,
          6.3,
          6.1,
          6.4,
          6.6,
          6.8,
          6.7,
          6.0,
          5.7,
          5.5,
          5.5,
          5.8,
          6.0,
          5.4,
          6.0,
          6.7,
          6.3,
          5.6,
          5.5,
          5.5,
          6.1,
          5.8,
          5.0,
          5.6,
          5.7,
          5.7,
          6.2,
          5.1,
          5.7
         ],
         "y": [
          3.2,
          3.2,
          3.1,
          2.3,
          2.8,
          2.8,
          3.3,
          2.4,
          2.9,
          2.7,
          2.0,
          3.0,
          2.2,
          2.9,
          2.9,
          3.1,
          3.0,
          2.7,
          2.2,
          2.5,
          3.2,
          2.8,
          2.5,
          2.8,
          2.9,
          3.0,
          2.8,
          3.0,
          2.9,
          2.6,
          2.4,
          2.4,
          2.7,
          2.7,
          3.0,
          3.4,
          3.1,
          2.3,
          3.0,
          2.5,
          2.6,
          3.0,
          2.6,
          2.3,
          2.7,
          3.0,
          2.9,
          2.9,
          2.5,
          2.8
         ],
         "z": [
          4.7,
          4.5,
          4.9,
          4.0,
          4.6,
          4.5,
          4.7,
          3.3,
          4.6,
          3.9,
          3.5,
          4.2,
          4.0,
          4.7,
          3.6,
          4.4,
          4.5,
          4.1,
          4.5,
          3.9,
          4.8,
          4.0,
          4.9,
          4.7,
          4.3,
          4.4,
          4.8,
          5.0,
          4.5,
          3.5,
          3.8,
          3.7,
          3.9,
          5.1,
          4.5,
          4.5,
          4.7,
          4.4,
          4.1,
          4.0,
          4.4,
          4.6,
          4.0,
          3.3,
          4.2,
          4.2,
          4.2,
          4.3,
          3.0,
          4.1
         ],
         "type": "scatter3d"
        },
        {
         "hovertemplate": "species=virginica<br>sepal_length=%{x}<br>sepal_width=%{y}<br>petal_length=%{z}<extra></extra>",
         "legendgroup": "virginica",
         "marker": {
          "color": "#00cc96",
          "symbol": "circle"
         },
         "mode": "markers",
         "name": "virginica",
         "scene": "scene",
         "showlegend": true,
         "x": [
          6.3,
          5.8,
          7.1,
          6.3,
          6.5,
          7.6,
          4.9,
          7.3,
          6.7,
          7.2,
          6.5,
          6.4,
          6.8,
          5.7,
          5.8,
          6.4,
          6.5,
          7.7,
          7.7,
          6.0,
          6.9,
          5.6,
          7.7,
          6.3,
          6.7,
          7.2,
          6.2,
          6.1,
          6.4,
          7.2,
          7.4,
          7.9,
          6.4,
          6.3,
          6.1,
          7.7,
          6.3,
          6.4,
          6.0,
          6.9,
          6.7,
          6.9,
          5.8,
          6.8,
          6.7,
          6.7,
          6.3,
          6.5,
          6.2,
          5.9
         ],
         "y": [
          3.3,
          2.7,
          3.0,
          2.9,
          3.0,
          3.0,
          2.5,
          2.9,
          2.5,
          3.6,
          3.2,
          2.7,
          3.0,
          2.5,
          2.8,
          3.2,
          3.0,
          3.8,
          2.6,
          2.2,
          3.2,
          2.8,
          2.8,
          2.7,
          3.3,
          3.2,
          2.8,
          3.0,
          2.8,
          3.0,
          2.8,
          3.8,
          2.8,
          2.8,
          2.6,
          3.0,
          3.4,
          3.1,
          3.0,
          3.1,
          3.1,
          3.1,
          2.7,
          3.2,
          3.3,
          3.0,
          2.5,
          3.0,
          3.4,
          3.0
         ],
         "z": [
          6.0,
          5.1,
          5.9,
          5.6,
          5.8,
          6.6,
          4.5,
          6.3,
          5.8,
          6.1,
          5.1,
          5.3,
          5.5,
          5.0,
          5.1,
          5.3,
          5.5,
          6.7,
          6.9,
          5.0,
          5.7,
          4.9,
          6.7,
          4.9,
          5.7,
          6.0,
          4.8,
          4.9,
          5.6,
          5.8,
          6.1,
          6.4,
          5.6,
          5.1,
          5.6,
          6.1,
          5.6,
          5.5,
          4.8,
          5.4,
          5.6,
          5.1,
          5.1,
          5.9,
          5.7,
          5.2,
          5.0,
          5.2,
          5.4,
          5.1
         ],
         "type": "scatter3d"
        }
       ],
       "layout": {
        "template": {
         "data": {
          "histogram2dcontour": [
           {
            "type": "histogram2dcontour",
            "colorbar": {
             "outlinewidth": 0,
             "ticks": ""
            },
            "colorscale": [
             [
              0.0,
              "#0d0887"
             ],
             [
              0.1111111111111111,
              "#46039f"
             ],
             [
              0.2222222222222222,
              "#7201a8"
             ],
             [
              0.3333333333333333,
              "#9c179e"
             ],
             [
              0.4444444444444444,
              "#bd3786"
             ],
             [
              0.5555555555555556,
              "#d8576b"
             ],
             [
              0.6666666666666666,
              "#ed7953"
             ],
             [
              0.7777777777777778,
              "#fb9f3a"
             ],
             [
              0.8888888888888888,
              "#fdca26"
             ],
             [
              1.0,
              "#f0f921"
             ]
            ]
           }
          ],
          "choropleth": [
           {
            "type": "choropleth",
            "colorbar": {
             "outlinewidth": 0,
             "ticks": ""
            }
           }
          ],
          "histogram2d": [
           {
            "type": "histogram2d",
            "colorbar": {
             "outlinewidth": 0,
             "ticks": ""
            },
            "colorscale": [
             [
              0.0,
              "#0d0887"
             ],
             [
              0.1111111111111111,
              "#46039f"
             ],
             [
              0.2222222222222222,
              "#7201a8"
             ],
             [
              0.3333333333333333,
              "#9c179e"
             ],
             [
              0.4444444444444444,
              "#bd3786"
             ],
             [
              0.5555555555555556,
              "#d8576b"
             ],
             [
              0.6666666666666666,
              "#ed7953"
             ],
             [
              0.7777777777777778,
              "#fb9f3a"
             ],
             [
              0.8888888888888888,
              "#fdca26"
             ],
             [
              1.0,
              "#f0f921"
             ]
            ]
           }
          ],
          "heatmap": [
           {
            "type": "heatmap",
            "colorbar": {
             "outlinewidth": 0,
             "ticks": ""
            },
            "colorscale": [
             [
              0.0,
              "#0d0887"
             ],
             [
              0.1111111111111111,
              "#46039f"
             ],
             [
              0.2222222222222222,
              "#7201a8"
             ],
             [
              0.3333333333333333,
              "#9c179e"
             ],
             [
              0.4444444444444444,
              "#bd3786"
             ],
             [
              0.5555555555555556,
              "#d8576b"
             ],
             [
              0.6666666666666666,
              "#ed7953"
             ],
             [
              0.7777777777777778,
              "#fb9f3a"
             ],
             [
              0.8888888888888888,
              "#fdca26"
             ],
             [
              1.0,
              "#f0f921"
             ]
            ]
           }
          ],
          "heatmapgl": [
           {
            "type": "heatmapgl",
            "colorbar": {
             "outlinewidth": 0,
             "ticks": ""
            },
            "colorscale": [
             [
              0.0,
              "#0d0887"
             ],
             [
              0.1111111111111111,
              "#46039f"
             ],
             [
              0.2222222222222222,
              "#7201a8"
             ],
             [
              0.3333333333333333,
              "#9c179e"
             ],
             [
              0.4444444444444444,
              "#bd3786"
             ],
             [
              0.5555555555555556,
              "#d8576b"
             ],
             [
              0.6666666666666666,
              "#ed7953"
             ],
             [
              0.7777777777777778,
              "#fb9f3a"
             ],
             [
              0.8888888888888888,
              "#fdca26"
             ],
             [
              1.0,
              "#f0f921"
             ]
            ]
           }
          ],
          "contourcarpet": [
           {
            "type": "contourcarpet",
            "colorbar": {
             "outlinewidth": 0,
             "ticks": ""
            }
           }
          ],
          "contour": [
           {
            "type": "contour",
            "colorbar": {
             "outlinewidth": 0,
             "ticks": ""
            },
            "colorscale": [
             [
              0.0,
              "#0d0887"
             ],
             [
              0.1111111111111111,
              "#46039f"
             ],
             [
              0.2222222222222222,
              "#7201a8"
             ],
             [
              0.3333333333333333,
              "#9c179e"
             ],
             [
              0.4444444444444444,
              "#bd3786"
             ],
             [
              0.5555555555555556,
              "#d8576b"
             ],
             [
              0.6666666666666666,
              "#ed7953"
             ],
             [
              0.7777777777777778,
              "#fb9f3a"
             ],
             [
              0.8888888888888888,
              "#fdca26"
             ],
             [
              1.0,
              "#f0f921"
             ]
            ]
           }
          ],
          "surface": [
           {
            "type": "surface",
            "colorbar": {
             "outlinewidth": 0,
             "ticks": ""
            },
            "colorscale": [
             [
              0.0,
              "#0d0887"
             ],
             [
              0.1111111111111111,
              "#46039f"
             ],
             [
              0.2222222222222222,
              "#7201a8"
             ],
             [
              0.3333333333333333,
              "#9c179e"
             ],
             [
              0.4444444444444444,
              "#bd3786"
             ],
             [
              0.5555555555555556,
              "#d8576b"
             ],
             [
              0.6666666666666666,
              "#ed7953"
             ],
             [
              0.7777777777777778,
              "#fb9f3a"
             ],
             [
              0.8888888888888888,
              "#fdca26"
             ],
             [
              1.0,
              "#f0f921"
             ]
            ]
           }
          ],
          "mesh3d": [
           {
            "type": "mesh3d",
            "colorbar": {
             "outlinewidth": 0,
             "ticks": ""
            }
           }
          ],
          "scatter": [
           {
            "marker": {
             "line": {
              "color": "#283442"
             }
            },
            "type": "scatter"
           }
          ],
          "parcoords": [
           {
            "type": "parcoords",
            "line": {
             "colorbar": {
              "outlinewidth": 0,
              "ticks": ""
             }
            }
           }
          ],
          "scatterpolargl": [
           {
            "type": "scatterpolargl",
            "marker": {
             "colorbar": {
              "outlinewidth": 0,
              "ticks": ""
             }
            }
           }
          ],
          "bar": [
           {
            "error_x": {
             "color": "#f2f5fa"
            },
            "error_y": {
             "color": "#f2f5fa"
            },
            "marker": {
             "line": {
              "color": "rgb(17,17,17)",
              "width": 0.5
             },
             "pattern": {
              "fillmode": "overlay",
              "size": 10,
              "solidity": 0.2
             }
            },
            "type": "bar"
           }
          ],
          "scattergeo": [
           {
            "type": "scattergeo",
            "marker": {
             "colorbar": {
              "outlinewidth": 0,
              "ticks": ""
             }
            }
           }
          ],
          "scatterpolar": [
           {
            "type": "scatterpolar",
            "marker": {
             "colorbar": {
              "outlinewidth": 0,
              "ticks": ""
             }
            }
           }
          ],
          "histogram": [
           {
            "marker": {
             "pattern": {
              "fillmode": "overlay",
              "size": 10,
              "solidity": 0.2
             }
            },
            "type": "histogram"
           }
          ],
          "scattergl": [
           {
            "marker": {
             "line": {
              "color": "#283442"
             }
            },
            "type": "scattergl"
           }
          ],
          "scatter3d": [
           {
            "type": "scatter3d",
            "line": {
             "colorbar": {
              "outlinewidth": 0,
              "ticks": ""
             }
            },
            "marker": {
             "colorbar": {
              "outlinewidth": 0,
              "ticks": ""
             }
            }
           }
          ],
          "scattermapbox": [
           {
            "type": "scattermapbox",
            "marker": {
             "colorbar": {
              "outlinewidth": 0,
              "ticks": ""
             }
            }
           }
          ],
          "scatterternary": [
           {
            "type": "scatterternary",
            "marker": {
             "colorbar": {
              "outlinewidth": 0,
              "ticks": ""
             }
            }
           }
          ],
          "scattercarpet": [
           {
            "type": "scattercarpet",
            "marker": {
             "colorbar": {
              "outlinewidth": 0,
              "ticks": ""
             }
            }
           }
          ],
          "carpet": [
           {
            "aaxis": {
             "endlinecolor": "#A2B1C6",
             "gridcolor": "#506784",
             "linecolor": "#506784",
             "minorgridcolor": "#506784",
             "startlinecolor": "#A2B1C6"
            },
            "baxis": {
             "endlinecolor": "#A2B1C6",
             "gridcolor": "#506784",
             "linecolor": "#506784",
             "minorgridcolor": "#506784",
             "startlinecolor": "#A2B1C6"
            },
            "type": "carpet"
           }
          ],
          "table": [
           {
            "cells": {
             "fill": {
              "color": "#506784"
             },
             "line": {
              "color": "rgb(17,17,17)"
             }
            },
            "header": {
             "fill": {
              "color": "#2a3f5f"
             },
             "line": {
              "color": "rgb(17,17,17)"
             }
            },
            "type": "table"
           }
          ],
          "barpolar": [
           {
            "marker": {
             "line": {
              "color": "rgb(17,17,17)",
              "width": 0.5
             },
             "pattern": {
              "fillmode": "overlay",
              "size": 10,
              "solidity": 0.2
             }
            },
            "type": "barpolar"
           }
          ],
          "pie": [
           {
            "automargin": true,
            "type": "pie"
           }
          ]
         },
         "layout": {
          "autotypenumbers": "strict",
          "colorway": [
           "#636efa",
           "#EF553B",
           "#00cc96",
           "#ab63fa",
           "#FFA15A",
           "#19d3f3",
           "#FF6692",
           "#B6E880",
           "#FF97FF",
           "#FECB52"
          ],
          "font": {
           "color": "#f2f5fa"
          },
          "hovermode": "closest",
          "hoverlabel": {
           "align": "left"
          },
          "paper_bgcolor": "rgb(17,17,17)",
          "plot_bgcolor": "rgb(17,17,17)",
          "polar": {
           "bgcolor": "rgb(17,17,17)",
           "angularaxis": {
            "gridcolor": "#506784",
            "linecolor": "#506784",
            "ticks": ""
           },
           "radialaxis": {
            "gridcolor": "#506784",
            "linecolor": "#506784",
            "ticks": ""
           }
          },
          "ternary": {
           "bgcolor": "rgb(17,17,17)",
           "aaxis": {
            "gridcolor": "#506784",
            "linecolor": "#506784",
            "ticks": ""
           },
           "baxis": {
            "gridcolor": "#506784",
            "linecolor": "#506784",
            "ticks": ""
           },
           "caxis": {
            "gridcolor": "#506784",
            "linecolor": "#506784",
            "ticks": ""
           }
          },
          "coloraxis": {
           "colorbar": {
            "outlinewidth": 0,
            "ticks": ""
           }
          },
          "colorscale": {
           "sequential": [
            [
             0.0,
             "#0d0887"
            ],
            [
             0.1111111111111111,
             "#46039f"
            ],
            [
             0.2222222222222222,
             "#7201a8"
            ],
            [
             0.3333333333333333,
             "#9c179e"
            ],
            [
             0.4444444444444444,
             "#bd3786"
            ],
            [
             0.5555555555555556,
             "#d8576b"
            ],
            [
             0.6666666666666666,
             "#ed7953"
            ],
            [
             0.7777777777777778,
             "#fb9f3a"
            ],
            [
             0.8888888888888888,
             "#fdca26"
            ],
            [
             1.0,
             "#f0f921"
            ]
           ],
           "sequentialminus": [
            [
             0.0,
             "#0d0887"
            ],
            [
             0.1111111111111111,
             "#46039f"
            ],
            [
             0.2222222222222222,
             "#7201a8"
            ],
            [
             0.3333333333333333,
             "#9c179e"
            ],
            [
             0.4444444444444444,
             "#bd3786"
            ],
            [
             0.5555555555555556,
             "#d8576b"
            ],
            [
             0.6666666666666666,
             "#ed7953"
            ],
            [
             0.7777777777777778,
             "#fb9f3a"
            ],
            [
             0.8888888888888888,
             "#fdca26"
            ],
            [
             1.0,
             "#f0f921"
            ]
           ],
           "diverging": [
            [
             0,
             "#8e0152"
            ],
            [
             0.1,
             "#c51b7d"
            ],
            [
             0.2,
             "#de77ae"
            ],
            [
             0.3,
             "#f1b6da"
            ],
            [
             0.4,
             "#fde0ef"
            ],
            [
             0.5,
             "#f7f7f7"
            ],
            [
             0.6,
             "#e6f5d0"
            ],
            [
             0.7,
             "#b8e186"
            ],
            [
             0.8,
             "#7fbc41"
            ],
            [
             0.9,
             "#4d9221"
            ],
            [
             1,
             "#276419"
            ]
           ]
          },
          "xaxis": {
           "gridcolor": "#283442",
           "linecolor": "#506784",
           "ticks": "",
           "title": {
            "standoff": 15
           },
           "zerolinecolor": "#283442",
           "automargin": true,
           "zerolinewidth": 2
          },
          "yaxis": {
           "gridcolor": "#283442",
           "linecolor": "#506784",
           "ticks": "",
           "title": {
            "standoff": 15
           },
           "zerolinecolor": "#283442",
           "automargin": true,
           "zerolinewidth": 2
          },
          "scene": {
           "xaxis": {
            "backgroundcolor": "rgb(17,17,17)",
            "gridcolor": "#506784",
            "linecolor": "#506784",
            "showbackground": true,
            "ticks": "",
            "zerolinecolor": "#C8D4E3",
            "gridwidth": 2
           },
           "yaxis": {
            "backgroundcolor": "rgb(17,17,17)",
            "gridcolor": "#506784",
            "linecolor": "#506784",
            "showbackground": true,
            "ticks": "",
            "zerolinecolor": "#C8D4E3",
            "gridwidth": 2
           },
           "zaxis": {
            "backgroundcolor": "rgb(17,17,17)",
            "gridcolor": "#506784",
            "linecolor": "#506784",
            "showbackground": true,
            "ticks": "",
            "zerolinecolor": "#C8D4E3",
            "gridwidth": 2
           }
          },
          "shapedefaults": {
           "line": {
            "color": "#f2f5fa"
           }
          },
          "annotationdefaults": {
           "arrowcolor": "#f2f5fa",
           "arrowhead": 0,
           "arrowwidth": 1
          },
          "geo": {
           "bgcolor": "rgb(17,17,17)",
           "landcolor": "rgb(17,17,17)",
           "subunitcolor": "#506784",
           "showland": true,
           "showlakes": true,
           "lakecolor": "rgb(17,17,17)"
          },
          "title": {
           "x": 0.05
          },
          "updatemenudefaults": {
           "bgcolor": "#506784",
           "borderwidth": 0
          },
          "sliderdefaults": {
           "bgcolor": "#C8D4E3",
           "borderwidth": 1,
           "bordercolor": "rgb(17,17,17)",
           "tickwidth": 0
          },
          "mapbox": {
           "style": "dark"
          }
         }
        },
        "scene": {
         "domain": {
          "x": [
           0.0,
           1.0
          ],
          "y": [
           0.0,
           1.0
          ]
         },
         "xaxis": {
          "title": {
           "text": "sepal_length"
          }
         },
         "yaxis": {
          "title": {
           "text": "sepal_width"
          }
         },
         "zaxis": {
          "title": {
           "text": "petal_length"
          }
         }
        },
        "legend": {
         "title": {
          "text": "species"
         },
         "tracegroupgap": 0
        },
        "title": {
         "text": "3D-графік розподілу даних для датасету Iris"
        },
        "width": 800,
        "height": 800
       },
       "config": {
        "plotlyServerURL": "https://plot.ly"
       }
      },
      "text/html": "<div>                            <div id=\"03080dd1-32c8-4f35-8669-d0fd915bcc83\" class=\"plotly-graph-div\" style=\"height:800px; width:800px;\"></div>            <script type=\"text/javascript\">                require([\"plotly\"], function(Plotly) {                    window.PLOTLYENV=window.PLOTLYENV || {};                                    if (document.getElementById(\"03080dd1-32c8-4f35-8669-d0fd915bcc83\")) {                    Plotly.newPlot(                        \"03080dd1-32c8-4f35-8669-d0fd915bcc83\",                        [{\"hovertemplate\":\"species=setosa\\u003cbr\\u003esepal_length=%{x}\\u003cbr\\u003esepal_width=%{y}\\u003cbr\\u003epetal_length=%{z}\\u003cextra\\u003e\\u003c\\u002fextra\\u003e\",\"legendgroup\":\"setosa\",\"marker\":{\"color\":\"#636efa\",\"symbol\":\"circle\"},\"mode\":\"markers\",\"name\":\"setosa\",\"scene\":\"scene\",\"showlegend\":true,\"x\":[5.1,4.9,4.7,4.6,5.0,5.4,4.6,5.0,4.4,4.9,5.4,4.8,4.8,4.3,5.8,5.7,5.4,5.1,5.7,5.1,5.4,5.1,4.6,5.1,4.8,5.0,5.0,5.2,5.2,4.7,4.8,5.4,5.2,5.5,4.9,5.0,5.5,4.9,4.4,5.1,5.0,4.5,4.4,5.0,5.1,4.8,5.1,4.6,5.3,5.0],\"y\":[3.5,3.0,3.2,3.1,3.6,3.9,3.4,3.4,2.9,3.1,3.7,3.4,3.0,3.0,4.0,4.4,3.9,3.5,3.8,3.8,3.4,3.7,3.6,3.3,3.4,3.0,3.4,3.5,3.4,3.2,3.1,3.4,4.1,4.2,3.1,3.2,3.5,3.1,3.0,3.4,3.5,2.3,3.2,3.5,3.8,3.0,3.8,3.2,3.7,3.3],\"z\":[1.4,1.4,1.3,1.5,1.4,1.7,1.4,1.5,1.4,1.5,1.5,1.6,1.4,1.1,1.2,1.5,1.3,1.4,1.7,1.5,1.7,1.5,1.0,1.7,1.9,1.6,1.6,1.5,1.4,1.6,1.6,1.5,1.5,1.4,1.5,1.2,1.3,1.5,1.3,1.5,1.3,1.3,1.3,1.6,1.9,1.4,1.6,1.4,1.5,1.4],\"type\":\"scatter3d\"},{\"hovertemplate\":\"species=versicolor\\u003cbr\\u003esepal_length=%{x}\\u003cbr\\u003esepal_width=%{y}\\u003cbr\\u003epetal_length=%{z}\\u003cextra\\u003e\\u003c\\u002fextra\\u003e\",\"legendgroup\":\"versicolor\",\"marker\":{\"color\":\"#EF553B\",\"symbol\":\"circle\"},\"mode\":\"markers\",\"name\":\"versicolor\",\"scene\":\"scene\",\"showlegend\":true,\"x\":[7.0,6.4,6.9,5.5,6.5,5.7,6.3,4.9,6.6,5.2,5.0,5.9,6.0,6.1,5.6,6.7,5.6,5.8,6.2,5.6,5.9,6.1,6.3,6.1,6.4,6.6,6.8,6.7,6.0,5.7,5.5,5.5,5.8,6.0,5.4,6.0,6.7,6.3,5.6,5.5,5.5,6.1,5.8,5.0,5.6,5.7,5.7,6.2,5.1,5.7],\"y\":[3.2,3.2,3.1,2.3,2.8,2.8,3.3,2.4,2.9,2.7,2.0,3.0,2.2,2.9,2.9,3.1,3.0,2.7,2.2,2.5,3.2,2.8,2.5,2.8,2.9,3.0,2.8,3.0,2.9,2.6,2.4,2.4,2.7,2.7,3.0,3.4,3.1,2.3,3.0,2.5,2.6,3.0,2.6,2.3,2.7,3.0,2.9,2.9,2.5,2.8],\"z\":[4.7,4.5,4.9,4.0,4.6,4.5,4.7,3.3,4.6,3.9,3.5,4.2,4.0,4.7,3.6,4.4,4.5,4.1,4.5,3.9,4.8,4.0,4.9,4.7,4.3,4.4,4.8,5.0,4.5,3.5,3.8,3.7,3.9,5.1,4.5,4.5,4.7,4.4,4.1,4.0,4.4,4.6,4.0,3.3,4.2,4.2,4.2,4.3,3.0,4.1],\"type\":\"scatter3d\"},{\"hovertemplate\":\"species=virginica\\u003cbr\\u003esepal_length=%{x}\\u003cbr\\u003esepal_width=%{y}\\u003cbr\\u003epetal_length=%{z}\\u003cextra\\u003e\\u003c\\u002fextra\\u003e\",\"legendgroup\":\"virginica\",\"marker\":{\"color\":\"#00cc96\",\"symbol\":\"circle\"},\"mode\":\"markers\",\"name\":\"virginica\",\"scene\":\"scene\",\"showlegend\":true,\"x\":[6.3,5.8,7.1,6.3,6.5,7.6,4.9,7.3,6.7,7.2,6.5,6.4,6.8,5.7,5.8,6.4,6.5,7.7,7.7,6.0,6.9,5.6,7.7,6.3,6.7,7.2,6.2,6.1,6.4,7.2,7.4,7.9,6.4,6.3,6.1,7.7,6.3,6.4,6.0,6.9,6.7,6.9,5.8,6.8,6.7,6.7,6.3,6.5,6.2,5.9],\"y\":[3.3,2.7,3.0,2.9,3.0,3.0,2.5,2.9,2.5,3.6,3.2,2.7,3.0,2.5,2.8,3.2,3.0,3.8,2.6,2.2,3.2,2.8,2.8,2.7,3.3,3.2,2.8,3.0,2.8,3.0,2.8,3.8,2.8,2.8,2.6,3.0,3.4,3.1,3.0,3.1,3.1,3.1,2.7,3.2,3.3,3.0,2.5,3.0,3.4,3.0],\"z\":[6.0,5.1,5.9,5.6,5.8,6.6,4.5,6.3,5.8,6.1,5.1,5.3,5.5,5.0,5.1,5.3,5.5,6.7,6.9,5.0,5.7,4.9,6.7,4.9,5.7,6.0,4.8,4.9,5.6,5.8,6.1,6.4,5.6,5.1,5.6,6.1,5.6,5.5,4.8,5.4,5.6,5.1,5.1,5.9,5.7,5.2,5.0,5.2,5.4,5.1],\"type\":\"scatter3d\"}],                        {\"template\":{\"data\":{\"histogram2dcontour\":[{\"type\":\"histogram2dcontour\",\"colorbar\":{\"outlinewidth\":0,\"ticks\":\"\"},\"colorscale\":[[0.0,\"#0d0887\"],[0.1111111111111111,\"#46039f\"],[0.2222222222222222,\"#7201a8\"],[0.3333333333333333,\"#9c179e\"],[0.4444444444444444,\"#bd3786\"],[0.5555555555555556,\"#d8576b\"],[0.6666666666666666,\"#ed7953\"],[0.7777777777777778,\"#fb9f3a\"],[0.8888888888888888,\"#fdca26\"],[1.0,\"#f0f921\"]]}],\"choropleth\":[{\"type\":\"choropleth\",\"colorbar\":{\"outlinewidth\":0,\"ticks\":\"\"}}],\"histogram2d\":[{\"type\":\"histogram2d\",\"colorbar\":{\"outlinewidth\":0,\"ticks\":\"\"},\"colorscale\":[[0.0,\"#0d0887\"],[0.1111111111111111,\"#46039f\"],[0.2222222222222222,\"#7201a8\"],[0.3333333333333333,\"#9c179e\"],[0.4444444444444444,\"#bd3786\"],[0.5555555555555556,\"#d8576b\"],[0.6666666666666666,\"#ed7953\"],[0.7777777777777778,\"#fb9f3a\"],[0.8888888888888888,\"#fdca26\"],[1.0,\"#f0f921\"]]}],\"heatmap\":[{\"type\":\"heatmap\",\"colorbar\":{\"outlinewidth\":0,\"ticks\":\"\"},\"colorscale\":[[0.0,\"#0d0887\"],[0.1111111111111111,\"#46039f\"],[0.2222222222222222,\"#7201a8\"],[0.3333333333333333,\"#9c179e\"],[0.4444444444444444,\"#bd3786\"],[0.5555555555555556,\"#d8576b\"],[0.6666666666666666,\"#ed7953\"],[0.7777777777777778,\"#fb9f3a\"],[0.8888888888888888,\"#fdca26\"],[1.0,\"#f0f921\"]]}],\"heatmapgl\":[{\"type\":\"heatmapgl\",\"colorbar\":{\"outlinewidth\":0,\"ticks\":\"\"},\"colorscale\":[[0.0,\"#0d0887\"],[0.1111111111111111,\"#46039f\"],[0.2222222222222222,\"#7201a8\"],[0.3333333333333333,\"#9c179e\"],[0.4444444444444444,\"#bd3786\"],[0.5555555555555556,\"#d8576b\"],[0.6666666666666666,\"#ed7953\"],[0.7777777777777778,\"#fb9f3a\"],[0.8888888888888888,\"#fdca26\"],[1.0,\"#f0f921\"]]}],\"contourcarpet\":[{\"type\":\"contourcarpet\",\"colorbar\":{\"outlinewidth\":0,\"ticks\":\"\"}}],\"contour\":[{\"type\":\"contour\",\"colorbar\":{\"outlinewidth\":0,\"ticks\":\"\"},\"colorscale\":[[0.0,\"#0d0887\"],[0.1111111111111111,\"#46039f\"],[0.2222222222222222,\"#7201a8\"],[0.3333333333333333,\"#9c179e\"],[0.4444444444444444,\"#bd3786\"],[0.5555555555555556,\"#d8576b\"],[0.6666666666666666,\"#ed7953\"],[0.7777777777777778,\"#fb9f3a\"],[0.8888888888888888,\"#fdca26\"],[1.0,\"#f0f921\"]]}],\"surface\":[{\"type\":\"surface\",\"colorbar\":{\"outlinewidth\":0,\"ticks\":\"\"},\"colorscale\":[[0.0,\"#0d0887\"],[0.1111111111111111,\"#46039f\"],[0.2222222222222222,\"#7201a8\"],[0.3333333333333333,\"#9c179e\"],[0.4444444444444444,\"#bd3786\"],[0.5555555555555556,\"#d8576b\"],[0.6666666666666666,\"#ed7953\"],[0.7777777777777778,\"#fb9f3a\"],[0.8888888888888888,\"#fdca26\"],[1.0,\"#f0f921\"]]}],\"mesh3d\":[{\"type\":\"mesh3d\",\"colorbar\":{\"outlinewidth\":0,\"ticks\":\"\"}}],\"scatter\":[{\"marker\":{\"line\":{\"color\":\"#283442\"}},\"type\":\"scatter\"}],\"parcoords\":[{\"type\":\"parcoords\",\"line\":{\"colorbar\":{\"outlinewidth\":0,\"ticks\":\"\"}}}],\"scatterpolargl\":[{\"type\":\"scatterpolargl\",\"marker\":{\"colorbar\":{\"outlinewidth\":0,\"ticks\":\"\"}}}],\"bar\":[{\"error_x\":{\"color\":\"#f2f5fa\"},\"error_y\":{\"color\":\"#f2f5fa\"},\"marker\":{\"line\":{\"color\":\"rgb(17,17,17)\",\"width\":0.5},\"pattern\":{\"fillmode\":\"overlay\",\"size\":10,\"solidity\":0.2}},\"type\":\"bar\"}],\"scattergeo\":[{\"type\":\"scattergeo\",\"marker\":{\"colorbar\":{\"outlinewidth\":0,\"ticks\":\"\"}}}],\"scatterpolar\":[{\"type\":\"scatterpolar\",\"marker\":{\"colorbar\":{\"outlinewidth\":0,\"ticks\":\"\"}}}],\"histogram\":[{\"marker\":{\"pattern\":{\"fillmode\":\"overlay\",\"size\":10,\"solidity\":0.2}},\"type\":\"histogram\"}],\"scattergl\":[{\"marker\":{\"line\":{\"color\":\"#283442\"}},\"type\":\"scattergl\"}],\"scatter3d\":[{\"type\":\"scatter3d\",\"line\":{\"colorbar\":{\"outlinewidth\":0,\"ticks\":\"\"}},\"marker\":{\"colorbar\":{\"outlinewidth\":0,\"ticks\":\"\"}}}],\"scattermapbox\":[{\"type\":\"scattermapbox\",\"marker\":{\"colorbar\":{\"outlinewidth\":0,\"ticks\":\"\"}}}],\"scatterternary\":[{\"type\":\"scatterternary\",\"marker\":{\"colorbar\":{\"outlinewidth\":0,\"ticks\":\"\"}}}],\"scattercarpet\":[{\"type\":\"scattercarpet\",\"marker\":{\"colorbar\":{\"outlinewidth\":0,\"ticks\":\"\"}}}],\"carpet\":[{\"aaxis\":{\"endlinecolor\":\"#A2B1C6\",\"gridcolor\":\"#506784\",\"linecolor\":\"#506784\",\"minorgridcolor\":\"#506784\",\"startlinecolor\":\"#A2B1C6\"},\"baxis\":{\"endlinecolor\":\"#A2B1C6\",\"gridcolor\":\"#506784\",\"linecolor\":\"#506784\",\"minorgridcolor\":\"#506784\",\"startlinecolor\":\"#A2B1C6\"},\"type\":\"carpet\"}],\"table\":[{\"cells\":{\"fill\":{\"color\":\"#506784\"},\"line\":{\"color\":\"rgb(17,17,17)\"}},\"header\":{\"fill\":{\"color\":\"#2a3f5f\"},\"line\":{\"color\":\"rgb(17,17,17)\"}},\"type\":\"table\"}],\"barpolar\":[{\"marker\":{\"line\":{\"color\":\"rgb(17,17,17)\",\"width\":0.5},\"pattern\":{\"fillmode\":\"overlay\",\"size\":10,\"solidity\":0.2}},\"type\":\"barpolar\"}],\"pie\":[{\"automargin\":true,\"type\":\"pie\"}]},\"layout\":{\"autotypenumbers\":\"strict\",\"colorway\":[\"#636efa\",\"#EF553B\",\"#00cc96\",\"#ab63fa\",\"#FFA15A\",\"#19d3f3\",\"#FF6692\",\"#B6E880\",\"#FF97FF\",\"#FECB52\"],\"font\":{\"color\":\"#f2f5fa\"},\"hovermode\":\"closest\",\"hoverlabel\":{\"align\":\"left\"},\"paper_bgcolor\":\"rgb(17,17,17)\",\"plot_bgcolor\":\"rgb(17,17,17)\",\"polar\":{\"bgcolor\":\"rgb(17,17,17)\",\"angularaxis\":{\"gridcolor\":\"#506784\",\"linecolor\":\"#506784\",\"ticks\":\"\"},\"radialaxis\":{\"gridcolor\":\"#506784\",\"linecolor\":\"#506784\",\"ticks\":\"\"}},\"ternary\":{\"bgcolor\":\"rgb(17,17,17)\",\"aaxis\":{\"gridcolor\":\"#506784\",\"linecolor\":\"#506784\",\"ticks\":\"\"},\"baxis\":{\"gridcolor\":\"#506784\",\"linecolor\":\"#506784\",\"ticks\":\"\"},\"caxis\":{\"gridcolor\":\"#506784\",\"linecolor\":\"#506784\",\"ticks\":\"\"}},\"coloraxis\":{\"colorbar\":{\"outlinewidth\":0,\"ticks\":\"\"}},\"colorscale\":{\"sequential\":[[0.0,\"#0d0887\"],[0.1111111111111111,\"#46039f\"],[0.2222222222222222,\"#7201a8\"],[0.3333333333333333,\"#9c179e\"],[0.4444444444444444,\"#bd3786\"],[0.5555555555555556,\"#d8576b\"],[0.6666666666666666,\"#ed7953\"],[0.7777777777777778,\"#fb9f3a\"],[0.8888888888888888,\"#fdca26\"],[1.0,\"#f0f921\"]],\"sequentialminus\":[[0.0,\"#0d0887\"],[0.1111111111111111,\"#46039f\"],[0.2222222222222222,\"#7201a8\"],[0.3333333333333333,\"#9c179e\"],[0.4444444444444444,\"#bd3786\"],[0.5555555555555556,\"#d8576b\"],[0.6666666666666666,\"#ed7953\"],[0.7777777777777778,\"#fb9f3a\"],[0.8888888888888888,\"#fdca26\"],[1.0,\"#f0f921\"]],\"diverging\":[[0,\"#8e0152\"],[0.1,\"#c51b7d\"],[0.2,\"#de77ae\"],[0.3,\"#f1b6da\"],[0.4,\"#fde0ef\"],[0.5,\"#f7f7f7\"],[0.6,\"#e6f5d0\"],[0.7,\"#b8e186\"],[0.8,\"#7fbc41\"],[0.9,\"#4d9221\"],[1,\"#276419\"]]},\"xaxis\":{\"gridcolor\":\"#283442\",\"linecolor\":\"#506784\",\"ticks\":\"\",\"title\":{\"standoff\":15},\"zerolinecolor\":\"#283442\",\"automargin\":true,\"zerolinewidth\":2},\"yaxis\":{\"gridcolor\":\"#283442\",\"linecolor\":\"#506784\",\"ticks\":\"\",\"title\":{\"standoff\":15},\"zerolinecolor\":\"#283442\",\"automargin\":true,\"zerolinewidth\":2},\"scene\":{\"xaxis\":{\"backgroundcolor\":\"rgb(17,17,17)\",\"gridcolor\":\"#506784\",\"linecolor\":\"#506784\",\"showbackground\":true,\"ticks\":\"\",\"zerolinecolor\":\"#C8D4E3\",\"gridwidth\":2},\"yaxis\":{\"backgroundcolor\":\"rgb(17,17,17)\",\"gridcolor\":\"#506784\",\"linecolor\":\"#506784\",\"showbackground\":true,\"ticks\":\"\",\"zerolinecolor\":\"#C8D4E3\",\"gridwidth\":2},\"zaxis\":{\"backgroundcolor\":\"rgb(17,17,17)\",\"gridcolor\":\"#506784\",\"linecolor\":\"#506784\",\"showbackground\":true,\"ticks\":\"\",\"zerolinecolor\":\"#C8D4E3\",\"gridwidth\":2}},\"shapedefaults\":{\"line\":{\"color\":\"#f2f5fa\"}},\"annotationdefaults\":{\"arrowcolor\":\"#f2f5fa\",\"arrowhead\":0,\"arrowwidth\":1},\"geo\":{\"bgcolor\":\"rgb(17,17,17)\",\"landcolor\":\"rgb(17,17,17)\",\"subunitcolor\":\"#506784\",\"showland\":true,\"showlakes\":true,\"lakecolor\":\"rgb(17,17,17)\"},\"title\":{\"x\":0.05},\"updatemenudefaults\":{\"bgcolor\":\"#506784\",\"borderwidth\":0},\"sliderdefaults\":{\"bgcolor\":\"#C8D4E3\",\"borderwidth\":1,\"bordercolor\":\"rgb(17,17,17)\",\"tickwidth\":0},\"mapbox\":{\"style\":\"dark\"}}},\"scene\":{\"domain\":{\"x\":[0.0,1.0],\"y\":[0.0,1.0]},\"xaxis\":{\"title\":{\"text\":\"sepal_length\"}},\"yaxis\":{\"title\":{\"text\":\"sepal_width\"}},\"zaxis\":{\"title\":{\"text\":\"petal_length\"}}},\"legend\":{\"title\":{\"text\":\"species\"},\"tracegroupgap\":0},\"title\":{\"text\":\"3D-\\u0433\\u0440\\u0430\\u0444\\u0456\\u043a \\u0440\\u043e\\u0437\\u043f\\u043e\\u0434\\u0456\\u043b\\u0443 \\u0434\\u0430\\u043d\\u0438\\u0445 \\u0434\\u043b\\u044f \\u0434\\u0430\\u0442\\u0430\\u0441\\u0435\\u0442\\u0443 Iris\"},\"width\":800,\"height\":800},                        {\"responsive\": true}                    ).then(function(){\n                            \nvar gd = document.getElementById('03080dd1-32c8-4f35-8669-d0fd915bcc83');\nvar x = new MutationObserver(function (mutations, observer) {{\n        var display = window.getComputedStyle(gd).display;\n        if (!display || display === 'none') {{\n            console.log([gd, 'removed!']);\n            Plotly.purge(gd);\n            observer.disconnect();\n        }}\n}});\n\n// Listen for the removal of the full notebook cells\nvar notebookContainer = gd.closest('#notebook-container');\nif (notebookContainer) {{\n    x.observe(notebookContainer, {childList: true});\n}}\n\n// Listen for the clearing of the current output cell\nvar outputEl = gd.closest('.output');\nif (outputEl) {{\n    x.observe(outputEl, {childList: true});\n}}\n\n                        })                };                });            </script>        </div>"
     },
     "metadata": {},
     "output_type": "display_data"
    }
   ],
   "source": [
    "df = px.data.iris()\n",
    "fig = px.scatter_3d(df, x='sepal_length', y='sepal_width', z='petal_length', color='species', \n",
    "                    title='3D-графік розподілу даних для датасету Iris')\n",
    "fig.update_layout(width=800, height=800)\n",
    "fig.show()"
   ],
   "metadata": {
    "collapsed": false,
    "ExecuteTime": {
     "end_time": "2023-10-27T13:19:01.928024Z",
     "start_time": "2023-10-27T13:19:01.879285Z"
    }
   },
   "id": "88b348952ab0db89"
  },
  {
   "cell_type": "raw",
   "source": [
    "2.Побудуйте горизонтальний гістограму для розподілу значень \"petal_width\" для різних видів квіток в датасеті Iris. "
   ],
   "metadata": {
    "collapsed": false
   },
   "id": "d988f5cf3d2c5938"
  },
  {
   "cell_type": "code",
   "execution_count": 22,
   "outputs": [
    {
     "data": {
      "application/vnd.plotly.v1+json": {
       "data": [
        {
         "alignmentgroup": "True",
         "bingroup": "x",
         "hovertemplate": "species=setosa<br>petal_width=%{x}<br>count=%{y}<extra></extra>",
         "legendgroup": "setosa",
         "marker": {
          "color": "#636efa",
          "opacity": 0.5,
          "pattern": {
           "shape": ""
          }
         },
         "name": "setosa",
         "offsetgroup": "setosa",
         "orientation": "v",
         "showlegend": true,
         "x": [
          0.2,
          0.2,
          0.2,
          0.2,
          0.2,
          0.4,
          0.3,
          0.2,
          0.2,
          0.1,
          0.2,
          0.2,
          0.1,
          0.1,
          0.2,
          0.4,
          0.4,
          0.3,
          0.3,
          0.3,
          0.2,
          0.4,
          0.2,
          0.5,
          0.2,
          0.2,
          0.4,
          0.2,
          0.2,
          0.2,
          0.2,
          0.4,
          0.1,
          0.2,
          0.1,
          0.2,
          0.2,
          0.1,
          0.2,
          0.2,
          0.3,
          0.3,
          0.2,
          0.6,
          0.4,
          0.3,
          0.2,
          0.2,
          0.2,
          0.2
         ],
         "xaxis": "x",
         "yaxis": "y",
         "type": "histogram"
        },
        {
         "alignmentgroup": "True",
         "bingroup": "x",
         "hovertemplate": "species=versicolor<br>petal_width=%{x}<br>count=%{y}<extra></extra>",
         "legendgroup": "versicolor",
         "marker": {
          "color": "#EF553B",
          "opacity": 0.5,
          "pattern": {
           "shape": ""
          }
         },
         "name": "versicolor",
         "offsetgroup": "versicolor",
         "orientation": "v",
         "showlegend": true,
         "x": [
          1.4,
          1.5,
          1.5,
          1.3,
          1.5,
          1.3,
          1.6,
          1.0,
          1.3,
          1.4,
          1.0,
          1.5,
          1.0,
          1.4,
          1.3,
          1.4,
          1.5,
          1.0,
          1.5,
          1.1,
          1.8,
          1.3,
          1.5,
          1.2,
          1.3,
          1.4,
          1.4,
          1.7,
          1.5,
          1.0,
          1.1,
          1.0,
          1.2,
          1.6,
          1.5,
          1.6,
          1.5,
          1.3,
          1.3,
          1.3,
          1.2,
          1.4,
          1.2,
          1.0,
          1.3,
          1.2,
          1.3,
          1.3,
          1.1,
          1.3
         ],
         "xaxis": "x",
         "yaxis": "y",
         "type": "histogram"
        },
        {
         "alignmentgroup": "True",
         "bingroup": "x",
         "hovertemplate": "species=virginica<br>petal_width=%{x}<br>count=%{y}<extra></extra>",
         "legendgroup": "virginica",
         "marker": {
          "color": "#00cc96",
          "opacity": 0.5,
          "pattern": {
           "shape": ""
          }
         },
         "name": "virginica",
         "offsetgroup": "virginica",
         "orientation": "v",
         "showlegend": true,
         "x": [
          2.5,
          1.9,
          2.1,
          1.8,
          2.2,
          2.1,
          1.7,
          1.8,
          1.8,
          2.5,
          2.0,
          1.9,
          2.1,
          2.0,
          2.4,
          2.3,
          1.8,
          2.2,
          2.3,
          1.5,
          2.3,
          2.0,
          2.0,
          1.8,
          2.1,
          1.8,
          1.8,
          1.8,
          2.1,
          1.6,
          1.9,
          2.0,
          2.2,
          1.5,
          1.4,
          2.3,
          2.4,
          1.8,
          1.8,
          2.1,
          2.4,
          2.3,
          1.9,
          2.3,
          2.5,
          2.3,
          1.9,
          2.0,
          2.3,
          1.8
         ],
         "xaxis": "x",
         "yaxis": "y",
         "type": "histogram"
        }
       ],
       "layout": {
        "template": {
         "data": {
          "histogram2dcontour": [
           {
            "type": "histogram2dcontour",
            "colorbar": {
             "outlinewidth": 0,
             "ticks": ""
            },
            "colorscale": [
             [
              0.0,
              "#0d0887"
             ],
             [
              0.1111111111111111,
              "#46039f"
             ],
             [
              0.2222222222222222,
              "#7201a8"
             ],
             [
              0.3333333333333333,
              "#9c179e"
             ],
             [
              0.4444444444444444,
              "#bd3786"
             ],
             [
              0.5555555555555556,
              "#d8576b"
             ],
             [
              0.6666666666666666,
              "#ed7953"
             ],
             [
              0.7777777777777778,
              "#fb9f3a"
             ],
             [
              0.8888888888888888,
              "#fdca26"
             ],
             [
              1.0,
              "#f0f921"
             ]
            ]
           }
          ],
          "choropleth": [
           {
            "type": "choropleth",
            "colorbar": {
             "outlinewidth": 0,
             "ticks": ""
            }
           }
          ],
          "histogram2d": [
           {
            "type": "histogram2d",
            "colorbar": {
             "outlinewidth": 0,
             "ticks": ""
            },
            "colorscale": [
             [
              0.0,
              "#0d0887"
             ],
             [
              0.1111111111111111,
              "#46039f"
             ],
             [
              0.2222222222222222,
              "#7201a8"
             ],
             [
              0.3333333333333333,
              "#9c179e"
             ],
             [
              0.4444444444444444,
              "#bd3786"
             ],
             [
              0.5555555555555556,
              "#d8576b"
             ],
             [
              0.6666666666666666,
              "#ed7953"
             ],
             [
              0.7777777777777778,
              "#fb9f3a"
             ],
             [
              0.8888888888888888,
              "#fdca26"
             ],
             [
              1.0,
              "#f0f921"
             ]
            ]
           }
          ],
          "heatmap": [
           {
            "type": "heatmap",
            "colorbar": {
             "outlinewidth": 0,
             "ticks": ""
            },
            "colorscale": [
             [
              0.0,
              "#0d0887"
             ],
             [
              0.1111111111111111,
              "#46039f"
             ],
             [
              0.2222222222222222,
              "#7201a8"
             ],
             [
              0.3333333333333333,
              "#9c179e"
             ],
             [
              0.4444444444444444,
              "#bd3786"
             ],
             [
              0.5555555555555556,
              "#d8576b"
             ],
             [
              0.6666666666666666,
              "#ed7953"
             ],
             [
              0.7777777777777778,
              "#fb9f3a"
             ],
             [
              0.8888888888888888,
              "#fdca26"
             ],
             [
              1.0,
              "#f0f921"
             ]
            ]
           }
          ],
          "heatmapgl": [
           {
            "type": "heatmapgl",
            "colorbar": {
             "outlinewidth": 0,
             "ticks": ""
            },
            "colorscale": [
             [
              0.0,
              "#0d0887"
             ],
             [
              0.1111111111111111,
              "#46039f"
             ],
             [
              0.2222222222222222,
              "#7201a8"
             ],
             [
              0.3333333333333333,
              "#9c179e"
             ],
             [
              0.4444444444444444,
              "#bd3786"
             ],
             [
              0.5555555555555556,
              "#d8576b"
             ],
             [
              0.6666666666666666,
              "#ed7953"
             ],
             [
              0.7777777777777778,
              "#fb9f3a"
             ],
             [
              0.8888888888888888,
              "#fdca26"
             ],
             [
              1.0,
              "#f0f921"
             ]
            ]
           }
          ],
          "contourcarpet": [
           {
            "type": "contourcarpet",
            "colorbar": {
             "outlinewidth": 0,
             "ticks": ""
            }
           }
          ],
          "contour": [
           {
            "type": "contour",
            "colorbar": {
             "outlinewidth": 0,
             "ticks": ""
            },
            "colorscale": [
             [
              0.0,
              "#0d0887"
             ],
             [
              0.1111111111111111,
              "#46039f"
             ],
             [
              0.2222222222222222,
              "#7201a8"
             ],
             [
              0.3333333333333333,
              "#9c179e"
             ],
             [
              0.4444444444444444,
              "#bd3786"
             ],
             [
              0.5555555555555556,
              "#d8576b"
             ],
             [
              0.6666666666666666,
              "#ed7953"
             ],
             [
              0.7777777777777778,
              "#fb9f3a"
             ],
             [
              0.8888888888888888,
              "#fdca26"
             ],
             [
              1.0,
              "#f0f921"
             ]
            ]
           }
          ],
          "surface": [
           {
            "type": "surface",
            "colorbar": {
             "outlinewidth": 0,
             "ticks": ""
            },
            "colorscale": [
             [
              0.0,
              "#0d0887"
             ],
             [
              0.1111111111111111,
              "#46039f"
             ],
             [
              0.2222222222222222,
              "#7201a8"
             ],
             [
              0.3333333333333333,
              "#9c179e"
             ],
             [
              0.4444444444444444,
              "#bd3786"
             ],
             [
              0.5555555555555556,
              "#d8576b"
             ],
             [
              0.6666666666666666,
              "#ed7953"
             ],
             [
              0.7777777777777778,
              "#fb9f3a"
             ],
             [
              0.8888888888888888,
              "#fdca26"
             ],
             [
              1.0,
              "#f0f921"
             ]
            ]
           }
          ],
          "mesh3d": [
           {
            "type": "mesh3d",
            "colorbar": {
             "outlinewidth": 0,
             "ticks": ""
            }
           }
          ],
          "scatter": [
           {
            "marker": {
             "line": {
              "color": "#283442"
             }
            },
            "type": "scatter"
           }
          ],
          "parcoords": [
           {
            "type": "parcoords",
            "line": {
             "colorbar": {
              "outlinewidth": 0,
              "ticks": ""
             }
            }
           }
          ],
          "scatterpolargl": [
           {
            "type": "scatterpolargl",
            "marker": {
             "colorbar": {
              "outlinewidth": 0,
              "ticks": ""
             }
            }
           }
          ],
          "bar": [
           {
            "error_x": {
             "color": "#f2f5fa"
            },
            "error_y": {
             "color": "#f2f5fa"
            },
            "marker": {
             "line": {
              "color": "rgb(17,17,17)",
              "width": 0.5
             },
             "pattern": {
              "fillmode": "overlay",
              "size": 10,
              "solidity": 0.2
             }
            },
            "type": "bar"
           }
          ],
          "scattergeo": [
           {
            "type": "scattergeo",
            "marker": {
             "colorbar": {
              "outlinewidth": 0,
              "ticks": ""
             }
            }
           }
          ],
          "scatterpolar": [
           {
            "type": "scatterpolar",
            "marker": {
             "colorbar": {
              "outlinewidth": 0,
              "ticks": ""
             }
            }
           }
          ],
          "histogram": [
           {
            "marker": {
             "pattern": {
              "fillmode": "overlay",
              "size": 10,
              "solidity": 0.2
             }
            },
            "type": "histogram"
           }
          ],
          "scattergl": [
           {
            "marker": {
             "line": {
              "color": "#283442"
             }
            },
            "type": "scattergl"
           }
          ],
          "scatter3d": [
           {
            "type": "scatter3d",
            "line": {
             "colorbar": {
              "outlinewidth": 0,
              "ticks": ""
             }
            },
            "marker": {
             "colorbar": {
              "outlinewidth": 0,
              "ticks": ""
             }
            }
           }
          ],
          "scattermapbox": [
           {
            "type": "scattermapbox",
            "marker": {
             "colorbar": {
              "outlinewidth": 0,
              "ticks": ""
             }
            }
           }
          ],
          "scatterternary": [
           {
            "type": "scatterternary",
            "marker": {
             "colorbar": {
              "outlinewidth": 0,
              "ticks": ""
             }
            }
           }
          ],
          "scattercarpet": [
           {
            "type": "scattercarpet",
            "marker": {
             "colorbar": {
              "outlinewidth": 0,
              "ticks": ""
             }
            }
           }
          ],
          "carpet": [
           {
            "aaxis": {
             "endlinecolor": "#A2B1C6",
             "gridcolor": "#506784",
             "linecolor": "#506784",
             "minorgridcolor": "#506784",
             "startlinecolor": "#A2B1C6"
            },
            "baxis": {
             "endlinecolor": "#A2B1C6",
             "gridcolor": "#506784",
             "linecolor": "#506784",
             "minorgridcolor": "#506784",
             "startlinecolor": "#A2B1C6"
            },
            "type": "carpet"
           }
          ],
          "table": [
           {
            "cells": {
             "fill": {
              "color": "#506784"
             },
             "line": {
              "color": "rgb(17,17,17)"
             }
            },
            "header": {
             "fill": {
              "color": "#2a3f5f"
             },
             "line": {
              "color": "rgb(17,17,17)"
             }
            },
            "type": "table"
           }
          ],
          "barpolar": [
           {
            "marker": {
             "line": {
              "color": "rgb(17,17,17)",
              "width": 0.5
             },
             "pattern": {
              "fillmode": "overlay",
              "size": 10,
              "solidity": 0.2
             }
            },
            "type": "barpolar"
           }
          ],
          "pie": [
           {
            "automargin": true,
            "type": "pie"
           }
          ]
         },
         "layout": {
          "autotypenumbers": "strict",
          "colorway": [
           "#636efa",
           "#EF553B",
           "#00cc96",
           "#ab63fa",
           "#FFA15A",
           "#19d3f3",
           "#FF6692",
           "#B6E880",
           "#FF97FF",
           "#FECB52"
          ],
          "font": {
           "color": "#f2f5fa"
          },
          "hovermode": "closest",
          "hoverlabel": {
           "align": "left"
          },
          "paper_bgcolor": "rgb(17,17,17)",
          "plot_bgcolor": "rgb(17,17,17)",
          "polar": {
           "bgcolor": "rgb(17,17,17)",
           "angularaxis": {
            "gridcolor": "#506784",
            "linecolor": "#506784",
            "ticks": ""
           },
           "radialaxis": {
            "gridcolor": "#506784",
            "linecolor": "#506784",
            "ticks": ""
           }
          },
          "ternary": {
           "bgcolor": "rgb(17,17,17)",
           "aaxis": {
            "gridcolor": "#506784",
            "linecolor": "#506784",
            "ticks": ""
           },
           "baxis": {
            "gridcolor": "#506784",
            "linecolor": "#506784",
            "ticks": ""
           },
           "caxis": {
            "gridcolor": "#506784",
            "linecolor": "#506784",
            "ticks": ""
           }
          },
          "coloraxis": {
           "colorbar": {
            "outlinewidth": 0,
            "ticks": ""
           }
          },
          "colorscale": {
           "sequential": [
            [
             0.0,
             "#0d0887"
            ],
            [
             0.1111111111111111,
             "#46039f"
            ],
            [
             0.2222222222222222,
             "#7201a8"
            ],
            [
             0.3333333333333333,
             "#9c179e"
            ],
            [
             0.4444444444444444,
             "#bd3786"
            ],
            [
             0.5555555555555556,
             "#d8576b"
            ],
            [
             0.6666666666666666,
             "#ed7953"
            ],
            [
             0.7777777777777778,
             "#fb9f3a"
            ],
            [
             0.8888888888888888,
             "#fdca26"
            ],
            [
             1.0,
             "#f0f921"
            ]
           ],
           "sequentialminus": [
            [
             0.0,
             "#0d0887"
            ],
            [
             0.1111111111111111,
             "#46039f"
            ],
            [
             0.2222222222222222,
             "#7201a8"
            ],
            [
             0.3333333333333333,
             "#9c179e"
            ],
            [
             0.4444444444444444,
             "#bd3786"
            ],
            [
             0.5555555555555556,
             "#d8576b"
            ],
            [
             0.6666666666666666,
             "#ed7953"
            ],
            [
             0.7777777777777778,
             "#fb9f3a"
            ],
            [
             0.8888888888888888,
             "#fdca26"
            ],
            [
             1.0,
             "#f0f921"
            ]
           ],
           "diverging": [
            [
             0,
             "#8e0152"
            ],
            [
             0.1,
             "#c51b7d"
            ],
            [
             0.2,
             "#de77ae"
            ],
            [
             0.3,
             "#f1b6da"
            ],
            [
             0.4,
             "#fde0ef"
            ],
            [
             0.5,
             "#f7f7f7"
            ],
            [
             0.6,
             "#e6f5d0"
            ],
            [
             0.7,
             "#b8e186"
            ],
            [
             0.8,
             "#7fbc41"
            ],
            [
             0.9,
             "#4d9221"
            ],
            [
             1,
             "#276419"
            ]
           ]
          },
          "xaxis": {
           "gridcolor": "#283442",
           "linecolor": "#506784",
           "ticks": "",
           "title": {
            "standoff": 15
           },
           "zerolinecolor": "#283442",
           "automargin": true,
           "zerolinewidth": 2
          },
          "yaxis": {
           "gridcolor": "#283442",
           "linecolor": "#506784",
           "ticks": "",
           "title": {
            "standoff": 15
           },
           "zerolinecolor": "#283442",
           "automargin": true,
           "zerolinewidth": 2
          },
          "scene": {
           "xaxis": {
            "backgroundcolor": "rgb(17,17,17)",
            "gridcolor": "#506784",
            "linecolor": "#506784",
            "showbackground": true,
            "ticks": "",
            "zerolinecolor": "#C8D4E3",
            "gridwidth": 2
           },
           "yaxis": {
            "backgroundcolor": "rgb(17,17,17)",
            "gridcolor": "#506784",
            "linecolor": "#506784",
            "showbackground": true,
            "ticks": "",
            "zerolinecolor": "#C8D4E3",
            "gridwidth": 2
           },
           "zaxis": {
            "backgroundcolor": "rgb(17,17,17)",
            "gridcolor": "#506784",
            "linecolor": "#506784",
            "showbackground": true,
            "ticks": "",
            "zerolinecolor": "#C8D4E3",
            "gridwidth": 2
           }
          },
          "shapedefaults": {
           "line": {
            "color": "#f2f5fa"
           }
          },
          "annotationdefaults": {
           "arrowcolor": "#f2f5fa",
           "arrowhead": 0,
           "arrowwidth": 1
          },
          "geo": {
           "bgcolor": "rgb(17,17,17)",
           "landcolor": "rgb(17,17,17)",
           "subunitcolor": "#506784",
           "showland": true,
           "showlakes": true,
           "lakecolor": "rgb(17,17,17)"
          },
          "title": {
           "x": 0.05
          },
          "updatemenudefaults": {
           "bgcolor": "#506784",
           "borderwidth": 0
          },
          "sliderdefaults": {
           "bgcolor": "#C8D4E3",
           "borderwidth": 1,
           "bordercolor": "rgb(17,17,17)",
           "tickwidth": 0
          },
          "mapbox": {
           "style": "dark"
          }
         }
        },
        "xaxis": {
         "anchor": "y",
         "domain": [
          0.0,
          1.0
         ],
         "title": {
          "text": "petal_width"
         }
        },
        "yaxis": {
         "anchor": "x",
         "domain": [
          0.0,
          1.0
         ],
         "title": {
          "text": "count"
         }
        },
        "legend": {
         "title": {
          "text": "species"
         },
         "tracegroupgap": 0
        },
        "margin": {
         "t": 60
        },
        "barmode": "overlay",
        "title": {
         "text": "Розподіл значень 'petal_width' для різних видів квіток в датасеті Iris"
        }
       },
       "config": {
        "plotlyServerURL": "https://plot.ly"
       }
      },
      "text/html": "<div>                            <div id=\"52cca22f-b5ed-4d2f-850b-525a32dec90c\" class=\"plotly-graph-div\" style=\"height:525px; width:100%;\"></div>            <script type=\"text/javascript\">                require([\"plotly\"], function(Plotly) {                    window.PLOTLYENV=window.PLOTLYENV || {};                                    if (document.getElementById(\"52cca22f-b5ed-4d2f-850b-525a32dec90c\")) {                    Plotly.newPlot(                        \"52cca22f-b5ed-4d2f-850b-525a32dec90c\",                        [{\"alignmentgroup\":\"True\",\"bingroup\":\"x\",\"hovertemplate\":\"species=setosa\\u003cbr\\u003epetal_width=%{x}\\u003cbr\\u003ecount=%{y}\\u003cextra\\u003e\\u003c\\u002fextra\\u003e\",\"legendgroup\":\"setosa\",\"marker\":{\"color\":\"#636efa\",\"opacity\":0.5,\"pattern\":{\"shape\":\"\"}},\"name\":\"setosa\",\"offsetgroup\":\"setosa\",\"orientation\":\"v\",\"showlegend\":true,\"x\":[0.2,0.2,0.2,0.2,0.2,0.4,0.3,0.2,0.2,0.1,0.2,0.2,0.1,0.1,0.2,0.4,0.4,0.3,0.3,0.3,0.2,0.4,0.2,0.5,0.2,0.2,0.4,0.2,0.2,0.2,0.2,0.4,0.1,0.2,0.1,0.2,0.2,0.1,0.2,0.2,0.3,0.3,0.2,0.6,0.4,0.3,0.2,0.2,0.2,0.2],\"xaxis\":\"x\",\"yaxis\":\"y\",\"type\":\"histogram\"},{\"alignmentgroup\":\"True\",\"bingroup\":\"x\",\"hovertemplate\":\"species=versicolor\\u003cbr\\u003epetal_width=%{x}\\u003cbr\\u003ecount=%{y}\\u003cextra\\u003e\\u003c\\u002fextra\\u003e\",\"legendgroup\":\"versicolor\",\"marker\":{\"color\":\"#EF553B\",\"opacity\":0.5,\"pattern\":{\"shape\":\"\"}},\"name\":\"versicolor\",\"offsetgroup\":\"versicolor\",\"orientation\":\"v\",\"showlegend\":true,\"x\":[1.4,1.5,1.5,1.3,1.5,1.3,1.6,1.0,1.3,1.4,1.0,1.5,1.0,1.4,1.3,1.4,1.5,1.0,1.5,1.1,1.8,1.3,1.5,1.2,1.3,1.4,1.4,1.7,1.5,1.0,1.1,1.0,1.2,1.6,1.5,1.6,1.5,1.3,1.3,1.3,1.2,1.4,1.2,1.0,1.3,1.2,1.3,1.3,1.1,1.3],\"xaxis\":\"x\",\"yaxis\":\"y\",\"type\":\"histogram\"},{\"alignmentgroup\":\"True\",\"bingroup\":\"x\",\"hovertemplate\":\"species=virginica\\u003cbr\\u003epetal_width=%{x}\\u003cbr\\u003ecount=%{y}\\u003cextra\\u003e\\u003c\\u002fextra\\u003e\",\"legendgroup\":\"virginica\",\"marker\":{\"color\":\"#00cc96\",\"opacity\":0.5,\"pattern\":{\"shape\":\"\"}},\"name\":\"virginica\",\"offsetgroup\":\"virginica\",\"orientation\":\"v\",\"showlegend\":true,\"x\":[2.5,1.9,2.1,1.8,2.2,2.1,1.7,1.8,1.8,2.5,2.0,1.9,2.1,2.0,2.4,2.3,1.8,2.2,2.3,1.5,2.3,2.0,2.0,1.8,2.1,1.8,1.8,1.8,2.1,1.6,1.9,2.0,2.2,1.5,1.4,2.3,2.4,1.8,1.8,2.1,2.4,2.3,1.9,2.3,2.5,2.3,1.9,2.0,2.3,1.8],\"xaxis\":\"x\",\"yaxis\":\"y\",\"type\":\"histogram\"}],                        {\"template\":{\"data\":{\"histogram2dcontour\":[{\"type\":\"histogram2dcontour\",\"colorbar\":{\"outlinewidth\":0,\"ticks\":\"\"},\"colorscale\":[[0.0,\"#0d0887\"],[0.1111111111111111,\"#46039f\"],[0.2222222222222222,\"#7201a8\"],[0.3333333333333333,\"#9c179e\"],[0.4444444444444444,\"#bd3786\"],[0.5555555555555556,\"#d8576b\"],[0.6666666666666666,\"#ed7953\"],[0.7777777777777778,\"#fb9f3a\"],[0.8888888888888888,\"#fdca26\"],[1.0,\"#f0f921\"]]}],\"choropleth\":[{\"type\":\"choropleth\",\"colorbar\":{\"outlinewidth\":0,\"ticks\":\"\"}}],\"histogram2d\":[{\"type\":\"histogram2d\",\"colorbar\":{\"outlinewidth\":0,\"ticks\":\"\"},\"colorscale\":[[0.0,\"#0d0887\"],[0.1111111111111111,\"#46039f\"],[0.2222222222222222,\"#7201a8\"],[0.3333333333333333,\"#9c179e\"],[0.4444444444444444,\"#bd3786\"],[0.5555555555555556,\"#d8576b\"],[0.6666666666666666,\"#ed7953\"],[0.7777777777777778,\"#fb9f3a\"],[0.8888888888888888,\"#fdca26\"],[1.0,\"#f0f921\"]]}],\"heatmap\":[{\"type\":\"heatmap\",\"colorbar\":{\"outlinewidth\":0,\"ticks\":\"\"},\"colorscale\":[[0.0,\"#0d0887\"],[0.1111111111111111,\"#46039f\"],[0.2222222222222222,\"#7201a8\"],[0.3333333333333333,\"#9c179e\"],[0.4444444444444444,\"#bd3786\"],[0.5555555555555556,\"#d8576b\"],[0.6666666666666666,\"#ed7953\"],[0.7777777777777778,\"#fb9f3a\"],[0.8888888888888888,\"#fdca26\"],[1.0,\"#f0f921\"]]}],\"heatmapgl\":[{\"type\":\"heatmapgl\",\"colorbar\":{\"outlinewidth\":0,\"ticks\":\"\"},\"colorscale\":[[0.0,\"#0d0887\"],[0.1111111111111111,\"#46039f\"],[0.2222222222222222,\"#7201a8\"],[0.3333333333333333,\"#9c179e\"],[0.4444444444444444,\"#bd3786\"],[0.5555555555555556,\"#d8576b\"],[0.6666666666666666,\"#ed7953\"],[0.7777777777777778,\"#fb9f3a\"],[0.8888888888888888,\"#fdca26\"],[1.0,\"#f0f921\"]]}],\"contourcarpet\":[{\"type\":\"contourcarpet\",\"colorbar\":{\"outlinewidth\":0,\"ticks\":\"\"}}],\"contour\":[{\"type\":\"contour\",\"colorbar\":{\"outlinewidth\":0,\"ticks\":\"\"},\"colorscale\":[[0.0,\"#0d0887\"],[0.1111111111111111,\"#46039f\"],[0.2222222222222222,\"#7201a8\"],[0.3333333333333333,\"#9c179e\"],[0.4444444444444444,\"#bd3786\"],[0.5555555555555556,\"#d8576b\"],[0.6666666666666666,\"#ed7953\"],[0.7777777777777778,\"#fb9f3a\"],[0.8888888888888888,\"#fdca26\"],[1.0,\"#f0f921\"]]}],\"surface\":[{\"type\":\"surface\",\"colorbar\":{\"outlinewidth\":0,\"ticks\":\"\"},\"colorscale\":[[0.0,\"#0d0887\"],[0.1111111111111111,\"#46039f\"],[0.2222222222222222,\"#7201a8\"],[0.3333333333333333,\"#9c179e\"],[0.4444444444444444,\"#bd3786\"],[0.5555555555555556,\"#d8576b\"],[0.6666666666666666,\"#ed7953\"],[0.7777777777777778,\"#fb9f3a\"],[0.8888888888888888,\"#fdca26\"],[1.0,\"#f0f921\"]]}],\"mesh3d\":[{\"type\":\"mesh3d\",\"colorbar\":{\"outlinewidth\":0,\"ticks\":\"\"}}],\"scatter\":[{\"marker\":{\"line\":{\"color\":\"#283442\"}},\"type\":\"scatter\"}],\"parcoords\":[{\"type\":\"parcoords\",\"line\":{\"colorbar\":{\"outlinewidth\":0,\"ticks\":\"\"}}}],\"scatterpolargl\":[{\"type\":\"scatterpolargl\",\"marker\":{\"colorbar\":{\"outlinewidth\":0,\"ticks\":\"\"}}}],\"bar\":[{\"error_x\":{\"color\":\"#f2f5fa\"},\"error_y\":{\"color\":\"#f2f5fa\"},\"marker\":{\"line\":{\"color\":\"rgb(17,17,17)\",\"width\":0.5},\"pattern\":{\"fillmode\":\"overlay\",\"size\":10,\"solidity\":0.2}},\"type\":\"bar\"}],\"scattergeo\":[{\"type\":\"scattergeo\",\"marker\":{\"colorbar\":{\"outlinewidth\":0,\"ticks\":\"\"}}}],\"scatterpolar\":[{\"type\":\"scatterpolar\",\"marker\":{\"colorbar\":{\"outlinewidth\":0,\"ticks\":\"\"}}}],\"histogram\":[{\"marker\":{\"pattern\":{\"fillmode\":\"overlay\",\"size\":10,\"solidity\":0.2}},\"type\":\"histogram\"}],\"scattergl\":[{\"marker\":{\"line\":{\"color\":\"#283442\"}},\"type\":\"scattergl\"}],\"scatter3d\":[{\"type\":\"scatter3d\",\"line\":{\"colorbar\":{\"outlinewidth\":0,\"ticks\":\"\"}},\"marker\":{\"colorbar\":{\"outlinewidth\":0,\"ticks\":\"\"}}}],\"scattermapbox\":[{\"type\":\"scattermapbox\",\"marker\":{\"colorbar\":{\"outlinewidth\":0,\"ticks\":\"\"}}}],\"scatterternary\":[{\"type\":\"scatterternary\",\"marker\":{\"colorbar\":{\"outlinewidth\":0,\"ticks\":\"\"}}}],\"scattercarpet\":[{\"type\":\"scattercarpet\",\"marker\":{\"colorbar\":{\"outlinewidth\":0,\"ticks\":\"\"}}}],\"carpet\":[{\"aaxis\":{\"endlinecolor\":\"#A2B1C6\",\"gridcolor\":\"#506784\",\"linecolor\":\"#506784\",\"minorgridcolor\":\"#506784\",\"startlinecolor\":\"#A2B1C6\"},\"baxis\":{\"endlinecolor\":\"#A2B1C6\",\"gridcolor\":\"#506784\",\"linecolor\":\"#506784\",\"minorgridcolor\":\"#506784\",\"startlinecolor\":\"#A2B1C6\"},\"type\":\"carpet\"}],\"table\":[{\"cells\":{\"fill\":{\"color\":\"#506784\"},\"line\":{\"color\":\"rgb(17,17,17)\"}},\"header\":{\"fill\":{\"color\":\"#2a3f5f\"},\"line\":{\"color\":\"rgb(17,17,17)\"}},\"type\":\"table\"}],\"barpolar\":[{\"marker\":{\"line\":{\"color\":\"rgb(17,17,17)\",\"width\":0.5},\"pattern\":{\"fillmode\":\"overlay\",\"size\":10,\"solidity\":0.2}},\"type\":\"barpolar\"}],\"pie\":[{\"automargin\":true,\"type\":\"pie\"}]},\"layout\":{\"autotypenumbers\":\"strict\",\"colorway\":[\"#636efa\",\"#EF553B\",\"#00cc96\",\"#ab63fa\",\"#FFA15A\",\"#19d3f3\",\"#FF6692\",\"#B6E880\",\"#FF97FF\",\"#FECB52\"],\"font\":{\"color\":\"#f2f5fa\"},\"hovermode\":\"closest\",\"hoverlabel\":{\"align\":\"left\"},\"paper_bgcolor\":\"rgb(17,17,17)\",\"plot_bgcolor\":\"rgb(17,17,17)\",\"polar\":{\"bgcolor\":\"rgb(17,17,17)\",\"angularaxis\":{\"gridcolor\":\"#506784\",\"linecolor\":\"#506784\",\"ticks\":\"\"},\"radialaxis\":{\"gridcolor\":\"#506784\",\"linecolor\":\"#506784\",\"ticks\":\"\"}},\"ternary\":{\"bgcolor\":\"rgb(17,17,17)\",\"aaxis\":{\"gridcolor\":\"#506784\",\"linecolor\":\"#506784\",\"ticks\":\"\"},\"baxis\":{\"gridcolor\":\"#506784\",\"linecolor\":\"#506784\",\"ticks\":\"\"},\"caxis\":{\"gridcolor\":\"#506784\",\"linecolor\":\"#506784\",\"ticks\":\"\"}},\"coloraxis\":{\"colorbar\":{\"outlinewidth\":0,\"ticks\":\"\"}},\"colorscale\":{\"sequential\":[[0.0,\"#0d0887\"],[0.1111111111111111,\"#46039f\"],[0.2222222222222222,\"#7201a8\"],[0.3333333333333333,\"#9c179e\"],[0.4444444444444444,\"#bd3786\"],[0.5555555555555556,\"#d8576b\"],[0.6666666666666666,\"#ed7953\"],[0.7777777777777778,\"#fb9f3a\"],[0.8888888888888888,\"#fdca26\"],[1.0,\"#f0f921\"]],\"sequentialminus\":[[0.0,\"#0d0887\"],[0.1111111111111111,\"#46039f\"],[0.2222222222222222,\"#7201a8\"],[0.3333333333333333,\"#9c179e\"],[0.4444444444444444,\"#bd3786\"],[0.5555555555555556,\"#d8576b\"],[0.6666666666666666,\"#ed7953\"],[0.7777777777777778,\"#fb9f3a\"],[0.8888888888888888,\"#fdca26\"],[1.0,\"#f0f921\"]],\"diverging\":[[0,\"#8e0152\"],[0.1,\"#c51b7d\"],[0.2,\"#de77ae\"],[0.3,\"#f1b6da\"],[0.4,\"#fde0ef\"],[0.5,\"#f7f7f7\"],[0.6,\"#e6f5d0\"],[0.7,\"#b8e186\"],[0.8,\"#7fbc41\"],[0.9,\"#4d9221\"],[1,\"#276419\"]]},\"xaxis\":{\"gridcolor\":\"#283442\",\"linecolor\":\"#506784\",\"ticks\":\"\",\"title\":{\"standoff\":15},\"zerolinecolor\":\"#283442\",\"automargin\":true,\"zerolinewidth\":2},\"yaxis\":{\"gridcolor\":\"#283442\",\"linecolor\":\"#506784\",\"ticks\":\"\",\"title\":{\"standoff\":15},\"zerolinecolor\":\"#283442\",\"automargin\":true,\"zerolinewidth\":2},\"scene\":{\"xaxis\":{\"backgroundcolor\":\"rgb(17,17,17)\",\"gridcolor\":\"#506784\",\"linecolor\":\"#506784\",\"showbackground\":true,\"ticks\":\"\",\"zerolinecolor\":\"#C8D4E3\",\"gridwidth\":2},\"yaxis\":{\"backgroundcolor\":\"rgb(17,17,17)\",\"gridcolor\":\"#506784\",\"linecolor\":\"#506784\",\"showbackground\":true,\"ticks\":\"\",\"zerolinecolor\":\"#C8D4E3\",\"gridwidth\":2},\"zaxis\":{\"backgroundcolor\":\"rgb(17,17,17)\",\"gridcolor\":\"#506784\",\"linecolor\":\"#506784\",\"showbackground\":true,\"ticks\":\"\",\"zerolinecolor\":\"#C8D4E3\",\"gridwidth\":2}},\"shapedefaults\":{\"line\":{\"color\":\"#f2f5fa\"}},\"annotationdefaults\":{\"arrowcolor\":\"#f2f5fa\",\"arrowhead\":0,\"arrowwidth\":1},\"geo\":{\"bgcolor\":\"rgb(17,17,17)\",\"landcolor\":\"rgb(17,17,17)\",\"subunitcolor\":\"#506784\",\"showland\":true,\"showlakes\":true,\"lakecolor\":\"rgb(17,17,17)\"},\"title\":{\"x\":0.05},\"updatemenudefaults\":{\"bgcolor\":\"#506784\",\"borderwidth\":0},\"sliderdefaults\":{\"bgcolor\":\"#C8D4E3\",\"borderwidth\":1,\"bordercolor\":\"rgb(17,17,17)\",\"tickwidth\":0},\"mapbox\":{\"style\":\"dark\"}}},\"xaxis\":{\"anchor\":\"y\",\"domain\":[0.0,1.0],\"title\":{\"text\":\"petal_width\"}},\"yaxis\":{\"anchor\":\"x\",\"domain\":[0.0,1.0],\"title\":{\"text\":\"count\"}},\"legend\":{\"title\":{\"text\":\"species\"},\"tracegroupgap\":0},\"margin\":{\"t\":60},\"barmode\":\"overlay\",\"title\":{\"text\":\"\\u0420\\u043e\\u0437\\u043f\\u043e\\u0434\\u0456\\u043b \\u0437\\u043d\\u0430\\u0447\\u0435\\u043d\\u044c 'petal_width' \\u0434\\u043b\\u044f \\u0440\\u0456\\u0437\\u043d\\u0438\\u0445 \\u0432\\u0438\\u0434\\u0456\\u0432 \\u043a\\u0432\\u0456\\u0442\\u043e\\u043a \\u0432 \\u0434\\u0430\\u0442\\u0430\\u0441\\u0435\\u0442\\u0456 Iris\"}},                        {\"responsive\": true}                    ).then(function(){\n                            \nvar gd = document.getElementById('52cca22f-b5ed-4d2f-850b-525a32dec90c');\nvar x = new MutationObserver(function (mutations, observer) {{\n        var display = window.getComputedStyle(gd).display;\n        if (!display || display === 'none') {{\n            console.log([gd, 'removed!']);\n            Plotly.purge(gd);\n            observer.disconnect();\n        }}\n}});\n\n// Listen for the removal of the full notebook cells\nvar notebookContainer = gd.closest('#notebook-container');\nif (notebookContainer) {{\n    x.observe(notebookContainer, {childList: true});\n}}\n\n// Listen for the clearing of the current output cell\nvar outputEl = gd.closest('.output');\nif (outputEl) {{\n    x.observe(outputEl, {childList: true});\n}}\n\n                        })                };                });            </script>        </div>"
     },
     "metadata": {},
     "output_type": "display_data"
    }
   ],
   "source": [
    "fig1 = px.histogram(df, x='petal_width', color='species', barmode='overlay')\n",
    "\n",
    "fig1.update_layout(title_text=\"Розподіл значень 'petal_width' для різних видів квіток в датасеті Iris\")\n",
    "\n",
    "fig1.show()"
   ],
   "metadata": {
    "collapsed": false,
    "ExecuteTime": {
     "end_time": "2023-10-27T13:20:59.561697Z",
     "start_time": "2023-10-27T13:20:59.520448Z"
    }
   },
   "id": "fae5f5034f8074bd"
  },
  {
   "cell_type": "raw",
   "source": [
    "3.Побудуйте лінійний графік, що відображає зміну середнього значення \"sepal_length\" в залежності від значення \"sepal_width\" для кожного виду квітки (setosa, versicolor, virginica)."
   ],
   "metadata": {
    "collapsed": false
   },
   "id": "2b220320e685b10c"
  },
  {
   "cell_type": "code",
   "execution_count": 27,
   "outputs": [
    {
     "data": {
      "application/vnd.plotly.v1+json": {
       "data": [
        {
         "hovertemplate": "species=setosa<br>sepal_width=%{x}<br>sepal_length=%{y}<extra></extra>",
         "legendgroup": "setosa",
         "line": {
          "color": "#636efa",
          "dash": "solid"
         },
         "marker": {
          "symbol": "circle"
         },
         "mode": "markers+lines",
         "name": "setosa",
         "orientation": "v",
         "showlegend": true,
         "x": [
          2.3,
          2.9,
          3.0,
          3.1,
          3.2,
          3.3,
          3.4,
          3.5,
          3.6,
          3.7,
          3.8,
          3.9,
          4.0,
          4.1,
          4.2,
          4.4
         ],
         "xaxis": "x",
         "y": [
          4.5,
          4.4,
          4.7,
          4.82,
          4.68,
          5.05,
          5.033333333333333,
          5.1499999999999995,
          4.8,
          5.266666666666667,
          5.25,
          5.4,
          5.8,
          5.2,
          5.5,
          5.7
         ],
         "yaxis": "y",
         "type": "scatter"
        },
        {
         "hovertemplate": "species=versicolor<br>sepal_width=%{x}<br>sepal_length=%{y}<extra></extra>",
         "legendgroup": "versicolor",
         "line": {
          "color": "#EF553B",
          "dash": "solid"
         },
         "marker": {
          "symbol": "circle"
         },
         "mode": "markers+lines",
         "name": "versicolor",
         "orientation": "v",
         "showlegend": true,
         "x": [
          2.0,
          2.2,
          2.3,
          2.4,
          2.5,
          2.6,
          2.7,
          2.8,
          2.9,
          3.0,
          3.1,
          3.2,
          3.3,
          3.4
         ],
         "xaxis": "x",
         "y": [
          5.0,
          6.1,
          5.6000000000000005,
          5.3,
          5.625,
          5.666666666666667,
          5.68,
          6.1499999999999995,
          6.085714285714286,
          5.95,
          6.766666666666667,
          6.433333333333334,
          6.3,
          6.0
         ],
         "yaxis": "y",
         "type": "scatter"
        },
        {
         "hovertemplate": "species=virginica<br>sepal_width=%{x}<br>sepal_length=%{y}<extra></extra>",
         "legendgroup": "virginica",
         "line": {
          "color": "#00cc96",
          "dash": "solid"
         },
         "marker": {
          "symbol": "circle"
         },
         "mode": "markers+lines",
         "name": "virginica",
         "orientation": "v",
         "showlegend": true,
         "x": [
          2.2,
          2.5,
          2.6,
          2.7,
          2.8,
          2.9,
          3.0,
          3.1,
          3.2,
          3.3,
          3.4,
          3.6,
          3.8
         ],
         "xaxis": "x",
         "y": [
          6.0,
          5.9,
          6.9,
          6.075,
          6.475,
          6.8,
          6.716666666666666,
          6.7250000000000005,
          6.76,
          6.566666666666666,
          6.25,
          7.2,
          7.800000000000001
         ],
         "yaxis": "y",
         "type": "scatter"
        }
       ],
       "layout": {
        "template": {
         "data": {
          "histogram2dcontour": [
           {
            "type": "histogram2dcontour",
            "colorbar": {
             "outlinewidth": 0,
             "ticks": ""
            },
            "colorscale": [
             [
              0.0,
              "#0d0887"
             ],
             [
              0.1111111111111111,
              "#46039f"
             ],
             [
              0.2222222222222222,
              "#7201a8"
             ],
             [
              0.3333333333333333,
              "#9c179e"
             ],
             [
              0.4444444444444444,
              "#bd3786"
             ],
             [
              0.5555555555555556,
              "#d8576b"
             ],
             [
              0.6666666666666666,
              "#ed7953"
             ],
             [
              0.7777777777777778,
              "#fb9f3a"
             ],
             [
              0.8888888888888888,
              "#fdca26"
             ],
             [
              1.0,
              "#f0f921"
             ]
            ]
           }
          ],
          "choropleth": [
           {
            "type": "choropleth",
            "colorbar": {
             "outlinewidth": 0,
             "ticks": ""
            }
           }
          ],
          "histogram2d": [
           {
            "type": "histogram2d",
            "colorbar": {
             "outlinewidth": 0,
             "ticks": ""
            },
            "colorscale": [
             [
              0.0,
              "#0d0887"
             ],
             [
              0.1111111111111111,
              "#46039f"
             ],
             [
              0.2222222222222222,
              "#7201a8"
             ],
             [
              0.3333333333333333,
              "#9c179e"
             ],
             [
              0.4444444444444444,
              "#bd3786"
             ],
             [
              0.5555555555555556,
              "#d8576b"
             ],
             [
              0.6666666666666666,
              "#ed7953"
             ],
             [
              0.7777777777777778,
              "#fb9f3a"
             ],
             [
              0.8888888888888888,
              "#fdca26"
             ],
             [
              1.0,
              "#f0f921"
             ]
            ]
           }
          ],
          "heatmap": [
           {
            "type": "heatmap",
            "colorbar": {
             "outlinewidth": 0,
             "ticks": ""
            },
            "colorscale": [
             [
              0.0,
              "#0d0887"
             ],
             [
              0.1111111111111111,
              "#46039f"
             ],
             [
              0.2222222222222222,
              "#7201a8"
             ],
             [
              0.3333333333333333,
              "#9c179e"
             ],
             [
              0.4444444444444444,
              "#bd3786"
             ],
             [
              0.5555555555555556,
              "#d8576b"
             ],
             [
              0.6666666666666666,
              "#ed7953"
             ],
             [
              0.7777777777777778,
              "#fb9f3a"
             ],
             [
              0.8888888888888888,
              "#fdca26"
             ],
             [
              1.0,
              "#f0f921"
             ]
            ]
           }
          ],
          "heatmapgl": [
           {
            "type": "heatmapgl",
            "colorbar": {
             "outlinewidth": 0,
             "ticks": ""
            },
            "colorscale": [
             [
              0.0,
              "#0d0887"
             ],
             [
              0.1111111111111111,
              "#46039f"
             ],
             [
              0.2222222222222222,
              "#7201a8"
             ],
             [
              0.3333333333333333,
              "#9c179e"
             ],
             [
              0.4444444444444444,
              "#bd3786"
             ],
             [
              0.5555555555555556,
              "#d8576b"
             ],
             [
              0.6666666666666666,
              "#ed7953"
             ],
             [
              0.7777777777777778,
              "#fb9f3a"
             ],
             [
              0.8888888888888888,
              "#fdca26"
             ],
             [
              1.0,
              "#f0f921"
             ]
            ]
           }
          ],
          "contourcarpet": [
           {
            "type": "contourcarpet",
            "colorbar": {
             "outlinewidth": 0,
             "ticks": ""
            }
           }
          ],
          "contour": [
           {
            "type": "contour",
            "colorbar": {
             "outlinewidth": 0,
             "ticks": ""
            },
            "colorscale": [
             [
              0.0,
              "#0d0887"
             ],
             [
              0.1111111111111111,
              "#46039f"
             ],
             [
              0.2222222222222222,
              "#7201a8"
             ],
             [
              0.3333333333333333,
              "#9c179e"
             ],
             [
              0.4444444444444444,
              "#bd3786"
             ],
             [
              0.5555555555555556,
              "#d8576b"
             ],
             [
              0.6666666666666666,
              "#ed7953"
             ],
             [
              0.7777777777777778,
              "#fb9f3a"
             ],
             [
              0.8888888888888888,
              "#fdca26"
             ],
             [
              1.0,
              "#f0f921"
             ]
            ]
           }
          ],
          "surface": [
           {
            "type": "surface",
            "colorbar": {
             "outlinewidth": 0,
             "ticks": ""
            },
            "colorscale": [
             [
              0.0,
              "#0d0887"
             ],
             [
              0.1111111111111111,
              "#46039f"
             ],
             [
              0.2222222222222222,
              "#7201a8"
             ],
             [
              0.3333333333333333,
              "#9c179e"
             ],
             [
              0.4444444444444444,
              "#bd3786"
             ],
             [
              0.5555555555555556,
              "#d8576b"
             ],
             [
              0.6666666666666666,
              "#ed7953"
             ],
             [
              0.7777777777777778,
              "#fb9f3a"
             ],
             [
              0.8888888888888888,
              "#fdca26"
             ],
             [
              1.0,
              "#f0f921"
             ]
            ]
           }
          ],
          "mesh3d": [
           {
            "type": "mesh3d",
            "colorbar": {
             "outlinewidth": 0,
             "ticks": ""
            }
           }
          ],
          "scatter": [
           {
            "marker": {
             "line": {
              "color": "#283442"
             }
            },
            "type": "scatter"
           }
          ],
          "parcoords": [
           {
            "type": "parcoords",
            "line": {
             "colorbar": {
              "outlinewidth": 0,
              "ticks": ""
             }
            }
           }
          ],
          "scatterpolargl": [
           {
            "type": "scatterpolargl",
            "marker": {
             "colorbar": {
              "outlinewidth": 0,
              "ticks": ""
             }
            }
           }
          ],
          "bar": [
           {
            "error_x": {
             "color": "#f2f5fa"
            },
            "error_y": {
             "color": "#f2f5fa"
            },
            "marker": {
             "line": {
              "color": "rgb(17,17,17)",
              "width": 0.5
             },
             "pattern": {
              "fillmode": "overlay",
              "size": 10,
              "solidity": 0.2
             }
            },
            "type": "bar"
           }
          ],
          "scattergeo": [
           {
            "type": "scattergeo",
            "marker": {
             "colorbar": {
              "outlinewidth": 0,
              "ticks": ""
             }
            }
           }
          ],
          "scatterpolar": [
           {
            "type": "scatterpolar",
            "marker": {
             "colorbar": {
              "outlinewidth": 0,
              "ticks": ""
             }
            }
           }
          ],
          "histogram": [
           {
            "marker": {
             "pattern": {
              "fillmode": "overlay",
              "size": 10,
              "solidity": 0.2
             }
            },
            "type": "histogram"
           }
          ],
          "scattergl": [
           {
            "marker": {
             "line": {
              "color": "#283442"
             }
            },
            "type": "scattergl"
           }
          ],
          "scatter3d": [
           {
            "type": "scatter3d",
            "line": {
             "colorbar": {
              "outlinewidth": 0,
              "ticks": ""
             }
            },
            "marker": {
             "colorbar": {
              "outlinewidth": 0,
              "ticks": ""
             }
            }
           }
          ],
          "scattermapbox": [
           {
            "type": "scattermapbox",
            "marker": {
             "colorbar": {
              "outlinewidth": 0,
              "ticks": ""
             }
            }
           }
          ],
          "scatterternary": [
           {
            "type": "scatterternary",
            "marker": {
             "colorbar": {
              "outlinewidth": 0,
              "ticks": ""
             }
            }
           }
          ],
          "scattercarpet": [
           {
            "type": "scattercarpet",
            "marker": {
             "colorbar": {
              "outlinewidth": 0,
              "ticks": ""
             }
            }
           }
          ],
          "carpet": [
           {
            "aaxis": {
             "endlinecolor": "#A2B1C6",
             "gridcolor": "#506784",
             "linecolor": "#506784",
             "minorgridcolor": "#506784",
             "startlinecolor": "#A2B1C6"
            },
            "baxis": {
             "endlinecolor": "#A2B1C6",
             "gridcolor": "#506784",
             "linecolor": "#506784",
             "minorgridcolor": "#506784",
             "startlinecolor": "#A2B1C6"
            },
            "type": "carpet"
           }
          ],
          "table": [
           {
            "cells": {
             "fill": {
              "color": "#506784"
             },
             "line": {
              "color": "rgb(17,17,17)"
             }
            },
            "header": {
             "fill": {
              "color": "#2a3f5f"
             },
             "line": {
              "color": "rgb(17,17,17)"
             }
            },
            "type": "table"
           }
          ],
          "barpolar": [
           {
            "marker": {
             "line": {
              "color": "rgb(17,17,17)",
              "width": 0.5
             },
             "pattern": {
              "fillmode": "overlay",
              "size": 10,
              "solidity": 0.2
             }
            },
            "type": "barpolar"
           }
          ],
          "pie": [
           {
            "automargin": true,
            "type": "pie"
           }
          ]
         },
         "layout": {
          "autotypenumbers": "strict",
          "colorway": [
           "#636efa",
           "#EF553B",
           "#00cc96",
           "#ab63fa",
           "#FFA15A",
           "#19d3f3",
           "#FF6692",
           "#B6E880",
           "#FF97FF",
           "#FECB52"
          ],
          "font": {
           "color": "#f2f5fa"
          },
          "hovermode": "closest",
          "hoverlabel": {
           "align": "left"
          },
          "paper_bgcolor": "rgb(17,17,17)",
          "plot_bgcolor": "rgb(17,17,17)",
          "polar": {
           "bgcolor": "rgb(17,17,17)",
           "angularaxis": {
            "gridcolor": "#506784",
            "linecolor": "#506784",
            "ticks": ""
           },
           "radialaxis": {
            "gridcolor": "#506784",
            "linecolor": "#506784",
            "ticks": ""
           }
          },
          "ternary": {
           "bgcolor": "rgb(17,17,17)",
           "aaxis": {
            "gridcolor": "#506784",
            "linecolor": "#506784",
            "ticks": ""
           },
           "baxis": {
            "gridcolor": "#506784",
            "linecolor": "#506784",
            "ticks": ""
           },
           "caxis": {
            "gridcolor": "#506784",
            "linecolor": "#506784",
            "ticks": ""
           }
          },
          "coloraxis": {
           "colorbar": {
            "outlinewidth": 0,
            "ticks": ""
           }
          },
          "colorscale": {
           "sequential": [
            [
             0.0,
             "#0d0887"
            ],
            [
             0.1111111111111111,
             "#46039f"
            ],
            [
             0.2222222222222222,
             "#7201a8"
            ],
            [
             0.3333333333333333,
             "#9c179e"
            ],
            [
             0.4444444444444444,
             "#bd3786"
            ],
            [
             0.5555555555555556,
             "#d8576b"
            ],
            [
             0.6666666666666666,
             "#ed7953"
            ],
            [
             0.7777777777777778,
             "#fb9f3a"
            ],
            [
             0.8888888888888888,
             "#fdca26"
            ],
            [
             1.0,
             "#f0f921"
            ]
           ],
           "sequentialminus": [
            [
             0.0,
             "#0d0887"
            ],
            [
             0.1111111111111111,
             "#46039f"
            ],
            [
             0.2222222222222222,
             "#7201a8"
            ],
            [
             0.3333333333333333,
             "#9c179e"
            ],
            [
             0.4444444444444444,
             "#bd3786"
            ],
            [
             0.5555555555555556,
             "#d8576b"
            ],
            [
             0.6666666666666666,
             "#ed7953"
            ],
            [
             0.7777777777777778,
             "#fb9f3a"
            ],
            [
             0.8888888888888888,
             "#fdca26"
            ],
            [
             1.0,
             "#f0f921"
            ]
           ],
           "diverging": [
            [
             0,
             "#8e0152"
            ],
            [
             0.1,
             "#c51b7d"
            ],
            [
             0.2,
             "#de77ae"
            ],
            [
             0.3,
             "#f1b6da"
            ],
            [
             0.4,
             "#fde0ef"
            ],
            [
             0.5,
             "#f7f7f7"
            ],
            [
             0.6,
             "#e6f5d0"
            ],
            [
             0.7,
             "#b8e186"
            ],
            [
             0.8,
             "#7fbc41"
            ],
            [
             0.9,
             "#4d9221"
            ],
            [
             1,
             "#276419"
            ]
           ]
          },
          "xaxis": {
           "gridcolor": "#283442",
           "linecolor": "#506784",
           "ticks": "",
           "title": {
            "standoff": 15
           },
           "zerolinecolor": "#283442",
           "automargin": true,
           "zerolinewidth": 2
          },
          "yaxis": {
           "gridcolor": "#283442",
           "linecolor": "#506784",
           "ticks": "",
           "title": {
            "standoff": 15
           },
           "zerolinecolor": "#283442",
           "automargin": true,
           "zerolinewidth": 2
          },
          "scene": {
           "xaxis": {
            "backgroundcolor": "rgb(17,17,17)",
            "gridcolor": "#506784",
            "linecolor": "#506784",
            "showbackground": true,
            "ticks": "",
            "zerolinecolor": "#C8D4E3",
            "gridwidth": 2
           },
           "yaxis": {
            "backgroundcolor": "rgb(17,17,17)",
            "gridcolor": "#506784",
            "linecolor": "#506784",
            "showbackground": true,
            "ticks": "",
            "zerolinecolor": "#C8D4E3",
            "gridwidth": 2
           },
           "zaxis": {
            "backgroundcolor": "rgb(17,17,17)",
            "gridcolor": "#506784",
            "linecolor": "#506784",
            "showbackground": true,
            "ticks": "",
            "zerolinecolor": "#C8D4E3",
            "gridwidth": 2
           }
          },
          "shapedefaults": {
           "line": {
            "color": "#f2f5fa"
           }
          },
          "annotationdefaults": {
           "arrowcolor": "#f2f5fa",
           "arrowhead": 0,
           "arrowwidth": 1
          },
          "geo": {
           "bgcolor": "rgb(17,17,17)",
           "landcolor": "rgb(17,17,17)",
           "subunitcolor": "#506784",
           "showland": true,
           "showlakes": true,
           "lakecolor": "rgb(17,17,17)"
          },
          "title": {
           "x": 0.05
          },
          "updatemenudefaults": {
           "bgcolor": "#506784",
           "borderwidth": 0
          },
          "sliderdefaults": {
           "bgcolor": "#C8D4E3",
           "borderwidth": 1,
           "bordercolor": "rgb(17,17,17)",
           "tickwidth": 0
          },
          "mapbox": {
           "style": "dark"
          }
         }
        },
        "xaxis": {
         "anchor": "y",
         "domain": [
          0.0,
          1.0
         ],
         "title": {
          "text": "sepal_width"
         }
        },
        "yaxis": {
         "anchor": "x",
         "domain": [
          0.0,
          1.0
         ],
         "title": {
          "text": "sepal_length"
         }
        },
        "legend": {
         "title": {
          "text": "species"
         },
         "tracegroupgap": 0
        },
        "title": {
         "text": "Зміна середнього значення 'sepal_length' в залежності від 'sepal_width'"
        }
       },
       "config": {
        "plotlyServerURL": "https://plot.ly"
       }
      },
      "text/html": "<div>                            <div id=\"54b0a833-b8cf-45ca-a71c-a2fd6a48a830\" class=\"plotly-graph-div\" style=\"height:525px; width:100%;\"></div>            <script type=\"text/javascript\">                require([\"plotly\"], function(Plotly) {                    window.PLOTLYENV=window.PLOTLYENV || {};                                    if (document.getElementById(\"54b0a833-b8cf-45ca-a71c-a2fd6a48a830\")) {                    Plotly.newPlot(                        \"54b0a833-b8cf-45ca-a71c-a2fd6a48a830\",                        [{\"hovertemplate\":\"species=setosa\\u003cbr\\u003esepal_width=%{x}\\u003cbr\\u003esepal_length=%{y}\\u003cextra\\u003e\\u003c\\u002fextra\\u003e\",\"legendgroup\":\"setosa\",\"line\":{\"color\":\"#636efa\",\"dash\":\"solid\"},\"marker\":{\"symbol\":\"circle\"},\"mode\":\"markers+lines\",\"name\":\"setosa\",\"orientation\":\"v\",\"showlegend\":true,\"x\":[2.3,2.9,3.0,3.1,3.2,3.3,3.4,3.5,3.6,3.7,3.8,3.9,4.0,4.1,4.2,4.4],\"xaxis\":\"x\",\"y\":[4.5,4.4,4.7,4.82,4.68,5.05,5.033333333333333,5.1499999999999995,4.8,5.266666666666667,5.25,5.4,5.8,5.2,5.5,5.7],\"yaxis\":\"y\",\"type\":\"scatter\"},{\"hovertemplate\":\"species=versicolor\\u003cbr\\u003esepal_width=%{x}\\u003cbr\\u003esepal_length=%{y}\\u003cextra\\u003e\\u003c\\u002fextra\\u003e\",\"legendgroup\":\"versicolor\",\"line\":{\"color\":\"#EF553B\",\"dash\":\"solid\"},\"marker\":{\"symbol\":\"circle\"},\"mode\":\"markers+lines\",\"name\":\"versicolor\",\"orientation\":\"v\",\"showlegend\":true,\"x\":[2.0,2.2,2.3,2.4,2.5,2.6,2.7,2.8,2.9,3.0,3.1,3.2,3.3,3.4],\"xaxis\":\"x\",\"y\":[5.0,6.1,5.6000000000000005,5.3,5.625,5.666666666666667,5.68,6.1499999999999995,6.085714285714286,5.95,6.766666666666667,6.433333333333334,6.3,6.0],\"yaxis\":\"y\",\"type\":\"scatter\"},{\"hovertemplate\":\"species=virginica\\u003cbr\\u003esepal_width=%{x}\\u003cbr\\u003esepal_length=%{y}\\u003cextra\\u003e\\u003c\\u002fextra\\u003e\",\"legendgroup\":\"virginica\",\"line\":{\"color\":\"#00cc96\",\"dash\":\"solid\"},\"marker\":{\"symbol\":\"circle\"},\"mode\":\"markers+lines\",\"name\":\"virginica\",\"orientation\":\"v\",\"showlegend\":true,\"x\":[2.2,2.5,2.6,2.7,2.8,2.9,3.0,3.1,3.2,3.3,3.4,3.6,3.8],\"xaxis\":\"x\",\"y\":[6.0,5.9,6.9,6.075,6.475,6.8,6.716666666666666,6.7250000000000005,6.76,6.566666666666666,6.25,7.2,7.800000000000001],\"yaxis\":\"y\",\"type\":\"scatter\"}],                        {\"template\":{\"data\":{\"histogram2dcontour\":[{\"type\":\"histogram2dcontour\",\"colorbar\":{\"outlinewidth\":0,\"ticks\":\"\"},\"colorscale\":[[0.0,\"#0d0887\"],[0.1111111111111111,\"#46039f\"],[0.2222222222222222,\"#7201a8\"],[0.3333333333333333,\"#9c179e\"],[0.4444444444444444,\"#bd3786\"],[0.5555555555555556,\"#d8576b\"],[0.6666666666666666,\"#ed7953\"],[0.7777777777777778,\"#fb9f3a\"],[0.8888888888888888,\"#fdca26\"],[1.0,\"#f0f921\"]]}],\"choropleth\":[{\"type\":\"choropleth\",\"colorbar\":{\"outlinewidth\":0,\"ticks\":\"\"}}],\"histogram2d\":[{\"type\":\"histogram2d\",\"colorbar\":{\"outlinewidth\":0,\"ticks\":\"\"},\"colorscale\":[[0.0,\"#0d0887\"],[0.1111111111111111,\"#46039f\"],[0.2222222222222222,\"#7201a8\"],[0.3333333333333333,\"#9c179e\"],[0.4444444444444444,\"#bd3786\"],[0.5555555555555556,\"#d8576b\"],[0.6666666666666666,\"#ed7953\"],[0.7777777777777778,\"#fb9f3a\"],[0.8888888888888888,\"#fdca26\"],[1.0,\"#f0f921\"]]}],\"heatmap\":[{\"type\":\"heatmap\",\"colorbar\":{\"outlinewidth\":0,\"ticks\":\"\"},\"colorscale\":[[0.0,\"#0d0887\"],[0.1111111111111111,\"#46039f\"],[0.2222222222222222,\"#7201a8\"],[0.3333333333333333,\"#9c179e\"],[0.4444444444444444,\"#bd3786\"],[0.5555555555555556,\"#d8576b\"],[0.6666666666666666,\"#ed7953\"],[0.7777777777777778,\"#fb9f3a\"],[0.8888888888888888,\"#fdca26\"],[1.0,\"#f0f921\"]]}],\"heatmapgl\":[{\"type\":\"heatmapgl\",\"colorbar\":{\"outlinewidth\":0,\"ticks\":\"\"},\"colorscale\":[[0.0,\"#0d0887\"],[0.1111111111111111,\"#46039f\"],[0.2222222222222222,\"#7201a8\"],[0.3333333333333333,\"#9c179e\"],[0.4444444444444444,\"#bd3786\"],[0.5555555555555556,\"#d8576b\"],[0.6666666666666666,\"#ed7953\"],[0.7777777777777778,\"#fb9f3a\"],[0.8888888888888888,\"#fdca26\"],[1.0,\"#f0f921\"]]}],\"contourcarpet\":[{\"type\":\"contourcarpet\",\"colorbar\":{\"outlinewidth\":0,\"ticks\":\"\"}}],\"contour\":[{\"type\":\"contour\",\"colorbar\":{\"outlinewidth\":0,\"ticks\":\"\"},\"colorscale\":[[0.0,\"#0d0887\"],[0.1111111111111111,\"#46039f\"],[0.2222222222222222,\"#7201a8\"],[0.3333333333333333,\"#9c179e\"],[0.4444444444444444,\"#bd3786\"],[0.5555555555555556,\"#d8576b\"],[0.6666666666666666,\"#ed7953\"],[0.7777777777777778,\"#fb9f3a\"],[0.8888888888888888,\"#fdca26\"],[1.0,\"#f0f921\"]]}],\"surface\":[{\"type\":\"surface\",\"colorbar\":{\"outlinewidth\":0,\"ticks\":\"\"},\"colorscale\":[[0.0,\"#0d0887\"],[0.1111111111111111,\"#46039f\"],[0.2222222222222222,\"#7201a8\"],[0.3333333333333333,\"#9c179e\"],[0.4444444444444444,\"#bd3786\"],[0.5555555555555556,\"#d8576b\"],[0.6666666666666666,\"#ed7953\"],[0.7777777777777778,\"#fb9f3a\"],[0.8888888888888888,\"#fdca26\"],[1.0,\"#f0f921\"]]}],\"mesh3d\":[{\"type\":\"mesh3d\",\"colorbar\":{\"outlinewidth\":0,\"ticks\":\"\"}}],\"scatter\":[{\"marker\":{\"line\":{\"color\":\"#283442\"}},\"type\":\"scatter\"}],\"parcoords\":[{\"type\":\"parcoords\",\"line\":{\"colorbar\":{\"outlinewidth\":0,\"ticks\":\"\"}}}],\"scatterpolargl\":[{\"type\":\"scatterpolargl\",\"marker\":{\"colorbar\":{\"outlinewidth\":0,\"ticks\":\"\"}}}],\"bar\":[{\"error_x\":{\"color\":\"#f2f5fa\"},\"error_y\":{\"color\":\"#f2f5fa\"},\"marker\":{\"line\":{\"color\":\"rgb(17,17,17)\",\"width\":0.5},\"pattern\":{\"fillmode\":\"overlay\",\"size\":10,\"solidity\":0.2}},\"type\":\"bar\"}],\"scattergeo\":[{\"type\":\"scattergeo\",\"marker\":{\"colorbar\":{\"outlinewidth\":0,\"ticks\":\"\"}}}],\"scatterpolar\":[{\"type\":\"scatterpolar\",\"marker\":{\"colorbar\":{\"outlinewidth\":0,\"ticks\":\"\"}}}],\"histogram\":[{\"marker\":{\"pattern\":{\"fillmode\":\"overlay\",\"size\":10,\"solidity\":0.2}},\"type\":\"histogram\"}],\"scattergl\":[{\"marker\":{\"line\":{\"color\":\"#283442\"}},\"type\":\"scattergl\"}],\"scatter3d\":[{\"type\":\"scatter3d\",\"line\":{\"colorbar\":{\"outlinewidth\":0,\"ticks\":\"\"}},\"marker\":{\"colorbar\":{\"outlinewidth\":0,\"ticks\":\"\"}}}],\"scattermapbox\":[{\"type\":\"scattermapbox\",\"marker\":{\"colorbar\":{\"outlinewidth\":0,\"ticks\":\"\"}}}],\"scatterternary\":[{\"type\":\"scatterternary\",\"marker\":{\"colorbar\":{\"outlinewidth\":0,\"ticks\":\"\"}}}],\"scattercarpet\":[{\"type\":\"scattercarpet\",\"marker\":{\"colorbar\":{\"outlinewidth\":0,\"ticks\":\"\"}}}],\"carpet\":[{\"aaxis\":{\"endlinecolor\":\"#A2B1C6\",\"gridcolor\":\"#506784\",\"linecolor\":\"#506784\",\"minorgridcolor\":\"#506784\",\"startlinecolor\":\"#A2B1C6\"},\"baxis\":{\"endlinecolor\":\"#A2B1C6\",\"gridcolor\":\"#506784\",\"linecolor\":\"#506784\",\"minorgridcolor\":\"#506784\",\"startlinecolor\":\"#A2B1C6\"},\"type\":\"carpet\"}],\"table\":[{\"cells\":{\"fill\":{\"color\":\"#506784\"},\"line\":{\"color\":\"rgb(17,17,17)\"}},\"header\":{\"fill\":{\"color\":\"#2a3f5f\"},\"line\":{\"color\":\"rgb(17,17,17)\"}},\"type\":\"table\"}],\"barpolar\":[{\"marker\":{\"line\":{\"color\":\"rgb(17,17,17)\",\"width\":0.5},\"pattern\":{\"fillmode\":\"overlay\",\"size\":10,\"solidity\":0.2}},\"type\":\"barpolar\"}],\"pie\":[{\"automargin\":true,\"type\":\"pie\"}]},\"layout\":{\"autotypenumbers\":\"strict\",\"colorway\":[\"#636efa\",\"#EF553B\",\"#00cc96\",\"#ab63fa\",\"#FFA15A\",\"#19d3f3\",\"#FF6692\",\"#B6E880\",\"#FF97FF\",\"#FECB52\"],\"font\":{\"color\":\"#f2f5fa\"},\"hovermode\":\"closest\",\"hoverlabel\":{\"align\":\"left\"},\"paper_bgcolor\":\"rgb(17,17,17)\",\"plot_bgcolor\":\"rgb(17,17,17)\",\"polar\":{\"bgcolor\":\"rgb(17,17,17)\",\"angularaxis\":{\"gridcolor\":\"#506784\",\"linecolor\":\"#506784\",\"ticks\":\"\"},\"radialaxis\":{\"gridcolor\":\"#506784\",\"linecolor\":\"#506784\",\"ticks\":\"\"}},\"ternary\":{\"bgcolor\":\"rgb(17,17,17)\",\"aaxis\":{\"gridcolor\":\"#506784\",\"linecolor\":\"#506784\",\"ticks\":\"\"},\"baxis\":{\"gridcolor\":\"#506784\",\"linecolor\":\"#506784\",\"ticks\":\"\"},\"caxis\":{\"gridcolor\":\"#506784\",\"linecolor\":\"#506784\",\"ticks\":\"\"}},\"coloraxis\":{\"colorbar\":{\"outlinewidth\":0,\"ticks\":\"\"}},\"colorscale\":{\"sequential\":[[0.0,\"#0d0887\"],[0.1111111111111111,\"#46039f\"],[0.2222222222222222,\"#7201a8\"],[0.3333333333333333,\"#9c179e\"],[0.4444444444444444,\"#bd3786\"],[0.5555555555555556,\"#d8576b\"],[0.6666666666666666,\"#ed7953\"],[0.7777777777777778,\"#fb9f3a\"],[0.8888888888888888,\"#fdca26\"],[1.0,\"#f0f921\"]],\"sequentialminus\":[[0.0,\"#0d0887\"],[0.1111111111111111,\"#46039f\"],[0.2222222222222222,\"#7201a8\"],[0.3333333333333333,\"#9c179e\"],[0.4444444444444444,\"#bd3786\"],[0.5555555555555556,\"#d8576b\"],[0.6666666666666666,\"#ed7953\"],[0.7777777777777778,\"#fb9f3a\"],[0.8888888888888888,\"#fdca26\"],[1.0,\"#f0f921\"]],\"diverging\":[[0,\"#8e0152\"],[0.1,\"#c51b7d\"],[0.2,\"#de77ae\"],[0.3,\"#f1b6da\"],[0.4,\"#fde0ef\"],[0.5,\"#f7f7f7\"],[0.6,\"#e6f5d0\"],[0.7,\"#b8e186\"],[0.8,\"#7fbc41\"],[0.9,\"#4d9221\"],[1,\"#276419\"]]},\"xaxis\":{\"gridcolor\":\"#283442\",\"linecolor\":\"#506784\",\"ticks\":\"\",\"title\":{\"standoff\":15},\"zerolinecolor\":\"#283442\",\"automargin\":true,\"zerolinewidth\":2},\"yaxis\":{\"gridcolor\":\"#283442\",\"linecolor\":\"#506784\",\"ticks\":\"\",\"title\":{\"standoff\":15},\"zerolinecolor\":\"#283442\",\"automargin\":true,\"zerolinewidth\":2},\"scene\":{\"xaxis\":{\"backgroundcolor\":\"rgb(17,17,17)\",\"gridcolor\":\"#506784\",\"linecolor\":\"#506784\",\"showbackground\":true,\"ticks\":\"\",\"zerolinecolor\":\"#C8D4E3\",\"gridwidth\":2},\"yaxis\":{\"backgroundcolor\":\"rgb(17,17,17)\",\"gridcolor\":\"#506784\",\"linecolor\":\"#506784\",\"showbackground\":true,\"ticks\":\"\",\"zerolinecolor\":\"#C8D4E3\",\"gridwidth\":2},\"zaxis\":{\"backgroundcolor\":\"rgb(17,17,17)\",\"gridcolor\":\"#506784\",\"linecolor\":\"#506784\",\"showbackground\":true,\"ticks\":\"\",\"zerolinecolor\":\"#C8D4E3\",\"gridwidth\":2}},\"shapedefaults\":{\"line\":{\"color\":\"#f2f5fa\"}},\"annotationdefaults\":{\"arrowcolor\":\"#f2f5fa\",\"arrowhead\":0,\"arrowwidth\":1},\"geo\":{\"bgcolor\":\"rgb(17,17,17)\",\"landcolor\":\"rgb(17,17,17)\",\"subunitcolor\":\"#506784\",\"showland\":true,\"showlakes\":true,\"lakecolor\":\"rgb(17,17,17)\"},\"title\":{\"x\":0.05},\"updatemenudefaults\":{\"bgcolor\":\"#506784\",\"borderwidth\":0},\"sliderdefaults\":{\"bgcolor\":\"#C8D4E3\",\"borderwidth\":1,\"bordercolor\":\"rgb(17,17,17)\",\"tickwidth\":0},\"mapbox\":{\"style\":\"dark\"}}},\"xaxis\":{\"anchor\":\"y\",\"domain\":[0.0,1.0],\"title\":{\"text\":\"sepal_width\"}},\"yaxis\":{\"anchor\":\"x\",\"domain\":[0.0,1.0],\"title\":{\"text\":\"sepal_length\"}},\"legend\":{\"title\":{\"text\":\"species\"},\"tracegroupgap\":0},\"title\":{\"text\":\"\\u0417\\u043c\\u0456\\u043d\\u0430 \\u0441\\u0435\\u0440\\u0435\\u0434\\u043d\\u044c\\u043e\\u0433\\u043e \\u0437\\u043d\\u0430\\u0447\\u0435\\u043d\\u043d\\u044f 'sepal_length' \\u0432 \\u0437\\u0430\\u043b\\u0435\\u0436\\u043d\\u043e\\u0441\\u0442\\u0456 \\u0432\\u0456\\u0434 'sepal_width'\"}},                        {\"responsive\": true}                    ).then(function(){\n                            \nvar gd = document.getElementById('54b0a833-b8cf-45ca-a71c-a2fd6a48a830');\nvar x = new MutationObserver(function (mutations, observer) {{\n        var display = window.getComputedStyle(gd).display;\n        if (!display || display === 'none') {{\n            console.log([gd, 'removed!']);\n            Plotly.purge(gd);\n            observer.disconnect();\n        }}\n}});\n\n// Listen for the removal of the full notebook cells\nvar notebookContainer = gd.closest('#notebook-container');\nif (notebookContainer) {{\n    x.observe(notebookContainer, {childList: true});\n}}\n\n// Listen for the clearing of the current output cell\nvar outputEl = gd.closest('.output');\nif (outputEl) {{\n    x.observe(outputEl, {childList: true});\n}}\n\n                        })                };                });            </script>        </div>"
     },
     "metadata": {},
     "output_type": "display_data"
    }
   ],
   "source": [
    "df_mean = df.groupby(['species', 'sepal_width'])['sepal_length'].mean().reset_index()\n",
    "fig2 = px.line(df_mean, x=\"sepal_width\", y=\"sepal_length\", color=\"species\", markers=True, title=\"Зміна середнього значення 'sepal_length' в залежності від 'sepal_width'\")\n",
    "fig2.show()"
   ],
   "metadata": {
    "collapsed": false,
    "ExecuteTime": {
     "end_time": "2023-10-27T13:25:00.446363Z",
     "start_time": "2023-10-27T13:25:00.405127Z"
    }
   },
   "id": "d1751799faad85e2"
  },
  {
   "cell_type": "raw",
   "source": [
    "2. Для датасету  px.data.gapminder() побудувати наступні графіки \n",
    "\n",
    "1.Побудувати гістограму, яка відображає розподіл ВВП за країнами для року 2007. Обрати 10 країн з найбільшим ВВП та позначити їх на гістограмі з неперервною зміною кольору. Додати підписи над стовпцями та вирівняти їх горизонтально. Назва графіку має бути розташована за центром. "
   ],
   "metadata": {
    "collapsed": false
   },
   "id": "a1ea567fb4f2b935"
  },
  {
   "cell_type": "code",
   "execution_count": 29,
   "outputs": [
    {
     "data": {
      "application/vnd.plotly.v1+json": {
       "data": [
        {
         "alignmentgroup": "True",
         "hovertemplate": "Країна=%{text}<br>ВВП на душу населення=%{marker.color}<extra></extra>",
         "legendgroup": "",
         "marker": {
          "color": [
           49357.19017,
           47306.98978,
           47143.17964,
           42951.65309,
           40675.99635,
           39724.97867,
           37506.41907,
           36797.93332,
           36319.23501,
           36180.78919
          ],
          "coloraxis": "coloraxis",
          "pattern": {
           "shape": ""
          }
         },
         "name": "",
         "offsetgroup": "",
         "orientation": "v",
         "showlegend": false,
         "text": [
          "Norway",
          "Kuwait",
          "Singapore",
          "United States",
          "Ireland",
          "Hong Kong, China",
          "Switzerland",
          "Netherlands",
          "Canada",
          "Iceland"
         ],
         "textposition": "auto",
         "x": [
          "Norway",
          "Kuwait",
          "Singapore",
          "United States",
          "Ireland",
          "Hong Kong, China",
          "Switzerland",
          "Netherlands",
          "Canada",
          "Iceland"
         ],
         "xaxis": "x",
         "y": [
          49357.19017,
          47306.98978,
          47143.17964,
          42951.65309,
          40675.99635,
          39724.97867,
          37506.41907,
          36797.93332,
          36319.23501,
          36180.78919
         ],
         "yaxis": "y",
         "type": "bar"
        }
       ],
       "layout": {
        "template": {
         "data": {
          "histogram2dcontour": [
           {
            "type": "histogram2dcontour",
            "colorbar": {
             "outlinewidth": 0,
             "ticks": ""
            },
            "colorscale": [
             [
              0.0,
              "#0d0887"
             ],
             [
              0.1111111111111111,
              "#46039f"
             ],
             [
              0.2222222222222222,
              "#7201a8"
             ],
             [
              0.3333333333333333,
              "#9c179e"
             ],
             [
              0.4444444444444444,
              "#bd3786"
             ],
             [
              0.5555555555555556,
              "#d8576b"
             ],
             [
              0.6666666666666666,
              "#ed7953"
             ],
             [
              0.7777777777777778,
              "#fb9f3a"
             ],
             [
              0.8888888888888888,
              "#fdca26"
             ],
             [
              1.0,
              "#f0f921"
             ]
            ]
           }
          ],
          "choropleth": [
           {
            "type": "choropleth",
            "colorbar": {
             "outlinewidth": 0,
             "ticks": ""
            }
           }
          ],
          "histogram2d": [
           {
            "type": "histogram2d",
            "colorbar": {
             "outlinewidth": 0,
             "ticks": ""
            },
            "colorscale": [
             [
              0.0,
              "#0d0887"
             ],
             [
              0.1111111111111111,
              "#46039f"
             ],
             [
              0.2222222222222222,
              "#7201a8"
             ],
             [
              0.3333333333333333,
              "#9c179e"
             ],
             [
              0.4444444444444444,
              "#bd3786"
             ],
             [
              0.5555555555555556,
              "#d8576b"
             ],
             [
              0.6666666666666666,
              "#ed7953"
             ],
             [
              0.7777777777777778,
              "#fb9f3a"
             ],
             [
              0.8888888888888888,
              "#fdca26"
             ],
             [
              1.0,
              "#f0f921"
             ]
            ]
           }
          ],
          "heatmap": [
           {
            "type": "heatmap",
            "colorbar": {
             "outlinewidth": 0,
             "ticks": ""
            },
            "colorscale": [
             [
              0.0,
              "#0d0887"
             ],
             [
              0.1111111111111111,
              "#46039f"
             ],
             [
              0.2222222222222222,
              "#7201a8"
             ],
             [
              0.3333333333333333,
              "#9c179e"
             ],
             [
              0.4444444444444444,
              "#bd3786"
             ],
             [
              0.5555555555555556,
              "#d8576b"
             ],
             [
              0.6666666666666666,
              "#ed7953"
             ],
             [
              0.7777777777777778,
              "#fb9f3a"
             ],
             [
              0.8888888888888888,
              "#fdca26"
             ],
             [
              1.0,
              "#f0f921"
             ]
            ]
           }
          ],
          "heatmapgl": [
           {
            "type": "heatmapgl",
            "colorbar": {
             "outlinewidth": 0,
             "ticks": ""
            },
            "colorscale": [
             [
              0.0,
              "#0d0887"
             ],
             [
              0.1111111111111111,
              "#46039f"
             ],
             [
              0.2222222222222222,
              "#7201a8"
             ],
             [
              0.3333333333333333,
              "#9c179e"
             ],
             [
              0.4444444444444444,
              "#bd3786"
             ],
             [
              0.5555555555555556,
              "#d8576b"
             ],
             [
              0.6666666666666666,
              "#ed7953"
             ],
             [
              0.7777777777777778,
              "#fb9f3a"
             ],
             [
              0.8888888888888888,
              "#fdca26"
             ],
             [
              1.0,
              "#f0f921"
             ]
            ]
           }
          ],
          "contourcarpet": [
           {
            "type": "contourcarpet",
            "colorbar": {
             "outlinewidth": 0,
             "ticks": ""
            }
           }
          ],
          "contour": [
           {
            "type": "contour",
            "colorbar": {
             "outlinewidth": 0,
             "ticks": ""
            },
            "colorscale": [
             [
              0.0,
              "#0d0887"
             ],
             [
              0.1111111111111111,
              "#46039f"
             ],
             [
              0.2222222222222222,
              "#7201a8"
             ],
             [
              0.3333333333333333,
              "#9c179e"
             ],
             [
              0.4444444444444444,
              "#bd3786"
             ],
             [
              0.5555555555555556,
              "#d8576b"
             ],
             [
              0.6666666666666666,
              "#ed7953"
             ],
             [
              0.7777777777777778,
              "#fb9f3a"
             ],
             [
              0.8888888888888888,
              "#fdca26"
             ],
             [
              1.0,
              "#f0f921"
             ]
            ]
           }
          ],
          "surface": [
           {
            "type": "surface",
            "colorbar": {
             "outlinewidth": 0,
             "ticks": ""
            },
            "colorscale": [
             [
              0.0,
              "#0d0887"
             ],
             [
              0.1111111111111111,
              "#46039f"
             ],
             [
              0.2222222222222222,
              "#7201a8"
             ],
             [
              0.3333333333333333,
              "#9c179e"
             ],
             [
              0.4444444444444444,
              "#bd3786"
             ],
             [
              0.5555555555555556,
              "#d8576b"
             ],
             [
              0.6666666666666666,
              "#ed7953"
             ],
             [
              0.7777777777777778,
              "#fb9f3a"
             ],
             [
              0.8888888888888888,
              "#fdca26"
             ],
             [
              1.0,
              "#f0f921"
             ]
            ]
           }
          ],
          "mesh3d": [
           {
            "type": "mesh3d",
            "colorbar": {
             "outlinewidth": 0,
             "ticks": ""
            }
           }
          ],
          "scatter": [
           {
            "marker": {
             "line": {
              "color": "#283442"
             }
            },
            "type": "scatter"
           }
          ],
          "parcoords": [
           {
            "type": "parcoords",
            "line": {
             "colorbar": {
              "outlinewidth": 0,
              "ticks": ""
             }
            }
           }
          ],
          "scatterpolargl": [
           {
            "type": "scatterpolargl",
            "marker": {
             "colorbar": {
              "outlinewidth": 0,
              "ticks": ""
             }
            }
           }
          ],
          "bar": [
           {
            "error_x": {
             "color": "#f2f5fa"
            },
            "error_y": {
             "color": "#f2f5fa"
            },
            "marker": {
             "line": {
              "color": "rgb(17,17,17)",
              "width": 0.5
             },
             "pattern": {
              "fillmode": "overlay",
              "size": 10,
              "solidity": 0.2
             }
            },
            "type": "bar"
           }
          ],
          "scattergeo": [
           {
            "type": "scattergeo",
            "marker": {
             "colorbar": {
              "outlinewidth": 0,
              "ticks": ""
             }
            }
           }
          ],
          "scatterpolar": [
           {
            "type": "scatterpolar",
            "marker": {
             "colorbar": {
              "outlinewidth": 0,
              "ticks": ""
             }
            }
           }
          ],
          "histogram": [
           {
            "marker": {
             "pattern": {
              "fillmode": "overlay",
              "size": 10,
              "solidity": 0.2
             }
            },
            "type": "histogram"
           }
          ],
          "scattergl": [
           {
            "marker": {
             "line": {
              "color": "#283442"
             }
            },
            "type": "scattergl"
           }
          ],
          "scatter3d": [
           {
            "type": "scatter3d",
            "line": {
             "colorbar": {
              "outlinewidth": 0,
              "ticks": ""
             }
            },
            "marker": {
             "colorbar": {
              "outlinewidth": 0,
              "ticks": ""
             }
            }
           }
          ],
          "scattermapbox": [
           {
            "type": "scattermapbox",
            "marker": {
             "colorbar": {
              "outlinewidth": 0,
              "ticks": ""
             }
            }
           }
          ],
          "scatterternary": [
           {
            "type": "scatterternary",
            "marker": {
             "colorbar": {
              "outlinewidth": 0,
              "ticks": ""
             }
            }
           }
          ],
          "scattercarpet": [
           {
            "type": "scattercarpet",
            "marker": {
             "colorbar": {
              "outlinewidth": 0,
              "ticks": ""
             }
            }
           }
          ],
          "carpet": [
           {
            "aaxis": {
             "endlinecolor": "#A2B1C6",
             "gridcolor": "#506784",
             "linecolor": "#506784",
             "minorgridcolor": "#506784",
             "startlinecolor": "#A2B1C6"
            },
            "baxis": {
             "endlinecolor": "#A2B1C6",
             "gridcolor": "#506784",
             "linecolor": "#506784",
             "minorgridcolor": "#506784",
             "startlinecolor": "#A2B1C6"
            },
            "type": "carpet"
           }
          ],
          "table": [
           {
            "cells": {
             "fill": {
              "color": "#506784"
             },
             "line": {
              "color": "rgb(17,17,17)"
             }
            },
            "header": {
             "fill": {
              "color": "#2a3f5f"
             },
             "line": {
              "color": "rgb(17,17,17)"
             }
            },
            "type": "table"
           }
          ],
          "barpolar": [
           {
            "marker": {
             "line": {
              "color": "rgb(17,17,17)",
              "width": 0.5
             },
             "pattern": {
              "fillmode": "overlay",
              "size": 10,
              "solidity": 0.2
             }
            },
            "type": "barpolar"
           }
          ],
          "pie": [
           {
            "automargin": true,
            "type": "pie"
           }
          ]
         },
         "layout": {
          "autotypenumbers": "strict",
          "colorway": [
           "#636efa",
           "#EF553B",
           "#00cc96",
           "#ab63fa",
           "#FFA15A",
           "#19d3f3",
           "#FF6692",
           "#B6E880",
           "#FF97FF",
           "#FECB52"
          ],
          "font": {
           "color": "#f2f5fa"
          },
          "hovermode": "closest",
          "hoverlabel": {
           "align": "left"
          },
          "paper_bgcolor": "rgb(17,17,17)",
          "plot_bgcolor": "rgb(17,17,17)",
          "polar": {
           "bgcolor": "rgb(17,17,17)",
           "angularaxis": {
            "gridcolor": "#506784",
            "linecolor": "#506784",
            "ticks": ""
           },
           "radialaxis": {
            "gridcolor": "#506784",
            "linecolor": "#506784",
            "ticks": ""
           }
          },
          "ternary": {
           "bgcolor": "rgb(17,17,17)",
           "aaxis": {
            "gridcolor": "#506784",
            "linecolor": "#506784",
            "ticks": ""
           },
           "baxis": {
            "gridcolor": "#506784",
            "linecolor": "#506784",
            "ticks": ""
           },
           "caxis": {
            "gridcolor": "#506784",
            "linecolor": "#506784",
            "ticks": ""
           }
          },
          "coloraxis": {
           "colorbar": {
            "outlinewidth": 0,
            "ticks": ""
           }
          },
          "colorscale": {
           "sequential": [
            [
             0.0,
             "#0d0887"
            ],
            [
             0.1111111111111111,
             "#46039f"
            ],
            [
             0.2222222222222222,
             "#7201a8"
            ],
            [
             0.3333333333333333,
             "#9c179e"
            ],
            [
             0.4444444444444444,
             "#bd3786"
            ],
            [
             0.5555555555555556,
             "#d8576b"
            ],
            [
             0.6666666666666666,
             "#ed7953"
            ],
            [
             0.7777777777777778,
             "#fb9f3a"
            ],
            [
             0.8888888888888888,
             "#fdca26"
            ],
            [
             1.0,
             "#f0f921"
            ]
           ],
           "sequentialminus": [
            [
             0.0,
             "#0d0887"
            ],
            [
             0.1111111111111111,
             "#46039f"
            ],
            [
             0.2222222222222222,
             "#7201a8"
            ],
            [
             0.3333333333333333,
             "#9c179e"
            ],
            [
             0.4444444444444444,
             "#bd3786"
            ],
            [
             0.5555555555555556,
             "#d8576b"
            ],
            [
             0.6666666666666666,
             "#ed7953"
            ],
            [
             0.7777777777777778,
             "#fb9f3a"
            ],
            [
             0.8888888888888888,
             "#fdca26"
            ],
            [
             1.0,
             "#f0f921"
            ]
           ],
           "diverging": [
            [
             0,
             "#8e0152"
            ],
            [
             0.1,
             "#c51b7d"
            ],
            [
             0.2,
             "#de77ae"
            ],
            [
             0.3,
             "#f1b6da"
            ],
            [
             0.4,
             "#fde0ef"
            ],
            [
             0.5,
             "#f7f7f7"
            ],
            [
             0.6,
             "#e6f5d0"
            ],
            [
             0.7,
             "#b8e186"
            ],
            [
             0.8,
             "#7fbc41"
            ],
            [
             0.9,
             "#4d9221"
            ],
            [
             1,
             "#276419"
            ]
           ]
          },
          "xaxis": {
           "gridcolor": "#283442",
           "linecolor": "#506784",
           "ticks": "",
           "title": {
            "standoff": 15
           },
           "zerolinecolor": "#283442",
           "automargin": true,
           "zerolinewidth": 2
          },
          "yaxis": {
           "gridcolor": "#283442",
           "linecolor": "#506784",
           "ticks": "",
           "title": {
            "standoff": 15
           },
           "zerolinecolor": "#283442",
           "automargin": true,
           "zerolinewidth": 2
          },
          "scene": {
           "xaxis": {
            "backgroundcolor": "rgb(17,17,17)",
            "gridcolor": "#506784",
            "linecolor": "#506784",
            "showbackground": true,
            "ticks": "",
            "zerolinecolor": "#C8D4E3",
            "gridwidth": 2
           },
           "yaxis": {
            "backgroundcolor": "rgb(17,17,17)",
            "gridcolor": "#506784",
            "linecolor": "#506784",
            "showbackground": true,
            "ticks": "",
            "zerolinecolor": "#C8D4E3",
            "gridwidth": 2
           },
           "zaxis": {
            "backgroundcolor": "rgb(17,17,17)",
            "gridcolor": "#506784",
            "linecolor": "#506784",
            "showbackground": true,
            "ticks": "",
            "zerolinecolor": "#C8D4E3",
            "gridwidth": 2
           }
          },
          "shapedefaults": {
           "line": {
            "color": "#f2f5fa"
           }
          },
          "annotationdefaults": {
           "arrowcolor": "#f2f5fa",
           "arrowhead": 0,
           "arrowwidth": 1
          },
          "geo": {
           "bgcolor": "rgb(17,17,17)",
           "landcolor": "rgb(17,17,17)",
           "subunitcolor": "#506784",
           "showland": true,
           "showlakes": true,
           "lakecolor": "rgb(17,17,17)"
          },
          "title": {
           "x": 0.05
          },
          "updatemenudefaults": {
           "bgcolor": "#506784",
           "borderwidth": 0
          },
          "sliderdefaults": {
           "bgcolor": "#C8D4E3",
           "borderwidth": 1,
           "bordercolor": "rgb(17,17,17)",
           "tickwidth": 0
          },
          "mapbox": {
           "style": "dark"
          }
         }
        },
        "xaxis": {
         "anchor": "y",
         "domain": [
          0.0,
          1.0
         ],
         "title": {
          "text": ""
         }
        },
        "yaxis": {
         "anchor": "x",
         "domain": [
          0.0,
          1.0
         ],
         "title": {
          "text": "ВВП на душу населення"
         }
        },
        "coloraxis": {
         "colorbar": {
          "title": {
           "text": "ВВП на душу населення"
          }
         },
         "colorscale": [
          [
           0.0,
           "#0d0887"
          ],
          [
           0.1111111111111111,
           "#46039f"
          ],
          [
           0.2222222222222222,
           "#7201a8"
          ],
          [
           0.3333333333333333,
           "#9c179e"
          ],
          [
           0.4444444444444444,
           "#bd3786"
          ],
          [
           0.5555555555555556,
           "#d8576b"
          ],
          [
           0.6666666666666666,
           "#ed7953"
          ],
          [
           0.7777777777777778,
           "#fb9f3a"
          ],
          [
           0.8888888888888888,
           "#fdca26"
          ],
          [
           1.0,
           "#f0f921"
          ]
         ]
        },
        "legend": {
         "tracegroupgap": 0
        },
        "title": {
         "text": "Розподіл ВВП за країнами у 2007 році",
         "x": 0.5
        },
        "barmode": "relative",
        "uniformtext": {
         "minsize": 8,
         "mode": "hide"
        }
       },
       "config": {
        "plotlyServerURL": "https://plot.ly"
       }
      },
      "text/html": "<div>                            <div id=\"b5a802dd-9f05-4c6c-ba29-762435b3d745\" class=\"plotly-graph-div\" style=\"height:525px; width:100%;\"></div>            <script type=\"text/javascript\">                require([\"plotly\"], function(Plotly) {                    window.PLOTLYENV=window.PLOTLYENV || {};                                    if (document.getElementById(\"b5a802dd-9f05-4c6c-ba29-762435b3d745\")) {                    Plotly.newPlot(                        \"b5a802dd-9f05-4c6c-ba29-762435b3d745\",                        [{\"alignmentgroup\":\"True\",\"hovertemplate\":\"\\u041a\\u0440\\u0430\\u0457\\u043d\\u0430=%{text}\\u003cbr\\u003e\\u0412\\u0412\\u041f \\u043d\\u0430 \\u0434\\u0443\\u0448\\u0443 \\u043d\\u0430\\u0441\\u0435\\u043b\\u0435\\u043d\\u043d\\u044f=%{marker.color}\\u003cextra\\u003e\\u003c\\u002fextra\\u003e\",\"legendgroup\":\"\",\"marker\":{\"color\":[49357.19017,47306.98978,47143.17964,42951.65309,40675.99635,39724.97867,37506.41907,36797.93332,36319.23501,36180.78919],\"coloraxis\":\"coloraxis\",\"pattern\":{\"shape\":\"\"}},\"name\":\"\",\"offsetgroup\":\"\",\"orientation\":\"v\",\"showlegend\":false,\"text\":[\"Norway\",\"Kuwait\",\"Singapore\",\"United States\",\"Ireland\",\"Hong Kong, China\",\"Switzerland\",\"Netherlands\",\"Canada\",\"Iceland\"],\"textposition\":\"auto\",\"x\":[\"Norway\",\"Kuwait\",\"Singapore\",\"United States\",\"Ireland\",\"Hong Kong, China\",\"Switzerland\",\"Netherlands\",\"Canada\",\"Iceland\"],\"xaxis\":\"x\",\"y\":[49357.19017,47306.98978,47143.17964,42951.65309,40675.99635,39724.97867,37506.41907,36797.93332,36319.23501,36180.78919],\"yaxis\":\"y\",\"type\":\"bar\"}],                        {\"template\":{\"data\":{\"histogram2dcontour\":[{\"type\":\"histogram2dcontour\",\"colorbar\":{\"outlinewidth\":0,\"ticks\":\"\"},\"colorscale\":[[0.0,\"#0d0887\"],[0.1111111111111111,\"#46039f\"],[0.2222222222222222,\"#7201a8\"],[0.3333333333333333,\"#9c179e\"],[0.4444444444444444,\"#bd3786\"],[0.5555555555555556,\"#d8576b\"],[0.6666666666666666,\"#ed7953\"],[0.7777777777777778,\"#fb9f3a\"],[0.8888888888888888,\"#fdca26\"],[1.0,\"#f0f921\"]]}],\"choropleth\":[{\"type\":\"choropleth\",\"colorbar\":{\"outlinewidth\":0,\"ticks\":\"\"}}],\"histogram2d\":[{\"type\":\"histogram2d\",\"colorbar\":{\"outlinewidth\":0,\"ticks\":\"\"},\"colorscale\":[[0.0,\"#0d0887\"],[0.1111111111111111,\"#46039f\"],[0.2222222222222222,\"#7201a8\"],[0.3333333333333333,\"#9c179e\"],[0.4444444444444444,\"#bd3786\"],[0.5555555555555556,\"#d8576b\"],[0.6666666666666666,\"#ed7953\"],[0.7777777777777778,\"#fb9f3a\"],[0.8888888888888888,\"#fdca26\"],[1.0,\"#f0f921\"]]}],\"heatmap\":[{\"type\":\"heatmap\",\"colorbar\":{\"outlinewidth\":0,\"ticks\":\"\"},\"colorscale\":[[0.0,\"#0d0887\"],[0.1111111111111111,\"#46039f\"],[0.2222222222222222,\"#7201a8\"],[0.3333333333333333,\"#9c179e\"],[0.4444444444444444,\"#bd3786\"],[0.5555555555555556,\"#d8576b\"],[0.6666666666666666,\"#ed7953\"],[0.7777777777777778,\"#fb9f3a\"],[0.8888888888888888,\"#fdca26\"],[1.0,\"#f0f921\"]]}],\"heatmapgl\":[{\"type\":\"heatmapgl\",\"colorbar\":{\"outlinewidth\":0,\"ticks\":\"\"},\"colorscale\":[[0.0,\"#0d0887\"],[0.1111111111111111,\"#46039f\"],[0.2222222222222222,\"#7201a8\"],[0.3333333333333333,\"#9c179e\"],[0.4444444444444444,\"#bd3786\"],[0.5555555555555556,\"#d8576b\"],[0.6666666666666666,\"#ed7953\"],[0.7777777777777778,\"#fb9f3a\"],[0.8888888888888888,\"#fdca26\"],[1.0,\"#f0f921\"]]}],\"contourcarpet\":[{\"type\":\"contourcarpet\",\"colorbar\":{\"outlinewidth\":0,\"ticks\":\"\"}}],\"contour\":[{\"type\":\"contour\",\"colorbar\":{\"outlinewidth\":0,\"ticks\":\"\"},\"colorscale\":[[0.0,\"#0d0887\"],[0.1111111111111111,\"#46039f\"],[0.2222222222222222,\"#7201a8\"],[0.3333333333333333,\"#9c179e\"],[0.4444444444444444,\"#bd3786\"],[0.5555555555555556,\"#d8576b\"],[0.6666666666666666,\"#ed7953\"],[0.7777777777777778,\"#fb9f3a\"],[0.8888888888888888,\"#fdca26\"],[1.0,\"#f0f921\"]]}],\"surface\":[{\"type\":\"surface\",\"colorbar\":{\"outlinewidth\":0,\"ticks\":\"\"},\"colorscale\":[[0.0,\"#0d0887\"],[0.1111111111111111,\"#46039f\"],[0.2222222222222222,\"#7201a8\"],[0.3333333333333333,\"#9c179e\"],[0.4444444444444444,\"#bd3786\"],[0.5555555555555556,\"#d8576b\"],[0.6666666666666666,\"#ed7953\"],[0.7777777777777778,\"#fb9f3a\"],[0.8888888888888888,\"#fdca26\"],[1.0,\"#f0f921\"]]}],\"mesh3d\":[{\"type\":\"mesh3d\",\"colorbar\":{\"outlinewidth\":0,\"ticks\":\"\"}}],\"scatter\":[{\"marker\":{\"line\":{\"color\":\"#283442\"}},\"type\":\"scatter\"}],\"parcoords\":[{\"type\":\"parcoords\",\"line\":{\"colorbar\":{\"outlinewidth\":0,\"ticks\":\"\"}}}],\"scatterpolargl\":[{\"type\":\"scatterpolargl\",\"marker\":{\"colorbar\":{\"outlinewidth\":0,\"ticks\":\"\"}}}],\"bar\":[{\"error_x\":{\"color\":\"#f2f5fa\"},\"error_y\":{\"color\":\"#f2f5fa\"},\"marker\":{\"line\":{\"color\":\"rgb(17,17,17)\",\"width\":0.5},\"pattern\":{\"fillmode\":\"overlay\",\"size\":10,\"solidity\":0.2}},\"type\":\"bar\"}],\"scattergeo\":[{\"type\":\"scattergeo\",\"marker\":{\"colorbar\":{\"outlinewidth\":0,\"ticks\":\"\"}}}],\"scatterpolar\":[{\"type\":\"scatterpolar\",\"marker\":{\"colorbar\":{\"outlinewidth\":0,\"ticks\":\"\"}}}],\"histogram\":[{\"marker\":{\"pattern\":{\"fillmode\":\"overlay\",\"size\":10,\"solidity\":0.2}},\"type\":\"histogram\"}],\"scattergl\":[{\"marker\":{\"line\":{\"color\":\"#283442\"}},\"type\":\"scattergl\"}],\"scatter3d\":[{\"type\":\"scatter3d\",\"line\":{\"colorbar\":{\"outlinewidth\":0,\"ticks\":\"\"}},\"marker\":{\"colorbar\":{\"outlinewidth\":0,\"ticks\":\"\"}}}],\"scattermapbox\":[{\"type\":\"scattermapbox\",\"marker\":{\"colorbar\":{\"outlinewidth\":0,\"ticks\":\"\"}}}],\"scatterternary\":[{\"type\":\"scatterternary\",\"marker\":{\"colorbar\":{\"outlinewidth\":0,\"ticks\":\"\"}}}],\"scattercarpet\":[{\"type\":\"scattercarpet\",\"marker\":{\"colorbar\":{\"outlinewidth\":0,\"ticks\":\"\"}}}],\"carpet\":[{\"aaxis\":{\"endlinecolor\":\"#A2B1C6\",\"gridcolor\":\"#506784\",\"linecolor\":\"#506784\",\"minorgridcolor\":\"#506784\",\"startlinecolor\":\"#A2B1C6\"},\"baxis\":{\"endlinecolor\":\"#A2B1C6\",\"gridcolor\":\"#506784\",\"linecolor\":\"#506784\",\"minorgridcolor\":\"#506784\",\"startlinecolor\":\"#A2B1C6\"},\"type\":\"carpet\"}],\"table\":[{\"cells\":{\"fill\":{\"color\":\"#506784\"},\"line\":{\"color\":\"rgb(17,17,17)\"}},\"header\":{\"fill\":{\"color\":\"#2a3f5f\"},\"line\":{\"color\":\"rgb(17,17,17)\"}},\"type\":\"table\"}],\"barpolar\":[{\"marker\":{\"line\":{\"color\":\"rgb(17,17,17)\",\"width\":0.5},\"pattern\":{\"fillmode\":\"overlay\",\"size\":10,\"solidity\":0.2}},\"type\":\"barpolar\"}],\"pie\":[{\"automargin\":true,\"type\":\"pie\"}]},\"layout\":{\"autotypenumbers\":\"strict\",\"colorway\":[\"#636efa\",\"#EF553B\",\"#00cc96\",\"#ab63fa\",\"#FFA15A\",\"#19d3f3\",\"#FF6692\",\"#B6E880\",\"#FF97FF\",\"#FECB52\"],\"font\":{\"color\":\"#f2f5fa\"},\"hovermode\":\"closest\",\"hoverlabel\":{\"align\":\"left\"},\"paper_bgcolor\":\"rgb(17,17,17)\",\"plot_bgcolor\":\"rgb(17,17,17)\",\"polar\":{\"bgcolor\":\"rgb(17,17,17)\",\"angularaxis\":{\"gridcolor\":\"#506784\",\"linecolor\":\"#506784\",\"ticks\":\"\"},\"radialaxis\":{\"gridcolor\":\"#506784\",\"linecolor\":\"#506784\",\"ticks\":\"\"}},\"ternary\":{\"bgcolor\":\"rgb(17,17,17)\",\"aaxis\":{\"gridcolor\":\"#506784\",\"linecolor\":\"#506784\",\"ticks\":\"\"},\"baxis\":{\"gridcolor\":\"#506784\",\"linecolor\":\"#506784\",\"ticks\":\"\"},\"caxis\":{\"gridcolor\":\"#506784\",\"linecolor\":\"#506784\",\"ticks\":\"\"}},\"coloraxis\":{\"colorbar\":{\"outlinewidth\":0,\"ticks\":\"\"}},\"colorscale\":{\"sequential\":[[0.0,\"#0d0887\"],[0.1111111111111111,\"#46039f\"],[0.2222222222222222,\"#7201a8\"],[0.3333333333333333,\"#9c179e\"],[0.4444444444444444,\"#bd3786\"],[0.5555555555555556,\"#d8576b\"],[0.6666666666666666,\"#ed7953\"],[0.7777777777777778,\"#fb9f3a\"],[0.8888888888888888,\"#fdca26\"],[1.0,\"#f0f921\"]],\"sequentialminus\":[[0.0,\"#0d0887\"],[0.1111111111111111,\"#46039f\"],[0.2222222222222222,\"#7201a8\"],[0.3333333333333333,\"#9c179e\"],[0.4444444444444444,\"#bd3786\"],[0.5555555555555556,\"#d8576b\"],[0.6666666666666666,\"#ed7953\"],[0.7777777777777778,\"#fb9f3a\"],[0.8888888888888888,\"#fdca26\"],[1.0,\"#f0f921\"]],\"diverging\":[[0,\"#8e0152\"],[0.1,\"#c51b7d\"],[0.2,\"#de77ae\"],[0.3,\"#f1b6da\"],[0.4,\"#fde0ef\"],[0.5,\"#f7f7f7\"],[0.6,\"#e6f5d0\"],[0.7,\"#b8e186\"],[0.8,\"#7fbc41\"],[0.9,\"#4d9221\"],[1,\"#276419\"]]},\"xaxis\":{\"gridcolor\":\"#283442\",\"linecolor\":\"#506784\",\"ticks\":\"\",\"title\":{\"standoff\":15},\"zerolinecolor\":\"#283442\",\"automargin\":true,\"zerolinewidth\":2},\"yaxis\":{\"gridcolor\":\"#283442\",\"linecolor\":\"#506784\",\"ticks\":\"\",\"title\":{\"standoff\":15},\"zerolinecolor\":\"#283442\",\"automargin\":true,\"zerolinewidth\":2},\"scene\":{\"xaxis\":{\"backgroundcolor\":\"rgb(17,17,17)\",\"gridcolor\":\"#506784\",\"linecolor\":\"#506784\",\"showbackground\":true,\"ticks\":\"\",\"zerolinecolor\":\"#C8D4E3\",\"gridwidth\":2},\"yaxis\":{\"backgroundcolor\":\"rgb(17,17,17)\",\"gridcolor\":\"#506784\",\"linecolor\":\"#506784\",\"showbackground\":true,\"ticks\":\"\",\"zerolinecolor\":\"#C8D4E3\",\"gridwidth\":2},\"zaxis\":{\"backgroundcolor\":\"rgb(17,17,17)\",\"gridcolor\":\"#506784\",\"linecolor\":\"#506784\",\"showbackground\":true,\"ticks\":\"\",\"zerolinecolor\":\"#C8D4E3\",\"gridwidth\":2}},\"shapedefaults\":{\"line\":{\"color\":\"#f2f5fa\"}},\"annotationdefaults\":{\"arrowcolor\":\"#f2f5fa\",\"arrowhead\":0,\"arrowwidth\":1},\"geo\":{\"bgcolor\":\"rgb(17,17,17)\",\"landcolor\":\"rgb(17,17,17)\",\"subunitcolor\":\"#506784\",\"showland\":true,\"showlakes\":true,\"lakecolor\":\"rgb(17,17,17)\"},\"title\":{\"x\":0.05},\"updatemenudefaults\":{\"bgcolor\":\"#506784\",\"borderwidth\":0},\"sliderdefaults\":{\"bgcolor\":\"#C8D4E3\",\"borderwidth\":1,\"bordercolor\":\"rgb(17,17,17)\",\"tickwidth\":0},\"mapbox\":{\"style\":\"dark\"}}},\"xaxis\":{\"anchor\":\"y\",\"domain\":[0.0,1.0],\"title\":{\"text\":\"\"}},\"yaxis\":{\"anchor\":\"x\",\"domain\":[0.0,1.0],\"title\":{\"text\":\"\\u0412\\u0412\\u041f \\u043d\\u0430 \\u0434\\u0443\\u0448\\u0443 \\u043d\\u0430\\u0441\\u0435\\u043b\\u0435\\u043d\\u043d\\u044f\"}},\"coloraxis\":{\"colorbar\":{\"title\":{\"text\":\"\\u0412\\u0412\\u041f \\u043d\\u0430 \\u0434\\u0443\\u0448\\u0443 \\u043d\\u0430\\u0441\\u0435\\u043b\\u0435\\u043d\\u043d\\u044f\"}},\"colorscale\":[[0.0,\"#0d0887\"],[0.1111111111111111,\"#46039f\"],[0.2222222222222222,\"#7201a8\"],[0.3333333333333333,\"#9c179e\"],[0.4444444444444444,\"#bd3786\"],[0.5555555555555556,\"#d8576b\"],[0.6666666666666666,\"#ed7953\"],[0.7777777777777778,\"#fb9f3a\"],[0.8888888888888888,\"#fdca26\"],[1.0,\"#f0f921\"]]},\"legend\":{\"tracegroupgap\":0},\"title\":{\"text\":\"\\u0420\\u043e\\u0437\\u043f\\u043e\\u0434\\u0456\\u043b \\u0412\\u0412\\u041f \\u0437\\u0430 \\u043a\\u0440\\u0430\\u0457\\u043d\\u0430\\u043c\\u0438 \\u0443 2007 \\u0440\\u043e\\u0446\\u0456\",\"x\":0.5},\"barmode\":\"relative\",\"uniformtext\":{\"minsize\":8,\"mode\":\"hide\"}},                        {\"responsive\": true}                    ).then(function(){\n                            \nvar gd = document.getElementById('b5a802dd-9f05-4c6c-ba29-762435b3d745');\nvar x = new MutationObserver(function (mutations, observer) {{\n        var display = window.getComputedStyle(gd).display;\n        if (!display || display === 'none') {{\n            console.log([gd, 'removed!']);\n            Plotly.purge(gd);\n            observer.disconnect();\n        }}\n}});\n\n// Listen for the removal of the full notebook cells\nvar notebookContainer = gd.closest('#notebook-container');\nif (notebookContainer) {{\n    x.observe(notebookContainer, {childList: true});\n}}\n\n// Listen for the clearing of the current output cell\nvar outputEl = gd.closest('.output');\nif (outputEl) {{\n    x.observe(outputEl, {childList: true});\n}}\n\n                        })                };                });            </script>        </div>"
     },
     "metadata": {},
     "output_type": "display_data"
    }
   ],
   "source": [
    "dfx = px.data.gapminder()\n",
    "\n",
    "# Вибір даних для року 2007\n",
    "df_2007 = dfx[dfx['year'] == 2007]\n",
    "\n",
    "# Вибір 10 країн з найбільшим ВВП\n",
    "top_10_gdp = df_2007.nlargest(10, 'gdpPercap')\n",
    "\n",
    "fig = px.bar(top_10_gdp, x='country', y='gdpPercap', text='country', color='gdpPercap',\n",
    "             title='Розподіл ВВП за країнами у 2007 році', labels={'country': 'Країна', 'gdpPercap': 'ВВП на душу населення'})\n",
    "\n",
    "fig.update_layout(uniformtext_minsize=8, uniformtext_mode='hide', xaxis_title=\"\",\n",
    "                  yaxis_title=\"ВВП на душу населення\", title_x=0.5)\n",
    "\n",
    "fig.show()"
   ],
   "metadata": {
    "collapsed": false,
    "ExecuteTime": {
     "end_time": "2023-10-27T13:28:38.120756Z",
     "start_time": "2023-10-27T13:28:38.075679Z"
    }
   },
   "id": "bc7043e0d35a60a7"
  },
  {
   "cell_type": "raw",
   "source": [
    "2. Побудувати кругову діаграму, яка відображає розподіл ВВП за країнами Європи у 2018 році. Виберіть 5 країн з найбільшим ВВП і підпишіть діаграму за центром, щоб вона була зручною для сприйняття. "
   ],
   "metadata": {
    "collapsed": false
   },
   "id": "c969464f7045b77a"
  },
  {
   "cell_type": "code",
   "execution_count": 43,
   "outputs": [
    {
     "data": {
      "application/vnd.plotly.v1+json": {
       "data": [
        {
         "domain": {
          "x": [
           0.0,
           1.0
          ],
          "y": [
           0.0,
           1.0
          ]
         },
         "hovertemplate": "country=%{label}<br>gdpPercap=%{value}<extra></extra>",
         "labels": [
          "Norway",
          "Ireland",
          "Switzerland",
          "Netherlands",
          "Iceland"
         ],
         "legendgroup": "",
         "name": "",
         "showlegend": true,
         "values": [
          49357.19017,
          40675.99635,
          37506.41907,
          36797.93332,
          36180.78919
         ],
         "type": "pie"
        }
       ],
       "layout": {
        "template": {
         "data": {
          "histogram2dcontour": [
           {
            "type": "histogram2dcontour",
            "colorbar": {
             "outlinewidth": 0,
             "ticks": ""
            },
            "colorscale": [
             [
              0.0,
              "#0d0887"
             ],
             [
              0.1111111111111111,
              "#46039f"
             ],
             [
              0.2222222222222222,
              "#7201a8"
             ],
             [
              0.3333333333333333,
              "#9c179e"
             ],
             [
              0.4444444444444444,
              "#bd3786"
             ],
             [
              0.5555555555555556,
              "#d8576b"
             ],
             [
              0.6666666666666666,
              "#ed7953"
             ],
             [
              0.7777777777777778,
              "#fb9f3a"
             ],
             [
              0.8888888888888888,
              "#fdca26"
             ],
             [
              1.0,
              "#f0f921"
             ]
            ]
           }
          ],
          "choropleth": [
           {
            "type": "choropleth",
            "colorbar": {
             "outlinewidth": 0,
             "ticks": ""
            }
           }
          ],
          "histogram2d": [
           {
            "type": "histogram2d",
            "colorbar": {
             "outlinewidth": 0,
             "ticks": ""
            },
            "colorscale": [
             [
              0.0,
              "#0d0887"
             ],
             [
              0.1111111111111111,
              "#46039f"
             ],
             [
              0.2222222222222222,
              "#7201a8"
             ],
             [
              0.3333333333333333,
              "#9c179e"
             ],
             [
              0.4444444444444444,
              "#bd3786"
             ],
             [
              0.5555555555555556,
              "#d8576b"
             ],
             [
              0.6666666666666666,
              "#ed7953"
             ],
             [
              0.7777777777777778,
              "#fb9f3a"
             ],
             [
              0.8888888888888888,
              "#fdca26"
             ],
             [
              1.0,
              "#f0f921"
             ]
            ]
           }
          ],
          "heatmap": [
           {
            "type": "heatmap",
            "colorbar": {
             "outlinewidth": 0,
             "ticks": ""
            },
            "colorscale": [
             [
              0.0,
              "#0d0887"
             ],
             [
              0.1111111111111111,
              "#46039f"
             ],
             [
              0.2222222222222222,
              "#7201a8"
             ],
             [
              0.3333333333333333,
              "#9c179e"
             ],
             [
              0.4444444444444444,
              "#bd3786"
             ],
             [
              0.5555555555555556,
              "#d8576b"
             ],
             [
              0.6666666666666666,
              "#ed7953"
             ],
             [
              0.7777777777777778,
              "#fb9f3a"
             ],
             [
              0.8888888888888888,
              "#fdca26"
             ],
             [
              1.0,
              "#f0f921"
             ]
            ]
           }
          ],
          "heatmapgl": [
           {
            "type": "heatmapgl",
            "colorbar": {
             "outlinewidth": 0,
             "ticks": ""
            },
            "colorscale": [
             [
              0.0,
              "#0d0887"
             ],
             [
              0.1111111111111111,
              "#46039f"
             ],
             [
              0.2222222222222222,
              "#7201a8"
             ],
             [
              0.3333333333333333,
              "#9c179e"
             ],
             [
              0.4444444444444444,
              "#bd3786"
             ],
             [
              0.5555555555555556,
              "#d8576b"
             ],
             [
              0.6666666666666666,
              "#ed7953"
             ],
             [
              0.7777777777777778,
              "#fb9f3a"
             ],
             [
              0.8888888888888888,
              "#fdca26"
             ],
             [
              1.0,
              "#f0f921"
             ]
            ]
           }
          ],
          "contourcarpet": [
           {
            "type": "contourcarpet",
            "colorbar": {
             "outlinewidth": 0,
             "ticks": ""
            }
           }
          ],
          "contour": [
           {
            "type": "contour",
            "colorbar": {
             "outlinewidth": 0,
             "ticks": ""
            },
            "colorscale": [
             [
              0.0,
              "#0d0887"
             ],
             [
              0.1111111111111111,
              "#46039f"
             ],
             [
              0.2222222222222222,
              "#7201a8"
             ],
             [
              0.3333333333333333,
              "#9c179e"
             ],
             [
              0.4444444444444444,
              "#bd3786"
             ],
             [
              0.5555555555555556,
              "#d8576b"
             ],
             [
              0.6666666666666666,
              "#ed7953"
             ],
             [
              0.7777777777777778,
              "#fb9f3a"
             ],
             [
              0.8888888888888888,
              "#fdca26"
             ],
             [
              1.0,
              "#f0f921"
             ]
            ]
           }
          ],
          "surface": [
           {
            "type": "surface",
            "colorbar": {
             "outlinewidth": 0,
             "ticks": ""
            },
            "colorscale": [
             [
              0.0,
              "#0d0887"
             ],
             [
              0.1111111111111111,
              "#46039f"
             ],
             [
              0.2222222222222222,
              "#7201a8"
             ],
             [
              0.3333333333333333,
              "#9c179e"
             ],
             [
              0.4444444444444444,
              "#bd3786"
             ],
             [
              0.5555555555555556,
              "#d8576b"
             ],
             [
              0.6666666666666666,
              "#ed7953"
             ],
             [
              0.7777777777777778,
              "#fb9f3a"
             ],
             [
              0.8888888888888888,
              "#fdca26"
             ],
             [
              1.0,
              "#f0f921"
             ]
            ]
           }
          ],
          "mesh3d": [
           {
            "type": "mesh3d",
            "colorbar": {
             "outlinewidth": 0,
             "ticks": ""
            }
           }
          ],
          "scatter": [
           {
            "marker": {
             "line": {
              "color": "#283442"
             }
            },
            "type": "scatter"
           }
          ],
          "parcoords": [
           {
            "type": "parcoords",
            "line": {
             "colorbar": {
              "outlinewidth": 0,
              "ticks": ""
             }
            }
           }
          ],
          "scatterpolargl": [
           {
            "type": "scatterpolargl",
            "marker": {
             "colorbar": {
              "outlinewidth": 0,
              "ticks": ""
             }
            }
           }
          ],
          "bar": [
           {
            "error_x": {
             "color": "#f2f5fa"
            },
            "error_y": {
             "color": "#f2f5fa"
            },
            "marker": {
             "line": {
              "color": "rgb(17,17,17)",
              "width": 0.5
             },
             "pattern": {
              "fillmode": "overlay",
              "size": 10,
              "solidity": 0.2
             }
            },
            "type": "bar"
           }
          ],
          "scattergeo": [
           {
            "type": "scattergeo",
            "marker": {
             "colorbar": {
              "outlinewidth": 0,
              "ticks": ""
             }
            }
           }
          ],
          "scatterpolar": [
           {
            "type": "scatterpolar",
            "marker": {
             "colorbar": {
              "outlinewidth": 0,
              "ticks": ""
             }
            }
           }
          ],
          "histogram": [
           {
            "marker": {
             "pattern": {
              "fillmode": "overlay",
              "size": 10,
              "solidity": 0.2
             }
            },
            "type": "histogram"
           }
          ],
          "scattergl": [
           {
            "marker": {
             "line": {
              "color": "#283442"
             }
            },
            "type": "scattergl"
           }
          ],
          "scatter3d": [
           {
            "type": "scatter3d",
            "line": {
             "colorbar": {
              "outlinewidth": 0,
              "ticks": ""
             }
            },
            "marker": {
             "colorbar": {
              "outlinewidth": 0,
              "ticks": ""
             }
            }
           }
          ],
          "scattermapbox": [
           {
            "type": "scattermapbox",
            "marker": {
             "colorbar": {
              "outlinewidth": 0,
              "ticks": ""
             }
            }
           }
          ],
          "scatterternary": [
           {
            "type": "scatterternary",
            "marker": {
             "colorbar": {
              "outlinewidth": 0,
              "ticks": ""
             }
            }
           }
          ],
          "scattercarpet": [
           {
            "type": "scattercarpet",
            "marker": {
             "colorbar": {
              "outlinewidth": 0,
              "ticks": ""
             }
            }
           }
          ],
          "carpet": [
           {
            "aaxis": {
             "endlinecolor": "#A2B1C6",
             "gridcolor": "#506784",
             "linecolor": "#506784",
             "minorgridcolor": "#506784",
             "startlinecolor": "#A2B1C6"
            },
            "baxis": {
             "endlinecolor": "#A2B1C6",
             "gridcolor": "#506784",
             "linecolor": "#506784",
             "minorgridcolor": "#506784",
             "startlinecolor": "#A2B1C6"
            },
            "type": "carpet"
           }
          ],
          "table": [
           {
            "cells": {
             "fill": {
              "color": "#506784"
             },
             "line": {
              "color": "rgb(17,17,17)"
             }
            },
            "header": {
             "fill": {
              "color": "#2a3f5f"
             },
             "line": {
              "color": "rgb(17,17,17)"
             }
            },
            "type": "table"
           }
          ],
          "barpolar": [
           {
            "marker": {
             "line": {
              "color": "rgb(17,17,17)",
              "width": 0.5
             },
             "pattern": {
              "fillmode": "overlay",
              "size": 10,
              "solidity": 0.2
             }
            },
            "type": "barpolar"
           }
          ],
          "pie": [
           {
            "automargin": true,
            "type": "pie"
           }
          ]
         },
         "layout": {
          "autotypenumbers": "strict",
          "colorway": [
           "#636efa",
           "#EF553B",
           "#00cc96",
           "#ab63fa",
           "#FFA15A",
           "#19d3f3",
           "#FF6692",
           "#B6E880",
           "#FF97FF",
           "#FECB52"
          ],
          "font": {
           "color": "#f2f5fa"
          },
          "hovermode": "closest",
          "hoverlabel": {
           "align": "left"
          },
          "paper_bgcolor": "rgb(17,17,17)",
          "plot_bgcolor": "rgb(17,17,17)",
          "polar": {
           "bgcolor": "rgb(17,17,17)",
           "angularaxis": {
            "gridcolor": "#506784",
            "linecolor": "#506784",
            "ticks": ""
           },
           "radialaxis": {
            "gridcolor": "#506784",
            "linecolor": "#506784",
            "ticks": ""
           }
          },
          "ternary": {
           "bgcolor": "rgb(17,17,17)",
           "aaxis": {
            "gridcolor": "#506784",
            "linecolor": "#506784",
            "ticks": ""
           },
           "baxis": {
            "gridcolor": "#506784",
            "linecolor": "#506784",
            "ticks": ""
           },
           "caxis": {
            "gridcolor": "#506784",
            "linecolor": "#506784",
            "ticks": ""
           }
          },
          "coloraxis": {
           "colorbar": {
            "outlinewidth": 0,
            "ticks": ""
           }
          },
          "colorscale": {
           "sequential": [
            [
             0.0,
             "#0d0887"
            ],
            [
             0.1111111111111111,
             "#46039f"
            ],
            [
             0.2222222222222222,
             "#7201a8"
            ],
            [
             0.3333333333333333,
             "#9c179e"
            ],
            [
             0.4444444444444444,
             "#bd3786"
            ],
            [
             0.5555555555555556,
             "#d8576b"
            ],
            [
             0.6666666666666666,
             "#ed7953"
            ],
            [
             0.7777777777777778,
             "#fb9f3a"
            ],
            [
             0.8888888888888888,
             "#fdca26"
            ],
            [
             1.0,
             "#f0f921"
            ]
           ],
           "sequentialminus": [
            [
             0.0,
             "#0d0887"
            ],
            [
             0.1111111111111111,
             "#46039f"
            ],
            [
             0.2222222222222222,
             "#7201a8"
            ],
            [
             0.3333333333333333,
             "#9c179e"
            ],
            [
             0.4444444444444444,
             "#bd3786"
            ],
            [
             0.5555555555555556,
             "#d8576b"
            ],
            [
             0.6666666666666666,
             "#ed7953"
            ],
            [
             0.7777777777777778,
             "#fb9f3a"
            ],
            [
             0.8888888888888888,
             "#fdca26"
            ],
            [
             1.0,
             "#f0f921"
            ]
           ],
           "diverging": [
            [
             0,
             "#8e0152"
            ],
            [
             0.1,
             "#c51b7d"
            ],
            [
             0.2,
             "#de77ae"
            ],
            [
             0.3,
             "#f1b6da"
            ],
            [
             0.4,
             "#fde0ef"
            ],
            [
             0.5,
             "#f7f7f7"
            ],
            [
             0.6,
             "#e6f5d0"
            ],
            [
             0.7,
             "#b8e186"
            ],
            [
             0.8,
             "#7fbc41"
            ],
            [
             0.9,
             "#4d9221"
            ],
            [
             1,
             "#276419"
            ]
           ]
          },
          "xaxis": {
           "gridcolor": "#283442",
           "linecolor": "#506784",
           "ticks": "",
           "title": {
            "standoff": 15
           },
           "zerolinecolor": "#283442",
           "automargin": true,
           "zerolinewidth": 2
          },
          "yaxis": {
           "gridcolor": "#283442",
           "linecolor": "#506784",
           "ticks": "",
           "title": {
            "standoff": 15
           },
           "zerolinecolor": "#283442",
           "automargin": true,
           "zerolinewidth": 2
          },
          "scene": {
           "xaxis": {
            "backgroundcolor": "rgb(17,17,17)",
            "gridcolor": "#506784",
            "linecolor": "#506784",
            "showbackground": true,
            "ticks": "",
            "zerolinecolor": "#C8D4E3",
            "gridwidth": 2
           },
           "yaxis": {
            "backgroundcolor": "rgb(17,17,17)",
            "gridcolor": "#506784",
            "linecolor": "#506784",
            "showbackground": true,
            "ticks": "",
            "zerolinecolor": "#C8D4E3",
            "gridwidth": 2
           },
           "zaxis": {
            "backgroundcolor": "rgb(17,17,17)",
            "gridcolor": "#506784",
            "linecolor": "#506784",
            "showbackground": true,
            "ticks": "",
            "zerolinecolor": "#C8D4E3",
            "gridwidth": 2
           }
          },
          "shapedefaults": {
           "line": {
            "color": "#f2f5fa"
           }
          },
          "annotationdefaults": {
           "arrowcolor": "#f2f5fa",
           "arrowhead": 0,
           "arrowwidth": 1
          },
          "geo": {
           "bgcolor": "rgb(17,17,17)",
           "landcolor": "rgb(17,17,17)",
           "subunitcolor": "#506784",
           "showland": true,
           "showlakes": true,
           "lakecolor": "rgb(17,17,17)"
          },
          "title": {
           "x": 0.05
          },
          "updatemenudefaults": {
           "bgcolor": "#506784",
           "borderwidth": 0
          },
          "sliderdefaults": {
           "bgcolor": "#C8D4E3",
           "borderwidth": 1,
           "bordercolor": "rgb(17,17,17)",
           "tickwidth": 0
          },
          "mapbox": {
           "style": "dark"
          }
         }
        },
        "legend": {
         "tracegroupgap": 0
        },
        "title": {
         "text": "Розподіл ВВП за країнами Європи у 2018 році"
        }
       },
       "config": {
        "plotlyServerURL": "https://plot.ly"
       }
      },
      "text/html": "<div>                            <div id=\"80c50d0d-f4f8-4071-9d60-5ce221cf6a62\" class=\"plotly-graph-div\" style=\"height:525px; width:100%;\"></div>            <script type=\"text/javascript\">                require([\"plotly\"], function(Plotly) {                    window.PLOTLYENV=window.PLOTLYENV || {};                                    if (document.getElementById(\"80c50d0d-f4f8-4071-9d60-5ce221cf6a62\")) {                    Plotly.newPlot(                        \"80c50d0d-f4f8-4071-9d60-5ce221cf6a62\",                        [{\"domain\":{\"x\":[0.0,1.0],\"y\":[0.0,1.0]},\"hovertemplate\":\"country=%{label}\\u003cbr\\u003egdpPercap=%{value}\\u003cextra\\u003e\\u003c\\u002fextra\\u003e\",\"labels\":[\"Norway\",\"Ireland\",\"Switzerland\",\"Netherlands\",\"Iceland\"],\"legendgroup\":\"\",\"name\":\"\",\"showlegend\":true,\"values\":[49357.19017,40675.99635,37506.41907,36797.93332,36180.78919],\"type\":\"pie\"}],                        {\"template\":{\"data\":{\"histogram2dcontour\":[{\"type\":\"histogram2dcontour\",\"colorbar\":{\"outlinewidth\":0,\"ticks\":\"\"},\"colorscale\":[[0.0,\"#0d0887\"],[0.1111111111111111,\"#46039f\"],[0.2222222222222222,\"#7201a8\"],[0.3333333333333333,\"#9c179e\"],[0.4444444444444444,\"#bd3786\"],[0.5555555555555556,\"#d8576b\"],[0.6666666666666666,\"#ed7953\"],[0.7777777777777778,\"#fb9f3a\"],[0.8888888888888888,\"#fdca26\"],[1.0,\"#f0f921\"]]}],\"choropleth\":[{\"type\":\"choropleth\",\"colorbar\":{\"outlinewidth\":0,\"ticks\":\"\"}}],\"histogram2d\":[{\"type\":\"histogram2d\",\"colorbar\":{\"outlinewidth\":0,\"ticks\":\"\"},\"colorscale\":[[0.0,\"#0d0887\"],[0.1111111111111111,\"#46039f\"],[0.2222222222222222,\"#7201a8\"],[0.3333333333333333,\"#9c179e\"],[0.4444444444444444,\"#bd3786\"],[0.5555555555555556,\"#d8576b\"],[0.6666666666666666,\"#ed7953\"],[0.7777777777777778,\"#fb9f3a\"],[0.8888888888888888,\"#fdca26\"],[1.0,\"#f0f921\"]]}],\"heatmap\":[{\"type\":\"heatmap\",\"colorbar\":{\"outlinewidth\":0,\"ticks\":\"\"},\"colorscale\":[[0.0,\"#0d0887\"],[0.1111111111111111,\"#46039f\"],[0.2222222222222222,\"#7201a8\"],[0.3333333333333333,\"#9c179e\"],[0.4444444444444444,\"#bd3786\"],[0.5555555555555556,\"#d8576b\"],[0.6666666666666666,\"#ed7953\"],[0.7777777777777778,\"#fb9f3a\"],[0.8888888888888888,\"#fdca26\"],[1.0,\"#f0f921\"]]}],\"heatmapgl\":[{\"type\":\"heatmapgl\",\"colorbar\":{\"outlinewidth\":0,\"ticks\":\"\"},\"colorscale\":[[0.0,\"#0d0887\"],[0.1111111111111111,\"#46039f\"],[0.2222222222222222,\"#7201a8\"],[0.3333333333333333,\"#9c179e\"],[0.4444444444444444,\"#bd3786\"],[0.5555555555555556,\"#d8576b\"],[0.6666666666666666,\"#ed7953\"],[0.7777777777777778,\"#fb9f3a\"],[0.8888888888888888,\"#fdca26\"],[1.0,\"#f0f921\"]]}],\"contourcarpet\":[{\"type\":\"contourcarpet\",\"colorbar\":{\"outlinewidth\":0,\"ticks\":\"\"}}],\"contour\":[{\"type\":\"contour\",\"colorbar\":{\"outlinewidth\":0,\"ticks\":\"\"},\"colorscale\":[[0.0,\"#0d0887\"],[0.1111111111111111,\"#46039f\"],[0.2222222222222222,\"#7201a8\"],[0.3333333333333333,\"#9c179e\"],[0.4444444444444444,\"#bd3786\"],[0.5555555555555556,\"#d8576b\"],[0.6666666666666666,\"#ed7953\"],[0.7777777777777778,\"#fb9f3a\"],[0.8888888888888888,\"#fdca26\"],[1.0,\"#f0f921\"]]}],\"surface\":[{\"type\":\"surface\",\"colorbar\":{\"outlinewidth\":0,\"ticks\":\"\"},\"colorscale\":[[0.0,\"#0d0887\"],[0.1111111111111111,\"#46039f\"],[0.2222222222222222,\"#7201a8\"],[0.3333333333333333,\"#9c179e\"],[0.4444444444444444,\"#bd3786\"],[0.5555555555555556,\"#d8576b\"],[0.6666666666666666,\"#ed7953\"],[0.7777777777777778,\"#fb9f3a\"],[0.8888888888888888,\"#fdca26\"],[1.0,\"#f0f921\"]]}],\"mesh3d\":[{\"type\":\"mesh3d\",\"colorbar\":{\"outlinewidth\":0,\"ticks\":\"\"}}],\"scatter\":[{\"marker\":{\"line\":{\"color\":\"#283442\"}},\"type\":\"scatter\"}],\"parcoords\":[{\"type\":\"parcoords\",\"line\":{\"colorbar\":{\"outlinewidth\":0,\"ticks\":\"\"}}}],\"scatterpolargl\":[{\"type\":\"scatterpolargl\",\"marker\":{\"colorbar\":{\"outlinewidth\":0,\"ticks\":\"\"}}}],\"bar\":[{\"error_x\":{\"color\":\"#f2f5fa\"},\"error_y\":{\"color\":\"#f2f5fa\"},\"marker\":{\"line\":{\"color\":\"rgb(17,17,17)\",\"width\":0.5},\"pattern\":{\"fillmode\":\"overlay\",\"size\":10,\"solidity\":0.2}},\"type\":\"bar\"}],\"scattergeo\":[{\"type\":\"scattergeo\",\"marker\":{\"colorbar\":{\"outlinewidth\":0,\"ticks\":\"\"}}}],\"scatterpolar\":[{\"type\":\"scatterpolar\",\"marker\":{\"colorbar\":{\"outlinewidth\":0,\"ticks\":\"\"}}}],\"histogram\":[{\"marker\":{\"pattern\":{\"fillmode\":\"overlay\",\"size\":10,\"solidity\":0.2}},\"type\":\"histogram\"}],\"scattergl\":[{\"marker\":{\"line\":{\"color\":\"#283442\"}},\"type\":\"scattergl\"}],\"scatter3d\":[{\"type\":\"scatter3d\",\"line\":{\"colorbar\":{\"outlinewidth\":0,\"ticks\":\"\"}},\"marker\":{\"colorbar\":{\"outlinewidth\":0,\"ticks\":\"\"}}}],\"scattermapbox\":[{\"type\":\"scattermapbox\",\"marker\":{\"colorbar\":{\"outlinewidth\":0,\"ticks\":\"\"}}}],\"scatterternary\":[{\"type\":\"scatterternary\",\"marker\":{\"colorbar\":{\"outlinewidth\":0,\"ticks\":\"\"}}}],\"scattercarpet\":[{\"type\":\"scattercarpet\",\"marker\":{\"colorbar\":{\"outlinewidth\":0,\"ticks\":\"\"}}}],\"carpet\":[{\"aaxis\":{\"endlinecolor\":\"#A2B1C6\",\"gridcolor\":\"#506784\",\"linecolor\":\"#506784\",\"minorgridcolor\":\"#506784\",\"startlinecolor\":\"#A2B1C6\"},\"baxis\":{\"endlinecolor\":\"#A2B1C6\",\"gridcolor\":\"#506784\",\"linecolor\":\"#506784\",\"minorgridcolor\":\"#506784\",\"startlinecolor\":\"#A2B1C6\"},\"type\":\"carpet\"}],\"table\":[{\"cells\":{\"fill\":{\"color\":\"#506784\"},\"line\":{\"color\":\"rgb(17,17,17)\"}},\"header\":{\"fill\":{\"color\":\"#2a3f5f\"},\"line\":{\"color\":\"rgb(17,17,17)\"}},\"type\":\"table\"}],\"barpolar\":[{\"marker\":{\"line\":{\"color\":\"rgb(17,17,17)\",\"width\":0.5},\"pattern\":{\"fillmode\":\"overlay\",\"size\":10,\"solidity\":0.2}},\"type\":\"barpolar\"}],\"pie\":[{\"automargin\":true,\"type\":\"pie\"}]},\"layout\":{\"autotypenumbers\":\"strict\",\"colorway\":[\"#636efa\",\"#EF553B\",\"#00cc96\",\"#ab63fa\",\"#FFA15A\",\"#19d3f3\",\"#FF6692\",\"#B6E880\",\"#FF97FF\",\"#FECB52\"],\"font\":{\"color\":\"#f2f5fa\"},\"hovermode\":\"closest\",\"hoverlabel\":{\"align\":\"left\"},\"paper_bgcolor\":\"rgb(17,17,17)\",\"plot_bgcolor\":\"rgb(17,17,17)\",\"polar\":{\"bgcolor\":\"rgb(17,17,17)\",\"angularaxis\":{\"gridcolor\":\"#506784\",\"linecolor\":\"#506784\",\"ticks\":\"\"},\"radialaxis\":{\"gridcolor\":\"#506784\",\"linecolor\":\"#506784\",\"ticks\":\"\"}},\"ternary\":{\"bgcolor\":\"rgb(17,17,17)\",\"aaxis\":{\"gridcolor\":\"#506784\",\"linecolor\":\"#506784\",\"ticks\":\"\"},\"baxis\":{\"gridcolor\":\"#506784\",\"linecolor\":\"#506784\",\"ticks\":\"\"},\"caxis\":{\"gridcolor\":\"#506784\",\"linecolor\":\"#506784\",\"ticks\":\"\"}},\"coloraxis\":{\"colorbar\":{\"outlinewidth\":0,\"ticks\":\"\"}},\"colorscale\":{\"sequential\":[[0.0,\"#0d0887\"],[0.1111111111111111,\"#46039f\"],[0.2222222222222222,\"#7201a8\"],[0.3333333333333333,\"#9c179e\"],[0.4444444444444444,\"#bd3786\"],[0.5555555555555556,\"#d8576b\"],[0.6666666666666666,\"#ed7953\"],[0.7777777777777778,\"#fb9f3a\"],[0.8888888888888888,\"#fdca26\"],[1.0,\"#f0f921\"]],\"sequentialminus\":[[0.0,\"#0d0887\"],[0.1111111111111111,\"#46039f\"],[0.2222222222222222,\"#7201a8\"],[0.3333333333333333,\"#9c179e\"],[0.4444444444444444,\"#bd3786\"],[0.5555555555555556,\"#d8576b\"],[0.6666666666666666,\"#ed7953\"],[0.7777777777777778,\"#fb9f3a\"],[0.8888888888888888,\"#fdca26\"],[1.0,\"#f0f921\"]],\"diverging\":[[0,\"#8e0152\"],[0.1,\"#c51b7d\"],[0.2,\"#de77ae\"],[0.3,\"#f1b6da\"],[0.4,\"#fde0ef\"],[0.5,\"#f7f7f7\"],[0.6,\"#e6f5d0\"],[0.7,\"#b8e186\"],[0.8,\"#7fbc41\"],[0.9,\"#4d9221\"],[1,\"#276419\"]]},\"xaxis\":{\"gridcolor\":\"#283442\",\"linecolor\":\"#506784\",\"ticks\":\"\",\"title\":{\"standoff\":15},\"zerolinecolor\":\"#283442\",\"automargin\":true,\"zerolinewidth\":2},\"yaxis\":{\"gridcolor\":\"#283442\",\"linecolor\":\"#506784\",\"ticks\":\"\",\"title\":{\"standoff\":15},\"zerolinecolor\":\"#283442\",\"automargin\":true,\"zerolinewidth\":2},\"scene\":{\"xaxis\":{\"backgroundcolor\":\"rgb(17,17,17)\",\"gridcolor\":\"#506784\",\"linecolor\":\"#506784\",\"showbackground\":true,\"ticks\":\"\",\"zerolinecolor\":\"#C8D4E3\",\"gridwidth\":2},\"yaxis\":{\"backgroundcolor\":\"rgb(17,17,17)\",\"gridcolor\":\"#506784\",\"linecolor\":\"#506784\",\"showbackground\":true,\"ticks\":\"\",\"zerolinecolor\":\"#C8D4E3\",\"gridwidth\":2},\"zaxis\":{\"backgroundcolor\":\"rgb(17,17,17)\",\"gridcolor\":\"#506784\",\"linecolor\":\"#506784\",\"showbackground\":true,\"ticks\":\"\",\"zerolinecolor\":\"#C8D4E3\",\"gridwidth\":2}},\"shapedefaults\":{\"line\":{\"color\":\"#f2f5fa\"}},\"annotationdefaults\":{\"arrowcolor\":\"#f2f5fa\",\"arrowhead\":0,\"arrowwidth\":1},\"geo\":{\"bgcolor\":\"rgb(17,17,17)\",\"landcolor\":\"rgb(17,17,17)\",\"subunitcolor\":\"#506784\",\"showland\":true,\"showlakes\":true,\"lakecolor\":\"rgb(17,17,17)\"},\"title\":{\"x\":0.05},\"updatemenudefaults\":{\"bgcolor\":\"#506784\",\"borderwidth\":0},\"sliderdefaults\":{\"bgcolor\":\"#C8D4E3\",\"borderwidth\":1,\"bordercolor\":\"rgb(17,17,17)\",\"tickwidth\":0},\"mapbox\":{\"style\":\"dark\"}}},\"legend\":{\"tracegroupgap\":0},\"title\":{\"text\":\"\\u0420\\u043e\\u0437\\u043f\\u043e\\u0434\\u0456\\u043b \\u0412\\u0412\\u041f \\u0437\\u0430 \\u043a\\u0440\\u0430\\u0457\\u043d\\u0430\\u043c\\u0438 \\u0404\\u0432\\u0440\\u043e\\u043f\\u0438 \\u0443 2018 \\u0440\\u043e\\u0446\\u0456\"}},                        {\"responsive\": true}                    ).then(function(){\n                            \nvar gd = document.getElementById('80c50d0d-f4f8-4071-9d60-5ce221cf6a62');\nvar x = new MutationObserver(function (mutations, observer) {{\n        var display = window.getComputedStyle(gd).display;\n        if (!display || display === 'none') {{\n            console.log([gd, 'removed!']);\n            Plotly.purge(gd);\n            observer.disconnect();\n        }}\n}});\n\n// Listen for the removal of the full notebook cells\nvar notebookContainer = gd.closest('#notebook-container');\nif (notebookContainer) {{\n    x.observe(notebookContainer, {childList: true});\n}}\n\n// Listen for the clearing of the current output cell\nvar outputEl = gd.closest('.output');\nif (outputEl) {{\n    x.observe(outputEl, {childList: true});\n}}\n\n                        })                };                });            </script>        </div>"
     },
     "metadata": {},
     "output_type": "display_data"
    }
   ],
   "source": [
    "# Вибір даних для Європи у 2018 році. На жаль не має даних пізніше за 2007 рік в даному датасеті, тому було обрано найпізніша дата це 2007 рік\n",
    "df_europe_2018 = dfx[(dfx['year'] == 2007) & (dfx['continent'] == 'Europe')]\n",
    "\n",
    "# Вибір 5 країн з найбільшим ВВП\n",
    "top_5_gdp = df_europe_2018.nlargest(5, 'gdpPercap')\n",
    "\n",
    "# Побудова кругової діаграми\n",
    "fig = px.pie(top_5_gdp, names='country', values='gdpPercap', title='Розподіл ВВП за країнами Європи у 2018 році')\n",
    "\n",
    "# Показ діаграми\n",
    "fig.show()"
   ],
   "metadata": {
    "collapsed": false,
    "ExecuteTime": {
     "end_time": "2023-10-27T13:42:26.577904Z",
     "start_time": "2023-10-27T13:42:26.544561Z"
    }
   },
   "id": "eed908eee3cf9adc"
  },
  {
   "cell_type": "raw",
   "source": [
    "3. Побудувати  стовпчасту діаграму, яка відображає динаміку зміни кількості населення для Канади в країнах Океанії протягом років. "
   ],
   "metadata": {
    "collapsed": false
   },
   "id": "4648eb760e212853"
  },
  {
   "cell_type": "code",
   "execution_count": 44,
   "outputs": [
    {
     "data": {
      "application/vnd.plotly.v1+json": {
       "data": [
        {
         "alignmentgroup": "True",
         "hovertemplate": "Країна=Australia<br>Рік=%{x}<br>Населення=%{y}<extra></extra>",
         "legendgroup": "Australia",
         "marker": {
          "color": "#636efa",
          "pattern": {
           "shape": ""
          }
         },
         "name": "Australia",
         "offsetgroup": "Australia",
         "orientation": "v",
         "showlegend": true,
         "textposition": "auto",
         "x": [
          1952,
          1957,
          1962,
          1967,
          1972,
          1977,
          1982,
          1987,
          1992,
          1997,
          2002,
          2007
         ],
         "xaxis": "x",
         "y": [
          8691212,
          9712569,
          10794968,
          11872264,
          13177000,
          14074100,
          15184200,
          16257249,
          17481977,
          18565243,
          19546792,
          20434176
         ],
         "yaxis": "y",
         "type": "bar"
        },
        {
         "alignmentgroup": "True",
         "hovertemplate": "Країна=Canada<br>Рік=%{x}<br>Населення=%{y}<extra></extra>",
         "legendgroup": "Canada",
         "marker": {
          "color": "#EF553B",
          "pattern": {
           "shape": ""
          }
         },
         "name": "Canada",
         "offsetgroup": "Canada",
         "orientation": "v",
         "showlegend": true,
         "textposition": "auto",
         "x": [
          1952,
          1957,
          1962,
          1967,
          1972,
          1977,
          1982,
          1987,
          1992,
          1997,
          2002,
          2007
         ],
         "xaxis": "x",
         "y": [
          14785584,
          17010154,
          18985849,
          20819767,
          22284500,
          23796400,
          25201900,
          26549700,
          28523502,
          30305843,
          31902268,
          33390141
         ],
         "yaxis": "y",
         "type": "bar"
        },
        {
         "alignmentgroup": "True",
         "hovertemplate": "Країна=New Zealand<br>Рік=%{x}<br>Населення=%{y}<extra></extra>",
         "legendgroup": "New Zealand",
         "marker": {
          "color": "#00cc96",
          "pattern": {
           "shape": ""
          }
         },
         "name": "New Zealand",
         "offsetgroup": "New Zealand",
         "orientation": "v",
         "showlegend": true,
         "textposition": "auto",
         "x": [
          1952,
          1957,
          1962,
          1967,
          1972,
          1977,
          1982,
          1987,
          1992,
          1997,
          2002,
          2007
         ],
         "xaxis": "x",
         "y": [
          1994794,
          2229407,
          2488550,
          2728150,
          2929100,
          3164900,
          3210650,
          3317166,
          3437674,
          3676187,
          3908037,
          4115771
         ],
         "yaxis": "y",
         "type": "bar"
        }
       ],
       "layout": {
        "template": {
         "data": {
          "histogram2dcontour": [
           {
            "type": "histogram2dcontour",
            "colorbar": {
             "outlinewidth": 0,
             "ticks": ""
            },
            "colorscale": [
             [
              0.0,
              "#0d0887"
             ],
             [
              0.1111111111111111,
              "#46039f"
             ],
             [
              0.2222222222222222,
              "#7201a8"
             ],
             [
              0.3333333333333333,
              "#9c179e"
             ],
             [
              0.4444444444444444,
              "#bd3786"
             ],
             [
              0.5555555555555556,
              "#d8576b"
             ],
             [
              0.6666666666666666,
              "#ed7953"
             ],
             [
              0.7777777777777778,
              "#fb9f3a"
             ],
             [
              0.8888888888888888,
              "#fdca26"
             ],
             [
              1.0,
              "#f0f921"
             ]
            ]
           }
          ],
          "choropleth": [
           {
            "type": "choropleth",
            "colorbar": {
             "outlinewidth": 0,
             "ticks": ""
            }
           }
          ],
          "histogram2d": [
           {
            "type": "histogram2d",
            "colorbar": {
             "outlinewidth": 0,
             "ticks": ""
            },
            "colorscale": [
             [
              0.0,
              "#0d0887"
             ],
             [
              0.1111111111111111,
              "#46039f"
             ],
             [
              0.2222222222222222,
              "#7201a8"
             ],
             [
              0.3333333333333333,
              "#9c179e"
             ],
             [
              0.4444444444444444,
              "#bd3786"
             ],
             [
              0.5555555555555556,
              "#d8576b"
             ],
             [
              0.6666666666666666,
              "#ed7953"
             ],
             [
              0.7777777777777778,
              "#fb9f3a"
             ],
             [
              0.8888888888888888,
              "#fdca26"
             ],
             [
              1.0,
              "#f0f921"
             ]
            ]
           }
          ],
          "heatmap": [
           {
            "type": "heatmap",
            "colorbar": {
             "outlinewidth": 0,
             "ticks": ""
            },
            "colorscale": [
             [
              0.0,
              "#0d0887"
             ],
             [
              0.1111111111111111,
              "#46039f"
             ],
             [
              0.2222222222222222,
              "#7201a8"
             ],
             [
              0.3333333333333333,
              "#9c179e"
             ],
             [
              0.4444444444444444,
              "#bd3786"
             ],
             [
              0.5555555555555556,
              "#d8576b"
             ],
             [
              0.6666666666666666,
              "#ed7953"
             ],
             [
              0.7777777777777778,
              "#fb9f3a"
             ],
             [
              0.8888888888888888,
              "#fdca26"
             ],
             [
              1.0,
              "#f0f921"
             ]
            ]
           }
          ],
          "heatmapgl": [
           {
            "type": "heatmapgl",
            "colorbar": {
             "outlinewidth": 0,
             "ticks": ""
            },
            "colorscale": [
             [
              0.0,
              "#0d0887"
             ],
             [
              0.1111111111111111,
              "#46039f"
             ],
             [
              0.2222222222222222,
              "#7201a8"
             ],
             [
              0.3333333333333333,
              "#9c179e"
             ],
             [
              0.4444444444444444,
              "#bd3786"
             ],
             [
              0.5555555555555556,
              "#d8576b"
             ],
             [
              0.6666666666666666,
              "#ed7953"
             ],
             [
              0.7777777777777778,
              "#fb9f3a"
             ],
             [
              0.8888888888888888,
              "#fdca26"
             ],
             [
              1.0,
              "#f0f921"
             ]
            ]
           }
          ],
          "contourcarpet": [
           {
            "type": "contourcarpet",
            "colorbar": {
             "outlinewidth": 0,
             "ticks": ""
            }
           }
          ],
          "contour": [
           {
            "type": "contour",
            "colorbar": {
             "outlinewidth": 0,
             "ticks": ""
            },
            "colorscale": [
             [
              0.0,
              "#0d0887"
             ],
             [
              0.1111111111111111,
              "#46039f"
             ],
             [
              0.2222222222222222,
              "#7201a8"
             ],
             [
              0.3333333333333333,
              "#9c179e"
             ],
             [
              0.4444444444444444,
              "#bd3786"
             ],
             [
              0.5555555555555556,
              "#d8576b"
             ],
             [
              0.6666666666666666,
              "#ed7953"
             ],
             [
              0.7777777777777778,
              "#fb9f3a"
             ],
             [
              0.8888888888888888,
              "#fdca26"
             ],
             [
              1.0,
              "#f0f921"
             ]
            ]
           }
          ],
          "surface": [
           {
            "type": "surface",
            "colorbar": {
             "outlinewidth": 0,
             "ticks": ""
            },
            "colorscale": [
             [
              0.0,
              "#0d0887"
             ],
             [
              0.1111111111111111,
              "#46039f"
             ],
             [
              0.2222222222222222,
              "#7201a8"
             ],
             [
              0.3333333333333333,
              "#9c179e"
             ],
             [
              0.4444444444444444,
              "#bd3786"
             ],
             [
              0.5555555555555556,
              "#d8576b"
             ],
             [
              0.6666666666666666,
              "#ed7953"
             ],
             [
              0.7777777777777778,
              "#fb9f3a"
             ],
             [
              0.8888888888888888,
              "#fdca26"
             ],
             [
              1.0,
              "#f0f921"
             ]
            ]
           }
          ],
          "mesh3d": [
           {
            "type": "mesh3d",
            "colorbar": {
             "outlinewidth": 0,
             "ticks": ""
            }
           }
          ],
          "scatter": [
           {
            "marker": {
             "line": {
              "color": "#283442"
             }
            },
            "type": "scatter"
           }
          ],
          "parcoords": [
           {
            "type": "parcoords",
            "line": {
             "colorbar": {
              "outlinewidth": 0,
              "ticks": ""
             }
            }
           }
          ],
          "scatterpolargl": [
           {
            "type": "scatterpolargl",
            "marker": {
             "colorbar": {
              "outlinewidth": 0,
              "ticks": ""
             }
            }
           }
          ],
          "bar": [
           {
            "error_x": {
             "color": "#f2f5fa"
            },
            "error_y": {
             "color": "#f2f5fa"
            },
            "marker": {
             "line": {
              "color": "rgb(17,17,17)",
              "width": 0.5
             },
             "pattern": {
              "fillmode": "overlay",
              "size": 10,
              "solidity": 0.2
             }
            },
            "type": "bar"
           }
          ],
          "scattergeo": [
           {
            "type": "scattergeo",
            "marker": {
             "colorbar": {
              "outlinewidth": 0,
              "ticks": ""
             }
            }
           }
          ],
          "scatterpolar": [
           {
            "type": "scatterpolar",
            "marker": {
             "colorbar": {
              "outlinewidth": 0,
              "ticks": ""
             }
            }
           }
          ],
          "histogram": [
           {
            "marker": {
             "pattern": {
              "fillmode": "overlay",
              "size": 10,
              "solidity": 0.2
             }
            },
            "type": "histogram"
           }
          ],
          "scattergl": [
           {
            "marker": {
             "line": {
              "color": "#283442"
             }
            },
            "type": "scattergl"
           }
          ],
          "scatter3d": [
           {
            "type": "scatter3d",
            "line": {
             "colorbar": {
              "outlinewidth": 0,
              "ticks": ""
             }
            },
            "marker": {
             "colorbar": {
              "outlinewidth": 0,
              "ticks": ""
             }
            }
           }
          ],
          "scattermapbox": [
           {
            "type": "scattermapbox",
            "marker": {
             "colorbar": {
              "outlinewidth": 0,
              "ticks": ""
             }
            }
           }
          ],
          "scatterternary": [
           {
            "type": "scatterternary",
            "marker": {
             "colorbar": {
              "outlinewidth": 0,
              "ticks": ""
             }
            }
           }
          ],
          "scattercarpet": [
           {
            "type": "scattercarpet",
            "marker": {
             "colorbar": {
              "outlinewidth": 0,
              "ticks": ""
             }
            }
           }
          ],
          "carpet": [
           {
            "aaxis": {
             "endlinecolor": "#A2B1C6",
             "gridcolor": "#506784",
             "linecolor": "#506784",
             "minorgridcolor": "#506784",
             "startlinecolor": "#A2B1C6"
            },
            "baxis": {
             "endlinecolor": "#A2B1C6",
             "gridcolor": "#506784",
             "linecolor": "#506784",
             "minorgridcolor": "#506784",
             "startlinecolor": "#A2B1C6"
            },
            "type": "carpet"
           }
          ],
          "table": [
           {
            "cells": {
             "fill": {
              "color": "#506784"
             },
             "line": {
              "color": "rgb(17,17,17)"
             }
            },
            "header": {
             "fill": {
              "color": "#2a3f5f"
             },
             "line": {
              "color": "rgb(17,17,17)"
             }
            },
            "type": "table"
           }
          ],
          "barpolar": [
           {
            "marker": {
             "line": {
              "color": "rgb(17,17,17)",
              "width": 0.5
             },
             "pattern": {
              "fillmode": "overlay",
              "size": 10,
              "solidity": 0.2
             }
            },
            "type": "barpolar"
           }
          ],
          "pie": [
           {
            "automargin": true,
            "type": "pie"
           }
          ]
         },
         "layout": {
          "autotypenumbers": "strict",
          "colorway": [
           "#636efa",
           "#EF553B",
           "#00cc96",
           "#ab63fa",
           "#FFA15A",
           "#19d3f3",
           "#FF6692",
           "#B6E880",
           "#FF97FF",
           "#FECB52"
          ],
          "font": {
           "color": "#f2f5fa"
          },
          "hovermode": "closest",
          "hoverlabel": {
           "align": "left"
          },
          "paper_bgcolor": "rgb(17,17,17)",
          "plot_bgcolor": "rgb(17,17,17)",
          "polar": {
           "bgcolor": "rgb(17,17,17)",
           "angularaxis": {
            "gridcolor": "#506784",
            "linecolor": "#506784",
            "ticks": ""
           },
           "radialaxis": {
            "gridcolor": "#506784",
            "linecolor": "#506784",
            "ticks": ""
           }
          },
          "ternary": {
           "bgcolor": "rgb(17,17,17)",
           "aaxis": {
            "gridcolor": "#506784",
            "linecolor": "#506784",
            "ticks": ""
           },
           "baxis": {
            "gridcolor": "#506784",
            "linecolor": "#506784",
            "ticks": ""
           },
           "caxis": {
            "gridcolor": "#506784",
            "linecolor": "#506784",
            "ticks": ""
           }
          },
          "coloraxis": {
           "colorbar": {
            "outlinewidth": 0,
            "ticks": ""
           }
          },
          "colorscale": {
           "sequential": [
            [
             0.0,
             "#0d0887"
            ],
            [
             0.1111111111111111,
             "#46039f"
            ],
            [
             0.2222222222222222,
             "#7201a8"
            ],
            [
             0.3333333333333333,
             "#9c179e"
            ],
            [
             0.4444444444444444,
             "#bd3786"
            ],
            [
             0.5555555555555556,
             "#d8576b"
            ],
            [
             0.6666666666666666,
             "#ed7953"
            ],
            [
             0.7777777777777778,
             "#fb9f3a"
            ],
            [
             0.8888888888888888,
             "#fdca26"
            ],
            [
             1.0,
             "#f0f921"
            ]
           ],
           "sequentialminus": [
            [
             0.0,
             "#0d0887"
            ],
            [
             0.1111111111111111,
             "#46039f"
            ],
            [
             0.2222222222222222,
             "#7201a8"
            ],
            [
             0.3333333333333333,
             "#9c179e"
            ],
            [
             0.4444444444444444,
             "#bd3786"
            ],
            [
             0.5555555555555556,
             "#d8576b"
            ],
            [
             0.6666666666666666,
             "#ed7953"
            ],
            [
             0.7777777777777778,
             "#fb9f3a"
            ],
            [
             0.8888888888888888,
             "#fdca26"
            ],
            [
             1.0,
             "#f0f921"
            ]
           ],
           "diverging": [
            [
             0,
             "#8e0152"
            ],
            [
             0.1,
             "#c51b7d"
            ],
            [
             0.2,
             "#de77ae"
            ],
            [
             0.3,
             "#f1b6da"
            ],
            [
             0.4,
             "#fde0ef"
            ],
            [
             0.5,
             "#f7f7f7"
            ],
            [
             0.6,
             "#e6f5d0"
            ],
            [
             0.7,
             "#b8e186"
            ],
            [
             0.8,
             "#7fbc41"
            ],
            [
             0.9,
             "#4d9221"
            ],
            [
             1,
             "#276419"
            ]
           ]
          },
          "xaxis": {
           "gridcolor": "#283442",
           "linecolor": "#506784",
           "ticks": "",
           "title": {
            "standoff": 15
           },
           "zerolinecolor": "#283442",
           "automargin": true,
           "zerolinewidth": 2
          },
          "yaxis": {
           "gridcolor": "#283442",
           "linecolor": "#506784",
           "ticks": "",
           "title": {
            "standoff": 15
           },
           "zerolinecolor": "#283442",
           "automargin": true,
           "zerolinewidth": 2
          },
          "scene": {
           "xaxis": {
            "backgroundcolor": "rgb(17,17,17)",
            "gridcolor": "#506784",
            "linecolor": "#506784",
            "showbackground": true,
            "ticks": "",
            "zerolinecolor": "#C8D4E3",
            "gridwidth": 2
           },
           "yaxis": {
            "backgroundcolor": "rgb(17,17,17)",
            "gridcolor": "#506784",
            "linecolor": "#506784",
            "showbackground": true,
            "ticks": "",
            "zerolinecolor": "#C8D4E3",
            "gridwidth": 2
           },
           "zaxis": {
            "backgroundcolor": "rgb(17,17,17)",
            "gridcolor": "#506784",
            "linecolor": "#506784",
            "showbackground": true,
            "ticks": "",
            "zerolinecolor": "#C8D4E3",
            "gridwidth": 2
           }
          },
          "shapedefaults": {
           "line": {
            "color": "#f2f5fa"
           }
          },
          "annotationdefaults": {
           "arrowcolor": "#f2f5fa",
           "arrowhead": 0,
           "arrowwidth": 1
          },
          "geo": {
           "bgcolor": "rgb(17,17,17)",
           "landcolor": "rgb(17,17,17)",
           "subunitcolor": "#506784",
           "showland": true,
           "showlakes": true,
           "lakecolor": "rgb(17,17,17)"
          },
          "title": {
           "x": 0.05
          },
          "updatemenudefaults": {
           "bgcolor": "#506784",
           "borderwidth": 0
          },
          "sliderdefaults": {
           "bgcolor": "#C8D4E3",
           "borderwidth": 1,
           "bordercolor": "rgb(17,17,17)",
           "tickwidth": 0
          },
          "mapbox": {
           "style": "dark"
          }
         }
        },
        "xaxis": {
         "anchor": "y",
         "domain": [
          0.0,
          1.0
         ],
         "title": {
          "text": "Рік"
         }
        },
        "yaxis": {
         "anchor": "x",
         "domain": [
          0.0,
          1.0
         ],
         "title": {
          "text": "Населення"
         }
        },
        "legend": {
         "title": {
          "text": "Країна"
         },
         "tracegroupgap": 0
        },
        "title": {
         "text": "Зміна кількості населення для Канади та країн Океанії протягом років"
        },
        "barmode": "relative"
       },
       "config": {
        "plotlyServerURL": "https://plot.ly"
       }
      },
      "text/html": "<div>                            <div id=\"f50750f1-1f87-4ab7-9ecb-d78a0041b7ad\" class=\"plotly-graph-div\" style=\"height:525px; width:100%;\"></div>            <script type=\"text/javascript\">                require([\"plotly\"], function(Plotly) {                    window.PLOTLYENV=window.PLOTLYENV || {};                                    if (document.getElementById(\"f50750f1-1f87-4ab7-9ecb-d78a0041b7ad\")) {                    Plotly.newPlot(                        \"f50750f1-1f87-4ab7-9ecb-d78a0041b7ad\",                        [{\"alignmentgroup\":\"True\",\"hovertemplate\":\"\\u041a\\u0440\\u0430\\u0457\\u043d\\u0430=Australia\\u003cbr\\u003e\\u0420\\u0456\\u043a=%{x}\\u003cbr\\u003e\\u041d\\u0430\\u0441\\u0435\\u043b\\u0435\\u043d\\u043d\\u044f=%{y}\\u003cextra\\u003e\\u003c\\u002fextra\\u003e\",\"legendgroup\":\"Australia\",\"marker\":{\"color\":\"#636efa\",\"pattern\":{\"shape\":\"\"}},\"name\":\"Australia\",\"offsetgroup\":\"Australia\",\"orientation\":\"v\",\"showlegend\":true,\"textposition\":\"auto\",\"x\":[1952,1957,1962,1967,1972,1977,1982,1987,1992,1997,2002,2007],\"xaxis\":\"x\",\"y\":[8691212,9712569,10794968,11872264,13177000,14074100,15184200,16257249,17481977,18565243,19546792,20434176],\"yaxis\":\"y\",\"type\":\"bar\"},{\"alignmentgroup\":\"True\",\"hovertemplate\":\"\\u041a\\u0440\\u0430\\u0457\\u043d\\u0430=Canada\\u003cbr\\u003e\\u0420\\u0456\\u043a=%{x}\\u003cbr\\u003e\\u041d\\u0430\\u0441\\u0435\\u043b\\u0435\\u043d\\u043d\\u044f=%{y}\\u003cextra\\u003e\\u003c\\u002fextra\\u003e\",\"legendgroup\":\"Canada\",\"marker\":{\"color\":\"#EF553B\",\"pattern\":{\"shape\":\"\"}},\"name\":\"Canada\",\"offsetgroup\":\"Canada\",\"orientation\":\"v\",\"showlegend\":true,\"textposition\":\"auto\",\"x\":[1952,1957,1962,1967,1972,1977,1982,1987,1992,1997,2002,2007],\"xaxis\":\"x\",\"y\":[14785584,17010154,18985849,20819767,22284500,23796400,25201900,26549700,28523502,30305843,31902268,33390141],\"yaxis\":\"y\",\"type\":\"bar\"},{\"alignmentgroup\":\"True\",\"hovertemplate\":\"\\u041a\\u0440\\u0430\\u0457\\u043d\\u0430=New Zealand\\u003cbr\\u003e\\u0420\\u0456\\u043a=%{x}\\u003cbr\\u003e\\u041d\\u0430\\u0441\\u0435\\u043b\\u0435\\u043d\\u043d\\u044f=%{y}\\u003cextra\\u003e\\u003c\\u002fextra\\u003e\",\"legendgroup\":\"New Zealand\",\"marker\":{\"color\":\"#00cc96\",\"pattern\":{\"shape\":\"\"}},\"name\":\"New Zealand\",\"offsetgroup\":\"New Zealand\",\"orientation\":\"v\",\"showlegend\":true,\"textposition\":\"auto\",\"x\":[1952,1957,1962,1967,1972,1977,1982,1987,1992,1997,2002,2007],\"xaxis\":\"x\",\"y\":[1994794,2229407,2488550,2728150,2929100,3164900,3210650,3317166,3437674,3676187,3908037,4115771],\"yaxis\":\"y\",\"type\":\"bar\"}],                        {\"template\":{\"data\":{\"histogram2dcontour\":[{\"type\":\"histogram2dcontour\",\"colorbar\":{\"outlinewidth\":0,\"ticks\":\"\"},\"colorscale\":[[0.0,\"#0d0887\"],[0.1111111111111111,\"#46039f\"],[0.2222222222222222,\"#7201a8\"],[0.3333333333333333,\"#9c179e\"],[0.4444444444444444,\"#bd3786\"],[0.5555555555555556,\"#d8576b\"],[0.6666666666666666,\"#ed7953\"],[0.7777777777777778,\"#fb9f3a\"],[0.8888888888888888,\"#fdca26\"],[1.0,\"#f0f921\"]]}],\"choropleth\":[{\"type\":\"choropleth\",\"colorbar\":{\"outlinewidth\":0,\"ticks\":\"\"}}],\"histogram2d\":[{\"type\":\"histogram2d\",\"colorbar\":{\"outlinewidth\":0,\"ticks\":\"\"},\"colorscale\":[[0.0,\"#0d0887\"],[0.1111111111111111,\"#46039f\"],[0.2222222222222222,\"#7201a8\"],[0.3333333333333333,\"#9c179e\"],[0.4444444444444444,\"#bd3786\"],[0.5555555555555556,\"#d8576b\"],[0.6666666666666666,\"#ed7953\"],[0.7777777777777778,\"#fb9f3a\"],[0.8888888888888888,\"#fdca26\"],[1.0,\"#f0f921\"]]}],\"heatmap\":[{\"type\":\"heatmap\",\"colorbar\":{\"outlinewidth\":0,\"ticks\":\"\"},\"colorscale\":[[0.0,\"#0d0887\"],[0.1111111111111111,\"#46039f\"],[0.2222222222222222,\"#7201a8\"],[0.3333333333333333,\"#9c179e\"],[0.4444444444444444,\"#bd3786\"],[0.5555555555555556,\"#d8576b\"],[0.6666666666666666,\"#ed7953\"],[0.7777777777777778,\"#fb9f3a\"],[0.8888888888888888,\"#fdca26\"],[1.0,\"#f0f921\"]]}],\"heatmapgl\":[{\"type\":\"heatmapgl\",\"colorbar\":{\"outlinewidth\":0,\"ticks\":\"\"},\"colorscale\":[[0.0,\"#0d0887\"],[0.1111111111111111,\"#46039f\"],[0.2222222222222222,\"#7201a8\"],[0.3333333333333333,\"#9c179e\"],[0.4444444444444444,\"#bd3786\"],[0.5555555555555556,\"#d8576b\"],[0.6666666666666666,\"#ed7953\"],[0.7777777777777778,\"#fb9f3a\"],[0.8888888888888888,\"#fdca26\"],[1.0,\"#f0f921\"]]}],\"contourcarpet\":[{\"type\":\"contourcarpet\",\"colorbar\":{\"outlinewidth\":0,\"ticks\":\"\"}}],\"contour\":[{\"type\":\"contour\",\"colorbar\":{\"outlinewidth\":0,\"ticks\":\"\"},\"colorscale\":[[0.0,\"#0d0887\"],[0.1111111111111111,\"#46039f\"],[0.2222222222222222,\"#7201a8\"],[0.3333333333333333,\"#9c179e\"],[0.4444444444444444,\"#bd3786\"],[0.5555555555555556,\"#d8576b\"],[0.6666666666666666,\"#ed7953\"],[0.7777777777777778,\"#fb9f3a\"],[0.8888888888888888,\"#fdca26\"],[1.0,\"#f0f921\"]]}],\"surface\":[{\"type\":\"surface\",\"colorbar\":{\"outlinewidth\":0,\"ticks\":\"\"},\"colorscale\":[[0.0,\"#0d0887\"],[0.1111111111111111,\"#46039f\"],[0.2222222222222222,\"#7201a8\"],[0.3333333333333333,\"#9c179e\"],[0.4444444444444444,\"#bd3786\"],[0.5555555555555556,\"#d8576b\"],[0.6666666666666666,\"#ed7953\"],[0.7777777777777778,\"#fb9f3a\"],[0.8888888888888888,\"#fdca26\"],[1.0,\"#f0f921\"]]}],\"mesh3d\":[{\"type\":\"mesh3d\",\"colorbar\":{\"outlinewidth\":0,\"ticks\":\"\"}}],\"scatter\":[{\"marker\":{\"line\":{\"color\":\"#283442\"}},\"type\":\"scatter\"}],\"parcoords\":[{\"type\":\"parcoords\",\"line\":{\"colorbar\":{\"outlinewidth\":0,\"ticks\":\"\"}}}],\"scatterpolargl\":[{\"type\":\"scatterpolargl\",\"marker\":{\"colorbar\":{\"outlinewidth\":0,\"ticks\":\"\"}}}],\"bar\":[{\"error_x\":{\"color\":\"#f2f5fa\"},\"error_y\":{\"color\":\"#f2f5fa\"},\"marker\":{\"line\":{\"color\":\"rgb(17,17,17)\",\"width\":0.5},\"pattern\":{\"fillmode\":\"overlay\",\"size\":10,\"solidity\":0.2}},\"type\":\"bar\"}],\"scattergeo\":[{\"type\":\"scattergeo\",\"marker\":{\"colorbar\":{\"outlinewidth\":0,\"ticks\":\"\"}}}],\"scatterpolar\":[{\"type\":\"scatterpolar\",\"marker\":{\"colorbar\":{\"outlinewidth\":0,\"ticks\":\"\"}}}],\"histogram\":[{\"marker\":{\"pattern\":{\"fillmode\":\"overlay\",\"size\":10,\"solidity\":0.2}},\"type\":\"histogram\"}],\"scattergl\":[{\"marker\":{\"line\":{\"color\":\"#283442\"}},\"type\":\"scattergl\"}],\"scatter3d\":[{\"type\":\"scatter3d\",\"line\":{\"colorbar\":{\"outlinewidth\":0,\"ticks\":\"\"}},\"marker\":{\"colorbar\":{\"outlinewidth\":0,\"ticks\":\"\"}}}],\"scattermapbox\":[{\"type\":\"scattermapbox\",\"marker\":{\"colorbar\":{\"outlinewidth\":0,\"ticks\":\"\"}}}],\"scatterternary\":[{\"type\":\"scatterternary\",\"marker\":{\"colorbar\":{\"outlinewidth\":0,\"ticks\":\"\"}}}],\"scattercarpet\":[{\"type\":\"scattercarpet\",\"marker\":{\"colorbar\":{\"outlinewidth\":0,\"ticks\":\"\"}}}],\"carpet\":[{\"aaxis\":{\"endlinecolor\":\"#A2B1C6\",\"gridcolor\":\"#506784\",\"linecolor\":\"#506784\",\"minorgridcolor\":\"#506784\",\"startlinecolor\":\"#A2B1C6\"},\"baxis\":{\"endlinecolor\":\"#A2B1C6\",\"gridcolor\":\"#506784\",\"linecolor\":\"#506784\",\"minorgridcolor\":\"#506784\",\"startlinecolor\":\"#A2B1C6\"},\"type\":\"carpet\"}],\"table\":[{\"cells\":{\"fill\":{\"color\":\"#506784\"},\"line\":{\"color\":\"rgb(17,17,17)\"}},\"header\":{\"fill\":{\"color\":\"#2a3f5f\"},\"line\":{\"color\":\"rgb(17,17,17)\"}},\"type\":\"table\"}],\"barpolar\":[{\"marker\":{\"line\":{\"color\":\"rgb(17,17,17)\",\"width\":0.5},\"pattern\":{\"fillmode\":\"overlay\",\"size\":10,\"solidity\":0.2}},\"type\":\"barpolar\"}],\"pie\":[{\"automargin\":true,\"type\":\"pie\"}]},\"layout\":{\"autotypenumbers\":\"strict\",\"colorway\":[\"#636efa\",\"#EF553B\",\"#00cc96\",\"#ab63fa\",\"#FFA15A\",\"#19d3f3\",\"#FF6692\",\"#B6E880\",\"#FF97FF\",\"#FECB52\"],\"font\":{\"color\":\"#f2f5fa\"},\"hovermode\":\"closest\",\"hoverlabel\":{\"align\":\"left\"},\"paper_bgcolor\":\"rgb(17,17,17)\",\"plot_bgcolor\":\"rgb(17,17,17)\",\"polar\":{\"bgcolor\":\"rgb(17,17,17)\",\"angularaxis\":{\"gridcolor\":\"#506784\",\"linecolor\":\"#506784\",\"ticks\":\"\"},\"radialaxis\":{\"gridcolor\":\"#506784\",\"linecolor\":\"#506784\",\"ticks\":\"\"}},\"ternary\":{\"bgcolor\":\"rgb(17,17,17)\",\"aaxis\":{\"gridcolor\":\"#506784\",\"linecolor\":\"#506784\",\"ticks\":\"\"},\"baxis\":{\"gridcolor\":\"#506784\",\"linecolor\":\"#506784\",\"ticks\":\"\"},\"caxis\":{\"gridcolor\":\"#506784\",\"linecolor\":\"#506784\",\"ticks\":\"\"}},\"coloraxis\":{\"colorbar\":{\"outlinewidth\":0,\"ticks\":\"\"}},\"colorscale\":{\"sequential\":[[0.0,\"#0d0887\"],[0.1111111111111111,\"#46039f\"],[0.2222222222222222,\"#7201a8\"],[0.3333333333333333,\"#9c179e\"],[0.4444444444444444,\"#bd3786\"],[0.5555555555555556,\"#d8576b\"],[0.6666666666666666,\"#ed7953\"],[0.7777777777777778,\"#fb9f3a\"],[0.8888888888888888,\"#fdca26\"],[1.0,\"#f0f921\"]],\"sequentialminus\":[[0.0,\"#0d0887\"],[0.1111111111111111,\"#46039f\"],[0.2222222222222222,\"#7201a8\"],[0.3333333333333333,\"#9c179e\"],[0.4444444444444444,\"#bd3786\"],[0.5555555555555556,\"#d8576b\"],[0.6666666666666666,\"#ed7953\"],[0.7777777777777778,\"#fb9f3a\"],[0.8888888888888888,\"#fdca26\"],[1.0,\"#f0f921\"]],\"diverging\":[[0,\"#8e0152\"],[0.1,\"#c51b7d\"],[0.2,\"#de77ae\"],[0.3,\"#f1b6da\"],[0.4,\"#fde0ef\"],[0.5,\"#f7f7f7\"],[0.6,\"#e6f5d0\"],[0.7,\"#b8e186\"],[0.8,\"#7fbc41\"],[0.9,\"#4d9221\"],[1,\"#276419\"]]},\"xaxis\":{\"gridcolor\":\"#283442\",\"linecolor\":\"#506784\",\"ticks\":\"\",\"title\":{\"standoff\":15},\"zerolinecolor\":\"#283442\",\"automargin\":true,\"zerolinewidth\":2},\"yaxis\":{\"gridcolor\":\"#283442\",\"linecolor\":\"#506784\",\"ticks\":\"\",\"title\":{\"standoff\":15},\"zerolinecolor\":\"#283442\",\"automargin\":true,\"zerolinewidth\":2},\"scene\":{\"xaxis\":{\"backgroundcolor\":\"rgb(17,17,17)\",\"gridcolor\":\"#506784\",\"linecolor\":\"#506784\",\"showbackground\":true,\"ticks\":\"\",\"zerolinecolor\":\"#C8D4E3\",\"gridwidth\":2},\"yaxis\":{\"backgroundcolor\":\"rgb(17,17,17)\",\"gridcolor\":\"#506784\",\"linecolor\":\"#506784\",\"showbackground\":true,\"ticks\":\"\",\"zerolinecolor\":\"#C8D4E3\",\"gridwidth\":2},\"zaxis\":{\"backgroundcolor\":\"rgb(17,17,17)\",\"gridcolor\":\"#506784\",\"linecolor\":\"#506784\",\"showbackground\":true,\"ticks\":\"\",\"zerolinecolor\":\"#C8D4E3\",\"gridwidth\":2}},\"shapedefaults\":{\"line\":{\"color\":\"#f2f5fa\"}},\"annotationdefaults\":{\"arrowcolor\":\"#f2f5fa\",\"arrowhead\":0,\"arrowwidth\":1},\"geo\":{\"bgcolor\":\"rgb(17,17,17)\",\"landcolor\":\"rgb(17,17,17)\",\"subunitcolor\":\"#506784\",\"showland\":true,\"showlakes\":true,\"lakecolor\":\"rgb(17,17,17)\"},\"title\":{\"x\":0.05},\"updatemenudefaults\":{\"bgcolor\":\"#506784\",\"borderwidth\":0},\"sliderdefaults\":{\"bgcolor\":\"#C8D4E3\",\"borderwidth\":1,\"bordercolor\":\"rgb(17,17,17)\",\"tickwidth\":0},\"mapbox\":{\"style\":\"dark\"}}},\"xaxis\":{\"anchor\":\"y\",\"domain\":[0.0,1.0],\"title\":{\"text\":\"\\u0420\\u0456\\u043a\"}},\"yaxis\":{\"anchor\":\"x\",\"domain\":[0.0,1.0],\"title\":{\"text\":\"\\u041d\\u0430\\u0441\\u0435\\u043b\\u0435\\u043d\\u043d\\u044f\"}},\"legend\":{\"title\":{\"text\":\"\\u041a\\u0440\\u0430\\u0457\\u043d\\u0430\"},\"tracegroupgap\":0},\"title\":{\"text\":\"\\u0417\\u043c\\u0456\\u043d\\u0430 \\u043a\\u0456\\u043b\\u044c\\u043a\\u043e\\u0441\\u0442\\u0456 \\u043d\\u0430\\u0441\\u0435\\u043b\\u0435\\u043d\\u043d\\u044f \\u0434\\u043b\\u044f \\u041a\\u0430\\u043d\\u0430\\u0434\\u0438 \\u0442\\u0430 \\u043a\\u0440\\u0430\\u0457\\u043d \\u041e\\u043a\\u0435\\u0430\\u043d\\u0456\\u0457 \\u043f\\u0440\\u043e\\u0442\\u044f\\u0433\\u043e\\u043c \\u0440\\u043e\\u043a\\u0456\\u0432\"},\"barmode\":\"relative\"},                        {\"responsive\": true}                    ).then(function(){\n                            \nvar gd = document.getElementById('f50750f1-1f87-4ab7-9ecb-d78a0041b7ad');\nvar x = new MutationObserver(function (mutations, observer) {{\n        var display = window.getComputedStyle(gd).display;\n        if (!display || display === 'none') {{\n            console.log([gd, 'removed!']);\n            Plotly.purge(gd);\n            observer.disconnect();\n        }}\n}});\n\n// Listen for the removal of the full notebook cells\nvar notebookContainer = gd.closest('#notebook-container');\nif (notebookContainer) {{\n    x.observe(notebookContainer, {childList: true});\n}}\n\n// Listen for the clearing of the current output cell\nvar outputEl = gd.closest('.output');\nif (outputEl) {{\n    x.observe(outputEl, {childList: true});\n}}\n\n                        })                };                });            </script>        </div>"
     },
     "metadata": {},
     "output_type": "display_data"
    }
   ],
   "source": [
    "df_canada_oceania = dfx[(dfx['country'] == 'Canada') | (dfx['continent'] == 'Oceania')]\n",
    "\n",
    "fig = px.bar(df_canada_oceania, x='year', y='pop', color='country',\n",
    "             title='Зміна кількості населення для Канади та країн Океанії протягом років',\n",
    "             labels={'year': 'Рік', 'pop': 'Населення', 'country': 'Країна'})\n",
    "\n",
    "fig.show()"
   ],
   "metadata": {
    "collapsed": false,
    "ExecuteTime": {
     "end_time": "2023-10-27T13:43:03.586710Z",
     "start_time": "2023-10-27T13:43:03.508303Z"
    }
   },
   "id": "ffc847fa9be06d20"
  },
  {
   "cell_type": "raw",
   "source": [
    "3. Побудувати лінійні графіки для тригонометричних функцій. Назву графіку вирівняти за центром "
   ],
   "metadata": {
    "collapsed": false
   },
   "id": "aa45260ef0c956ec"
  },
  {
   "cell_type": "raw",
   "source": [
    "1. На проміжку [0;5𝜋] функція 𝑦=2𝑐𝑜𝑠𝑥(𝑥−𝜋/4)"
   ],
   "metadata": {
    "collapsed": false
   },
   "id": "dd837094733cdbe4"
  },
  {
   "cell_type": "code",
   "execution_count": 68,
   "outputs": [
    {
     "data": {
      "application/vnd.plotly.v1+json": {
       "data": [
        {
         "hovertemplate": "x=%{x}<br>y=%{y}<extra></extra>",
         "legendgroup": "",
         "line": {
          "color": "#636efa",
          "dash": "solid"
         },
         "marker": {
          "symbol": "circle"
         },
         "mode": "lines",
         "name": "",
         "orientation": "v",
         "showlegend": false,
         "x": [
          0.0,
          0.01572368695490387,
          0.03144737390980774,
          0.04717106086471161,
          0.06289474781961547,
          0.07861843477451934,
          0.09434212172942322,
          0.11006580868432708,
          0.12578949563923095,
          0.1415131825941348,
          0.15723686954903868,
          0.17296055650394254,
          0.18868424345884643,
          0.2044079304137503,
          0.22013161736865416,
          0.23585530432355803,
          0.2515789912784619,
          0.2673026782333658,
          0.2830263651882696,
          0.2987500521431735,
          0.31447373909807735,
          0.33019742605298125,
          0.3459211130078851,
          0.361644799962789,
          0.37736848691769287,
          0.3930921738725967,
          0.4088158608275006,
          0.42453954778240444,
          0.44026323473730833,
          0.45598692169221217,
          0.47171060864711606,
          0.4874342956020199,
          0.5031579825569238,
          0.5188816695118277,
          0.5346053564667316,
          0.5503290434216354,
          0.5660527303765392,
          0.5817764173314431,
          0.597500104286347,
          0.6132237912412508,
          0.6289474781961547,
          0.6446711651510586,
          0.6603948521059625,
          0.6761185390608664,
          0.6918422260157702,
          0.7075659129706741,
          0.723289599925578,
          0.7390132868804818,
          0.7547369738353857,
          0.7704606607902895,
          0.7861843477451934,
          0.8019080347000973,
          0.8176317216550012,
          0.833355408609905,
          0.8490790955648089,
          0.8648027825197128,
          0.8805264694746167,
          0.8962501564295206,
          0.9119738433844243,
          0.9276975303393282,
          0.9434212172942321,
          0.959144904249136,
          0.9748685912040398,
          0.9905922781589437,
          1.0063159651138476,
          1.0220396520687514,
          1.0377633390236554,
          1.0534870259785591,
          1.0692107129334631,
          1.084934399888367,
          1.1006580868432707,
          1.1163817737981747,
          1.1321054607530785,
          1.1478291477079825,
          1.1635528346628863,
          1.17927652161779,
          1.195000208572694,
          1.2107238955275978,
          1.2264475824825016,
          1.2421712694374056,
          1.2578949563923094,
          1.2736186433472134,
          1.2893423303021172,
          1.305066017257021,
          1.320789704211925,
          1.3365133911668288,
          1.3522370781217328,
          1.3679607650766366,
          1.3836844520315403,
          1.3994081389864443,
          1.4151318259413481,
          1.4308555128962521,
          1.446579199851156,
          1.4623028868060597,
          1.4780265737609637,
          1.4937502607158675,
          1.5094739476707715,
          1.5251976346256753,
          1.540921321580579,
          1.556645008535483,
          1.5723686954903868,
          1.5880923824452906,
          1.6038160694001946,
          1.6195397563550984,
          1.6352634433100024,
          1.6509871302649062,
          1.66671081721981,
          1.682434504174714,
          1.6981581911296177,
          1.7138818780845217,
          1.7296055650394255,
          1.7453292519943293,
          1.7610529389492333,
          1.776776625904137,
          1.792500312859041,
          1.8082239998139449,
          1.8239476867688487,
          1.8396713737237527,
          1.8553950606786564,
          1.8711187476335602,
          1.8868424345884642,
          1.902566121543368,
          1.918289808498272,
          1.9340134954531758,
          1.9497371824080796,
          1.9654608693629836,
          1.9811845563178874,
          1.9969082432727914,
          2.012631930227695,
          2.028355617182599,
          2.0440793041375027,
          2.0598029910924067,
          2.0755266780473107,
          2.0912503650022143,
          2.1069740519571183,
          2.1226977389120223,
          2.1384214258669263,
          2.15414511282183,
          2.169868799776734,
          2.185592486731638,
          2.2013161736865414,
          2.2170398606414454,
          2.2327635475963494,
          2.248487234551253,
          2.264210921506157,
          2.279934608461061,
          2.295658295415965,
          2.3113819823708686,
          2.3271056693257726,
          2.3428293562806766,
          2.35855304323558,
          2.374276730190484,
          2.390000417145388,
          2.4057241041002917,
          2.4214477910551957,
          2.4371714780100997,
          2.4528951649650033,
          2.4686188519199073,
          2.4843425388748113,
          2.5000662258297153,
          2.515789912784619,
          2.531513599739523,
          2.547237286694427,
          2.5629609736493304,
          2.5786846606042344,
          2.5944083475591384,
          2.610132034514042,
          2.625855721468946,
          2.64157940842385,
          2.657303095378754,
          2.6730267823336575,
          2.6887504692885615,
          2.7044741562434655,
          2.720197843198369,
          2.735921530153273,
          2.751645217108177,
          2.7673689040630807,
          2.7830925910179847,
          2.7988162779728887,
          2.8145399649277922,
          2.8302636518826962,
          2.8459873388376002,
          2.8617110257925042,
          2.877434712747408,
          2.893158399702312,
          2.908882086657216,
          2.9246057736121194,
          2.9403294605670234,
          2.9560531475219274,
          2.971776834476831,
          2.987500521431735,
          3.003224208386639,
          3.018947895341543,
          3.0346715822964465,
          3.0503952692513505,
          3.0661189562062545,
          3.081842643161158,
          3.097566330116062,
          3.113290017070966,
          3.1290137040258696,
          3.1447373909807737,
          3.1604610779356777,
          3.176184764890581,
          3.191908451845485,
          3.207632138800389,
          3.2233558257552932,
          3.239079512710197,
          3.254803199665101,
          3.270526886620005,
          3.2862505735749084,
          3.3019742605298124,
          3.3176979474847164,
          3.33342163443962,
          3.349145321394524,
          3.364869008349428,
          3.3805926953043315,
          3.3963163822592355,
          3.4120400692141395,
          3.4277637561690435,
          3.443487443123947,
          3.459211130078851,
          3.474934817033755,
          3.4906585039886586,
          3.5063821909435626,
          3.5221058778984666,
          3.53782956485337,
          3.553553251808274,
          3.569276938763178,
          3.585000625718082,
          3.6007243126729858,
          3.6164479996278898,
          3.6321716865827938,
          3.6478953735376973,
          3.6636190604926013,
          3.6793427474475053,
          3.695066434402409,
          3.710790121357313,
          3.726513808312217,
          3.7422374952671205,
          3.7579611822220245,
          3.7736848691769285,
          3.7894085561318325,
          3.805132243086736,
          3.82085593004164,
          3.836579616996544,
          3.8523033039514476,
          3.8680269909063516,
          3.8837506778612556,
          3.899474364816159,
          3.915198051771063,
          3.930921738725967,
          3.946645425680871,
          3.9623691126357747,
          3.9780927995906787,
          3.9938164865455827,
          4.009540173500486,
          4.02526386045539,
          4.040987547410294,
          4.056711234365198,
          4.072434921320102,
          4.088158608275005,
          4.103882295229909,
          4.119605982184813,
          4.1353296691397174,
          4.1510533560946214,
          4.1667770430495255,
          4.182500730004429,
          4.198224416959333,
          4.213948103914237,
          4.229671790869141,
          4.245395477824045,
          4.261119164778949,
          4.276842851733853,
          4.292566538688756,
          4.30829022564366,
          4.324013912598564,
          4.339737599553468,
          4.355461286508372,
          4.371184973463276,
          4.386908660418179,
          4.402632347373083,
          4.418356034327987,
          4.434079721282891,
          4.449803408237795,
          4.465527095192699,
          4.481250782147603,
          4.496974469102506,
          4.51269815605741,
          4.528421843012314,
          4.544145529967218,
          4.559869216922122,
          4.575592903877026,
          4.59131659083193,
          4.607040277786833,
          4.622763964741737,
          4.638487651696641,
          4.654211338651545,
          4.669935025606449,
          4.685658712561353,
          4.701382399516256,
          4.71710608647116,
          4.732829773426064,
          4.748553460380968,
          4.764277147335872,
          4.780000834290776,
          4.79572452124568,
          4.811448208200583,
          4.827171895155487,
          4.842895582110391,
          4.858619269065295,
          4.874342956020199,
          4.890066642975103,
          4.9057903299300065,
          4.9215140168849105,
          4.9372377038398145,
          4.9529613907947185,
          4.9686850777496225,
          4.9844087647045265,
          5.0001324516594305,
          5.015856138614334,
          5.031579825569238,
          5.047303512524142,
          5.063027199479046,
          5.07875088643395,
          5.094474573388854,
          5.110198260343757,
          5.125921947298661,
          5.141645634253565,
          5.157369321208469,
          5.173093008163373,
          5.188816695118277,
          5.204540382073181,
          5.220264069028084,
          5.235987755982988,
          5.251711442937892,
          5.267435129892796,
          5.2831588168477,
          5.298882503802604,
          5.314606190757508,
          5.330329877712411,
          5.346053564667315,
          5.361777251622219,
          5.377500938577123,
          5.393224625532027,
          5.408948312486931,
          5.424671999441834,
          5.440395686396738,
          5.456119373351642,
          5.471843060306546,
          5.48756674726145,
          5.503290434216354,
          5.519014121171258,
          5.534737808126161,
          5.550461495081065,
          5.566185182035969,
          5.581908868990873,
          5.597632555945777,
          5.613356242900681,
          5.6290799298555845,
          5.6448036168104885,
          5.6605273037653925,
          5.6762509907202965,
          5.6919746776752005,
          5.7076983646301045,
          5.7234220515850085,
          5.739145738539912,
          5.754869425494816,
          5.77059311244972,
          5.786316799404624,
          5.802040486359528,
          5.817764173314432,
          5.833487860269335,
          5.849211547224239,
          5.864935234179143,
          5.880658921134047,
          5.896382608088951,
          5.912106295043855,
          5.927829981998759,
          5.943553668953662,
          5.959277355908566,
          5.97500104286347,
          5.990724729818374,
          6.006448416773278,
          6.022172103728182,
          6.037895790683086,
          6.053619477637989,
          6.069343164592893,
          6.085066851547797,
          6.100790538502701,
          6.116514225457605,
          6.132237912412509,
          6.147961599367412,
          6.163685286322316,
          6.17940897327722,
          6.195132660232124,
          6.210856347187028,
          6.226580034141932,
          6.242303721096836,
          6.258027408051739,
          6.273751095006643,
          6.289474781961547,
          6.305198468916451,
          6.320922155871355,
          6.336645842826259,
          6.352369529781162,
          6.368093216736066,
          6.38381690369097,
          6.399540590645874,
          6.415264277600778,
          6.4309879645556824,
          6.4467116515105864,
          6.46243533846549,
          6.478159025420394,
          6.493882712375298,
          6.509606399330202,
          6.525330086285106,
          6.54105377324001,
          6.556777460194913,
          6.572501147149817,
          6.588224834104721,
          6.603948521059625,
          6.619672208014529,
          6.635395894969433,
          6.651119581924337,
          6.66684326887924,
          6.682566955834144,
          6.698290642789048,
          6.714014329743952,
          6.729738016698856,
          6.74546170365376,
          6.761185390608663,
          6.776909077563567,
          6.792632764518471,
          6.808356451473375,
          6.824080138428279,
          6.839803825383183,
          6.855527512338087,
          6.87125119929299,
          6.886974886247894,
          6.902698573202798,
          6.918422260157702,
          6.934145947112606,
          6.94986963406751,
          6.965593321022414,
          6.981317007977317,
          6.997040694932221,
          7.012764381887125,
          7.028488068842029,
          7.044211755796933,
          7.059935442751837,
          7.07565912970674,
          7.091382816661644,
          7.107106503616548,
          7.122830190571452,
          7.138553877526356,
          7.15427756448126,
          7.170001251436164,
          7.1857249383910675,
          7.2014486253459715,
          7.2171723123008755,
          7.2328959992557795,
          7.2486196862106835,
          7.2643433731655875,
          7.280067060120491,
          7.295790747075395,
          7.311514434030299,
          7.327238120985203,
          7.342961807940107,
          7.358685494895011,
          7.374409181849915,
          7.390132868804818,
          7.405856555759722,
          7.421580242714626,
          7.43730392966953,
          7.453027616624434,
          7.468751303579338,
          7.484474990534241,
          7.500198677489145,
          7.515922364444049,
          7.531646051398953,
          7.547369738353857,
          7.563093425308761,
          7.578817112263665,
          7.594540799218568,
          7.610264486173472,
          7.625988173128376,
          7.64171186008328,
          7.657435547038184,
          7.673159233993088,
          7.688882920947992,
          7.704606607902895,
          7.720330294857799,
          7.736053981812703,
          7.751777668767607,
          7.767501355722511,
          7.783225042677415,
          7.798948729632318,
          7.814672416587222,
          7.830396103542126,
          7.84611979049703,
          7.861843477451934,
          7.877567164406838,
          7.893290851361742,
          7.9090145383166455,
          7.9247382252715495,
          7.9404619122264535,
          7.9561855991813575,
          7.9719092861362615,
          7.9876329730911655,
          8.00335666004607,
          8.019080347000973,
          8.034804033955878,
          8.05052772091078,
          8.066251407865684,
          8.081975094820589,
          8.097698781775492,
          8.113422468730397,
          8.1291461556853,
          8.144869842640205,
          8.160593529595108,
          8.17631721655001,
          8.192040903504916,
          8.207764590459819,
          8.223488277414724,
          8.239211964369627,
          8.254935651324532,
          8.270659338279435,
          8.286383025234338,
          8.302106712189243,
          8.317830399144146,
          8.333554086099051,
          8.349277773053954,
          8.365001460008857,
          8.380725146963762,
          8.396448833918665,
          8.41217252087357,
          8.427896207828473,
          8.443619894783378,
          8.459343581738281,
          8.475067268693184,
          8.49079095564809,
          8.506514642602992,
          8.522238329557897,
          8.5379620165128,
          8.553685703467705,
          8.569409390422608,
          8.585133077377511,
          8.600856764332416,
          8.61658045128732,
          8.632304138242224,
          8.648027825197127,
          8.663751512152032,
          8.679475199106935,
          8.695198886061839,
          8.710922573016743,
          8.726646259971647,
          8.742369946926551,
          8.758093633881455,
          8.773817320836358,
          8.789541007791263,
          8.805264694746166,
          8.82098838170107,
          8.836712068655974,
          8.852435755610879,
          8.868159442565782,
          8.883883129520685,
          8.89960681647559,
          8.915330503430493,
          8.931054190385398,
          8.9467778773403,
          8.962501564295206,
          8.978225251250109,
          8.993948938205012,
          9.009672625159917,
          9.02539631211482,
          9.041119999069725,
          9.056843686024628,
          9.072567372979533,
          9.088291059934436,
          9.104014746889339,
          9.119738433844244,
          9.135462120799147,
          9.151185807754052,
          9.166909494708955,
          9.18263318166386,
          9.198356868618763,
          9.214080555573666,
          9.229804242528571,
          9.245527929483474,
          9.26125161643838,
          9.276975303393282,
          9.292698990348185,
          9.30842267730309,
          9.324146364257993,
          9.339870051212898,
          9.355593738167801,
          9.371317425122706,
          9.38704111207761,
          9.402764799032512,
          9.418488485987417,
          9.43421217294232,
          9.449935859897225,
          9.465659546852129,
          9.481383233807033,
          9.497106920761937,
          9.51283060771684,
          9.528554294671745,
          9.544277981626648,
          9.560001668581553,
          9.575725355536456,
          9.59144904249136,
          9.607172729446264,
          9.622896416401167,
          9.638620103356072,
          9.654343790310975,
          9.67006747726588,
          9.685791164220783,
          9.701514851175688,
          9.71723853813059,
          9.732962225085494,
          9.748685912040399,
          9.764409598995302,
          9.780133285950207,
          9.79585697290511,
          9.811580659860013,
          9.827304346814918,
          9.843028033769821,
          9.858751720724726,
          9.874475407679629,
          9.890199094634534,
          9.905922781589437,
          9.92164646854434,
          9.937370155499245,
          9.953093842454148,
          9.968817529409053,
          9.984541216363956,
          10.000264903318861,
          10.015988590273764,
          10.031712277228667,
          10.047435964183572,
          10.063159651138475,
          10.07888333809338,
          10.094607025048283,
          10.110330712003188,
          10.126054398958091,
          10.141778085912994,
          10.1575017728679,
          10.173225459822802,
          10.188949146777707,
          10.20467283373261,
          10.220396520687514,
          10.236120207642418,
          10.251843894597322,
          10.267567581552226,
          10.28329126850713,
          10.299014955462034,
          10.314738642416938,
          10.33046232937184,
          10.346186016326746,
          10.361909703281649,
          10.377633390236554,
          10.393357077191457,
          10.409080764146362,
          10.424804451101265,
          10.440528138056168,
          10.456251825011073,
          10.471975511965976,
          10.48769919892088,
          10.503422885875784,
          10.519146572830689,
          10.534870259785592,
          10.550593946740495,
          10.5663176336954,
          10.582041320650303,
          10.597765007605208,
          10.613488694560111,
          10.629212381515016,
          10.644936068469919,
          10.660659755424822,
          10.676383442379727,
          10.69210712933463,
          10.707830816289535,
          10.723554503244438,
          10.739278190199341,
          10.755001877154246,
          10.77072556410915,
          10.786449251064054,
          10.802172938018957,
          10.817896624973862,
          10.833620311928765,
          10.849343998883668,
          10.865067685838573,
          10.880791372793476,
          10.896515059748381,
          10.912238746703284,
          10.92796243365819,
          10.943686120613092,
          10.959409807567996,
          10.9751334945229,
          10.990857181477804,
          11.006580868432708,
          11.022304555387612,
          11.038028242342516,
          11.05375192929742,
          11.069475616252323,
          11.085199303207228,
          11.10092299016213,
          11.116646677117036,
          11.132370364071939,
          11.148094051026842,
          11.163817737981747,
          11.17954142493665,
          11.195265111891555,
          11.210988798846458,
          11.226712485801363,
          11.242436172756266,
          11.258159859711169,
          11.273883546666074,
          11.289607233620977,
          11.305330920575882,
          11.321054607530785,
          11.33677829448569,
          11.352501981440593,
          11.368225668395496,
          11.383949355350401,
          11.399673042305304,
          11.415396729260209,
          11.431120416215112,
          11.446844103170017,
          11.46256779012492,
          11.478291477079823,
          11.494015164034728,
          11.509738850989631,
          11.525462537944536,
          11.54118622489944,
          11.556909911854344,
          11.572633598809247,
          11.58835728576415,
          11.604080972719055,
          11.619804659673958,
          11.635528346628863,
          11.651252033583766,
          11.66697572053867,
          11.682699407493574,
          11.698423094448477,
          11.714146781403382,
          11.729870468358286,
          11.74559415531319,
          11.761317842268094,
          11.777041529222997,
          11.792765216177902,
          11.808488903132805,
          11.82421259008771,
          11.839936277042613,
          11.855659963997518,
          11.87138365095242,
          11.887107337907324,
          11.902831024862229,
          11.918554711817132,
          11.934278398772037,
          11.95000208572694,
          11.965725772681845,
          11.981449459636748,
          11.997173146591651,
          12.012896833546556,
          12.028620520501459,
          12.044344207456364,
          12.060067894411267,
          12.075791581366172,
          12.091515268321075,
          12.107238955275978,
          12.122962642230883,
          12.138686329185786,
          12.154410016140691,
          12.170133703095594,
          12.185857390050497,
          12.201581077005402,
          12.217304763960305,
          12.23302845091521,
          12.248752137870113,
          12.264475824825018,
          12.280199511779921,
          12.295923198734824,
          12.31164688568973,
          12.327370572644632,
          12.343094259599537,
          12.35881794655444,
          12.374541633509345,
          12.390265320464248,
          12.405989007419151,
          12.421712694374056,
          12.43743638132896,
          12.453160068283864,
          12.468883755238767,
          12.484607442193672,
          12.500331129148575,
          12.516054816103479,
          12.531778503058383,
          12.547502190013287,
          12.563225876968191,
          12.578949563923095,
          12.594673250877998,
          12.610396937832903,
          12.626120624787806,
          12.64184431174271,
          12.657567998697614,
          12.673291685652519,
          12.689015372607422,
          12.704739059562325,
          12.72046274651723,
          12.736186433472133,
          12.751910120427038,
          12.76763380738194,
          12.783357494336846,
          12.799081181291749,
          12.814804868246652,
          12.830528555201557,
          12.84625224215646,
          12.861975929111365,
          12.877699616066268,
          12.893423303021173,
          12.909146989976076,
          12.92487067693098,
          12.940594363885884,
          12.956318050840787,
          12.972041737795692,
          12.987765424750595,
          13.0034891117055,
          13.019212798660403,
          13.034936485615306,
          13.050660172570211,
          13.066383859525114,
          13.08210754648002,
          13.097831233434922,
          13.113554920389825,
          13.12927860734473,
          13.145002294299633,
          13.160725981254538,
          13.176449668209441,
          13.192173355164346,
          13.20789704211925,
          13.223620729074153,
          13.239344416029057,
          13.25506810298396,
          13.270791789938865,
          13.286515476893769,
          13.302239163848673,
          13.317962850803577,
          13.33368653775848,
          13.349410224713385,
          13.365133911668288,
          13.380857598623193,
          13.396581285578096,
          13.412304972533,
          13.428028659487904,
          13.443752346442807,
          13.459476033397712,
          13.475199720352615,
          13.49092340730752,
          13.506647094262423,
          13.522370781217326,
          13.53809446817223,
          13.553818155127134,
          13.569541842082039,
          13.585265529036942,
          13.600989215991847,
          13.61671290294675,
          13.632436589901653,
          13.648160276856558,
          13.663883963811461,
          13.679607650766366,
          13.695331337721269,
          13.711055024676174,
          13.726778711631077,
          13.74250239858598,
          13.758226085540885,
          13.773949772495788,
          13.789673459450693,
          13.805397146405596,
          13.821120833360501,
          13.836844520315404,
          13.852568207270307,
          13.868291894225212,
          13.884015581180115,
          13.89973926813502,
          13.915462955089923,
          13.931186642044828,
          13.946910328999731,
          13.962634015954634,
          13.97835770290954,
          13.994081389864442,
          14.009805076819347,
          14.02552876377425,
          14.041252450729154,
          14.056976137684059,
          14.072699824638962,
          14.088423511593867,
          14.10414719854877,
          14.119870885503675,
          14.135594572458578,
          14.15131825941348,
          14.167041946368386,
          14.182765633323289,
          14.198489320278194,
          14.214213007233097,
          14.229936694188002,
          14.245660381142905,
          14.261384068097808,
          14.277107755052713,
          14.292831442007616,
          14.30855512896252,
          14.324278815917424,
          14.340002502872329,
          14.355726189827232,
          14.371449876782135,
          14.38717356373704,
          14.402897250691943,
          14.418620937646848,
          14.434344624601751,
          14.450068311556654,
          14.465791998511559,
          14.481515685466462,
          14.497239372421367,
          14.51296305937627,
          14.528686746331175,
          14.544410433286078,
          14.560134120240981,
          14.575857807195886,
          14.59158149415079,
          14.607305181105694,
          14.623028868060597,
          14.638752555015502,
          14.654476241970405,
          14.670199928925308,
          14.685923615880213,
          14.701647302835116,
          14.717370989790021,
          14.733094676744924,
          14.74881836369983,
          14.764542050654732,
          14.780265737609636,
          14.79598942456454,
          14.811713111519444,
          14.827436798474348,
          14.843160485429252,
          14.858884172384156,
          14.87460785933906,
          14.890331546293963,
          14.906055233248868,
          14.92177892020377,
          14.937502607158676,
          14.953226294113579,
          14.968949981068482,
          14.984673668023387,
          15.00039735497829,
          15.016121041933195,
          15.031844728888098,
          15.047568415843003,
          15.063292102797906,
          15.079015789752809,
          15.094739476707714,
          15.110463163662617,
          15.126186850617522,
          15.141910537572425,
          15.15763422452733,
          15.173357911482233,
          15.189081598437136,
          15.204805285392041,
          15.220528972346944,
          15.236252659301849,
          15.251976346256752,
          15.267700033211657,
          15.28342372016656,
          15.299147407121463,
          15.314871094076368,
          15.330594781031271,
          15.346318467986176,
          15.36204215494108,
          15.377765841895984,
          15.393489528850887,
          15.40921321580579,
          15.424936902760695,
          15.440660589715598,
          15.456384276670503,
          15.472107963625406,
          15.48783165058031,
          15.503555337535214,
          15.519279024490118,
          15.535002711445022,
          15.550726398399926,
          15.56645008535483,
          15.582173772309734,
          15.597897459264637,
          15.613621146219542,
          15.629344833174445,
          15.64506852012935,
          15.660792207084253,
          15.676515894039158,
          15.69223958099406,
          15.707963267948966
         ],
         "xaxis": "x",
         "y": [
          -1.5707963267948966,
          -1.539158666850952,
          -1.5071560303425002,
          -1.474811873872433,
          -1.4421497307902433,
          -1.409193201532714,
          -1.3759659439508627,
          -1.3424916636264987,
          -1.3087941041817224,
          -1.274897037584713,
          -1.2408242544551538,
          -1.2065995543726216,
          -1.1722467361912905,
          -1.1377895883642803,
          -1.1032518792809753,
          -1.0686573476206445,
          -1.0340296927256738,
          -0.9993925649977216,
          -0.9647695563201012,
          -0.9301841905096724,
          -0.8956599138015306,
          -0.8612200853697534,
          -0.8268879678874613,
          -0.7926867181294349,
          -0.7586393776205076,
          -0.7247688633329483,
          -0.6910979584360208,
          -0.6576493031008979,
          -0.6244453853640778,
          -0.5915085320524445,
          -0.5588608997730771,
          -0.5265244659709049,
          -0.49452102005727083,
          -0.46287215461245007,
          -0.43159925666513965,
          -0.400723499051912,
          -0.37026583185959755,
          -0.3402469739535347,
          -0.31068740459459304,
          -0.28160735514785157,
          -0.2530268008857761,
          -0.22496545288871758,
          -0.1974427500455094,
          -0.1704778511569183,
          -0.14408962714466392,
          -0.11829665336868755,
          -0.09311720205531769,
          -0.06856923483893809,
          -0.0446703954197314,
          -0.021438002340030307,
          0.0011109581182311271,
          0.022959838912510425,
          0.04409233909268435,
          0.0644925105257378,
          0.084144764489787,
          0.10303387813514896,
          0.12114500081021821,
          0.13846366024995124,
          0.15497576862480708,
          0.17066762844803826,
          0.18552593833927053,
          0.19953779864236112,
          0.2126907168955688,
          0.22497261315212078,
          0.23637182514930763,
          0.24687711332429055,
          0.2564776656748528,
          0.2651631024633776,
          0.27292348076239054,
          0.27974929884004973,
          0.28563150038402607,
          0.29056147856226383,
          0.2945310799191676,
          0.2975326081058166,
          0.29955882744285794,
          0.30060296631478967,
          0.3006587203943962,
          0.2997202556961558,
          0.29778221145749695,
          0.2948397028468336,
          0.2908883234973693,
          0.2859241478657155,
          0.27994373341442724,
          0.2729441226176167,
          0.2649228447888632,
          0.2558779177306983,
          0.24580784920499804,
          0.23471163822368024,
          0.22258877615915657,
          0.20943924767405378,
          0.19526353146977554,
          0.18006260085353207,
          0.16383792412353437,
          0.14659146477209598,
          0.12832568150645748,
          0.10904352808720216,
          0.08874845298418861,
          0.06744439884999733,
          0.045135801810932324,
          0.02182759057569442,
          -0.0024748146381068825,
          -0.027765503359376477,
          -0.05403807630059649,
          -0.08128564697618204,
          -0.1095008435017251,
          -0.1386758105736481,
          -0.16880221162875036,
          -0.19987123118305056,
          -0.2318735773492811,
          -0.2647994845323339,
          -0.2986387163018812,
          -0.3333805684413616,
          -0.36901387217243736,
          -0.40552699755398863,
          -0.4429078570546504,
          -0.4811439092978248,
          -0.5202221629780704,
          -0.5601291809476869,
          -0.6008510844722724,
          -0.6423735576539752,
          -0.6846818520210942,
          -0.727760791282634,
          -0.7715947762463756,
          -0.8161677898989397,
          -0.8614634026463057,
          -0.9074647777131574,
          -0.9541546766993944,
          -1.0015154652921012,
          -1.0495291191311824,
          -1.0981772298268668,
          -1.1474410111271798,
          -1.197301305233489,
          -1.2477385892621167,
          -1.2987329818500226,
          -1.3502642499024744,
          -1.4023118154805703,
          -1.454854762826471,
          -1.5078718455241038,
          -1.5613414937930947,
          -1.615241821913593,
          -1.6695506357796677,
          -1.7242454405788654,
          -1.7793034485954715,
          -1.8347015871350212,
          -1.8904165065675231,
          -1.9464245884868105,
          -2.0027019539834443,
          -2.0592244720284962,
          -2.1159677679655466,
          -2.1729072321081433,
          -2.230018028439994,
          -2.287275103415079,
          -2.344653194854836,
          -2.402126840939582,
          -2.459670389291246,
          -2.5172580061444774,
          -2.5748636856031797,
          -2.632461258979464,
          -2.6900244042119765,
          -2.747526655360578,
          -2.8049414121742524,
          -2.86224194972917,
          -2.9194014281337157,
          -2.9763929022973676,
          -3.033189331760211,
          -3.0897635905798637,
          -3.1460884772726057,
          -3.2021367248054373,
          -3.2578810106357814,
          -3.3132939667955537,
          -3.3683481900162633,
          -3.4230162518918332,
          -3.4772707090757558,
          -3.5310841135092566,
          -3.5844290226770665,
          -3.6372780098873987,
          -3.6896036745727483,
          -3.7413786526080917,
          -3.792575626643033,
          -3.8431673364445,
          -3.893126589246526,
          -3.9424262701036494,
          -3.9910393522445164,
          -4.038938907422178,
          -4.086098116257657,
          -4.1324902785732744,
          -4.178088823712307,
          -4.22286732084148,
          -4.266799489232824,
          -4.309859208521437,
          -4.352020528935696,
          -4.393257681496419,
          -4.433545088181568,
          -4.472857372053006,
          -4.51116936734188,
          -4.548456129489196,
          -4.58469294513814,
          -4.619855342074767,
          -4.653919099113609,
          -4.686860255924841,
          -4.718655122799615,
          -4.749280290350198,
          -4.778712639141565,
          -4.8069293492511225,
          -4.833907909753236,
          -4.859626128125282,
          -4.884062139571933,
          -4.907194416264438,
          -4.929001776491652,
          -4.949463393719616,
          -4.9685588055564995,
          -4.986267922619737,
          -5.0025710373022445,
          -5.017448832434586,
          -5.03088238984003,
          -5.042853198779436,
          -5.05334316428296,
          -5.062334615365576,
          -5.069810313123484,
          -5.075753458708441,
          -5.080147701177169,
          -5.082977145212962,
          -5.084226358716668,
          -5.083880380264281,
          -5.081924726428389,
          -5.078345398960776,
          -5.073128891833506,
          -5.066262198135873,
          -5.057732816824617,
          -5.047528759324889,
          -5.035638555979428,
          -5.022051262343531,
          -5.006756465323386,
          -4.989744289155393,
          -4.971005401224178,
          -4.950531017717009,
          -4.928312909112383,
          -4.9043434055006285,
          -4.878615401734382,
          -4.851122362406853,
          -4.821858326655871,
          -4.790817912791719,
          -4.757996322746846,
          -4.72338934634556,
          -4.6869933653919365,
          -4.648805357574106,
          -4.608822900183275,
          -4.567044173645795,
          -4.5234679648666845,
          -4.478093670383063,
          -4.430921299326019,
          -4.381951476189475,
          -4.3311854434046895,
          -4.278625063719064,
          -4.224272822378036,
          -4.168131829108844,
          -4.110205819905013,
          -4.050499158610549,
          -3.9890168383027524,
          -3.9257644824727684,
          -3.860748346002941,
          -3.7939753159401524,
          -3.7254529120644193,
          -3.655189287251981,
          -3.583193227632291,
          -3.5094741525383166,
          -3.434042114249634,
          -3.3569077975278625,
          -3.278082518944091,
          -3.1975782259979186,
          -3.1154074960278946,
          -3.0315835349131577,
          -2.9461201755661373,
          -2.8590318762162745,
          -2.77033371848472,
          -2.68004140525017,
          -2.5881712583058576,
          -2.4947402158079814,
          -2.399765829515807,
          -2.3032662618237763,
          -2.2052602825859853,
          -2.105767265733581,
          -2.004807185685487,
          -1.9024006135531262,
          -1.798568713139774,
          -1.6933332367352625,
          -1.5867165207068248,
          -1.4787414808868993,
          -1.369431607758897,
          -1.258810961441791,
          -1.1469041664746629,
          -1.0337364064022792,
          -0.9193334181628737,
          -0.803721486279381,
          -0.6869274368553778,
          -0.5689786313771945,
          -0.4499029603234916,
          -0.32972883658388324,
          -0.20848518868812266,
          -0.08620145384746994,
          0.037092429190123684,
          0.16136602746917955,
          0.2865884213385467,
          0.41272821214399086,
          0.5397535300996452,
          0.6676320423363418,
          0.7963309611247872,
          0.9258170522715334,
          1.05605664368549,
          1.187015634112916,
          1.3186595020385243,
          1.450953314750423,
          1.5838617375665087,
          1.7173490432199268,
          1.8513791214010091,
          1.985915488453302,
          2.1209212972209848,
          2.2563593470450893,
          2.3921920939058126,
          2.528381660708186,
          2.6648898477083454,
          2.801678143077455,
          2.9387077336005434,
          3.075939515507204,
          3.213334105431223,
          3.3508518514960897,
          3.4884528445233594,
          3.6260969293606413,
          3.7637437163261924,
          3.9013525927668113,
          4.038882734725817,
          4.176293118717835,
          4.3135425336070385,
          4.450589592585533,
          4.587392745248379,
          4.723910289761928,
          4.860100385121932,
          4.995921063497901,
          5.1313302426602165,
          5.266285738486357,
          5.400745277542707,
          5.534666509738185,
          5.668007021046151,
          5.800724346290809,
          5.9327759819943875,
          6.0641193992813545,
          6.194712056835909,
          6.324511413908841,
          6.453474943370067,
          6.581560144802895,
          6.708724557636163,
          6.834925774310369,
          6.960121453473862,
          7.0842693332052,
          7.207327244257624,
          7.329253123321829,
          7.450005026302929,
          7.569541141607685,
          7.68781980343796,
          7.804799505086431,
          7.920438912230427,
          8.03469687622,
          8.147532447356058,
          8.2589048881546,
          8.368773686592922,
          8.477098569333805,
          8.583839514923573,
          8.688956766959967,
          8.792410847225787,
          8.894162568784221,
          8.994173049031817,
          9.092403722704997,
          9.188816354836144,
          9.283373053655078,
          9.376036283432027,
          9.466768877257966,
          9.555534049758302,
          9.642295409735956,
          9.727016972739737,
          9.80966317355414,
          9.890198878606466,
          9.968589398287389,
          10.04480049918102,
          10.118798416200482,
          10.190549864625154,
          10.260022052035659,
          10.32718269014275,
          10.39200000650621,
          10.454442756140002,
          10.51448023299984,
          10.572082281349394,
          10.627219307001432,
          10.679862288430156,
          10.72998278775101,
          10.777552961564407,
          10.822545571659624,
          10.864933995575395,
          10.904692237013544,
          10.941794936102196,
          10.976217379505082,
          11.007935510373436,
          11.036925938137138,
          11.063165948131697,
          11.086633511057745,
          11.107307292269759,
          11.125166660890772,
          11.140191698749845,
          11.152363209139185,
          11.161662725387743,
          11.168072519248268,
          11.171575609094786,
          11.17215576792752,
          11.169797531182361,
          11.16448620434198,
          11.156207870345806,
          11.144949396796077,
          11.130698442957243,
          11.113443466546105,
          11.093173730310042,
          11.069879308390796,
          11.04355109247133,
          11.014180797703332,
          10.981760968412951,
          10.946284983582519,
          10.907747062105924,
          10.866142267815508,
          10.821466514278333,
          10.77371656935972,
          10.722890059552093,
          10.668985474067167,
          10.612002168689614,
          10.55194036939034,
          10.488801175697752,
          10.422586563825156,
          10.353299389552836,
          10.280943390863182,
          10.205523190327389,
          10.12704429724237,
          10.04551310951647,
          9.9609369153028,
          9.873323894378904,
          9.78268311927171,
          9.689024556126622,
          9.592359065319874,
          9.492698401813144,
          9.390055215249607,
          9.28444304979074,
          9.175876343693059,
          9.064370428624262,
          8.949941528718202,
          8.832606759368241,
          8.712384125758511,
          8.589292521132926,
          8.463351724801502,
          8.334582399883965,
          8.203006090790485,
          8.06864522043953,
          7.931523087212933,
          7.791663861648209,
          7.649092582868497,
          7.503835154750248,
          7.3559183418291125,
          7.205369764944465,
          7.0522178966230715,
          6.896492056202439,
          6.738222404694673,
          6.5774399393913905,
          6.4141764882106695,
          6.248464703786846,
          6.080338057304186,
          5.909830832075468,
          5.736978116866561,
          5.561815798968327,
          5.384380557016973,
          5.204709853564315,
          5.0228419273993525,
          4.838815785622673,
          4.652671195475203,
          4.46444867592312,
          4.2741894890004515,
          4.081935630911314,
          3.887729822893615,
          3.6916155018461687,
          3.493636810721269,
          3.2938385886847517,
          3.0922663610458585,
          2.888966328958952,
          2.6839853588995264,
          2.477370971916849,
          2.2691713326656813,
          2.059435238219614,
          1.848212106668535,
          1.6355519655030566,
          1.4215054397883953,
          1.2061237401306668,
          0.9894586504383833,
          0.7715625154820965,
          0.5524882282551019,
          0.3322892171384346,
          0.11101943287302853,
          -0.11126666465760372,
          -0.33451411983100415,
          -0.5586674948724065,
          -0.7836708836210037,
          -1.009467925472505,
          -1.2360018194943145,
          -1.4632153387100513,
          -1.691050844549627,
          -1.9194503014613151,
          -2.148355291682092,
          -2.3777070301624805,
          -2.607446379642186,
          -2.8375138658723644,
          -3.067849692981144,
          -3.298393758977868,
          -3.529085671392303,
          -3.759864763045003,
          -3.990670107944089,
          -4.221440537305076,
          -4.4521146556887405,
          -4.682630857253578,
          -4.912927342117923,
          -5.142942132827668,
          -5.372613090925472,
          -5.601877933616408,
          -5.83067425052641,
          -6.058939520548213,
          -6.286611128771062,
          -6.513626383489019,
          -6.739922533283513,
          -6.965436784175804,
          -7.190106316844046,
          -7.413868303901067,
          -7.636659927227505,
          -7.8584183953558435,
          -8.079080960900823,
          -8.298584938030823,
          -8.516867719976215,
          -8.733866796569007,
          -8.949519771809769,
          -9.163764381456302,
          -9.376538510629436,
          -9.587780211431317,
          -9.797427720570628,
          -10.005419476990584,
          -10.211694139493998,
          -10.41619060436118,
          -10.61884802295514,
          -10.819605819309352,
          -11.018403707693324,
          -11.215181710150434,
          -11.409880174003726,
          -11.602439789323999,
          -11.792801606355818,
          -11.980907052895985,
          -12.16669795161964,
          -12.350116537349242,
          -12.531105474260931,
          -12.709607873023865,
          -12.885567307867136,
          -13.058927833569422,
          -13.229634002366671,
          -13.397630880772375,
          -13.562864066306089,
          -13.725279704124697,
          -13.884824503552093,
          -14.041445754501934,
          -14.19509134378881,
          -14.34570977132309,
          -14.493250166184286,
          -14.6376623025686,
          -14.778896615605376,
          -14.91690421703815,
          -15.05163691076527,
          -15.183047208235468,
          -15.311088343693923,
          -15.435714289273768,
          -15.556879769928896,
          -15.674540278203049,
          -15.788652088831112,
          -15.899172273167693,
          -16.00605871343878,
          -16.109270116812027,
          -16.208766029281126,
          -16.304506849360205,
          -16.396453841583632,
          -16.48456914980723,
          -16.56881581030655,
          -16.649157764668054,
          -16.72555987246922,
          -16.79798792374328,
          -16.866408651224788,
          -16.930789742371925,
          -16.991099851161643,
          -17.047308609653918,
          -17.099386639321086,
          -17.14730556213874,
          -17.191038011434298,
          -17.23055764248984,
          -17.2658391428954,
          -17.29685824264939,
          -17.323591724002636,
          -17.34601743104258,
          -17.364114279014515,
          -17.377862263376365,
          -17.387242468583995,
          -17.392237076603852,
          -17.39282937514989,
          -17.389003765641842,
          -17.380745770881866,
          -17.36804204244672,
          -17.350880367792787,
          -17.329249677071115,
          -17.303140049649986,
          -17.272542720342386,
          -17.237450085335862,
          -17.197855707822505,
          -17.153754323326602,
          -17.105141844727846,
          -17.05201536697777,
          -16.994373171507497,
          -16.93221473032474,
          -16.865540709798054,
          -16.79435297412666,
          -16.71865458849389,
          -16.638449821902768,
          -16.55374414969204,
          -16.464544255731102,
          -16.37085803429257,
          -16.272694591600924,
          -16.170064247056235,
          -16.06297853413158,
          -15.951450200943237,
          -15.835493210492631,
          -15.715122740579,
          -15.590355183382247,
          -15.461208144714917,
          -15.32770044294305,
          -15.189852107574914,
          -15.047684377517623,
          -14.901219699000995,
          -14.750481723168354,
          -14.595495303334422,
          -14.436286491909671,
          -14.272882536991768,
          -14.10531187862361,
          -13.93360414471858,
          -13.757790146653132,
          -13.577901874526885,
          -13.393972492091148,
          -13.206036331345883,
          -13.014128886806189,
          -12.818286809438904,
          -12.618547900269894,
          -12.414951103663489,
          -12.207536500274465,
          -11.996345299674289,
          -11.781419832652203,
          -11.562803543192958,
          -11.340540980132378,
          -11.114677788491987,
          -10.885260700494815,
          -10.652337526263345,
          -10.415957144202087,
          -10.176169491065862,
          -9.933025551716325,
          -9.686577348568553,
          -9.436877930729413,
          -9.18398136283069,
          -8.927942713558364,
          -8.66881804388127,
          -8.406664394980735,
          -8.141539775884478,
          -7.8735031508070685,
          -7.60261442619939,
          -7.3289344375106475,
          -7.052524935664855,
          -6.773448573255756,
          -6.491768890462305,
          -6.207550300688548,
          -5.9208580759308855,
          -5.631758331875643,
          -5.34031801273116,
          -5.046604875796868,
          -4.7506874757737165,
          -4.45263514881925,
          -4.152517996350665,
          -3.8504068686004844,
          -3.5463733479276405,
          -3.2404897318889696,
          -2.9328290160740553,
          -2.623464876708356,
          -2.3124716530284006,
          -1.9999243294329316,
          -1.6858985174151284,
          -1.3704704372791943,
          -1.0537168996468407,
          -0.7357152867570674,
          -0.4165435335646663,
          -0.09628010864171951,
          0.22499600511359247,
          0.5472053299552293,
          0.8702679129508925,
          1.1941033458209656,
          1.518630784950998,
          1.8437689715718408,
          2.169436252102761,
          2.4955505986528115,
          2.822029629674392,
          3.148790630764902,
          3.47575057561032,
          3.8028261470657734,
          4.129933758368127,
          4.4569895744742585,
          4.783909533520733,
          5.110609368398204,
          5.437004628436165,
          5.76301070119154,
          6.088542834335891,
          6.413516157635934,
          6.737845705020784,
          7.061446436731329,
          7.3842332615448,
          7.70612105906988,
          8.027024702105624,
          8.346859079058692,
          8.665539116413386,
          8.982979801247676,
          9.299096203790382,
          9.613803500012432,
          9.927016994247316,
          10.238652141833832,
          10.548624571775486,
          10.85685010941082,
          11.16324479908779,
          11.467724926837182,
          11.770207043037855,
          12.07060798506885,
          12.368844899941326,
          12.664835266904634,
          12.95849692002072,
          13.249748070699885,
          13.53850733019281,
          13.824693732031857,
          14.10822675441592,
          14.389026342532958,
          14.667012930813334,
          14.942107465108815,
          15.214231424790142,
          15.48330684475804,
          15.749256337360755,
          16.012003114212483,
          16.27147100790676,
          16.527584493618185,
          16.780268710587265,
          17.029449483481475,
          17.275053343627434,
          17.517007550107543,
          17.755240110715373,
          17.989679802764233,
          18.220256193742294,
          18.446899661809258,
          18.669541416127878,
          18.88811351702542,
          19.102548895978533,
          19.312781375416158,
          19.518745688334977,
          19.720377497721124,
          19.91761341577339,
          20.110391022921437,
          20.29864888663436,
          20.482326580013417,
          20.661364700163816,
          20.83570488634033,
          21.00528983786088,
          21.170063331783393,
          21.329970240340245,
          21.484956548125258,
          21.634969369028326,
          21.779956962912156,
          21.9198687520266,
          22.054655337155143,
          22.184268513489183,
          22.308661286224762,
          22.427787885877265,
          22.541603783309437,
          22.650065704467803,
          22.75313164482332,
          22.850760883511306,
          22.94291399716669,
          23.029552873449866,
          23.110640724259017,
          23.186142098624803,
          23.256022895283074,
          23.320250374921745,
          23.378793172097687,
          23.43162130681999,
          23.4787061957955,
          23.5200206633331,
          23.555538951903046,
          23.585236732347717,
          23.609091113740465,
          23.627080652889006,
          23.639185363480152,
          23.645386724862657,
          23.64566769046503,
          23.640012695845336,
          23.62840766636998,
          23.610840024518687,
          23.58729869681286,
          23.557774120364762,
          23.522258249044846,
          23.480744559264878,
          23.433228055374325,
          23.379705274667984,
          23.320174292002402,
          23.25463472401925,
          23.183087732973554,
          23.105536030164895,
          23.021983878969955,
          22.932437097474537,
          22.836903060703726,
          22.73539070244848,
          22.627910516687546,
          22.5144745586033,
          22.39509644519034,
          22.269791355456004,
          22.138576030211528,
          22.001468771453474,
          21.85848944133422,
          21.709659460721316,
          21.55500180734502,
          21.394541013533484,
          21.228303163535692,
          21.056315890431513,
          20.87860837262916,
          20.69521132995002,
          20.506157019300694,
          20.311479229933145,
          20.111213278292556,
          19.905396002454165,
          19.69406575614889,
          19.477262402379147,
          19.255027306625237,
          19.027403329643256,
          18.79443481985592,
          18.556167605336793,
          18.312648985390002,
          18.063927721725957,
          17.810054029235182,
          17.551079566361672,
          17.287057425077034,
          17.018042120458105,
          16.744089579868877,
          16.46525713174984,
          16.18160349401583,
          15.893188762065416,
          15.6000743964039,
          15.302323209881981,
          14.999999354553514,
          14.693168308153961,
          14.381896860203206,
          14.066253097735247,
          13.746306390657338,
          13.422127376742642,
          13.093787946258345,
          12.761361226233772,
          12.424921564370711,
          12.08454451260035,
          11.74030681029008,
          11.392286367103404,
          11.040562245517757,
          10.685214643002897,
          10.326324873865083,
          9.963975350759911,
          9.598249565878964,
          9.22923207181414,
          8.857008462103634,
          8.481665351465004,
          8.103290355718624,
          7.7219720714074604,
          7.337800055116621,
          6.9508648024985105,
          6.561257727008103,
          6.169071138352845,
          5.774398220663367,
          5.377333010388796,
          4.977970373923306,
          4.5764059849678445,
          4.172736301633564,
          3.7670585432919577,
          3.3594706671768213,
          2.9500713447447904,
          2.5389599377987846,
          2.1262364743812876,
          1.7120016244428475,
          1.2963566752912463,
          0.8794035068284908,
          0.4612445665802285,
          0.041982844525213794,
          -0.37827815227045686,
          -0.7994344252069101,
          -1.2213815098860252,
          -1.6440145020230357,
          -2.0672280835265857,
          -2.490916548742236,
          -2.9149738308513538,
          -3.339293528420272,
          -3.7637689320918826,
          -4.188293051413443,
          -4.612758641794337,
          -5.037058231585803,
          -5.4610841492772675,
          -5.884728550800891,
          -6.307883446938879,
          -6.730440730825402,
          -7.152292205536613,
          -7.573329611762195,
          -7.993444655550175,
          -8.412529036119363,
          -8.83047447373103,
          -9.24717273761323,
          -9.662515673930935,
          -10.076395233793715,
          -10.488703501295063,
          -10.899332721574712,
          -11.308175328898011,
          -11.715123974744001,
          -12.120071555895231,
          -12.522911242522573,
          -12.923536506256424,
          -13.321841148238438,
          -13.71771932714496,
          -14.111065587176192,
          -14.50177488600257,
          -14.889742622661498,
          -15.27486466539742,
          -15.657037379436836,
          -16.036157654692182,
          -16.412122933385884,
          -16.784831237588513,
          -17.154181196662634,
          -17.52007207460549,
          -17.882403797283516,
          -18.241076979550453,
          -18.595992952242938,
          -18.947053789045043,
          -19.294162333215812,
          -19.63722222417143,
          -19.976137923915378,
          -20.310814743309635,
          -20.64115886817893,
          -20.967077385242014,
          -21.288478307861887,
          -21.605270601608414,
          -21.917364209626527,
          -22.22467007780224,
          -22.527100179720644,
          -22.824567541407784,
          -23.116986265850674,
          -23.404271557287846,
          -23.686339745263897,
          -23.963108308441775,
          -24.234495898165235,
          -24.500422361765878,
          -24.76080876560725,
          -25.015577417860428,
          -25.264651891003886,
          -25.50795704404161,
          -25.745419044433394,
          -25.976965389730356,
          -26.202524928910414,
          -26.422027883406635,
          -26.635405867823312,
          -26.842591910333084,
          -27.04352047274952,
          -27.238127470269493,
          -27.426350290879085,
          -27.608127814417937,
          -27.78340043129588,
          -27.95211006085687,
          -28.114200169384343,
          -28.269615787742815,
          -28.41830352865065,
          -28.560211603578328,
          -28.69528983926774,
          -28.823489693866954,
          -28.94476427267584,
          -29.05906834349775,
          -29.166358351592283,
          -29.26659243422489,
          -29.359730434808323,
          -29.445733916631962,
          -29.524566176174314,
          -29.596192255994623,
          -29.66057895719955,
          -29.717694851480612,
          -29.767510292718768,
          -29.809997428152094,
          -29.845130209103033
         ],
         "yaxis": "y",
         "type": "scatter"
        }
       ],
       "layout": {
        "template": {
         "data": {
          "histogram2dcontour": [
           {
            "type": "histogram2dcontour",
            "colorbar": {
             "outlinewidth": 0,
             "ticks": ""
            },
            "colorscale": [
             [
              0.0,
              "#0d0887"
             ],
             [
              0.1111111111111111,
              "#46039f"
             ],
             [
              0.2222222222222222,
              "#7201a8"
             ],
             [
              0.3333333333333333,
              "#9c179e"
             ],
             [
              0.4444444444444444,
              "#bd3786"
             ],
             [
              0.5555555555555556,
              "#d8576b"
             ],
             [
              0.6666666666666666,
              "#ed7953"
             ],
             [
              0.7777777777777778,
              "#fb9f3a"
             ],
             [
              0.8888888888888888,
              "#fdca26"
             ],
             [
              1.0,
              "#f0f921"
             ]
            ]
           }
          ],
          "choropleth": [
           {
            "type": "choropleth",
            "colorbar": {
             "outlinewidth": 0,
             "ticks": ""
            }
           }
          ],
          "histogram2d": [
           {
            "type": "histogram2d",
            "colorbar": {
             "outlinewidth": 0,
             "ticks": ""
            },
            "colorscale": [
             [
              0.0,
              "#0d0887"
             ],
             [
              0.1111111111111111,
              "#46039f"
             ],
             [
              0.2222222222222222,
              "#7201a8"
             ],
             [
              0.3333333333333333,
              "#9c179e"
             ],
             [
              0.4444444444444444,
              "#bd3786"
             ],
             [
              0.5555555555555556,
              "#d8576b"
             ],
             [
              0.6666666666666666,
              "#ed7953"
             ],
             [
              0.7777777777777778,
              "#fb9f3a"
             ],
             [
              0.8888888888888888,
              "#fdca26"
             ],
             [
              1.0,
              "#f0f921"
             ]
            ]
           }
          ],
          "heatmap": [
           {
            "type": "heatmap",
            "colorbar": {
             "outlinewidth": 0,
             "ticks": ""
            },
            "colorscale": [
             [
              0.0,
              "#0d0887"
             ],
             [
              0.1111111111111111,
              "#46039f"
             ],
             [
              0.2222222222222222,
              "#7201a8"
             ],
             [
              0.3333333333333333,
              "#9c179e"
             ],
             [
              0.4444444444444444,
              "#bd3786"
             ],
             [
              0.5555555555555556,
              "#d8576b"
             ],
             [
              0.6666666666666666,
              "#ed7953"
             ],
             [
              0.7777777777777778,
              "#fb9f3a"
             ],
             [
              0.8888888888888888,
              "#fdca26"
             ],
             [
              1.0,
              "#f0f921"
             ]
            ]
           }
          ],
          "heatmapgl": [
           {
            "type": "heatmapgl",
            "colorbar": {
             "outlinewidth": 0,
             "ticks": ""
            },
            "colorscale": [
             [
              0.0,
              "#0d0887"
             ],
             [
              0.1111111111111111,
              "#46039f"
             ],
             [
              0.2222222222222222,
              "#7201a8"
             ],
             [
              0.3333333333333333,
              "#9c179e"
             ],
             [
              0.4444444444444444,
              "#bd3786"
             ],
             [
              0.5555555555555556,
              "#d8576b"
             ],
             [
              0.6666666666666666,
              "#ed7953"
             ],
             [
              0.7777777777777778,
              "#fb9f3a"
             ],
             [
              0.8888888888888888,
              "#fdca26"
             ],
             [
              1.0,
              "#f0f921"
             ]
            ]
           }
          ],
          "contourcarpet": [
           {
            "type": "contourcarpet",
            "colorbar": {
             "outlinewidth": 0,
             "ticks": ""
            }
           }
          ],
          "contour": [
           {
            "type": "contour",
            "colorbar": {
             "outlinewidth": 0,
             "ticks": ""
            },
            "colorscale": [
             [
              0.0,
              "#0d0887"
             ],
             [
              0.1111111111111111,
              "#46039f"
             ],
             [
              0.2222222222222222,
              "#7201a8"
             ],
             [
              0.3333333333333333,
              "#9c179e"
             ],
             [
              0.4444444444444444,
              "#bd3786"
             ],
             [
              0.5555555555555556,
              "#d8576b"
             ],
             [
              0.6666666666666666,
              "#ed7953"
             ],
             [
              0.7777777777777778,
              "#fb9f3a"
             ],
             [
              0.8888888888888888,
              "#fdca26"
             ],
             [
              1.0,
              "#f0f921"
             ]
            ]
           }
          ],
          "surface": [
           {
            "type": "surface",
            "colorbar": {
             "outlinewidth": 0,
             "ticks": ""
            },
            "colorscale": [
             [
              0.0,
              "#0d0887"
             ],
             [
              0.1111111111111111,
              "#46039f"
             ],
             [
              0.2222222222222222,
              "#7201a8"
             ],
             [
              0.3333333333333333,
              "#9c179e"
             ],
             [
              0.4444444444444444,
              "#bd3786"
             ],
             [
              0.5555555555555556,
              "#d8576b"
             ],
             [
              0.6666666666666666,
              "#ed7953"
             ],
             [
              0.7777777777777778,
              "#fb9f3a"
             ],
             [
              0.8888888888888888,
              "#fdca26"
             ],
             [
              1.0,
              "#f0f921"
             ]
            ]
           }
          ],
          "mesh3d": [
           {
            "type": "mesh3d",
            "colorbar": {
             "outlinewidth": 0,
             "ticks": ""
            }
           }
          ],
          "scatter": [
           {
            "marker": {
             "line": {
              "color": "#283442"
             }
            },
            "type": "scatter"
           }
          ],
          "parcoords": [
           {
            "type": "parcoords",
            "line": {
             "colorbar": {
              "outlinewidth": 0,
              "ticks": ""
             }
            }
           }
          ],
          "scatterpolargl": [
           {
            "type": "scatterpolargl",
            "marker": {
             "colorbar": {
              "outlinewidth": 0,
              "ticks": ""
             }
            }
           }
          ],
          "bar": [
           {
            "error_x": {
             "color": "#f2f5fa"
            },
            "error_y": {
             "color": "#f2f5fa"
            },
            "marker": {
             "line": {
              "color": "rgb(17,17,17)",
              "width": 0.5
             },
             "pattern": {
              "fillmode": "overlay",
              "size": 10,
              "solidity": 0.2
             }
            },
            "type": "bar"
           }
          ],
          "scattergeo": [
           {
            "type": "scattergeo",
            "marker": {
             "colorbar": {
              "outlinewidth": 0,
              "ticks": ""
             }
            }
           }
          ],
          "scatterpolar": [
           {
            "type": "scatterpolar",
            "marker": {
             "colorbar": {
              "outlinewidth": 0,
              "ticks": ""
             }
            }
           }
          ],
          "histogram": [
           {
            "marker": {
             "pattern": {
              "fillmode": "overlay",
              "size": 10,
              "solidity": 0.2
             }
            },
            "type": "histogram"
           }
          ],
          "scattergl": [
           {
            "marker": {
             "line": {
              "color": "#283442"
             }
            },
            "type": "scattergl"
           }
          ],
          "scatter3d": [
           {
            "type": "scatter3d",
            "line": {
             "colorbar": {
              "outlinewidth": 0,
              "ticks": ""
             }
            },
            "marker": {
             "colorbar": {
              "outlinewidth": 0,
              "ticks": ""
             }
            }
           }
          ],
          "scattermapbox": [
           {
            "type": "scattermapbox",
            "marker": {
             "colorbar": {
              "outlinewidth": 0,
              "ticks": ""
             }
            }
           }
          ],
          "scatterternary": [
           {
            "type": "scatterternary",
            "marker": {
             "colorbar": {
              "outlinewidth": 0,
              "ticks": ""
             }
            }
           }
          ],
          "scattercarpet": [
           {
            "type": "scattercarpet",
            "marker": {
             "colorbar": {
              "outlinewidth": 0,
              "ticks": ""
             }
            }
           }
          ],
          "carpet": [
           {
            "aaxis": {
             "endlinecolor": "#A2B1C6",
             "gridcolor": "#506784",
             "linecolor": "#506784",
             "minorgridcolor": "#506784",
             "startlinecolor": "#A2B1C6"
            },
            "baxis": {
             "endlinecolor": "#A2B1C6",
             "gridcolor": "#506784",
             "linecolor": "#506784",
             "minorgridcolor": "#506784",
             "startlinecolor": "#A2B1C6"
            },
            "type": "carpet"
           }
          ],
          "table": [
           {
            "cells": {
             "fill": {
              "color": "#506784"
             },
             "line": {
              "color": "rgb(17,17,17)"
             }
            },
            "header": {
             "fill": {
              "color": "#2a3f5f"
             },
             "line": {
              "color": "rgb(17,17,17)"
             }
            },
            "type": "table"
           }
          ],
          "barpolar": [
           {
            "marker": {
             "line": {
              "color": "rgb(17,17,17)",
              "width": 0.5
             },
             "pattern": {
              "fillmode": "overlay",
              "size": 10,
              "solidity": 0.2
             }
            },
            "type": "barpolar"
           }
          ],
          "pie": [
           {
            "automargin": true,
            "type": "pie"
           }
          ]
         },
         "layout": {
          "autotypenumbers": "strict",
          "colorway": [
           "#636efa",
           "#EF553B",
           "#00cc96",
           "#ab63fa",
           "#FFA15A",
           "#19d3f3",
           "#FF6692",
           "#B6E880",
           "#FF97FF",
           "#FECB52"
          ],
          "font": {
           "color": "#f2f5fa"
          },
          "hovermode": "closest",
          "hoverlabel": {
           "align": "left"
          },
          "paper_bgcolor": "rgb(17,17,17)",
          "plot_bgcolor": "rgb(17,17,17)",
          "polar": {
           "bgcolor": "rgb(17,17,17)",
           "angularaxis": {
            "gridcolor": "#506784",
            "linecolor": "#506784",
            "ticks": ""
           },
           "radialaxis": {
            "gridcolor": "#506784",
            "linecolor": "#506784",
            "ticks": ""
           }
          },
          "ternary": {
           "bgcolor": "rgb(17,17,17)",
           "aaxis": {
            "gridcolor": "#506784",
            "linecolor": "#506784",
            "ticks": ""
           },
           "baxis": {
            "gridcolor": "#506784",
            "linecolor": "#506784",
            "ticks": ""
           },
           "caxis": {
            "gridcolor": "#506784",
            "linecolor": "#506784",
            "ticks": ""
           }
          },
          "coloraxis": {
           "colorbar": {
            "outlinewidth": 0,
            "ticks": ""
           }
          },
          "colorscale": {
           "sequential": [
            [
             0.0,
             "#0d0887"
            ],
            [
             0.1111111111111111,
             "#46039f"
            ],
            [
             0.2222222222222222,
             "#7201a8"
            ],
            [
             0.3333333333333333,
             "#9c179e"
            ],
            [
             0.4444444444444444,
             "#bd3786"
            ],
            [
             0.5555555555555556,
             "#d8576b"
            ],
            [
             0.6666666666666666,
             "#ed7953"
            ],
            [
             0.7777777777777778,
             "#fb9f3a"
            ],
            [
             0.8888888888888888,
             "#fdca26"
            ],
            [
             1.0,
             "#f0f921"
            ]
           ],
           "sequentialminus": [
            [
             0.0,
             "#0d0887"
            ],
            [
             0.1111111111111111,
             "#46039f"
            ],
            [
             0.2222222222222222,
             "#7201a8"
            ],
            [
             0.3333333333333333,
             "#9c179e"
            ],
            [
             0.4444444444444444,
             "#bd3786"
            ],
            [
             0.5555555555555556,
             "#d8576b"
            ],
            [
             0.6666666666666666,
             "#ed7953"
            ],
            [
             0.7777777777777778,
             "#fb9f3a"
            ],
            [
             0.8888888888888888,
             "#fdca26"
            ],
            [
             1.0,
             "#f0f921"
            ]
           ],
           "diverging": [
            [
             0,
             "#8e0152"
            ],
            [
             0.1,
             "#c51b7d"
            ],
            [
             0.2,
             "#de77ae"
            ],
            [
             0.3,
             "#f1b6da"
            ],
            [
             0.4,
             "#fde0ef"
            ],
            [
             0.5,
             "#f7f7f7"
            ],
            [
             0.6,
             "#e6f5d0"
            ],
            [
             0.7,
             "#b8e186"
            ],
            [
             0.8,
             "#7fbc41"
            ],
            [
             0.9,
             "#4d9221"
            ],
            [
             1,
             "#276419"
            ]
           ]
          },
          "xaxis": {
           "gridcolor": "#283442",
           "linecolor": "#506784",
           "ticks": "",
           "title": {
            "standoff": 15
           },
           "zerolinecolor": "#283442",
           "automargin": true,
           "zerolinewidth": 2
          },
          "yaxis": {
           "gridcolor": "#283442",
           "linecolor": "#506784",
           "ticks": "",
           "title": {
            "standoff": 15
           },
           "zerolinecolor": "#283442",
           "automargin": true,
           "zerolinewidth": 2
          },
          "scene": {
           "xaxis": {
            "backgroundcolor": "rgb(17,17,17)",
            "gridcolor": "#506784",
            "linecolor": "#506784",
            "showbackground": true,
            "ticks": "",
            "zerolinecolor": "#C8D4E3",
            "gridwidth": 2
           },
           "yaxis": {
            "backgroundcolor": "rgb(17,17,17)",
            "gridcolor": "#506784",
            "linecolor": "#506784",
            "showbackground": true,
            "ticks": "",
            "zerolinecolor": "#C8D4E3",
            "gridwidth": 2
           },
           "zaxis": {
            "backgroundcolor": "rgb(17,17,17)",
            "gridcolor": "#506784",
            "linecolor": "#506784",
            "showbackground": true,
            "ticks": "",
            "zerolinecolor": "#C8D4E3",
            "gridwidth": 2
           }
          },
          "shapedefaults": {
           "line": {
            "color": "#f2f5fa"
           }
          },
          "annotationdefaults": {
           "arrowcolor": "#f2f5fa",
           "arrowhead": 0,
           "arrowwidth": 1
          },
          "geo": {
           "bgcolor": "rgb(17,17,17)",
           "landcolor": "rgb(17,17,17)",
           "subunitcolor": "#506784",
           "showland": true,
           "showlakes": true,
           "lakecolor": "rgb(17,17,17)"
          },
          "title": {
           "x": 0.05
          },
          "updatemenudefaults": {
           "bgcolor": "#506784",
           "borderwidth": 0
          },
          "sliderdefaults": {
           "bgcolor": "#C8D4E3",
           "borderwidth": 1,
           "bordercolor": "rgb(17,17,17)",
           "tickwidth": 0
          },
          "mapbox": {
           "style": "dark"
          }
         }
        },
        "xaxis": {
         "anchor": "y",
         "domain": [
          0.0,
          1.0
         ],
         "title": {
          "text": "x"
         }
        },
        "yaxis": {
         "anchor": "x",
         "domain": [
          0.0,
          1.0
         ],
         "title": {
          "text": "y"
         }
        },
        "legend": {
         "tracegroupgap": 0
        },
        "title": {
         "text": "На проміжку [0;5𝜋] функція  𝑦=2𝑐𝑜𝑠𝑥(𝑥−𝜋/4)",
         "x": 0.5
        }
       },
       "config": {
        "plotlyServerURL": "https://plot.ly"
       }
      },
      "text/html": "<div>                            <div id=\"fd67e7a9-6be5-46d8-93ca-f5a27beba927\" class=\"plotly-graph-div\" style=\"height:525px; width:100%;\"></div>            <script type=\"text/javascript\">                require([\"plotly\"], function(Plotly) {                    window.PLOTLYENV=window.PLOTLYENV || {};                                    if (document.getElementById(\"fd67e7a9-6be5-46d8-93ca-f5a27beba927\")) {                    Plotly.newPlot(                        \"fd67e7a9-6be5-46d8-93ca-f5a27beba927\",                        [{\"hovertemplate\":\"x=%{x}\\u003cbr\\u003ey=%{y}\\u003cextra\\u003e\\u003c\\u002fextra\\u003e\",\"legendgroup\":\"\",\"line\":{\"color\":\"#636efa\",\"dash\":\"solid\"},\"marker\":{\"symbol\":\"circle\"},\"mode\":\"lines\",\"name\":\"\",\"orientation\":\"v\",\"showlegend\":false,\"x\":[0.0,0.01572368695490387,0.03144737390980774,0.04717106086471161,0.06289474781961547,0.07861843477451934,0.09434212172942322,0.11006580868432708,0.12578949563923095,0.1415131825941348,0.15723686954903868,0.17296055650394254,0.18868424345884643,0.2044079304137503,0.22013161736865416,0.23585530432355803,0.2515789912784619,0.2673026782333658,0.2830263651882696,0.2987500521431735,0.31447373909807735,0.33019742605298125,0.3459211130078851,0.361644799962789,0.37736848691769287,0.3930921738725967,0.4088158608275006,0.42453954778240444,0.44026323473730833,0.45598692169221217,0.47171060864711606,0.4874342956020199,0.5031579825569238,0.5188816695118277,0.5346053564667316,0.5503290434216354,0.5660527303765392,0.5817764173314431,0.597500104286347,0.6132237912412508,0.6289474781961547,0.6446711651510586,0.6603948521059625,0.6761185390608664,0.6918422260157702,0.7075659129706741,0.723289599925578,0.7390132868804818,0.7547369738353857,0.7704606607902895,0.7861843477451934,0.8019080347000973,0.8176317216550012,0.833355408609905,0.8490790955648089,0.8648027825197128,0.8805264694746167,0.8962501564295206,0.9119738433844243,0.9276975303393282,0.9434212172942321,0.959144904249136,0.9748685912040398,0.9905922781589437,1.0063159651138476,1.0220396520687514,1.0377633390236554,1.0534870259785591,1.0692107129334631,1.084934399888367,1.1006580868432707,1.1163817737981747,1.1321054607530785,1.1478291477079825,1.1635528346628863,1.17927652161779,1.195000208572694,1.2107238955275978,1.2264475824825016,1.2421712694374056,1.2578949563923094,1.2736186433472134,1.2893423303021172,1.305066017257021,1.320789704211925,1.3365133911668288,1.3522370781217328,1.3679607650766366,1.3836844520315403,1.3994081389864443,1.4151318259413481,1.4308555128962521,1.446579199851156,1.4623028868060597,1.4780265737609637,1.4937502607158675,1.5094739476707715,1.5251976346256753,1.540921321580579,1.556645008535483,1.5723686954903868,1.5880923824452906,1.6038160694001946,1.6195397563550984,1.6352634433100024,1.6509871302649062,1.66671081721981,1.682434504174714,1.6981581911296177,1.7138818780845217,1.7296055650394255,1.7453292519943293,1.7610529389492333,1.776776625904137,1.792500312859041,1.8082239998139449,1.8239476867688487,1.8396713737237527,1.8553950606786564,1.8711187476335602,1.8868424345884642,1.902566121543368,1.918289808498272,1.9340134954531758,1.9497371824080796,1.9654608693629836,1.9811845563178874,1.9969082432727914,2.012631930227695,2.028355617182599,2.0440793041375027,2.0598029910924067,2.0755266780473107,2.0912503650022143,2.1069740519571183,2.1226977389120223,2.1384214258669263,2.15414511282183,2.169868799776734,2.185592486731638,2.2013161736865414,2.2170398606414454,2.2327635475963494,2.248487234551253,2.264210921506157,2.279934608461061,2.295658295415965,2.3113819823708686,2.3271056693257726,2.3428293562806766,2.35855304323558,2.374276730190484,2.390000417145388,2.4057241041002917,2.4214477910551957,2.4371714780100997,2.4528951649650033,2.4686188519199073,2.4843425388748113,2.5000662258297153,2.515789912784619,2.531513599739523,2.547237286694427,2.5629609736493304,2.5786846606042344,2.5944083475591384,2.610132034514042,2.625855721468946,2.64157940842385,2.657303095378754,2.6730267823336575,2.6887504692885615,2.7044741562434655,2.720197843198369,2.735921530153273,2.751645217108177,2.7673689040630807,2.7830925910179847,2.7988162779728887,2.8145399649277922,2.8302636518826962,2.8459873388376002,2.8617110257925042,2.877434712747408,2.893158399702312,2.908882086657216,2.9246057736121194,2.9403294605670234,2.9560531475219274,2.971776834476831,2.987500521431735,3.003224208386639,3.018947895341543,3.0346715822964465,3.0503952692513505,3.0661189562062545,3.081842643161158,3.097566330116062,3.113290017070966,3.1290137040258696,3.1447373909807737,3.1604610779356777,3.176184764890581,3.191908451845485,3.207632138800389,3.2233558257552932,3.239079512710197,3.254803199665101,3.270526886620005,3.2862505735749084,3.3019742605298124,3.3176979474847164,3.33342163443962,3.349145321394524,3.364869008349428,3.3805926953043315,3.3963163822592355,3.4120400692141395,3.4277637561690435,3.443487443123947,3.459211130078851,3.474934817033755,3.4906585039886586,3.5063821909435626,3.5221058778984666,3.53782956485337,3.553553251808274,3.569276938763178,3.585000625718082,3.6007243126729858,3.6164479996278898,3.6321716865827938,3.6478953735376973,3.6636190604926013,3.6793427474475053,3.695066434402409,3.710790121357313,3.726513808312217,3.7422374952671205,3.7579611822220245,3.7736848691769285,3.7894085561318325,3.805132243086736,3.82085593004164,3.836579616996544,3.8523033039514476,3.8680269909063516,3.8837506778612556,3.899474364816159,3.915198051771063,3.930921738725967,3.946645425680871,3.9623691126357747,3.9780927995906787,3.9938164865455827,4.009540173500486,4.02526386045539,4.040987547410294,4.056711234365198,4.072434921320102,4.088158608275005,4.103882295229909,4.119605982184813,4.1353296691397174,4.1510533560946214,4.1667770430495255,4.182500730004429,4.198224416959333,4.213948103914237,4.229671790869141,4.245395477824045,4.261119164778949,4.276842851733853,4.292566538688756,4.30829022564366,4.324013912598564,4.339737599553468,4.355461286508372,4.371184973463276,4.386908660418179,4.402632347373083,4.418356034327987,4.434079721282891,4.449803408237795,4.465527095192699,4.481250782147603,4.496974469102506,4.51269815605741,4.528421843012314,4.544145529967218,4.559869216922122,4.575592903877026,4.59131659083193,4.607040277786833,4.622763964741737,4.638487651696641,4.654211338651545,4.669935025606449,4.685658712561353,4.701382399516256,4.71710608647116,4.732829773426064,4.748553460380968,4.764277147335872,4.780000834290776,4.79572452124568,4.811448208200583,4.827171895155487,4.842895582110391,4.858619269065295,4.874342956020199,4.890066642975103,4.9057903299300065,4.9215140168849105,4.9372377038398145,4.9529613907947185,4.9686850777496225,4.9844087647045265,5.0001324516594305,5.015856138614334,5.031579825569238,5.047303512524142,5.063027199479046,5.07875088643395,5.094474573388854,5.110198260343757,5.125921947298661,5.141645634253565,5.157369321208469,5.173093008163373,5.188816695118277,5.204540382073181,5.220264069028084,5.235987755982988,5.251711442937892,5.267435129892796,5.2831588168477,5.298882503802604,5.314606190757508,5.330329877712411,5.346053564667315,5.361777251622219,5.377500938577123,5.393224625532027,5.408948312486931,5.424671999441834,5.440395686396738,5.456119373351642,5.471843060306546,5.48756674726145,5.503290434216354,5.519014121171258,5.534737808126161,5.550461495081065,5.566185182035969,5.581908868990873,5.597632555945777,5.613356242900681,5.6290799298555845,5.6448036168104885,5.6605273037653925,5.6762509907202965,5.6919746776752005,5.7076983646301045,5.7234220515850085,5.739145738539912,5.754869425494816,5.77059311244972,5.786316799404624,5.802040486359528,5.817764173314432,5.833487860269335,5.849211547224239,5.864935234179143,5.880658921134047,5.896382608088951,5.912106295043855,5.927829981998759,5.943553668953662,5.959277355908566,5.97500104286347,5.990724729818374,6.006448416773278,6.022172103728182,6.037895790683086,6.053619477637989,6.069343164592893,6.085066851547797,6.100790538502701,6.116514225457605,6.132237912412509,6.147961599367412,6.163685286322316,6.17940897327722,6.195132660232124,6.210856347187028,6.226580034141932,6.242303721096836,6.258027408051739,6.273751095006643,6.289474781961547,6.305198468916451,6.320922155871355,6.336645842826259,6.352369529781162,6.368093216736066,6.38381690369097,6.399540590645874,6.415264277600778,6.4309879645556824,6.4467116515105864,6.46243533846549,6.478159025420394,6.493882712375298,6.509606399330202,6.525330086285106,6.54105377324001,6.556777460194913,6.572501147149817,6.588224834104721,6.603948521059625,6.619672208014529,6.635395894969433,6.651119581924337,6.66684326887924,6.682566955834144,6.698290642789048,6.714014329743952,6.729738016698856,6.74546170365376,6.761185390608663,6.776909077563567,6.792632764518471,6.808356451473375,6.824080138428279,6.839803825383183,6.855527512338087,6.87125119929299,6.886974886247894,6.902698573202798,6.918422260157702,6.934145947112606,6.94986963406751,6.965593321022414,6.981317007977317,6.997040694932221,7.012764381887125,7.028488068842029,7.044211755796933,7.059935442751837,7.07565912970674,7.091382816661644,7.107106503616548,7.122830190571452,7.138553877526356,7.15427756448126,7.170001251436164,7.1857249383910675,7.2014486253459715,7.2171723123008755,7.2328959992557795,7.2486196862106835,7.2643433731655875,7.280067060120491,7.295790747075395,7.311514434030299,7.327238120985203,7.342961807940107,7.358685494895011,7.374409181849915,7.390132868804818,7.405856555759722,7.421580242714626,7.43730392966953,7.453027616624434,7.468751303579338,7.484474990534241,7.500198677489145,7.515922364444049,7.531646051398953,7.547369738353857,7.563093425308761,7.578817112263665,7.594540799218568,7.610264486173472,7.625988173128376,7.64171186008328,7.657435547038184,7.673159233993088,7.688882920947992,7.704606607902895,7.720330294857799,7.736053981812703,7.751777668767607,7.767501355722511,7.783225042677415,7.798948729632318,7.814672416587222,7.830396103542126,7.84611979049703,7.861843477451934,7.877567164406838,7.893290851361742,7.9090145383166455,7.9247382252715495,7.9404619122264535,7.9561855991813575,7.9719092861362615,7.9876329730911655,8.00335666004607,8.019080347000973,8.034804033955878,8.05052772091078,8.066251407865684,8.081975094820589,8.097698781775492,8.113422468730397,8.1291461556853,8.144869842640205,8.160593529595108,8.17631721655001,8.192040903504916,8.207764590459819,8.223488277414724,8.239211964369627,8.254935651324532,8.270659338279435,8.286383025234338,8.302106712189243,8.317830399144146,8.333554086099051,8.349277773053954,8.365001460008857,8.380725146963762,8.396448833918665,8.41217252087357,8.427896207828473,8.443619894783378,8.459343581738281,8.475067268693184,8.49079095564809,8.506514642602992,8.522238329557897,8.5379620165128,8.553685703467705,8.569409390422608,8.585133077377511,8.600856764332416,8.61658045128732,8.632304138242224,8.648027825197127,8.663751512152032,8.679475199106935,8.695198886061839,8.710922573016743,8.726646259971647,8.742369946926551,8.758093633881455,8.773817320836358,8.789541007791263,8.805264694746166,8.82098838170107,8.836712068655974,8.852435755610879,8.868159442565782,8.883883129520685,8.89960681647559,8.915330503430493,8.931054190385398,8.9467778773403,8.962501564295206,8.978225251250109,8.993948938205012,9.009672625159917,9.02539631211482,9.041119999069725,9.056843686024628,9.072567372979533,9.088291059934436,9.104014746889339,9.119738433844244,9.135462120799147,9.151185807754052,9.166909494708955,9.18263318166386,9.198356868618763,9.214080555573666,9.229804242528571,9.245527929483474,9.26125161643838,9.276975303393282,9.292698990348185,9.30842267730309,9.324146364257993,9.339870051212898,9.355593738167801,9.371317425122706,9.38704111207761,9.402764799032512,9.418488485987417,9.43421217294232,9.449935859897225,9.465659546852129,9.481383233807033,9.497106920761937,9.51283060771684,9.528554294671745,9.544277981626648,9.560001668581553,9.575725355536456,9.59144904249136,9.607172729446264,9.622896416401167,9.638620103356072,9.654343790310975,9.67006747726588,9.685791164220783,9.701514851175688,9.71723853813059,9.732962225085494,9.748685912040399,9.764409598995302,9.780133285950207,9.79585697290511,9.811580659860013,9.827304346814918,9.843028033769821,9.858751720724726,9.874475407679629,9.890199094634534,9.905922781589437,9.92164646854434,9.937370155499245,9.953093842454148,9.968817529409053,9.984541216363956,10.000264903318861,10.015988590273764,10.031712277228667,10.047435964183572,10.063159651138475,10.07888333809338,10.094607025048283,10.110330712003188,10.126054398958091,10.141778085912994,10.1575017728679,10.173225459822802,10.188949146777707,10.20467283373261,10.220396520687514,10.236120207642418,10.251843894597322,10.267567581552226,10.28329126850713,10.299014955462034,10.314738642416938,10.33046232937184,10.346186016326746,10.361909703281649,10.377633390236554,10.393357077191457,10.409080764146362,10.424804451101265,10.440528138056168,10.456251825011073,10.471975511965976,10.48769919892088,10.503422885875784,10.519146572830689,10.534870259785592,10.550593946740495,10.5663176336954,10.582041320650303,10.597765007605208,10.613488694560111,10.629212381515016,10.644936068469919,10.660659755424822,10.676383442379727,10.69210712933463,10.707830816289535,10.723554503244438,10.739278190199341,10.755001877154246,10.77072556410915,10.786449251064054,10.802172938018957,10.817896624973862,10.833620311928765,10.849343998883668,10.865067685838573,10.880791372793476,10.896515059748381,10.912238746703284,10.92796243365819,10.943686120613092,10.959409807567996,10.9751334945229,10.990857181477804,11.006580868432708,11.022304555387612,11.038028242342516,11.05375192929742,11.069475616252323,11.085199303207228,11.10092299016213,11.116646677117036,11.132370364071939,11.148094051026842,11.163817737981747,11.17954142493665,11.195265111891555,11.210988798846458,11.226712485801363,11.242436172756266,11.258159859711169,11.273883546666074,11.289607233620977,11.305330920575882,11.321054607530785,11.33677829448569,11.352501981440593,11.368225668395496,11.383949355350401,11.399673042305304,11.415396729260209,11.431120416215112,11.446844103170017,11.46256779012492,11.478291477079823,11.494015164034728,11.509738850989631,11.525462537944536,11.54118622489944,11.556909911854344,11.572633598809247,11.58835728576415,11.604080972719055,11.619804659673958,11.635528346628863,11.651252033583766,11.66697572053867,11.682699407493574,11.698423094448477,11.714146781403382,11.729870468358286,11.74559415531319,11.761317842268094,11.777041529222997,11.792765216177902,11.808488903132805,11.82421259008771,11.839936277042613,11.855659963997518,11.87138365095242,11.887107337907324,11.902831024862229,11.918554711817132,11.934278398772037,11.95000208572694,11.965725772681845,11.981449459636748,11.997173146591651,12.012896833546556,12.028620520501459,12.044344207456364,12.060067894411267,12.075791581366172,12.091515268321075,12.107238955275978,12.122962642230883,12.138686329185786,12.154410016140691,12.170133703095594,12.185857390050497,12.201581077005402,12.217304763960305,12.23302845091521,12.248752137870113,12.264475824825018,12.280199511779921,12.295923198734824,12.31164688568973,12.327370572644632,12.343094259599537,12.35881794655444,12.374541633509345,12.390265320464248,12.405989007419151,12.421712694374056,12.43743638132896,12.453160068283864,12.468883755238767,12.484607442193672,12.500331129148575,12.516054816103479,12.531778503058383,12.547502190013287,12.563225876968191,12.578949563923095,12.594673250877998,12.610396937832903,12.626120624787806,12.64184431174271,12.657567998697614,12.673291685652519,12.689015372607422,12.704739059562325,12.72046274651723,12.736186433472133,12.751910120427038,12.76763380738194,12.783357494336846,12.799081181291749,12.814804868246652,12.830528555201557,12.84625224215646,12.861975929111365,12.877699616066268,12.893423303021173,12.909146989976076,12.92487067693098,12.940594363885884,12.956318050840787,12.972041737795692,12.987765424750595,13.0034891117055,13.019212798660403,13.034936485615306,13.050660172570211,13.066383859525114,13.08210754648002,13.097831233434922,13.113554920389825,13.12927860734473,13.145002294299633,13.160725981254538,13.176449668209441,13.192173355164346,13.20789704211925,13.223620729074153,13.239344416029057,13.25506810298396,13.270791789938865,13.286515476893769,13.302239163848673,13.317962850803577,13.33368653775848,13.349410224713385,13.365133911668288,13.380857598623193,13.396581285578096,13.412304972533,13.428028659487904,13.443752346442807,13.459476033397712,13.475199720352615,13.49092340730752,13.506647094262423,13.522370781217326,13.53809446817223,13.553818155127134,13.569541842082039,13.585265529036942,13.600989215991847,13.61671290294675,13.632436589901653,13.648160276856558,13.663883963811461,13.679607650766366,13.695331337721269,13.711055024676174,13.726778711631077,13.74250239858598,13.758226085540885,13.773949772495788,13.789673459450693,13.805397146405596,13.821120833360501,13.836844520315404,13.852568207270307,13.868291894225212,13.884015581180115,13.89973926813502,13.915462955089923,13.931186642044828,13.946910328999731,13.962634015954634,13.97835770290954,13.994081389864442,14.009805076819347,14.02552876377425,14.041252450729154,14.056976137684059,14.072699824638962,14.088423511593867,14.10414719854877,14.119870885503675,14.135594572458578,14.15131825941348,14.167041946368386,14.182765633323289,14.198489320278194,14.214213007233097,14.229936694188002,14.245660381142905,14.261384068097808,14.277107755052713,14.292831442007616,14.30855512896252,14.324278815917424,14.340002502872329,14.355726189827232,14.371449876782135,14.38717356373704,14.402897250691943,14.418620937646848,14.434344624601751,14.450068311556654,14.465791998511559,14.481515685466462,14.497239372421367,14.51296305937627,14.528686746331175,14.544410433286078,14.560134120240981,14.575857807195886,14.59158149415079,14.607305181105694,14.623028868060597,14.638752555015502,14.654476241970405,14.670199928925308,14.685923615880213,14.701647302835116,14.717370989790021,14.733094676744924,14.74881836369983,14.764542050654732,14.780265737609636,14.79598942456454,14.811713111519444,14.827436798474348,14.843160485429252,14.858884172384156,14.87460785933906,14.890331546293963,14.906055233248868,14.92177892020377,14.937502607158676,14.953226294113579,14.968949981068482,14.984673668023387,15.00039735497829,15.016121041933195,15.031844728888098,15.047568415843003,15.063292102797906,15.079015789752809,15.094739476707714,15.110463163662617,15.126186850617522,15.141910537572425,15.15763422452733,15.173357911482233,15.189081598437136,15.204805285392041,15.220528972346944,15.236252659301849,15.251976346256752,15.267700033211657,15.28342372016656,15.299147407121463,15.314871094076368,15.330594781031271,15.346318467986176,15.36204215494108,15.377765841895984,15.393489528850887,15.40921321580579,15.424936902760695,15.440660589715598,15.456384276670503,15.472107963625406,15.48783165058031,15.503555337535214,15.519279024490118,15.535002711445022,15.550726398399926,15.56645008535483,15.582173772309734,15.597897459264637,15.613621146219542,15.629344833174445,15.64506852012935,15.660792207084253,15.676515894039158,15.69223958099406,15.707963267948966],\"xaxis\":\"x\",\"y\":[-1.5707963267948966,-1.539158666850952,-1.5071560303425002,-1.474811873872433,-1.4421497307902433,-1.409193201532714,-1.3759659439508627,-1.3424916636264987,-1.3087941041817224,-1.274897037584713,-1.2408242544551538,-1.2065995543726216,-1.1722467361912905,-1.1377895883642803,-1.1032518792809753,-1.0686573476206445,-1.0340296927256738,-0.9993925649977216,-0.9647695563201012,-0.9301841905096724,-0.8956599138015306,-0.8612200853697534,-0.8268879678874613,-0.7926867181294349,-0.7586393776205076,-0.7247688633329483,-0.6910979584360208,-0.6576493031008979,-0.6244453853640778,-0.5915085320524445,-0.5588608997730771,-0.5265244659709049,-0.49452102005727083,-0.46287215461245007,-0.43159925666513965,-0.400723499051912,-0.37026583185959755,-0.3402469739535347,-0.31068740459459304,-0.28160735514785157,-0.2530268008857761,-0.22496545288871758,-0.1974427500455094,-0.1704778511569183,-0.14408962714466392,-0.11829665336868755,-0.09311720205531769,-0.06856923483893809,-0.0446703954197314,-0.021438002340030307,0.0011109581182311271,0.022959838912510425,0.04409233909268435,0.0644925105257378,0.084144764489787,0.10303387813514896,0.12114500081021821,0.13846366024995124,0.15497576862480708,0.17066762844803826,0.18552593833927053,0.19953779864236112,0.2126907168955688,0.22497261315212078,0.23637182514930763,0.24687711332429055,0.2564776656748528,0.2651631024633776,0.27292348076239054,0.27974929884004973,0.28563150038402607,0.29056147856226383,0.2945310799191676,0.2975326081058166,0.29955882744285794,0.30060296631478967,0.3006587203943962,0.2997202556961558,0.29778221145749695,0.2948397028468336,0.2908883234973693,0.2859241478657155,0.27994373341442724,0.2729441226176167,0.2649228447888632,0.2558779177306983,0.24580784920499804,0.23471163822368024,0.22258877615915657,0.20943924767405378,0.19526353146977554,0.18006260085353207,0.16383792412353437,0.14659146477209598,0.12832568150645748,0.10904352808720216,0.08874845298418861,0.06744439884999733,0.045135801810932324,0.02182759057569442,-0.0024748146381068825,-0.027765503359376477,-0.05403807630059649,-0.08128564697618204,-0.1095008435017251,-0.1386758105736481,-0.16880221162875036,-0.19987123118305056,-0.2318735773492811,-0.2647994845323339,-0.2986387163018812,-0.3333805684413616,-0.36901387217243736,-0.40552699755398863,-0.4429078570546504,-0.4811439092978248,-0.5202221629780704,-0.5601291809476869,-0.6008510844722724,-0.6423735576539752,-0.6846818520210942,-0.727760791282634,-0.7715947762463756,-0.8161677898989397,-0.8614634026463057,-0.9074647777131574,-0.9541546766993944,-1.0015154652921012,-1.0495291191311824,-1.0981772298268668,-1.1474410111271798,-1.197301305233489,-1.2477385892621167,-1.2987329818500226,-1.3502642499024744,-1.4023118154805703,-1.454854762826471,-1.5078718455241038,-1.5613414937930947,-1.615241821913593,-1.6695506357796677,-1.7242454405788654,-1.7793034485954715,-1.8347015871350212,-1.8904165065675231,-1.9464245884868105,-2.0027019539834443,-2.0592244720284962,-2.1159677679655466,-2.1729072321081433,-2.230018028439994,-2.287275103415079,-2.344653194854836,-2.402126840939582,-2.459670389291246,-2.5172580061444774,-2.5748636856031797,-2.632461258979464,-2.6900244042119765,-2.747526655360578,-2.8049414121742524,-2.86224194972917,-2.9194014281337157,-2.9763929022973676,-3.033189331760211,-3.0897635905798637,-3.1460884772726057,-3.2021367248054373,-3.2578810106357814,-3.3132939667955537,-3.3683481900162633,-3.4230162518918332,-3.4772707090757558,-3.5310841135092566,-3.5844290226770665,-3.6372780098873987,-3.6896036745727483,-3.7413786526080917,-3.792575626643033,-3.8431673364445,-3.893126589246526,-3.9424262701036494,-3.9910393522445164,-4.038938907422178,-4.086098116257657,-4.1324902785732744,-4.178088823712307,-4.22286732084148,-4.266799489232824,-4.309859208521437,-4.352020528935696,-4.393257681496419,-4.433545088181568,-4.472857372053006,-4.51116936734188,-4.548456129489196,-4.58469294513814,-4.619855342074767,-4.653919099113609,-4.686860255924841,-4.718655122799615,-4.749280290350198,-4.778712639141565,-4.8069293492511225,-4.833907909753236,-4.859626128125282,-4.884062139571933,-4.907194416264438,-4.929001776491652,-4.949463393719616,-4.9685588055564995,-4.986267922619737,-5.0025710373022445,-5.017448832434586,-5.03088238984003,-5.042853198779436,-5.05334316428296,-5.062334615365576,-5.069810313123484,-5.075753458708441,-5.080147701177169,-5.082977145212962,-5.084226358716668,-5.083880380264281,-5.081924726428389,-5.078345398960776,-5.073128891833506,-5.066262198135873,-5.057732816824617,-5.047528759324889,-5.035638555979428,-5.022051262343531,-5.006756465323386,-4.989744289155393,-4.971005401224178,-4.950531017717009,-4.928312909112383,-4.9043434055006285,-4.878615401734382,-4.851122362406853,-4.821858326655871,-4.790817912791719,-4.757996322746846,-4.72338934634556,-4.6869933653919365,-4.648805357574106,-4.608822900183275,-4.567044173645795,-4.5234679648666845,-4.478093670383063,-4.430921299326019,-4.381951476189475,-4.3311854434046895,-4.278625063719064,-4.224272822378036,-4.168131829108844,-4.110205819905013,-4.050499158610549,-3.9890168383027524,-3.9257644824727684,-3.860748346002941,-3.7939753159401524,-3.7254529120644193,-3.655189287251981,-3.583193227632291,-3.5094741525383166,-3.434042114249634,-3.3569077975278625,-3.278082518944091,-3.1975782259979186,-3.1154074960278946,-3.0315835349131577,-2.9461201755661373,-2.8590318762162745,-2.77033371848472,-2.68004140525017,-2.5881712583058576,-2.4947402158079814,-2.399765829515807,-2.3032662618237763,-2.2052602825859853,-2.105767265733581,-2.004807185685487,-1.9024006135531262,-1.798568713139774,-1.6933332367352625,-1.5867165207068248,-1.4787414808868993,-1.369431607758897,-1.258810961441791,-1.1469041664746629,-1.0337364064022792,-0.9193334181628737,-0.803721486279381,-0.6869274368553778,-0.5689786313771945,-0.4499029603234916,-0.32972883658388324,-0.20848518868812266,-0.08620145384746994,0.037092429190123684,0.16136602746917955,0.2865884213385467,0.41272821214399086,0.5397535300996452,0.6676320423363418,0.7963309611247872,0.9258170522715334,1.05605664368549,1.187015634112916,1.3186595020385243,1.450953314750423,1.5838617375665087,1.7173490432199268,1.8513791214010091,1.985915488453302,2.1209212972209848,2.2563593470450893,2.3921920939058126,2.528381660708186,2.6648898477083454,2.801678143077455,2.9387077336005434,3.075939515507204,3.213334105431223,3.3508518514960897,3.4884528445233594,3.6260969293606413,3.7637437163261924,3.9013525927668113,4.038882734725817,4.176293118717835,4.3135425336070385,4.450589592585533,4.587392745248379,4.723910289761928,4.860100385121932,4.995921063497901,5.1313302426602165,5.266285738486357,5.400745277542707,5.534666509738185,5.668007021046151,5.800724346290809,5.9327759819943875,6.0641193992813545,6.194712056835909,6.324511413908841,6.453474943370067,6.581560144802895,6.708724557636163,6.834925774310369,6.960121453473862,7.0842693332052,7.207327244257624,7.329253123321829,7.450005026302929,7.569541141607685,7.68781980343796,7.804799505086431,7.920438912230427,8.03469687622,8.147532447356058,8.2589048881546,8.368773686592922,8.477098569333805,8.583839514923573,8.688956766959967,8.792410847225787,8.894162568784221,8.994173049031817,9.092403722704997,9.188816354836144,9.283373053655078,9.376036283432027,9.466768877257966,9.555534049758302,9.642295409735956,9.727016972739737,9.80966317355414,9.890198878606466,9.968589398287389,10.04480049918102,10.118798416200482,10.190549864625154,10.260022052035659,10.32718269014275,10.39200000650621,10.454442756140002,10.51448023299984,10.572082281349394,10.627219307001432,10.679862288430156,10.72998278775101,10.777552961564407,10.822545571659624,10.864933995575395,10.904692237013544,10.941794936102196,10.976217379505082,11.007935510373436,11.036925938137138,11.063165948131697,11.086633511057745,11.107307292269759,11.125166660890772,11.140191698749845,11.152363209139185,11.161662725387743,11.168072519248268,11.171575609094786,11.17215576792752,11.169797531182361,11.16448620434198,11.156207870345806,11.144949396796077,11.130698442957243,11.113443466546105,11.093173730310042,11.069879308390796,11.04355109247133,11.014180797703332,10.981760968412951,10.946284983582519,10.907747062105924,10.866142267815508,10.821466514278333,10.77371656935972,10.722890059552093,10.668985474067167,10.612002168689614,10.55194036939034,10.488801175697752,10.422586563825156,10.353299389552836,10.280943390863182,10.205523190327389,10.12704429724237,10.04551310951647,9.9609369153028,9.873323894378904,9.78268311927171,9.689024556126622,9.592359065319874,9.492698401813144,9.390055215249607,9.28444304979074,9.175876343693059,9.064370428624262,8.949941528718202,8.832606759368241,8.712384125758511,8.589292521132926,8.463351724801502,8.334582399883965,8.203006090790485,8.06864522043953,7.931523087212933,7.791663861648209,7.649092582868497,7.503835154750248,7.3559183418291125,7.205369764944465,7.0522178966230715,6.896492056202439,6.738222404694673,6.5774399393913905,6.4141764882106695,6.248464703786846,6.080338057304186,5.909830832075468,5.736978116866561,5.561815798968327,5.384380557016973,5.204709853564315,5.0228419273993525,4.838815785622673,4.652671195475203,4.46444867592312,4.2741894890004515,4.081935630911314,3.887729822893615,3.6916155018461687,3.493636810721269,3.2938385886847517,3.0922663610458585,2.888966328958952,2.6839853588995264,2.477370971916849,2.2691713326656813,2.059435238219614,1.848212106668535,1.6355519655030566,1.4215054397883953,1.2061237401306668,0.9894586504383833,0.7715625154820965,0.5524882282551019,0.3322892171384346,0.11101943287302853,-0.11126666465760372,-0.33451411983100415,-0.5586674948724065,-0.7836708836210037,-1.009467925472505,-1.2360018194943145,-1.4632153387100513,-1.691050844549627,-1.9194503014613151,-2.148355291682092,-2.3777070301624805,-2.607446379642186,-2.8375138658723644,-3.067849692981144,-3.298393758977868,-3.529085671392303,-3.759864763045003,-3.990670107944089,-4.221440537305076,-4.4521146556887405,-4.682630857253578,-4.912927342117923,-5.142942132827668,-5.372613090925472,-5.601877933616408,-5.83067425052641,-6.058939520548213,-6.286611128771062,-6.513626383489019,-6.739922533283513,-6.965436784175804,-7.190106316844046,-7.413868303901067,-7.636659927227505,-7.8584183953558435,-8.079080960900823,-8.298584938030823,-8.516867719976215,-8.733866796569007,-8.949519771809769,-9.163764381456302,-9.376538510629436,-9.587780211431317,-9.797427720570628,-10.005419476990584,-10.211694139493998,-10.41619060436118,-10.61884802295514,-10.819605819309352,-11.018403707693324,-11.215181710150434,-11.409880174003726,-11.602439789323999,-11.792801606355818,-11.980907052895985,-12.16669795161964,-12.350116537349242,-12.531105474260931,-12.709607873023865,-12.885567307867136,-13.058927833569422,-13.229634002366671,-13.397630880772375,-13.562864066306089,-13.725279704124697,-13.884824503552093,-14.041445754501934,-14.19509134378881,-14.34570977132309,-14.493250166184286,-14.6376623025686,-14.778896615605376,-14.91690421703815,-15.05163691076527,-15.183047208235468,-15.311088343693923,-15.435714289273768,-15.556879769928896,-15.674540278203049,-15.788652088831112,-15.899172273167693,-16.00605871343878,-16.109270116812027,-16.208766029281126,-16.304506849360205,-16.396453841583632,-16.48456914980723,-16.56881581030655,-16.649157764668054,-16.72555987246922,-16.79798792374328,-16.866408651224788,-16.930789742371925,-16.991099851161643,-17.047308609653918,-17.099386639321086,-17.14730556213874,-17.191038011434298,-17.23055764248984,-17.2658391428954,-17.29685824264939,-17.323591724002636,-17.34601743104258,-17.364114279014515,-17.377862263376365,-17.387242468583995,-17.392237076603852,-17.39282937514989,-17.389003765641842,-17.380745770881866,-17.36804204244672,-17.350880367792787,-17.329249677071115,-17.303140049649986,-17.272542720342386,-17.237450085335862,-17.197855707822505,-17.153754323326602,-17.105141844727846,-17.05201536697777,-16.994373171507497,-16.93221473032474,-16.865540709798054,-16.79435297412666,-16.71865458849389,-16.638449821902768,-16.55374414969204,-16.464544255731102,-16.37085803429257,-16.272694591600924,-16.170064247056235,-16.06297853413158,-15.951450200943237,-15.835493210492631,-15.715122740579,-15.590355183382247,-15.461208144714917,-15.32770044294305,-15.189852107574914,-15.047684377517623,-14.901219699000995,-14.750481723168354,-14.595495303334422,-14.436286491909671,-14.272882536991768,-14.10531187862361,-13.93360414471858,-13.757790146653132,-13.577901874526885,-13.393972492091148,-13.206036331345883,-13.014128886806189,-12.818286809438904,-12.618547900269894,-12.414951103663489,-12.207536500274465,-11.996345299674289,-11.781419832652203,-11.562803543192958,-11.340540980132378,-11.114677788491987,-10.885260700494815,-10.652337526263345,-10.415957144202087,-10.176169491065862,-9.933025551716325,-9.686577348568553,-9.436877930729413,-9.18398136283069,-8.927942713558364,-8.66881804388127,-8.406664394980735,-8.141539775884478,-7.8735031508070685,-7.60261442619939,-7.3289344375106475,-7.052524935664855,-6.773448573255756,-6.491768890462305,-6.207550300688548,-5.9208580759308855,-5.631758331875643,-5.34031801273116,-5.046604875796868,-4.7506874757737165,-4.45263514881925,-4.152517996350665,-3.8504068686004844,-3.5463733479276405,-3.2404897318889696,-2.9328290160740553,-2.623464876708356,-2.3124716530284006,-1.9999243294329316,-1.6858985174151284,-1.3704704372791943,-1.0537168996468407,-0.7357152867570674,-0.4165435335646663,-0.09628010864171951,0.22499600511359247,0.5472053299552293,0.8702679129508925,1.1941033458209656,1.518630784950998,1.8437689715718408,2.169436252102761,2.4955505986528115,2.822029629674392,3.148790630764902,3.47575057561032,3.8028261470657734,4.129933758368127,4.4569895744742585,4.783909533520733,5.110609368398204,5.437004628436165,5.76301070119154,6.088542834335891,6.413516157635934,6.737845705020784,7.061446436731329,7.3842332615448,7.70612105906988,8.027024702105624,8.346859079058692,8.665539116413386,8.982979801247676,9.299096203790382,9.613803500012432,9.927016994247316,10.238652141833832,10.548624571775486,10.85685010941082,11.16324479908779,11.467724926837182,11.770207043037855,12.07060798506885,12.368844899941326,12.664835266904634,12.95849692002072,13.249748070699885,13.53850733019281,13.824693732031857,14.10822675441592,14.389026342532958,14.667012930813334,14.942107465108815,15.214231424790142,15.48330684475804,15.749256337360755,16.012003114212483,16.27147100790676,16.527584493618185,16.780268710587265,17.029449483481475,17.275053343627434,17.517007550107543,17.755240110715373,17.989679802764233,18.220256193742294,18.446899661809258,18.669541416127878,18.88811351702542,19.102548895978533,19.312781375416158,19.518745688334977,19.720377497721124,19.91761341577339,20.110391022921437,20.29864888663436,20.482326580013417,20.661364700163816,20.83570488634033,21.00528983786088,21.170063331783393,21.329970240340245,21.484956548125258,21.634969369028326,21.779956962912156,21.9198687520266,22.054655337155143,22.184268513489183,22.308661286224762,22.427787885877265,22.541603783309437,22.650065704467803,22.75313164482332,22.850760883511306,22.94291399716669,23.029552873449866,23.110640724259017,23.186142098624803,23.256022895283074,23.320250374921745,23.378793172097687,23.43162130681999,23.4787061957955,23.5200206633331,23.555538951903046,23.585236732347717,23.609091113740465,23.627080652889006,23.639185363480152,23.645386724862657,23.64566769046503,23.640012695845336,23.62840766636998,23.610840024518687,23.58729869681286,23.557774120364762,23.522258249044846,23.480744559264878,23.433228055374325,23.379705274667984,23.320174292002402,23.25463472401925,23.183087732973554,23.105536030164895,23.021983878969955,22.932437097474537,22.836903060703726,22.73539070244848,22.627910516687546,22.5144745586033,22.39509644519034,22.269791355456004,22.138576030211528,22.001468771453474,21.85848944133422,21.709659460721316,21.55500180734502,21.394541013533484,21.228303163535692,21.056315890431513,20.87860837262916,20.69521132995002,20.506157019300694,20.311479229933145,20.111213278292556,19.905396002454165,19.69406575614889,19.477262402379147,19.255027306625237,19.027403329643256,18.79443481985592,18.556167605336793,18.312648985390002,18.063927721725957,17.810054029235182,17.551079566361672,17.287057425077034,17.018042120458105,16.744089579868877,16.46525713174984,16.18160349401583,15.893188762065416,15.6000743964039,15.302323209881981,14.999999354553514,14.693168308153961,14.381896860203206,14.066253097735247,13.746306390657338,13.422127376742642,13.093787946258345,12.761361226233772,12.424921564370711,12.08454451260035,11.74030681029008,11.392286367103404,11.040562245517757,10.685214643002897,10.326324873865083,9.963975350759911,9.598249565878964,9.22923207181414,8.857008462103634,8.481665351465004,8.103290355718624,7.7219720714074604,7.337800055116621,6.9508648024985105,6.561257727008103,6.169071138352845,5.774398220663367,5.377333010388796,4.977970373923306,4.5764059849678445,4.172736301633564,3.7670585432919577,3.3594706671768213,2.9500713447447904,2.5389599377987846,2.1262364743812876,1.7120016244428475,1.2963566752912463,0.8794035068284908,0.4612445665802285,0.041982844525213794,-0.37827815227045686,-0.7994344252069101,-1.2213815098860252,-1.6440145020230357,-2.0672280835265857,-2.490916548742236,-2.9149738308513538,-3.339293528420272,-3.7637689320918826,-4.188293051413443,-4.612758641794337,-5.037058231585803,-5.4610841492772675,-5.884728550800891,-6.307883446938879,-6.730440730825402,-7.152292205536613,-7.573329611762195,-7.993444655550175,-8.412529036119363,-8.83047447373103,-9.24717273761323,-9.662515673930935,-10.076395233793715,-10.488703501295063,-10.899332721574712,-11.308175328898011,-11.715123974744001,-12.120071555895231,-12.522911242522573,-12.923536506256424,-13.321841148238438,-13.71771932714496,-14.111065587176192,-14.50177488600257,-14.889742622661498,-15.27486466539742,-15.657037379436836,-16.036157654692182,-16.412122933385884,-16.784831237588513,-17.154181196662634,-17.52007207460549,-17.882403797283516,-18.241076979550453,-18.595992952242938,-18.947053789045043,-19.294162333215812,-19.63722222417143,-19.976137923915378,-20.310814743309635,-20.64115886817893,-20.967077385242014,-21.288478307861887,-21.605270601608414,-21.917364209626527,-22.22467007780224,-22.527100179720644,-22.824567541407784,-23.116986265850674,-23.404271557287846,-23.686339745263897,-23.963108308441775,-24.234495898165235,-24.500422361765878,-24.76080876560725,-25.015577417860428,-25.264651891003886,-25.50795704404161,-25.745419044433394,-25.976965389730356,-26.202524928910414,-26.422027883406635,-26.635405867823312,-26.842591910333084,-27.04352047274952,-27.238127470269493,-27.426350290879085,-27.608127814417937,-27.78340043129588,-27.95211006085687,-28.114200169384343,-28.269615787742815,-28.41830352865065,-28.560211603578328,-28.69528983926774,-28.823489693866954,-28.94476427267584,-29.05906834349775,-29.166358351592283,-29.26659243422489,-29.359730434808323,-29.445733916631962,-29.524566176174314,-29.596192255994623,-29.66057895719955,-29.717694851480612,-29.767510292718768,-29.809997428152094,-29.845130209103033],\"yaxis\":\"y\",\"type\":\"scatter\"}],                        {\"template\":{\"data\":{\"histogram2dcontour\":[{\"type\":\"histogram2dcontour\",\"colorbar\":{\"outlinewidth\":0,\"ticks\":\"\"},\"colorscale\":[[0.0,\"#0d0887\"],[0.1111111111111111,\"#46039f\"],[0.2222222222222222,\"#7201a8\"],[0.3333333333333333,\"#9c179e\"],[0.4444444444444444,\"#bd3786\"],[0.5555555555555556,\"#d8576b\"],[0.6666666666666666,\"#ed7953\"],[0.7777777777777778,\"#fb9f3a\"],[0.8888888888888888,\"#fdca26\"],[1.0,\"#f0f921\"]]}],\"choropleth\":[{\"type\":\"choropleth\",\"colorbar\":{\"outlinewidth\":0,\"ticks\":\"\"}}],\"histogram2d\":[{\"type\":\"histogram2d\",\"colorbar\":{\"outlinewidth\":0,\"ticks\":\"\"},\"colorscale\":[[0.0,\"#0d0887\"],[0.1111111111111111,\"#46039f\"],[0.2222222222222222,\"#7201a8\"],[0.3333333333333333,\"#9c179e\"],[0.4444444444444444,\"#bd3786\"],[0.5555555555555556,\"#d8576b\"],[0.6666666666666666,\"#ed7953\"],[0.7777777777777778,\"#fb9f3a\"],[0.8888888888888888,\"#fdca26\"],[1.0,\"#f0f921\"]]}],\"heatmap\":[{\"type\":\"heatmap\",\"colorbar\":{\"outlinewidth\":0,\"ticks\":\"\"},\"colorscale\":[[0.0,\"#0d0887\"],[0.1111111111111111,\"#46039f\"],[0.2222222222222222,\"#7201a8\"],[0.3333333333333333,\"#9c179e\"],[0.4444444444444444,\"#bd3786\"],[0.5555555555555556,\"#d8576b\"],[0.6666666666666666,\"#ed7953\"],[0.7777777777777778,\"#fb9f3a\"],[0.8888888888888888,\"#fdca26\"],[1.0,\"#f0f921\"]]}],\"heatmapgl\":[{\"type\":\"heatmapgl\",\"colorbar\":{\"outlinewidth\":0,\"ticks\":\"\"},\"colorscale\":[[0.0,\"#0d0887\"],[0.1111111111111111,\"#46039f\"],[0.2222222222222222,\"#7201a8\"],[0.3333333333333333,\"#9c179e\"],[0.4444444444444444,\"#bd3786\"],[0.5555555555555556,\"#d8576b\"],[0.6666666666666666,\"#ed7953\"],[0.7777777777777778,\"#fb9f3a\"],[0.8888888888888888,\"#fdca26\"],[1.0,\"#f0f921\"]]}],\"contourcarpet\":[{\"type\":\"contourcarpet\",\"colorbar\":{\"outlinewidth\":0,\"ticks\":\"\"}}],\"contour\":[{\"type\":\"contour\",\"colorbar\":{\"outlinewidth\":0,\"ticks\":\"\"},\"colorscale\":[[0.0,\"#0d0887\"],[0.1111111111111111,\"#46039f\"],[0.2222222222222222,\"#7201a8\"],[0.3333333333333333,\"#9c179e\"],[0.4444444444444444,\"#bd3786\"],[0.5555555555555556,\"#d8576b\"],[0.6666666666666666,\"#ed7953\"],[0.7777777777777778,\"#fb9f3a\"],[0.8888888888888888,\"#fdca26\"],[1.0,\"#f0f921\"]]}],\"surface\":[{\"type\":\"surface\",\"colorbar\":{\"outlinewidth\":0,\"ticks\":\"\"},\"colorscale\":[[0.0,\"#0d0887\"],[0.1111111111111111,\"#46039f\"],[0.2222222222222222,\"#7201a8\"],[0.3333333333333333,\"#9c179e\"],[0.4444444444444444,\"#bd3786\"],[0.5555555555555556,\"#d8576b\"],[0.6666666666666666,\"#ed7953\"],[0.7777777777777778,\"#fb9f3a\"],[0.8888888888888888,\"#fdca26\"],[1.0,\"#f0f921\"]]}],\"mesh3d\":[{\"type\":\"mesh3d\",\"colorbar\":{\"outlinewidth\":0,\"ticks\":\"\"}}],\"scatter\":[{\"marker\":{\"line\":{\"color\":\"#283442\"}},\"type\":\"scatter\"}],\"parcoords\":[{\"type\":\"parcoords\",\"line\":{\"colorbar\":{\"outlinewidth\":0,\"ticks\":\"\"}}}],\"scatterpolargl\":[{\"type\":\"scatterpolargl\",\"marker\":{\"colorbar\":{\"outlinewidth\":0,\"ticks\":\"\"}}}],\"bar\":[{\"error_x\":{\"color\":\"#f2f5fa\"},\"error_y\":{\"color\":\"#f2f5fa\"},\"marker\":{\"line\":{\"color\":\"rgb(17,17,17)\",\"width\":0.5},\"pattern\":{\"fillmode\":\"overlay\",\"size\":10,\"solidity\":0.2}},\"type\":\"bar\"}],\"scattergeo\":[{\"type\":\"scattergeo\",\"marker\":{\"colorbar\":{\"outlinewidth\":0,\"ticks\":\"\"}}}],\"scatterpolar\":[{\"type\":\"scatterpolar\",\"marker\":{\"colorbar\":{\"outlinewidth\":0,\"ticks\":\"\"}}}],\"histogram\":[{\"marker\":{\"pattern\":{\"fillmode\":\"overlay\",\"size\":10,\"solidity\":0.2}},\"type\":\"histogram\"}],\"scattergl\":[{\"marker\":{\"line\":{\"color\":\"#283442\"}},\"type\":\"scattergl\"}],\"scatter3d\":[{\"type\":\"scatter3d\",\"line\":{\"colorbar\":{\"outlinewidth\":0,\"ticks\":\"\"}},\"marker\":{\"colorbar\":{\"outlinewidth\":0,\"ticks\":\"\"}}}],\"scattermapbox\":[{\"type\":\"scattermapbox\",\"marker\":{\"colorbar\":{\"outlinewidth\":0,\"ticks\":\"\"}}}],\"scatterternary\":[{\"type\":\"scatterternary\",\"marker\":{\"colorbar\":{\"outlinewidth\":0,\"ticks\":\"\"}}}],\"scattercarpet\":[{\"type\":\"scattercarpet\",\"marker\":{\"colorbar\":{\"outlinewidth\":0,\"ticks\":\"\"}}}],\"carpet\":[{\"aaxis\":{\"endlinecolor\":\"#A2B1C6\",\"gridcolor\":\"#506784\",\"linecolor\":\"#506784\",\"minorgridcolor\":\"#506784\",\"startlinecolor\":\"#A2B1C6\"},\"baxis\":{\"endlinecolor\":\"#A2B1C6\",\"gridcolor\":\"#506784\",\"linecolor\":\"#506784\",\"minorgridcolor\":\"#506784\",\"startlinecolor\":\"#A2B1C6\"},\"type\":\"carpet\"}],\"table\":[{\"cells\":{\"fill\":{\"color\":\"#506784\"},\"line\":{\"color\":\"rgb(17,17,17)\"}},\"header\":{\"fill\":{\"color\":\"#2a3f5f\"},\"line\":{\"color\":\"rgb(17,17,17)\"}},\"type\":\"table\"}],\"barpolar\":[{\"marker\":{\"line\":{\"color\":\"rgb(17,17,17)\",\"width\":0.5},\"pattern\":{\"fillmode\":\"overlay\",\"size\":10,\"solidity\":0.2}},\"type\":\"barpolar\"}],\"pie\":[{\"automargin\":true,\"type\":\"pie\"}]},\"layout\":{\"autotypenumbers\":\"strict\",\"colorway\":[\"#636efa\",\"#EF553B\",\"#00cc96\",\"#ab63fa\",\"#FFA15A\",\"#19d3f3\",\"#FF6692\",\"#B6E880\",\"#FF97FF\",\"#FECB52\"],\"font\":{\"color\":\"#f2f5fa\"},\"hovermode\":\"closest\",\"hoverlabel\":{\"align\":\"left\"},\"paper_bgcolor\":\"rgb(17,17,17)\",\"plot_bgcolor\":\"rgb(17,17,17)\",\"polar\":{\"bgcolor\":\"rgb(17,17,17)\",\"angularaxis\":{\"gridcolor\":\"#506784\",\"linecolor\":\"#506784\",\"ticks\":\"\"},\"radialaxis\":{\"gridcolor\":\"#506784\",\"linecolor\":\"#506784\",\"ticks\":\"\"}},\"ternary\":{\"bgcolor\":\"rgb(17,17,17)\",\"aaxis\":{\"gridcolor\":\"#506784\",\"linecolor\":\"#506784\",\"ticks\":\"\"},\"baxis\":{\"gridcolor\":\"#506784\",\"linecolor\":\"#506784\",\"ticks\":\"\"},\"caxis\":{\"gridcolor\":\"#506784\",\"linecolor\":\"#506784\",\"ticks\":\"\"}},\"coloraxis\":{\"colorbar\":{\"outlinewidth\":0,\"ticks\":\"\"}},\"colorscale\":{\"sequential\":[[0.0,\"#0d0887\"],[0.1111111111111111,\"#46039f\"],[0.2222222222222222,\"#7201a8\"],[0.3333333333333333,\"#9c179e\"],[0.4444444444444444,\"#bd3786\"],[0.5555555555555556,\"#d8576b\"],[0.6666666666666666,\"#ed7953\"],[0.7777777777777778,\"#fb9f3a\"],[0.8888888888888888,\"#fdca26\"],[1.0,\"#f0f921\"]],\"sequentialminus\":[[0.0,\"#0d0887\"],[0.1111111111111111,\"#46039f\"],[0.2222222222222222,\"#7201a8\"],[0.3333333333333333,\"#9c179e\"],[0.4444444444444444,\"#bd3786\"],[0.5555555555555556,\"#d8576b\"],[0.6666666666666666,\"#ed7953\"],[0.7777777777777778,\"#fb9f3a\"],[0.8888888888888888,\"#fdca26\"],[1.0,\"#f0f921\"]],\"diverging\":[[0,\"#8e0152\"],[0.1,\"#c51b7d\"],[0.2,\"#de77ae\"],[0.3,\"#f1b6da\"],[0.4,\"#fde0ef\"],[0.5,\"#f7f7f7\"],[0.6,\"#e6f5d0\"],[0.7,\"#b8e186\"],[0.8,\"#7fbc41\"],[0.9,\"#4d9221\"],[1,\"#276419\"]]},\"xaxis\":{\"gridcolor\":\"#283442\",\"linecolor\":\"#506784\",\"ticks\":\"\",\"title\":{\"standoff\":15},\"zerolinecolor\":\"#283442\",\"automargin\":true,\"zerolinewidth\":2},\"yaxis\":{\"gridcolor\":\"#283442\",\"linecolor\":\"#506784\",\"ticks\":\"\",\"title\":{\"standoff\":15},\"zerolinecolor\":\"#283442\",\"automargin\":true,\"zerolinewidth\":2},\"scene\":{\"xaxis\":{\"backgroundcolor\":\"rgb(17,17,17)\",\"gridcolor\":\"#506784\",\"linecolor\":\"#506784\",\"showbackground\":true,\"ticks\":\"\",\"zerolinecolor\":\"#C8D4E3\",\"gridwidth\":2},\"yaxis\":{\"backgroundcolor\":\"rgb(17,17,17)\",\"gridcolor\":\"#506784\",\"linecolor\":\"#506784\",\"showbackground\":true,\"ticks\":\"\",\"zerolinecolor\":\"#C8D4E3\",\"gridwidth\":2},\"zaxis\":{\"backgroundcolor\":\"rgb(17,17,17)\",\"gridcolor\":\"#506784\",\"linecolor\":\"#506784\",\"showbackground\":true,\"ticks\":\"\",\"zerolinecolor\":\"#C8D4E3\",\"gridwidth\":2}},\"shapedefaults\":{\"line\":{\"color\":\"#f2f5fa\"}},\"annotationdefaults\":{\"arrowcolor\":\"#f2f5fa\",\"arrowhead\":0,\"arrowwidth\":1},\"geo\":{\"bgcolor\":\"rgb(17,17,17)\",\"landcolor\":\"rgb(17,17,17)\",\"subunitcolor\":\"#506784\",\"showland\":true,\"showlakes\":true,\"lakecolor\":\"rgb(17,17,17)\"},\"title\":{\"x\":0.05},\"updatemenudefaults\":{\"bgcolor\":\"#506784\",\"borderwidth\":0},\"sliderdefaults\":{\"bgcolor\":\"#C8D4E3\",\"borderwidth\":1,\"bordercolor\":\"rgb(17,17,17)\",\"tickwidth\":0},\"mapbox\":{\"style\":\"dark\"}}},\"xaxis\":{\"anchor\":\"y\",\"domain\":[0.0,1.0],\"title\":{\"text\":\"x\"}},\"yaxis\":{\"anchor\":\"x\",\"domain\":[0.0,1.0],\"title\":{\"text\":\"y\"}},\"legend\":{\"tracegroupgap\":0},\"title\":{\"text\":\"\\u041d\\u0430 \\u043f\\u0440\\u043e\\u043c\\u0456\\u0436\\u043a\\u0443 [0;5\\ud835\\udf0b] \\u0444\\u0443\\u043d\\u043a\\u0446\\u0456\\u044f  \\ud835\\udc66=2\\ud835\\udc50\\ud835\\udc5c\\ud835\\udc60\\ud835\\udc65(\\ud835\\udc65\\u2212\\ud835\\udf0b\\u002f4)\",\"x\":0.5}},                        {\"responsive\": true}                    ).then(function(){\n                            \nvar gd = document.getElementById('fd67e7a9-6be5-46d8-93ca-f5a27beba927');\nvar x = new MutationObserver(function (mutations, observer) {{\n        var display = window.getComputedStyle(gd).display;\n        if (!display || display === 'none') {{\n            console.log([gd, 'removed!']);\n            Plotly.purge(gd);\n            observer.disconnect();\n        }}\n}});\n\n// Listen for the removal of the full notebook cells\nvar notebookContainer = gd.closest('#notebook-container');\nif (notebookContainer) {{\n    x.observe(notebookContainer, {childList: true});\n}}\n\n// Listen for the clearing of the current output cell\nvar outputEl = gd.closest('.output');\nif (outputEl) {{\n    x.observe(outputEl, {childList: true});\n}}\n\n                        })                };                });            </script>        </div>"
     },
     "metadata": {},
     "output_type": "display_data"
    }
   ],
   "source": [
    "# Генерація значень x на проміжку [0, 5π]\n",
    "x = np.linspace(0, 5 * np.pi, 1000)\n",
    "# Обчислення значень y за заданою функцією\n",
    "y = 2 * np.cos(x) * (x - (np.pi/4))\n",
    "\n",
    "fig = px.line(x=x, y=y, title='На проміжку [0;5𝜋] функція  𝑦=2𝑐𝑜𝑠𝑥(𝑥−𝜋/4)')\n",
    "\n",
    "# Налаштування вирівнювання назви графіку за центром\n",
    "fig.update_layout(title_x=0.5)\n",
    "\n",
    "# Показ графіку\n",
    "fig.show()"
   ],
   "metadata": {
    "collapsed": false,
    "ExecuteTime": {
     "end_time": "2023-10-27T14:02:23.799796Z",
     "start_time": "2023-10-27T14:02:23.767681Z"
    }
   },
   "id": "bb7fce57a62ca070"
  },
  {
   "cell_type": "raw",
   "source": [
    "2. На проміжку  [0;2𝜋]функція 𝑦=(1/2)𝑠𝑖𝑛(2𝑥+𝜋/3) "
   ],
   "metadata": {
    "collapsed": false
   },
   "id": "7b34f9a897692bd"
  },
  {
   "cell_type": "code",
   "execution_count": 69,
   "outputs": [
    {
     "data": {
      "application/vnd.plotly.v1+json": {
       "data": [
        {
         "hovertemplate": "x=%{x}<br>y=%{y}<extra></extra>",
         "legendgroup": "",
         "line": {
          "color": "#636efa",
          "dash": "solid"
         },
         "marker": {
          "symbol": "circle"
         },
         "mode": "lines",
         "name": "",
         "orientation": "v",
         "showlegend": false,
         "x": [
          0.0,
          0.006289474781961547,
          0.012578949563923095,
          0.018868424345884642,
          0.02515789912784619,
          0.03144737390980774,
          0.037736848691769284,
          0.04402632347373083,
          0.05031579825569238,
          0.056605273037653926,
          0.06289474781961547,
          0.06918422260157703,
          0.07547369738353857,
          0.08176317216550011,
          0.08805264694746166,
          0.09434212172942322,
          0.10063159651138476,
          0.1069210712933463,
          0.11321054607530785,
          0.1195000208572694,
          0.12578949563923095,
          0.1320789704211925,
          0.13836844520315406,
          0.1446579199851156,
          0.15094739476707714,
          0.15723686954903868,
          0.16352634433100022,
          0.16981581911296179,
          0.17610529389492333,
          0.18239476867688487,
          0.18868424345884643,
          0.19497371824080797,
          0.20126319302276952,
          0.20755266780473106,
          0.2138421425866926,
          0.22013161736865416,
          0.2264210921506157,
          0.23271056693257725,
          0.2390000417145388,
          0.24528951649650035,
          0.2515789912784619,
          0.25786846606042346,
          0.264157940842385,
          0.27044741562434654,
          0.2767368904063081,
          0.2830263651882696,
          0.2893158399702312,
          0.2956053147521927,
          0.3018947895341543,
          0.30818426431611584,
          0.31447373909807735,
          0.3207632138800389,
          0.32705268866200043,
          0.333342163443962,
          0.33963163822592357,
          0.3459211130078851,
          0.35221058778984665,
          0.3585000625718082,
          0.36478953735376973,
          0.3710790121357313,
          0.37736848691769287,
          0.3836579616996544,
          0.38994743648161595,
          0.39623691126357746,
          0.40252638604553903,
          0.4088158608275006,
          0.4151053356094621,
          0.4213948103914237,
          0.4276842851733852,
          0.43397375995534676,
          0.44026323473730833,
          0.44655270951926984,
          0.4528421843012314,
          0.459131659083193,
          0.4654211338651545,
          0.47171060864711606,
          0.4780000834290776,
          0.48428955821103914,
          0.4905790329930007,
          0.4968685077749622,
          0.5031579825569238,
          0.5094474573388853,
          0.5157369321208469,
          0.5220264069028084,
          0.52831588168477,
          0.5346053564667316,
          0.5408948312486931,
          0.5471843060306546,
          0.5534737808126162,
          0.5597632555945777,
          0.5660527303765392,
          0.5723422051585008,
          0.5786316799404624,
          0.5849211547224239,
          0.5912106295043854,
          0.597500104286347,
          0.6037895790683085,
          0.6100790538502701,
          0.6163685286322317,
          0.6226580034141932,
          0.6289474781961547,
          0.6352369529781163,
          0.6415264277600778,
          0.6478159025420394,
          0.6541053773240009,
          0.6603948521059625,
          0.666684326887924,
          0.6729738016698855,
          0.6792632764518471,
          0.6855527512338087,
          0.6918422260157702,
          0.6981317007977318,
          0.7044211755796933,
          0.7107106503616548,
          0.7170001251436164,
          0.723289599925578,
          0.7295790747075395,
          0.7358685494895011,
          0.7421580242714626,
          0.7484474990534241,
          0.7547369738353857,
          0.7610264486173473,
          0.7673159233993088,
          0.7736053981812703,
          0.7798948729632319,
          0.7861843477451934,
          0.7924738225271549,
          0.7987632973091165,
          0.8050527720910781,
          0.8113422468730396,
          0.8176317216550012,
          0.8239211964369627,
          0.8302106712189242,
          0.8365001460008858,
          0.8427896207828474,
          0.8490790955648089,
          0.8553685703467704,
          0.861658045128732,
          0.8679475199106935,
          0.874236994692655,
          0.8805264694746167,
          0.8868159442565782,
          0.8931054190385397,
          0.8993948938205013,
          0.9056843686024628,
          0.9119738433844243,
          0.918263318166386,
          0.9245527929483475,
          0.930842267730309,
          0.9371317425122706,
          0.9434212172942321,
          0.9497106920761936,
          0.9560001668581553,
          0.9622896416401168,
          0.9685791164220783,
          0.9748685912040398,
          0.9811580659860014,
          0.9874475407679629,
          0.9937370155499244,
          1.000026490331886,
          1.0063159651138476,
          1.012605439895809,
          1.0188949146777706,
          1.0251843894597321,
          1.0314738642416938,
          1.0377633390236554,
          1.0440528138056169,
          1.0503422885875784,
          1.05663176336954,
          1.0629212381515014,
          1.0692107129334631,
          1.0755001877154247,
          1.0817896624973862,
          1.0880791372793477,
          1.0943686120613092,
          1.1006580868432707,
          1.1069475616252324,
          1.113237036407194,
          1.1195265111891555,
          1.125815985971117,
          1.1321054607530785,
          1.13839493553504,
          1.1446844103170015,
          1.1509738850989633,
          1.1572633598809248,
          1.1635528346628863,
          1.1698423094448478,
          1.1761317842268093,
          1.1824212590087708,
          1.1887107337907326,
          1.195000208572694,
          1.2012896833546556,
          1.207579158136617,
          1.2138686329185786,
          1.2201581077005401,
          1.2264475824825016,
          1.2327370572644634,
          1.2390265320464249,
          1.2453160068283864,
          1.251605481610348,
          1.2578949563923094,
          1.264184431174271,
          1.2704739059562327,
          1.2767633807381942,
          1.2830528555201557,
          1.2893423303021172,
          1.2956318050840787,
          1.3019212798660402,
          1.3082107546480017,
          1.3145002294299635,
          1.320789704211925,
          1.3270791789938865,
          1.333368653775848,
          1.3396581285578095,
          1.345947603339771,
          1.3522370781217328,
          1.3585265529036943,
          1.3648160276856558,
          1.3711055024676173,
          1.3773949772495788,
          1.3836844520315403,
          1.389973926813502,
          1.3962634015954636,
          1.402552876377425,
          1.4088423511593866,
          1.4151318259413481,
          1.4214213007233096,
          1.4277107755052711,
          1.4340002502872329,
          1.4402897250691944,
          1.446579199851156,
          1.4528686746331174,
          1.459158149415079,
          1.4654476241970404,
          1.4717370989790022,
          1.4780265737609637,
          1.4843160485429252,
          1.4906055233248867,
          1.4968949981068482,
          1.5031844728888097,
          1.5094739476707715,
          1.515763422452733,
          1.5220528972346945,
          1.528342372016656,
          1.5346318467986175,
          1.540921321580579,
          1.5472107963625406,
          1.5535002711445023,
          1.5597897459264638,
          1.5660792207084253,
          1.5723686954903868,
          1.5786581702723483,
          1.5849476450543099,
          1.5912371198362716,
          1.597526594618233,
          1.6038160694001946,
          1.6101055441821561,
          1.6163950189641176,
          1.6226844937460791,
          1.6289739685280407,
          1.6352634433100024,
          1.641552918091964,
          1.6478423928739254,
          1.654131867655887,
          1.6604213424378484,
          1.66671081721981,
          1.6730002920017717,
          1.6792897667837332,
          1.6855792415656947,
          1.6918687163476562,
          1.6981581911296177,
          1.7044476659115793,
          1.7107371406935408,
          1.7170266154755025,
          1.723316090257464,
          1.7296055650394255,
          1.735895039821387,
          1.7421845146033486,
          1.74847398938531,
          1.7547634641672718,
          1.7610529389492333,
          1.7673424137311948,
          1.7736318885131563,
          1.7799213632951179,
          1.7862108380770794,
          1.792500312859041,
          1.7987897876410026,
          1.8050792624229641,
          1.8113687372049256,
          1.8176582119868872,
          1.8239476867688487,
          1.8302371615508102,
          1.836526636332772,
          1.8428161111147334,
          1.849105585896695,
          1.8553950606786564,
          1.861684535460618,
          1.8679740102425795,
          1.8742634850245412,
          1.8805529598065027,
          1.8868424345884642,
          1.8931319093704257,
          1.8994213841523873,
          1.9057108589343488,
          1.9120003337163105,
          1.918289808498272,
          1.9245792832802335,
          1.930868758062195,
          1.9371582328441566,
          1.943447707626118,
          1.9497371824080796,
          1.9560266571900413,
          1.9623161319720028,
          1.9686056067539643,
          1.9748950815359259,
          1.9811845563178874,
          1.9874740310998489,
          1.9937635058818106,
          2.000052980663772,
          2.0063424554457336,
          2.012631930227695,
          2.0189214050096567,
          2.025210879791618,
          2.0315003545735797,
          2.037789829355541,
          2.0440793041375027,
          2.0503687789194642,
          2.056658253701426,
          2.0629477284833877,
          2.069237203265349,
          2.0755266780473107,
          2.0818161528292722,
          2.0881056276112337,
          2.0943951023931953,
          2.1006845771751568,
          2.1069740519571183,
          2.11326352673908,
          2.1195530015210413,
          2.125842476303003,
          2.1321319510849643,
          2.1384214258669263,
          2.144710900648888,
          2.1510003754308493,
          2.157289850212811,
          2.1635793249947723,
          2.169868799776734,
          2.1761582745586954,
          2.182447749340657,
          2.1887372241226184,
          2.19502669890458,
          2.2013161736865414,
          2.207605648468503,
          2.213895123250465,
          2.2201845980324264,
          2.226474072814388,
          2.2327635475963494,
          2.239053022378311,
          2.2453424971602725,
          2.251631971942234,
          2.2579214467241955,
          2.264210921506157,
          2.2705003962881185,
          2.27678987107008,
          2.2830793458520415,
          2.289368820634003,
          2.295658295415965,
          2.3019477701979265,
          2.308237244979888,
          2.3145267197618495,
          2.320816194543811,
          2.3271056693257726,
          2.333395144107734,
          2.3396846188896956,
          2.345974093671657,
          2.3522635684536186,
          2.35855304323558,
          2.3648425180175416,
          2.371131992799503,
          2.377421467581465,
          2.3837109423634266,
          2.390000417145388,
          2.3962898919273496,
          2.402579366709311,
          2.4088688414912727,
          2.415158316273234,
          2.4214477910551957,
          2.427737265837157,
          2.4340267406191187,
          2.4403162154010802,
          2.4466056901830417,
          2.4528951649650033,
          2.459184639746965,
          2.4654741145289267,
          2.4717635893108882,
          2.4780530640928498,
          2.4843425388748113,
          2.490632013656773,
          2.4969214884387343,
          2.503210963220696,
          2.5095004380026573,
          2.515789912784619,
          2.5220793875665803,
          2.528368862348542,
          2.5346583371305034,
          2.5409478119124653,
          2.547237286694427,
          2.5535267614763884,
          2.55981623625835,
          2.5661057110403114,
          2.572395185822273,
          2.5786846606042344,
          2.584974135386196,
          2.5912636101681574,
          2.597553084950119,
          2.6038425597320805,
          2.610132034514042,
          2.6164215092960035,
          2.6227109840779654,
          2.629000458859927,
          2.6352899336418885,
          2.64157940842385,
          2.6478688832058115,
          2.654158357987773,
          2.6604478327697345,
          2.666737307551696,
          2.6730267823336575,
          2.679316257115619,
          2.6856057318975806,
          2.691895206679542,
          2.698184681461504,
          2.7044741562434655,
          2.710763631025427,
          2.7170531058073886,
          2.72334258058935,
          2.7296320553713116,
          2.735921530153273,
          2.7422110049352346,
          2.748500479717196,
          2.7547899544991576,
          2.761079429281119,
          2.7673689040630807,
          2.773658378845042,
          2.779947853627004,
          2.7862373284089657,
          2.792526803190927,
          2.7988162779728887,
          2.80510575275485,
          2.8113952275368117,
          2.817684702318773,
          2.8239741771007347,
          2.8302636518826962,
          2.8365531266646578,
          2.8428426014466193,
          2.849132076228581,
          2.8554215510105423,
          2.8617110257925042,
          2.8680005005744658,
          2.8742899753564273,
          2.880579450138389,
          2.8868689249203503,
          2.893158399702312,
          2.8994478744842733,
          2.905737349266235,
          2.9120268240481963,
          2.918316298830158,
          2.9246057736121194,
          2.930895248394081,
          2.9371847231760424,
          2.9434741979580044,
          2.949763672739966,
          2.9560531475219274,
          2.962342622303889,
          2.9686320970858504,
          2.974921571867812,
          2.9812110466497734,
          2.987500521431735,
          2.9937899962136965,
          3.000079470995658,
          3.0063689457776195,
          3.012658420559581,
          3.018947895341543,
          3.0252373701235045,
          3.031526844905466,
          3.0378163196874275,
          3.044105794469389,
          3.0503952692513505,
          3.056684744033312,
          3.0629742188152735,
          3.069263693597235,
          3.0755531683791966,
          3.081842643161158,
          3.0881321179431196,
          3.094421592725081,
          3.100711067507043,
          3.1070005422890046,
          3.113290017070966,
          3.1195794918529276,
          3.125868966634889,
          3.1321584414168506,
          3.138447916198812,
          3.1447373909807737,
          3.151026865762735,
          3.1573163405446967,
          3.163605815326658,
          3.1698952901086197,
          3.176184764890581,
          3.182474239672543,
          3.1887637144545047,
          3.195053189236466,
          3.2013426640184277,
          3.207632138800389,
          3.2139216135823507,
          3.2202110883643122,
          3.2265005631462738,
          3.2327900379282353,
          3.239079512710197,
          3.2453689874921583,
          3.25165846227412,
          3.2579479370560813,
          3.2642374118380433,
          3.270526886620005,
          3.2768163614019663,
          3.283105836183928,
          3.2893953109658893,
          3.295684785747851,
          3.3019742605298124,
          3.308263735311774,
          3.3145532100937354,
          3.320842684875697,
          3.3271321596576584,
          3.33342163443962,
          3.3397111092215814,
          3.3460005840035434,
          3.352290058785505,
          3.3585795335674664,
          3.364869008349428,
          3.3711584831313894,
          3.377447957913351,
          3.3837374326953125,
          3.390026907477274,
          3.3963163822592355,
          3.402605857041197,
          3.4088953318231585,
          3.41518480660512,
          3.4214742813870815,
          3.4277637561690435,
          3.434053230951005,
          3.4403427057329665,
          3.446632180514928,
          3.4529216552968895,
          3.459211130078851,
          3.4655006048608126,
          3.471790079642774,
          3.4780795544247356,
          3.484369029206697,
          3.4906585039886586,
          3.49694797877062,
          3.503237453552582,
          3.5095269283345436,
          3.515816403116505,
          3.5221058778984666,
          3.528395352680428,
          3.5346848274623897,
          3.540974302244351,
          3.5472637770263127,
          3.553553251808274,
          3.5598427265902357,
          3.566132201372197,
          3.5724216761541587,
          3.5787111509361202,
          3.585000625718082,
          3.5912901005000437,
          3.5975795752820052,
          3.6038690500639667,
          3.6101585248459283,
          3.6164479996278898,
          3.6227374744098513,
          3.629026949191813,
          3.6353164239737743,
          3.641605898755736,
          3.6478953735376973,
          3.654184848319659,
          3.6604743231016204,
          3.6667637978835823,
          3.673053272665544,
          3.6793427474475053,
          3.685632222229467,
          3.6919216970114284,
          3.69821117179339,
          3.7045006465753514,
          3.710790121357313,
          3.7170795961392744,
          3.723369070921236,
          3.7296585457031974,
          3.735948020485159,
          3.7422374952671205,
          3.7485269700490824,
          3.754816444831044,
          3.7611059196130054,
          3.767395394394967,
          3.7736848691769285,
          3.77997434395889,
          3.7862638187408515,
          3.792553293522813,
          3.7988427683047745,
          3.805132243086736,
          3.8114217178686975,
          3.817711192650659,
          3.824000667432621,
          3.8302901422145825,
          3.836579616996544,
          3.8428690917785056,
          3.849158566560467,
          3.8554480413424286,
          3.86173751612439,
          3.8680269909063516,
          3.874316465688313,
          3.8806059404702746,
          3.886895415252236,
          3.8931848900341977,
          3.899474364816159,
          3.905763839598121,
          3.9120533143800826,
          3.918342789162044,
          3.9246322639440057,
          3.930921738725967,
          3.9372112135079287,
          3.94350068828989,
          3.9497901630718517,
          3.9560796378538132,
          3.9623691126357747,
          3.9686585874177362,
          3.9749480621996978,
          3.9812375369816593,
          3.9875270117636212,
          3.9938164865455827,
          4.000105961327544,
          4.006395436109505,
          4.012684910891467,
          4.018974385673428,
          4.02526386045539,
          4.031553335237352,
          4.037842810019313,
          4.044132284801275,
          4.050421759583236,
          4.056711234365198,
          4.063000709147159,
          4.069290183929121,
          4.075579658711082,
          4.081869133493044,
          4.088158608275005,
          4.094448083056967,
          4.1007375578389285,
          4.10702703262089,
          4.113316507402852,
          4.119605982184813,
          4.125895456966775,
          4.1321849317487365,
          4.138474406530698,
          4.1447638813126595,
          4.1510533560946214,
          4.1573428308765825,
          4.1636323056585445,
          4.1699217804405055,
          4.1762112552224675,
          4.182500730004429,
          4.1887902047863905,
          4.1950796795683525,
          4.2013691543503136,
          4.2076586291322755,
          4.213948103914237,
          4.2202375786961985,
          4.22652705347816,
          4.232816528260122,
          4.239106003042083,
          4.245395477824045,
          4.251684952606006,
          4.257974427387968,
          4.264263902169929,
          4.270553376951891,
          4.276842851733853,
          4.283132326515814,
          4.289421801297776,
          4.295711276079737,
          4.302000750861699,
          4.30829022564366,
          4.314579700425622,
          4.320869175207583,
          4.327158649989545,
          4.333448124771506,
          4.339737599553468,
          4.346027074335429,
          4.352316549117391,
          4.358606023899353,
          4.364895498681314,
          4.371184973463276,
          4.377474448245237,
          4.383763923027199,
          4.39005339780916,
          4.396342872591122,
          4.402632347373083,
          4.408921822155045,
          4.415211296937006,
          4.421500771718968,
          4.42779024650093,
          4.434079721282891,
          4.440369196064853,
          4.446658670846814,
          4.452948145628776,
          4.459237620410737,
          4.465527095192699,
          4.47181656997466,
          4.478106044756622,
          4.484395519538583,
          4.490684994320545,
          4.496974469102506,
          4.503263943884468,
          4.50955341866643,
          4.515842893448391,
          4.522132368230353,
          4.528421843012314,
          4.534711317794276,
          4.541000792576237,
          4.547290267358199,
          4.55357974214016,
          4.559869216922122,
          4.566158691704083,
          4.572448166486045,
          4.578737641268006,
          4.585027116049968,
          4.59131659083193,
          4.597606065613891,
          4.603895540395853,
          4.610185015177814,
          4.616474489959776,
          4.622763964741737,
          4.629053439523699,
          4.63534291430566,
          4.641632389087622,
          4.647921863869583,
          4.654211338651545,
          4.660500813433506,
          4.666790288215468,
          4.67307976299743,
          4.679369237779391,
          4.685658712561353,
          4.691948187343314,
          4.698237662125276,
          4.704527136907237,
          4.710816611689199,
          4.71710608647116,
          4.723395561253122,
          4.729685036035083,
          4.735974510817045,
          4.742263985599006,
          4.748553460380968,
          4.75484293516293,
          4.761132409944891,
          4.767421884726853,
          4.773711359508814,
          4.780000834290776,
          4.786290309072737,
          4.792579783854699,
          4.79886925863666,
          4.805158733418622,
          4.811448208200583,
          4.817737682982545,
          4.824027157764506,
          4.830316632546468,
          4.83660610732843,
          4.842895582110391,
          4.849185056892353,
          4.855474531674314,
          4.861764006456276,
          4.8680534812382374,
          4.874342956020199,
          4.8806324308021605,
          4.886921905584122,
          4.8932113803660835,
          4.8995008551480455,
          4.9057903299300065,
          4.9120798047119685,
          4.91836927949393,
          4.9246587542758915,
          4.9309482290578535,
          4.9372377038398145,
          4.9435271786217765,
          4.9498166534037376,
          4.9561061281856995,
          4.962395602967661,
          4.9686850777496225,
          4.974974552531584,
          4.981264027313546,
          4.987553502095507,
          4.993842976877469,
          5.0001324516594305,
          5.006421926441392,
          5.012711401223354,
          5.019000876005315,
          5.025290350787277,
          5.031579825569238,
          5.0378693003512,
          5.044158775133161,
          5.050448249915123,
          5.056737724697084,
          5.063027199479046,
          5.069316674261007,
          5.075606149042969,
          5.081895623824931,
          5.088185098606892,
          5.094474573388854,
          5.100764048170815,
          5.107053522952777,
          5.113342997734738,
          5.1196324725167,
          5.125921947298661,
          5.132211422080623,
          5.138500896862584,
          5.144790371644546,
          5.151079846426507,
          5.157369321208469,
          5.163658795990431,
          5.169948270772392,
          5.176237745554354,
          5.182527220336315,
          5.188816695118277,
          5.195106169900238,
          5.2013956446822,
          5.207685119464161,
          5.213974594246123,
          5.220264069028084,
          5.226553543810046,
          5.232843018592007,
          5.239132493373969,
          5.245421968155931,
          5.251711442937892,
          5.258000917719854,
          5.264290392501815,
          5.270579867283777,
          5.276869342065738,
          5.2831588168477,
          5.289448291629661,
          5.295737766411623,
          5.302027241193584,
          5.308316715975546,
          5.314606190757508,
          5.320895665539469,
          5.327185140321431,
          5.333474615103392,
          5.339764089885354,
          5.346053564667315,
          5.352343039449277,
          5.358632514231238,
          5.3649219890132,
          5.371211463795161,
          5.377500938577123,
          5.383790413359084,
          5.390079888141046,
          5.396369362923008,
          5.402658837704969,
          5.408948312486931,
          5.415237787268892,
          5.421527262050854,
          5.427816736832815,
          5.434106211614777,
          5.440395686396738,
          5.4466851611787,
          5.452974635960661,
          5.459264110742623,
          5.465553585524584,
          5.471843060306546,
          5.478132535088508,
          5.484422009870469,
          5.490711484652431,
          5.497000959434392,
          5.503290434216354,
          5.509579908998315,
          5.515869383780277,
          5.522158858562238,
          5.5284483333442,
          5.534737808126161,
          5.541027282908123,
          5.547316757690084,
          5.553606232472046,
          5.559895707254008,
          5.566185182035969,
          5.572474656817931,
          5.578764131599892,
          5.585053606381854,
          5.591343081163815,
          5.597632555945777,
          5.603922030727738,
          5.6102115055097,
          5.6165009802916614,
          5.622790455073623,
          5.6290799298555845,
          5.635369404637546,
          5.641658879419508,
          5.6479483542014695,
          5.654237828983431,
          5.6605273037653925,
          5.666816778547354,
          5.6731062533293155,
          5.6793957281112775,
          5.6856852028932385,
          5.6919746776752005,
          5.698264152457162,
          5.7045536272391235,
          5.710843102021085,
          5.7171325768030465,
          5.7234220515850085,
          5.72971152636697,
          5.7360010011489315,
          5.742290475930893,
          5.7485799507128545,
          5.754869425494816,
          5.761158900276778,
          5.767448375058739,
          5.773737849840701,
          5.780027324622662,
          5.786316799404624,
          5.792606274186585,
          5.798895748968547,
          5.805185223750509,
          5.81147469853247,
          5.817764173314432,
          5.824053648096393,
          5.830343122878355,
          5.836632597660316,
          5.842922072442278,
          5.849211547224239,
          5.855501022006201,
          5.861790496788162,
          5.868079971570124,
          5.874369446352085,
          5.880658921134047,
          5.886948395916009,
          5.89323787069797,
          5.899527345479932,
          5.905816820261893,
          5.912106295043855,
          5.918395769825816,
          5.924685244607778,
          5.930974719389739,
          5.937264194171701,
          5.943553668953662,
          5.949843143735624,
          5.956132618517585,
          5.962422093299547,
          5.968711568081509,
          5.97500104286347,
          5.981290517645432,
          5.987579992427393,
          5.993869467209355,
          6.000158941991316,
          6.006448416773278,
          6.012737891555239,
          6.019027366337201,
          6.025316841119162,
          6.031606315901124,
          6.037895790683086,
          6.044185265465047,
          6.050474740247009,
          6.05676421502897,
          6.063053689810932,
          6.069343164592893,
          6.075632639374855,
          6.081922114156816,
          6.088211588938778,
          6.094501063720739,
          6.100790538502701,
          6.107080013284662,
          6.113369488066624,
          6.119658962848586,
          6.125948437630547,
          6.132237912412509,
          6.13852738719447,
          6.144816861976432,
          6.151106336758393,
          6.157395811540355,
          6.163685286322316,
          6.169974761104278,
          6.176264235886239,
          6.182553710668201,
          6.188843185450162,
          6.195132660232124,
          6.201422135014086,
          6.207711609796047,
          6.214001084578009,
          6.22029055935997,
          6.226580034141932,
          6.232869508923893,
          6.239158983705855,
          6.245448458487816,
          6.251737933269778,
          6.258027408051739,
          6.264316882833701,
          6.270606357615662,
          6.276895832397624,
          6.283185307179586
         ],
         "xaxis": "x",
         "y": [
          0.4330127018922193,
          0.4361230990097431,
          0.4391644892913843,
          0.4421363915043888,
          0.44503833541095295,
          0.44786986184262767,
          0.45063052277297233,
          0.45331988138844465,
          0.4559375121575169,
          0.4584830008980067,
          0.46095594484261254,
          0.46335595270264246,
          0.4656826447299271,
          0.467935652776906,
          0.47011462035487944,
          0.4722192026904144,
          0.4742490667798976,
          0.4762038914422257,
          0.4780833673696255,
          0.4798871971765945,
          0.4816150954469563,
          0.4832667887790207,
          0.4848420158288438,
          0.48634052735158,
          0.4877620862409193,
          0.4891064675666042,
          0.4903734586100198,
          0.4915628588978521,
          0.4926744802338082,
          0.49370814672839447,
          0.49466369482674677,
          0.4955409733345098,
          0.49633984344176013,
          0.4970601787449696,
          0.49770186526700627,
          0.49826480147516833,
          0.49874889829724983,
          0.4991540791356341,
          0.4994802798794137,
          0.49972744891453463,
          0.4998955471319631,
          0.4999845479338734,
          0.499994437237857,
          0.4999252134791502,
          0.49977688761088196,
          0.49954948310234076,
          0.4992430359352612,
          0.4988575945981307,
          0.49839322007851716,
          0.4978499858534189,
          0.4972279778776388,
          0.49652729457018385,
          0.4957480467986924,
          0.4948903578618917,
          0.49395436347008903,
          0.49294021172369795,
          0.4918480630898051,
          0.4906780903767798,
          0.48943047870693074,
          0.4881054254872148,
          0.4867031403780014,
          0.4852238452598985,
          0.48366777419864515,
          0.4820351734080754,
          0.48032630121116054,
          0.4785414279991354,
          0.47668083618871465,
          0.4747448201774067,
          0.47273368629693174,
          0.4706477527647517,
          0.4684873496337191,
          0.46625281873985375,
          0.4639445136482547,
          0.4615627995971562,
          0.45910805344013705,
          0.45658066358649174,
          0.4539810299397732,
          0.4513095638345171,
          0.44856668797115706,
          0.445752836349142,
          0.44286845419826476,
          0.4399139979082148,
          0.43688993495636425,
          0.4337967438338007,
          0.4306349139696154,
          0.42740494565346304,
          0.4241073499564012,
          0.42074264865002514,
          0.4173113741239088,
          0.4138140693013657,
          0.4102512875535439,
          0.40662359261186665,
          0.4029315584788346,
          0.39917576933720306,
          0.39535681945754697,
          0.39147531310423156,
          0.3875318644398008,
          0.3835270974277994,
          0.3794616457340445,
          0.3753361526263623,
          0.37115127087280475,
          0.366907662638364,
          0.36260599938019883,
          0.3582469617413918,
          0.35383123944325245,
          0.3493595311761838,
          0.34483254448913103,
          0.34025099567762634,
          0.3356156096704514,
          0.33092711991493406,
          0.32618626826089553,
          0.32139380484326974,
          0.31655048796341073,
          0.31165708396910846,
          0.30671436713333106,
          0.30172311953171327,
          0.2966841309188104,
          0.29159819860313674,
          0.28646612732101007,
          0.28128872910921865,
          0.2760668231765351,
          0.27080123577409504,
          0.2654928000646602,
          0.26014235599078955,
          0.2547507501419367,
          0.2493188356204959,
          0.24384747190681744,
          0.23833752472321393,
          0.23278986589697878,
          0.22720537322243897,
          0.22158493032206314,
          0.2159294265066488,
          0.2102397566346073,
          0.20451682097037294,
          0.19876152504195652,
          0.19297477949766442,
          0.18715749996200953,
          0.1813106068908336,
          0.17543502542566541,
          0.1695316852473378,
          0.16360152042888604,
          0.1576454692877515,
          0.1516644742373136,
          0.14565948163777373,
          0.1396314416464152,
          0.13358130806726085,
          0.12751003820015522,
          0.12141859268929361,
          0.11530793537122017,
          0.10917903312232283,
          0.10303285570584643,
          0.096870375618449,
          0.09069256793632575,
          0.08450041016092479,
          0.07829488206427912,
          0.07207696553397946,
          0.06584764441781193,
          0.05960790436808684,
          0.05335873268567966,
          0.04710111816381315,
          0.040836050931603377,
          0.03456452229739236,
          0.0282875245918963,
          0.02200605101119099,
          0.015721095459560498,
          0.009433652392233776,
          0.003144716658034141,
          -0.0031447166580335748,
          -0.00943365239223321,
          -0.01572109545955993,
          -0.02200605101119087,
          -0.02828752459189618,
          -0.034564522297392236,
          -0.04083605093160325,
          -0.04710111816381302,
          -0.05335873268567932,
          -0.0596079043680865,
          -0.0658476444178116,
          -0.07207696553397891,
          -0.07829488206427856,
          -0.08450041016092423,
          -0.0906925679363252,
          -0.09687037561844844,
          -0.1030328557058463,
          -0.1091790331223227,
          -0.11530793537122004,
          -0.1214185926892935,
          -0.1275100382001551,
          -0.1335813080672605,
          -0.13963144164641486,
          -0.1456594816377734,
          -0.15166447423731308,
          -0.15764546928775094,
          -0.1636015204288855,
          -0.16953168524733728,
          -0.1754350254256649,
          -0.18131060689083345,
          -0.18715749996200942,
          -0.1929747794976643,
          -0.19876152504195638,
          -0.20451682097037283,
          -0.210239756634607,
          -0.2159294265066485,
          -0.22158493032206283,
          -0.22720537322243847,
          -0.23278986589697828,
          -0.23833752472321343,
          -0.24384747190681694,
          -0.2493188356204954,
          -0.2547507501419366,
          -0.26014235599078944,
          -0.2654928000646601,
          -0.27080123577409493,
          -0.27606682317653497,
          -0.28128872910921837,
          -0.2864661273210098,
          -0.29159819860313646,
          -0.29668413091880996,
          -0.3017231195317128,
          -0.3067143671333306,
          -0.311657083969108,
          -0.3165504879634107,
          -0.3213938048432696,
          -0.3261862682608955,
          -0.33092711991493395,
          -0.3356156096704513,
          -0.34025099567762607,
          -0.3448325444891308,
          -0.34935953117618357,
          -0.353831239443252,
          -0.35824696174139137,
          -0.36260599938019844,
          -0.3669076626383636,
          -0.37115127087280436,
          -0.37533615262636216,
          -0.3794616457340444,
          -0.38352709742779933,
          -0.38753186443980076,
          -0.39147531310423145,
          -0.39535681945754675,
          -0.39917576933720283,
          -0.4029315584788344,
          -0.4066235926118663,
          -0.41025128755354356,
          -0.4138140693013654,
          -0.41731137412390845,
          -0.42074264865002486,
          -0.42410734995640115,
          -0.42740494565346293,
          -0.43063491396961534,
          -0.43379674383380057,
          -0.4368899349563642,
          -0.4399139979082146,
          -0.4428684541982646,
          -0.4457528363491418,
          -0.4485666879711569,
          -0.45130956383451687,
          -0.45398102993977296,
          -0.45658066358649146,
          -0.45910805344013683,
          -0.4615627995971562,
          -0.4639445136482546,
          -0.4662528187398537,
          -0.46848734963371896,
          -0.47064775276475157,
          -0.47273368629693163,
          -0.4747448201774066,
          -0.4766808361887146,
          -0.4785414279991353,
          -0.48032630121116043,
          -0.4820351734080752,
          -0.483667774198645,
          -0.48522384525989837,
          -0.48670314037800133,
          -0.48810542548721475,
          -0.48943047870693074,
          -0.49067809037677973,
          -0.49184806308980505,
          -0.49294021172369784,
          -0.493954363470089,
          -0.49489035786189167,
          -0.49574804679869233,
          -0.4965272945701838,
          -0.4972279778776387,
          -0.49784998585341883,
          -0.4983932200785171,
          -0.4988575945981307,
          -0.4992430359352612,
          -0.4995494831023407,
          -0.4997768876108819,
          -0.4999252134791502,
          -0.499994437237857,
          -0.4999845479338735,
          -0.4998955471319631,
          -0.4997274489145347,
          -0.49948027987941374,
          -0.49915407913563414,
          -0.4987488982972499,
          -0.4982648014751684,
          -0.49770186526700627,
          -0.49706017874496966,
          -0.49633984344176013,
          -0.49554097333450986,
          -0.4946636948267468,
          -0.4937081467283945,
          -0.4926744802338083,
          -0.4915628588978522,
          -0.4903734586100199,
          -0.4891064675666043,
          -0.48776208624091943,
          -0.4863405273515801,
          -0.48484201582884384,
          -0.4832667887790207,
          -0.48161509544695635,
          -0.47988719717659456,
          -0.47808336736962553,
          -0.4762038914422258,
          -0.4742490667798977,
          -0.47221920269041456,
          -0.4701146203548796,
          -0.46793565277690613,
          -0.4656826447299272,
          -0.4633559527026427,
          -0.46095594484261276,
          -0.4584830008980069,
          -0.4559375121575171,
          -0.4533198813884449,
          -0.45063052277297244,
          -0.4478698618426278,
          -0.44503833541095306,
          -0.442136391504389,
          -0.43916448929138446,
          -0.43612309900974333,
          -0.4330127018922195,
          -0.4298337900903728,
          -0.42658686659669665,
          -0.42327244516503054,
          -0.41989105022927015,
          -0.41644321682038704,
          -0.4129294904817719,
          -0.40935042718291414,
          -0.40570659323143304,
          -0.40199856518347044,
          -0.3982269297524647,
          -0.3943922837163159,
          -0.390495233822959,
          -0.38653639669435913,
          -0.3825163987289453,
          -0.3784358760024962,
          -0.37429547416749565,
          -0.37009584835097215,
          -0.3658376630508396,
          -0.3615215920307548,
          -0.3571483182135106,
          -0.3527185335729767,
          -0.3482329390246111,
          -0.34369224431455536,
          -0.33909716790733346,
          -0.3344484368721701,
          -0.3297467867679483,
          -0.32499296152682366,
          -0.32018771333651336,
          -0.315331802521279,
          -0.31042599742162225,
          -0.305471074272712,
          -0.3004678170815616,
          -0.2954170175029792,
          -0.29031947471430297,
          -0.28517599528895093,
          -0.279987393068798,
          -0.27475448903540334,
          -0.26947811118010856,
          -0.2641590943730261,
          -0.25879828023093965,
          -0.25339651698413673,
          -0.2479546593421952,
          -0.2424735683587444,
          -0.23695411129522212,
          -0.2313971614836497,
          -0.22580359818844775,
          -0.22017430646730993,
          -0.2145101770311635,
          -0.2088121061032338,
          -0.20308099527723658,
          -0.1973177513747208,
          -0.19152328630158427,
          -0.18569851690378453,
          -0.17984436482226834,
          -0.17396175634714248,
          -0.1680516222711086,
          -0.16211489774218607,
          -0.15615252211574496,
          -0.1501654388058755,
          -0.1441545951361112,
          -0.13812094218953752,
          -0.1320654346583035,
          -0.12598903069256298,
          -0.11989269174886842,
          -0.11377738243804165,
          -0.10764407037254566,
          -0.1014937260133812,
          -0.09532732251653285,
          -0.08914583557898859,
          -0.08295024328435732,
          -0.07674152594810837,
          -0.07052066596245994,
          -0.06428864764093464,
          -0.058046457062615464,
          -0.05179508191612004,
          -0.04553551134332083,
          -0.03926873578283526,
          -0.032995746813310745,
          -0.026717536996529238,
          -0.020435099720356353,
          -0.014149429041559644,
          -0.007861519528521132,
          -0.001572366103868849,
          0.004717036112948118,
          0.011005691963113486,
          0.017292606405908326,
          0.023576784676152467,
          0.029857232441604542,
          0.03613295596029306,
          0.042402962237754124,
          0.04866625918415081,
          0.05492185577124947,
          0.06116876218922803,
          0.0674059900032915,
          0.07363255231006993,
          0.07984746389377448,
          0.08604974138208424,
          0.09223840340174587,
          0.09841247073385237,
          0.1045709664687833,
          0.11071291616077916,
          0.11683734798212578,
          0.12294329287692467,
          0.1290297847144246,
          0.13509586044189054,
          0.1411405602369853,
          0.14716292765964029,
          0.1531620098033911,
          0.15913685744615402,
          0.1650865252004181,
          0.17101007166283405,
          0.176906559563169,
          0.18277505591260915,
          0.18861463215138455,
          0.19442436429569332,
          0.20020333308390148,
          0.20595062412199586,
          0.2116653280282667,
          0.21734654057719727,
          0.22299336284253743,
          0.22860490133953895,
          0.23418026816633003,
          0.2397185811444046,
          0.24521896395820997,
          0.2506805462938026,
          0.2561024639765568,
          0.26148385910790084,
          0.26682388020106074,
          0.2721216823157891,
          0.27737642719205813,
          0.2825872833826959,
          0.2877534263849445,
          0.29287403877091917,
          0.2979483103169483,
          0.30297543813177386,
          0.30795462678358954,
          0.3128850884259027,
          0.31776604292219174,
          0.32259671796934636,
          0.32737634921986714,
          0.33210418040280665,
          0.33677946344343257,
          0.3414014585815941,
          0.34596943448877265,
          0.35048266838379827,
          0.3549404461472138,
          0.35934206243426897,
          0.36368682078652415,
          0.36797403374205145,
          0.37220302294420926,
          0.37637311924897715,
          0.3804836628308335,
          0.3845340032871581,
          0.3885234997411439,
          0.3924515209432019,
          0.396317445370842,
          0.4001206613270157,
          0.40386056703690304,
          0.4075365707431307,
          0.41114809079940456,
          0.4146945557625412,
          0.41817540448288787,
          0.421590086193111,
          0.424938060595343,
          0.4282187979466727,
          0.4314317791429653,
          0.43457649580099916,
          0.4376524503389062,
          0.44065915605490324,
          0.44359613720430174,
          0.44646292907478397,
          0.4492590780599333,
          0.4519841417310079,
          0.4546376889069441,
          0.4572192997225827,
          0.45972856569510256,
          0.462165089788654,
          0.4645284864771812,
          0.4668183818054229,
          0.4690344134480827,
          0.47117623076715914,
          0.473243494867426,
          0.47523587865005557,
          0.4771530668643742,
          0.47899475615774423,
          0.48076065512356264,
          0.4824504843473694,
          0.4840639764510593,
          0.48560087613518804,
          0.487060940219368,
          0.4884439376807462,
          0.4897496496905581,
          0.49097786964875323,
          0.4921284032166842,
          0.4932010683478572,
          0.4941956953167363,
          0.4951121267455992,
          0.49595021762943836,
          0.4967098353589053,
          0.4973908597412926,
          0.49799318301955214,
          0.49851670988934504,
          0.4989613575141216,
          0.4993270555382282,
          0.4996137460980397,
          0.49982138383111496,
          0.49994993588337444,
          0.4999993819142987,
          0.49996971410014684,
          0.49986093713519436,
          0.49967306823099045,
          0.4994061371136346,
          0.49906018601907315,
          0.4986352696864164,
          0.4981314553492772,
          0.49754882272513307,
          0.49688746400271216,
          0.4961474838274069,
          0.49532899928471597,
          0.49443213988171786,
          0.4934570475265801,
          0.49240387650610407,
          0.49127279346131403,
          0.49006397736108837,
          0.4887776194738431,
          0.4874139233372672,
          0.4859731047261168,
          0.4844553916180749,
          0.48286102415767734,
          0.4811902546183169,
          0.4794433473623249,
          0.4776205787991436,
          0.4757222373415884,
          0.4737486233602151,
          0.4717000491357907,
          0.46957683880988416,
          0.46737932833357565,
          0.4651078654143021,
          0.46276280946083914,
          0.46034453152643157,
          0.45785341425008474,
          0.45528985179601783,
          0.4526542497912986,
          0.44994702526165914,
          0.4471686065655139,
          0.444319433326178,
          0.4413999563623101,
          0.4384106376165769,
          0.43535195008256417,
          0.43222437772993266,
          0.42902841542784376,
          0.42576456886665587,
          0.4224333544779089,
          0.4190352993526135,
          0.4155709411578469,
          0.4120408280516825,
          0.4084455185964528,
          0.4047855816703724,
          0.40106159637752203,
          0.3972741519562223,
          0.3934238476857952,
          0.38951129279174607,
          0.38553710634936256,
          0.38150191718576365,
          0.3774063637803997,
          0.3732510941640261,
          0.36903676581616984,
          0.3647640455610943,
          0.36043360946229297,
          0.3560461427155129,
          0.3516023395403424,
          0.34710290307036146,
          0.342548545241891,
          0.3379399866813398,
          0.3332779565911859,
          0.3285631926345946,
          0.323796440818697,
          0.31897845537655634,
          0.3141099986478212,
          0.3091918409581081,
          0.30422476049710867,
          0.2992095431954639,
          0.29414698260040273,
          0.2890378797501859,
          0.2838830430473541,
          0.2786832881308217,
          0.273439437746814,
          0.2681523216186912,
          0.2628227763156607,
          0.25745164512040636,
          0.25203977789566273,
          0.24658803094973725,
          0.24109726690102434,
          0.23556835454150904,
          0.23000216869930606,
          0.22439959010023128,
          0.21876150522845278,
          0.2130888061862179,
          0.2073823905527042,
          0.20164316124199094,
          0.19587202636019863,
          0.19006989906179875,
          0.18423769740512497,
          0.17837634420711634,
          0.17248676689729533,
          0.1665698973710293,
          0.160626671842072,
          0.1546580306944342,
          0.1486649183335864,
          0.1426482830370247,
          0.13660907680423323,
          0.13054825520604402,
          0.12446677723344618,
          0.11836560514583984,
          0.11224570431878672,
          0.10610804309125398,
          0.09995359261240279,
          0.09378332668791867,
          0.08759822162593506,
          0.08139925608254733,
          0.07518741090696812,
          0.06896366898632703,
          0.06272901509014786,
          0.05648443571453673,
          0.050230918926083876,
          0.04396945420553101,
          0.03770103229120077,
          0.03142664502224143,
          0.025147285181683136,
          0.01886394633935911,
          0.012577622694688038,
          0.006289308919371122,
          1.8369701987210297E-16,
          -0.006289308919370754,
          -0.01257762269468767,
          -0.018863946339358745,
          -0.02514728518168277,
          -0.03142664502224106,
          -0.0377010322912004,
          -0.04396945420553064,
          -0.050230918926083515,
          -0.05648443571453636,
          -0.06272901509014749,
          -0.06896366898632666,
          -0.07518741090696776,
          -0.08139925608254697,
          -0.0875982216259347,
          -0.0937833266879183,
          -0.09995359261240243,
          -0.10610804309125361,
          -0.11224570431878637,
          -0.11836560514583948,
          -0.12446677723344582,
          -0.13054825520604366,
          -0.13660907680423287,
          -0.14264828303702437,
          -0.14866491833358603,
          -0.15465803069443387,
          -0.16062667184207166,
          -0.16656989737102898,
          -0.17248676689729497,
          -0.17837634420711598,
          -0.18423769740512463,
          -0.19006989906179841,
          -0.19587202636019826,
          -0.2016431612419906,
          -0.20738239055270305,
          -0.21308880618621756,
          -0.21876150522845164,
          -0.22439959010023094,
          -0.23000216869930573,
          -0.23556835454150873,
          -0.24109726690102404,
          -0.24658803094973694,
          -0.2520397778956624,
          -0.257451645120406,
          -0.26282277631566037,
          -0.26815232161869085,
          -0.2734394377468137,
          -0.27868328813082066,
          -0.28388304304735384,
          -0.2890378797501849,
          -0.2941469826004024,
          -0.2992095431954636,
          -0.30422476049710834,
          -0.3091918409581078,
          -0.3141099986478209,
          -0.318978455376556,
          -0.32379644081869674,
          -0.3285631926345943,
          -0.33327795659118564,
          -0.3379399866813395,
          -0.34254854524189005,
          -0.3471029030703612,
          -0.35160233954034154,
          -0.3560461427155126,
          -0.3604336094622927,
          -0.36476404556109404,
          -0.3690367658161696,
          -0.3732510941640258,
          -0.3774063637803995,
          -0.3815019171857634,
          -0.38553710634936234,
          -0.3895112927917453,
          -0.39342384768579497,
          -0.3972741519562215,
          -0.4010615963775218,
          -0.40478558167037165,
          -0.40844551859645256,
          -0.4120408280516823,
          -0.41557094115784665,
          -0.4190352993526133,
          -0.42243335447790875,
          -0.4257645688666557,
          -0.42902841542784353,
          -0.43222437772993244,
          -0.4353519500825635,
          -0.4384106376165767,
          -0.44139995636230955,
          -0.44431943332617785,
          -0.4471686065655133,
          -0.449947025261659,
          -0.4526542497912984,
          -0.45528985179601766,
          -0.45785341425008463,
          -0.4603445315264314,
          -0.462762809460839,
          -0.465107865414302,
          -0.46737932833357554,
          -0.4695768388098837,
          -0.4717000491357906,
          -0.4737486233602147,
          -0.4757222373415883,
          -0.4776205787991432,
          -0.4794433473623248,
          -0.48119025461831677,
          -0.48286102415767723,
          -0.4844553916180748,
          -0.4859731047261167,
          -0.48741392333726713,
          -0.488777619473843,
          -0.4900639773610883,
          -0.49127279346131375,
          -0.492403876506104,
          -0.4934570475265799,
          -0.49443213988171786,
          -0.49532899928471574,
          -0.4961474838274068,
          -0.4968874640027121,
          -0.49754882272513296,
          -0.4981314553492772,
          -0.4986352696864163,
          -0.49906018601907315,
          -0.4994061371136346,
          -0.49967306823099045,
          -0.49986093713519436,
          -0.49996971410014684,
          -0.4999993819142987,
          -0.49994993588337444,
          -0.49982138383111496,
          -0.4996137460980397,
          -0.4993270555382282,
          -0.49896135751412163,
          -0.4985167098893451,
          -0.4979931830195522,
          -0.49739085974129266,
          -0.4967098353589054,
          -0.4959502176294385,
          -0.49511212674559935,
          -0.4941956953167364,
          -0.4932010683478574,
          -0.4921284032166844,
          -0.49097786964875345,
          -0.4897496496905583,
          -0.48844393768074623,
          -0.4870609402193682,
          -0.4856008761351881,
          -0.4840639764510595,
          -0.48245048434736953,
          -0.48076065512356286,
          -0.47899475615774445,
          -0.4771530668643746,
          -0.47523587865005584,
          -0.47324349486742645,
          -0.4711762307671594,
          -0.46903441344808317,
          -0.4668183818054232,
          -0.4645284864771813,
          -0.46216508978865434,
          -0.4597285656951027,
          -0.457219299722583,
          -0.4546376889069442,
          -0.45198414173100826,
          -0.4492590780599337,
          -0.4464629290747845,
          -0.4435961372043021,
          -0.4406591560549038,
          -0.4376524503389066,
          -0.4345764958009998,
          -0.4314317791429657,
          -0.4282187979466729,
          -0.4249380605953434,
          -0.42159008619311117,
          -0.4181754044828883,
          -0.4146945557625414,
          -0.411148090799405,
          -0.40753657074313115,
          -0.40386056703690376,
          -0.4001206613270161,
          -0.3963174453708428,
          -0.3924515209432024,
          -0.38852349974114414,
          -0.3845340032871586,
          -0.38048366283083374,
          -0.37637311924897765,
          -0.3722030229442095,
          -0.367974033742052,
          -0.3636868207865244,
          -0.3593420624342695,
          -0.3549404461472144,
          -0.35048266838379916,
          -0.34596943448877326,
          -0.34140145858159504,
          -0.3367794634434331,
          -0.3321041804028069,
          -0.3273763492198678,
          -0.3225967179693467,
          -0.31776604292219235,
          -0.31288508842590296,
          -0.3079546267835902,
          -0.30297543813177413,
          -0.2979483103169493,
          -0.29287403877091983,
          -0.2877534263849455,
          -0.28258728338269656,
          -0.2773764271920591,
          -0.27212168231578976,
          -0.26682388020106107,
          -0.26148385910790156,
          -0.2561024639765571,
          -0.2506805462938033,
          -0.24521896395821027,
          -0.23971858114440533,
          -0.23418026816633036,
          -0.22860490133954006,
          -0.22299336284253815,
          -0.2173465405771984,
          -0.21166532802826743,
          -0.205950624121997,
          -0.2002033330839022,
          -0.19442436429569365,
          -0.1886146321513853,
          -0.18277505591260948,
          -0.17690655956316978,
          -0.1710100716628344,
          -0.16508652520041886,
          -0.15913685744615438,
          -0.15316200980339228,
          -0.14716292765964106,
          -0.14114056023698648,
          -0.1350958604418913,
          -0.1290297847144258,
          -0.12294329287692544,
          -0.11683734798212614,
          -0.11071291616077995,
          -0.10457096646878367,
          -0.09841247073385316,
          -0.09223840340174623,
          -0.08604974138208504,
          -0.07984746389377484,
          -0.07363255231007118,
          -0.06740599000329231,
          -0.06116876218922928,
          -0.05492185577125028,
          -0.04866625918415206,
          -0.042402962237754936,
          -0.03613295596029343,
          -0.029857232441605354,
          -0.023576784676152835,
          -0.017292606405909138,
          -0.011005691963113854,
          -0.004717036112948929,
          0.0015723661038680376,
          0.007861519528519878,
          0.014149429041558833,
          0.020435099720355097,
          0.02671753699652843,
          0.03299574681330949,
          0.039268735782834456,
          0.04553551134332046,
          0.05179508191611923,
          0.058046457062615096,
          0.06428864764093384,
          0.07052066596245958,
          0.07674152594810757,
          0.08295024328435653,
          0.08914583557898735,
          0.09532732251653205,
          0.10149372601337997,
          0.10764407037254486,
          0.11377738243804043,
          0.11989269174886763,
          0.12598903069256265,
          0.13206543465830273,
          0.13812094218953716,
          0.14415459513611042,
          0.15016543880587513,
          0.15615252211574418,
          0.1621148977421853,
          0.16805162227110743,
          0.17396175634714173,
          0.17984436482226718,
          0.18569851690378378,
          0.1915232863015831,
          0.19731775137472007,
          0.20308099527723622,
          0.20881210610323306,
          0.21451017703116318,
          0.22017430646730918,
          0.22580359818844742,
          0.23139716148364897,
          0.23695411129522143,
          0.24247356835874329,
          0.24795465934219452,
          0.2533965169841356,
          0.2587982802309389,
          0.26415909437302576,
          0.2694781111801079,
          0.274754489035403,
          0.2799873930687973,
          0.28517599528895066,
          0.2903194747143023,
          0.2954170175029789,
          0.30046781708156095,
          0.3054710742727113,
          0.31042599742162125,
          0.31533180252127835,
          0.3201877133365124,
          0.32499296152682305,
          0.329746786767948,
          0.3344484368721694,
          0.3390971679073332,
          0.3436922443145548,
          0.34823293902461083,
          0.35271853357297617,
          0.3571483182135104,
          0.36152159203075424,
          0.36583766305083903,
          0.3700958483509713,
          0.3742954741674951,
          0.37843587600249534,
          0.3825163987289447,
          0.3865363966943589,
          0.3904952338229585,
          0.3943922837163157,
          0.3982269297524642,
          0.4019985651834702,
          0.40570659323143254,
          0.4093504271829139,
          0.4129294904817712,
          0.4164432168203866,
          0.4198910502292695,
          0.4232724451650301,
          0.426586866596696,
          0.4298337900903724,
          0.43301270189221935
         ],
         "yaxis": "y",
         "type": "scatter"
        }
       ],
       "layout": {
        "template": {
         "data": {
          "histogram2dcontour": [
           {
            "type": "histogram2dcontour",
            "colorbar": {
             "outlinewidth": 0,
             "ticks": ""
            },
            "colorscale": [
             [
              0.0,
              "#0d0887"
             ],
             [
              0.1111111111111111,
              "#46039f"
             ],
             [
              0.2222222222222222,
              "#7201a8"
             ],
             [
              0.3333333333333333,
              "#9c179e"
             ],
             [
              0.4444444444444444,
              "#bd3786"
             ],
             [
              0.5555555555555556,
              "#d8576b"
             ],
             [
              0.6666666666666666,
              "#ed7953"
             ],
             [
              0.7777777777777778,
              "#fb9f3a"
             ],
             [
              0.8888888888888888,
              "#fdca26"
             ],
             [
              1.0,
              "#f0f921"
             ]
            ]
           }
          ],
          "choropleth": [
           {
            "type": "choropleth",
            "colorbar": {
             "outlinewidth": 0,
             "ticks": ""
            }
           }
          ],
          "histogram2d": [
           {
            "type": "histogram2d",
            "colorbar": {
             "outlinewidth": 0,
             "ticks": ""
            },
            "colorscale": [
             [
              0.0,
              "#0d0887"
             ],
             [
              0.1111111111111111,
              "#46039f"
             ],
             [
              0.2222222222222222,
              "#7201a8"
             ],
             [
              0.3333333333333333,
              "#9c179e"
             ],
             [
              0.4444444444444444,
              "#bd3786"
             ],
             [
              0.5555555555555556,
              "#d8576b"
             ],
             [
              0.6666666666666666,
              "#ed7953"
             ],
             [
              0.7777777777777778,
              "#fb9f3a"
             ],
             [
              0.8888888888888888,
              "#fdca26"
             ],
             [
              1.0,
              "#f0f921"
             ]
            ]
           }
          ],
          "heatmap": [
           {
            "type": "heatmap",
            "colorbar": {
             "outlinewidth": 0,
             "ticks": ""
            },
            "colorscale": [
             [
              0.0,
              "#0d0887"
             ],
             [
              0.1111111111111111,
              "#46039f"
             ],
             [
              0.2222222222222222,
              "#7201a8"
             ],
             [
              0.3333333333333333,
              "#9c179e"
             ],
             [
              0.4444444444444444,
              "#bd3786"
             ],
             [
              0.5555555555555556,
              "#d8576b"
             ],
             [
              0.6666666666666666,
              "#ed7953"
             ],
             [
              0.7777777777777778,
              "#fb9f3a"
             ],
             [
              0.8888888888888888,
              "#fdca26"
             ],
             [
              1.0,
              "#f0f921"
             ]
            ]
           }
          ],
          "heatmapgl": [
           {
            "type": "heatmapgl",
            "colorbar": {
             "outlinewidth": 0,
             "ticks": ""
            },
            "colorscale": [
             [
              0.0,
              "#0d0887"
             ],
             [
              0.1111111111111111,
              "#46039f"
             ],
             [
              0.2222222222222222,
              "#7201a8"
             ],
             [
              0.3333333333333333,
              "#9c179e"
             ],
             [
              0.4444444444444444,
              "#bd3786"
             ],
             [
              0.5555555555555556,
              "#d8576b"
             ],
             [
              0.6666666666666666,
              "#ed7953"
             ],
             [
              0.7777777777777778,
              "#fb9f3a"
             ],
             [
              0.8888888888888888,
              "#fdca26"
             ],
             [
              1.0,
              "#f0f921"
             ]
            ]
           }
          ],
          "contourcarpet": [
           {
            "type": "contourcarpet",
            "colorbar": {
             "outlinewidth": 0,
             "ticks": ""
            }
           }
          ],
          "contour": [
           {
            "type": "contour",
            "colorbar": {
             "outlinewidth": 0,
             "ticks": ""
            },
            "colorscale": [
             [
              0.0,
              "#0d0887"
             ],
             [
              0.1111111111111111,
              "#46039f"
             ],
             [
              0.2222222222222222,
              "#7201a8"
             ],
             [
              0.3333333333333333,
              "#9c179e"
             ],
             [
              0.4444444444444444,
              "#bd3786"
             ],
             [
              0.5555555555555556,
              "#d8576b"
             ],
             [
              0.6666666666666666,
              "#ed7953"
             ],
             [
              0.7777777777777778,
              "#fb9f3a"
             ],
             [
              0.8888888888888888,
              "#fdca26"
             ],
             [
              1.0,
              "#f0f921"
             ]
            ]
           }
          ],
          "surface": [
           {
            "type": "surface",
            "colorbar": {
             "outlinewidth": 0,
             "ticks": ""
            },
            "colorscale": [
             [
              0.0,
              "#0d0887"
             ],
             [
              0.1111111111111111,
              "#46039f"
             ],
             [
              0.2222222222222222,
              "#7201a8"
             ],
             [
              0.3333333333333333,
              "#9c179e"
             ],
             [
              0.4444444444444444,
              "#bd3786"
             ],
             [
              0.5555555555555556,
              "#d8576b"
             ],
             [
              0.6666666666666666,
              "#ed7953"
             ],
             [
              0.7777777777777778,
              "#fb9f3a"
             ],
             [
              0.8888888888888888,
              "#fdca26"
             ],
             [
              1.0,
              "#f0f921"
             ]
            ]
           }
          ],
          "mesh3d": [
           {
            "type": "mesh3d",
            "colorbar": {
             "outlinewidth": 0,
             "ticks": ""
            }
           }
          ],
          "scatter": [
           {
            "marker": {
             "line": {
              "color": "#283442"
             }
            },
            "type": "scatter"
           }
          ],
          "parcoords": [
           {
            "type": "parcoords",
            "line": {
             "colorbar": {
              "outlinewidth": 0,
              "ticks": ""
             }
            }
           }
          ],
          "scatterpolargl": [
           {
            "type": "scatterpolargl",
            "marker": {
             "colorbar": {
              "outlinewidth": 0,
              "ticks": ""
             }
            }
           }
          ],
          "bar": [
           {
            "error_x": {
             "color": "#f2f5fa"
            },
            "error_y": {
             "color": "#f2f5fa"
            },
            "marker": {
             "line": {
              "color": "rgb(17,17,17)",
              "width": 0.5
             },
             "pattern": {
              "fillmode": "overlay",
              "size": 10,
              "solidity": 0.2
             }
            },
            "type": "bar"
           }
          ],
          "scattergeo": [
           {
            "type": "scattergeo",
            "marker": {
             "colorbar": {
              "outlinewidth": 0,
              "ticks": ""
             }
            }
           }
          ],
          "scatterpolar": [
           {
            "type": "scatterpolar",
            "marker": {
             "colorbar": {
              "outlinewidth": 0,
              "ticks": ""
             }
            }
           }
          ],
          "histogram": [
           {
            "marker": {
             "pattern": {
              "fillmode": "overlay",
              "size": 10,
              "solidity": 0.2
             }
            },
            "type": "histogram"
           }
          ],
          "scattergl": [
           {
            "marker": {
             "line": {
              "color": "#283442"
             }
            },
            "type": "scattergl"
           }
          ],
          "scatter3d": [
           {
            "type": "scatter3d",
            "line": {
             "colorbar": {
              "outlinewidth": 0,
              "ticks": ""
             }
            },
            "marker": {
             "colorbar": {
              "outlinewidth": 0,
              "ticks": ""
             }
            }
           }
          ],
          "scattermapbox": [
           {
            "type": "scattermapbox",
            "marker": {
             "colorbar": {
              "outlinewidth": 0,
              "ticks": ""
             }
            }
           }
          ],
          "scatterternary": [
           {
            "type": "scatterternary",
            "marker": {
             "colorbar": {
              "outlinewidth": 0,
              "ticks": ""
             }
            }
           }
          ],
          "scattercarpet": [
           {
            "type": "scattercarpet",
            "marker": {
             "colorbar": {
              "outlinewidth": 0,
              "ticks": ""
             }
            }
           }
          ],
          "carpet": [
           {
            "aaxis": {
             "endlinecolor": "#A2B1C6",
             "gridcolor": "#506784",
             "linecolor": "#506784",
             "minorgridcolor": "#506784",
             "startlinecolor": "#A2B1C6"
            },
            "baxis": {
             "endlinecolor": "#A2B1C6",
             "gridcolor": "#506784",
             "linecolor": "#506784",
             "minorgridcolor": "#506784",
             "startlinecolor": "#A2B1C6"
            },
            "type": "carpet"
           }
          ],
          "table": [
           {
            "cells": {
             "fill": {
              "color": "#506784"
             },
             "line": {
              "color": "rgb(17,17,17)"
             }
            },
            "header": {
             "fill": {
              "color": "#2a3f5f"
             },
             "line": {
              "color": "rgb(17,17,17)"
             }
            },
            "type": "table"
           }
          ],
          "barpolar": [
           {
            "marker": {
             "line": {
              "color": "rgb(17,17,17)",
              "width": 0.5
             },
             "pattern": {
              "fillmode": "overlay",
              "size": 10,
              "solidity": 0.2
             }
            },
            "type": "barpolar"
           }
          ],
          "pie": [
           {
            "automargin": true,
            "type": "pie"
           }
          ]
         },
         "layout": {
          "autotypenumbers": "strict",
          "colorway": [
           "#636efa",
           "#EF553B",
           "#00cc96",
           "#ab63fa",
           "#FFA15A",
           "#19d3f3",
           "#FF6692",
           "#B6E880",
           "#FF97FF",
           "#FECB52"
          ],
          "font": {
           "color": "#f2f5fa"
          },
          "hovermode": "closest",
          "hoverlabel": {
           "align": "left"
          },
          "paper_bgcolor": "rgb(17,17,17)",
          "plot_bgcolor": "rgb(17,17,17)",
          "polar": {
           "bgcolor": "rgb(17,17,17)",
           "angularaxis": {
            "gridcolor": "#506784",
            "linecolor": "#506784",
            "ticks": ""
           },
           "radialaxis": {
            "gridcolor": "#506784",
            "linecolor": "#506784",
            "ticks": ""
           }
          },
          "ternary": {
           "bgcolor": "rgb(17,17,17)",
           "aaxis": {
            "gridcolor": "#506784",
            "linecolor": "#506784",
            "ticks": ""
           },
           "baxis": {
            "gridcolor": "#506784",
            "linecolor": "#506784",
            "ticks": ""
           },
           "caxis": {
            "gridcolor": "#506784",
            "linecolor": "#506784",
            "ticks": ""
           }
          },
          "coloraxis": {
           "colorbar": {
            "outlinewidth": 0,
            "ticks": ""
           }
          },
          "colorscale": {
           "sequential": [
            [
             0.0,
             "#0d0887"
            ],
            [
             0.1111111111111111,
             "#46039f"
            ],
            [
             0.2222222222222222,
             "#7201a8"
            ],
            [
             0.3333333333333333,
             "#9c179e"
            ],
            [
             0.4444444444444444,
             "#bd3786"
            ],
            [
             0.5555555555555556,
             "#d8576b"
            ],
            [
             0.6666666666666666,
             "#ed7953"
            ],
            [
             0.7777777777777778,
             "#fb9f3a"
            ],
            [
             0.8888888888888888,
             "#fdca26"
            ],
            [
             1.0,
             "#f0f921"
            ]
           ],
           "sequentialminus": [
            [
             0.0,
             "#0d0887"
            ],
            [
             0.1111111111111111,
             "#46039f"
            ],
            [
             0.2222222222222222,
             "#7201a8"
            ],
            [
             0.3333333333333333,
             "#9c179e"
            ],
            [
             0.4444444444444444,
             "#bd3786"
            ],
            [
             0.5555555555555556,
             "#d8576b"
            ],
            [
             0.6666666666666666,
             "#ed7953"
            ],
            [
             0.7777777777777778,
             "#fb9f3a"
            ],
            [
             0.8888888888888888,
             "#fdca26"
            ],
            [
             1.0,
             "#f0f921"
            ]
           ],
           "diverging": [
            [
             0,
             "#8e0152"
            ],
            [
             0.1,
             "#c51b7d"
            ],
            [
             0.2,
             "#de77ae"
            ],
            [
             0.3,
             "#f1b6da"
            ],
            [
             0.4,
             "#fde0ef"
            ],
            [
             0.5,
             "#f7f7f7"
            ],
            [
             0.6,
             "#e6f5d0"
            ],
            [
             0.7,
             "#b8e186"
            ],
            [
             0.8,
             "#7fbc41"
            ],
            [
             0.9,
             "#4d9221"
            ],
            [
             1,
             "#276419"
            ]
           ]
          },
          "xaxis": {
           "gridcolor": "#283442",
           "linecolor": "#506784",
           "ticks": "",
           "title": {
            "standoff": 15
           },
           "zerolinecolor": "#283442",
           "automargin": true,
           "zerolinewidth": 2
          },
          "yaxis": {
           "gridcolor": "#283442",
           "linecolor": "#506784",
           "ticks": "",
           "title": {
            "standoff": 15
           },
           "zerolinecolor": "#283442",
           "automargin": true,
           "zerolinewidth": 2
          },
          "scene": {
           "xaxis": {
            "backgroundcolor": "rgb(17,17,17)",
            "gridcolor": "#506784",
            "linecolor": "#506784",
            "showbackground": true,
            "ticks": "",
            "zerolinecolor": "#C8D4E3",
            "gridwidth": 2
           },
           "yaxis": {
            "backgroundcolor": "rgb(17,17,17)",
            "gridcolor": "#506784",
            "linecolor": "#506784",
            "showbackground": true,
            "ticks": "",
            "zerolinecolor": "#C8D4E3",
            "gridwidth": 2
           },
           "zaxis": {
            "backgroundcolor": "rgb(17,17,17)",
            "gridcolor": "#506784",
            "linecolor": "#506784",
            "showbackground": true,
            "ticks": "",
            "zerolinecolor": "#C8D4E3",
            "gridwidth": 2
           }
          },
          "shapedefaults": {
           "line": {
            "color": "#f2f5fa"
           }
          },
          "annotationdefaults": {
           "arrowcolor": "#f2f5fa",
           "arrowhead": 0,
           "arrowwidth": 1
          },
          "geo": {
           "bgcolor": "rgb(17,17,17)",
           "landcolor": "rgb(17,17,17)",
           "subunitcolor": "#506784",
           "showland": true,
           "showlakes": true,
           "lakecolor": "rgb(17,17,17)"
          },
          "title": {
           "x": 0.05
          },
          "updatemenudefaults": {
           "bgcolor": "#506784",
           "borderwidth": 0
          },
          "sliderdefaults": {
           "bgcolor": "#C8D4E3",
           "borderwidth": 1,
           "bordercolor": "rgb(17,17,17)",
           "tickwidth": 0
          },
          "mapbox": {
           "style": "dark"
          }
         }
        },
        "xaxis": {
         "anchor": "y",
         "domain": [
          0.0,
          1.0
         ],
         "title": {
          "text": "x"
         }
        },
        "yaxis": {
         "anchor": "x",
         "domain": [
          0.0,
          1.0
         ],
         "title": {
          "text": "y"
         }
        },
        "legend": {
         "tracegroupgap": 0
        },
        "title": {
         "text": "2. На проміжку [0;2𝜋] функція 𝑦=(1/2)𝑠𝑖𝑛(2𝑥+𝜋/3)",
         "x": 0.5
        }
       },
       "config": {
        "plotlyServerURL": "https://plot.ly"
       }
      },
      "text/html": "<div>                            <div id=\"77f601c2-5b6c-4576-98fd-5eb02c20132c\" class=\"plotly-graph-div\" style=\"height:525px; width:100%;\"></div>            <script type=\"text/javascript\">                require([\"plotly\"], function(Plotly) {                    window.PLOTLYENV=window.PLOTLYENV || {};                                    if (document.getElementById(\"77f601c2-5b6c-4576-98fd-5eb02c20132c\")) {                    Plotly.newPlot(                        \"77f601c2-5b6c-4576-98fd-5eb02c20132c\",                        [{\"hovertemplate\":\"x=%{x}\\u003cbr\\u003ey=%{y}\\u003cextra\\u003e\\u003c\\u002fextra\\u003e\",\"legendgroup\":\"\",\"line\":{\"color\":\"#636efa\",\"dash\":\"solid\"},\"marker\":{\"symbol\":\"circle\"},\"mode\":\"lines\",\"name\":\"\",\"orientation\":\"v\",\"showlegend\":false,\"x\":[0.0,0.006289474781961547,0.012578949563923095,0.018868424345884642,0.02515789912784619,0.03144737390980774,0.037736848691769284,0.04402632347373083,0.05031579825569238,0.056605273037653926,0.06289474781961547,0.06918422260157703,0.07547369738353857,0.08176317216550011,0.08805264694746166,0.09434212172942322,0.10063159651138476,0.1069210712933463,0.11321054607530785,0.1195000208572694,0.12578949563923095,0.1320789704211925,0.13836844520315406,0.1446579199851156,0.15094739476707714,0.15723686954903868,0.16352634433100022,0.16981581911296179,0.17610529389492333,0.18239476867688487,0.18868424345884643,0.19497371824080797,0.20126319302276952,0.20755266780473106,0.2138421425866926,0.22013161736865416,0.2264210921506157,0.23271056693257725,0.2390000417145388,0.24528951649650035,0.2515789912784619,0.25786846606042346,0.264157940842385,0.27044741562434654,0.2767368904063081,0.2830263651882696,0.2893158399702312,0.2956053147521927,0.3018947895341543,0.30818426431611584,0.31447373909807735,0.3207632138800389,0.32705268866200043,0.333342163443962,0.33963163822592357,0.3459211130078851,0.35221058778984665,0.3585000625718082,0.36478953735376973,0.3710790121357313,0.37736848691769287,0.3836579616996544,0.38994743648161595,0.39623691126357746,0.40252638604553903,0.4088158608275006,0.4151053356094621,0.4213948103914237,0.4276842851733852,0.43397375995534676,0.44026323473730833,0.44655270951926984,0.4528421843012314,0.459131659083193,0.4654211338651545,0.47171060864711606,0.4780000834290776,0.48428955821103914,0.4905790329930007,0.4968685077749622,0.5031579825569238,0.5094474573388853,0.5157369321208469,0.5220264069028084,0.52831588168477,0.5346053564667316,0.5408948312486931,0.5471843060306546,0.5534737808126162,0.5597632555945777,0.5660527303765392,0.5723422051585008,0.5786316799404624,0.5849211547224239,0.5912106295043854,0.597500104286347,0.6037895790683085,0.6100790538502701,0.6163685286322317,0.6226580034141932,0.6289474781961547,0.6352369529781163,0.6415264277600778,0.6478159025420394,0.6541053773240009,0.6603948521059625,0.666684326887924,0.6729738016698855,0.6792632764518471,0.6855527512338087,0.6918422260157702,0.6981317007977318,0.7044211755796933,0.7107106503616548,0.7170001251436164,0.723289599925578,0.7295790747075395,0.7358685494895011,0.7421580242714626,0.7484474990534241,0.7547369738353857,0.7610264486173473,0.7673159233993088,0.7736053981812703,0.7798948729632319,0.7861843477451934,0.7924738225271549,0.7987632973091165,0.8050527720910781,0.8113422468730396,0.8176317216550012,0.8239211964369627,0.8302106712189242,0.8365001460008858,0.8427896207828474,0.8490790955648089,0.8553685703467704,0.861658045128732,0.8679475199106935,0.874236994692655,0.8805264694746167,0.8868159442565782,0.8931054190385397,0.8993948938205013,0.9056843686024628,0.9119738433844243,0.918263318166386,0.9245527929483475,0.930842267730309,0.9371317425122706,0.9434212172942321,0.9497106920761936,0.9560001668581553,0.9622896416401168,0.9685791164220783,0.9748685912040398,0.9811580659860014,0.9874475407679629,0.9937370155499244,1.000026490331886,1.0063159651138476,1.012605439895809,1.0188949146777706,1.0251843894597321,1.0314738642416938,1.0377633390236554,1.0440528138056169,1.0503422885875784,1.05663176336954,1.0629212381515014,1.0692107129334631,1.0755001877154247,1.0817896624973862,1.0880791372793477,1.0943686120613092,1.1006580868432707,1.1069475616252324,1.113237036407194,1.1195265111891555,1.125815985971117,1.1321054607530785,1.13839493553504,1.1446844103170015,1.1509738850989633,1.1572633598809248,1.1635528346628863,1.1698423094448478,1.1761317842268093,1.1824212590087708,1.1887107337907326,1.195000208572694,1.2012896833546556,1.207579158136617,1.2138686329185786,1.2201581077005401,1.2264475824825016,1.2327370572644634,1.2390265320464249,1.2453160068283864,1.251605481610348,1.2578949563923094,1.264184431174271,1.2704739059562327,1.2767633807381942,1.2830528555201557,1.2893423303021172,1.2956318050840787,1.3019212798660402,1.3082107546480017,1.3145002294299635,1.320789704211925,1.3270791789938865,1.333368653775848,1.3396581285578095,1.345947603339771,1.3522370781217328,1.3585265529036943,1.3648160276856558,1.3711055024676173,1.3773949772495788,1.3836844520315403,1.389973926813502,1.3962634015954636,1.402552876377425,1.4088423511593866,1.4151318259413481,1.4214213007233096,1.4277107755052711,1.4340002502872329,1.4402897250691944,1.446579199851156,1.4528686746331174,1.459158149415079,1.4654476241970404,1.4717370989790022,1.4780265737609637,1.4843160485429252,1.4906055233248867,1.4968949981068482,1.5031844728888097,1.5094739476707715,1.515763422452733,1.5220528972346945,1.528342372016656,1.5346318467986175,1.540921321580579,1.5472107963625406,1.5535002711445023,1.5597897459264638,1.5660792207084253,1.5723686954903868,1.5786581702723483,1.5849476450543099,1.5912371198362716,1.597526594618233,1.6038160694001946,1.6101055441821561,1.6163950189641176,1.6226844937460791,1.6289739685280407,1.6352634433100024,1.641552918091964,1.6478423928739254,1.654131867655887,1.6604213424378484,1.66671081721981,1.6730002920017717,1.6792897667837332,1.6855792415656947,1.6918687163476562,1.6981581911296177,1.7044476659115793,1.7107371406935408,1.7170266154755025,1.723316090257464,1.7296055650394255,1.735895039821387,1.7421845146033486,1.74847398938531,1.7547634641672718,1.7610529389492333,1.7673424137311948,1.7736318885131563,1.7799213632951179,1.7862108380770794,1.792500312859041,1.7987897876410026,1.8050792624229641,1.8113687372049256,1.8176582119868872,1.8239476867688487,1.8302371615508102,1.836526636332772,1.8428161111147334,1.849105585896695,1.8553950606786564,1.861684535460618,1.8679740102425795,1.8742634850245412,1.8805529598065027,1.8868424345884642,1.8931319093704257,1.8994213841523873,1.9057108589343488,1.9120003337163105,1.918289808498272,1.9245792832802335,1.930868758062195,1.9371582328441566,1.943447707626118,1.9497371824080796,1.9560266571900413,1.9623161319720028,1.9686056067539643,1.9748950815359259,1.9811845563178874,1.9874740310998489,1.9937635058818106,2.000052980663772,2.0063424554457336,2.012631930227695,2.0189214050096567,2.025210879791618,2.0315003545735797,2.037789829355541,2.0440793041375027,2.0503687789194642,2.056658253701426,2.0629477284833877,2.069237203265349,2.0755266780473107,2.0818161528292722,2.0881056276112337,2.0943951023931953,2.1006845771751568,2.1069740519571183,2.11326352673908,2.1195530015210413,2.125842476303003,2.1321319510849643,2.1384214258669263,2.144710900648888,2.1510003754308493,2.157289850212811,2.1635793249947723,2.169868799776734,2.1761582745586954,2.182447749340657,2.1887372241226184,2.19502669890458,2.2013161736865414,2.207605648468503,2.213895123250465,2.2201845980324264,2.226474072814388,2.2327635475963494,2.239053022378311,2.2453424971602725,2.251631971942234,2.2579214467241955,2.264210921506157,2.2705003962881185,2.27678987107008,2.2830793458520415,2.289368820634003,2.295658295415965,2.3019477701979265,2.308237244979888,2.3145267197618495,2.320816194543811,2.3271056693257726,2.333395144107734,2.3396846188896956,2.345974093671657,2.3522635684536186,2.35855304323558,2.3648425180175416,2.371131992799503,2.377421467581465,2.3837109423634266,2.390000417145388,2.3962898919273496,2.402579366709311,2.4088688414912727,2.415158316273234,2.4214477910551957,2.427737265837157,2.4340267406191187,2.4403162154010802,2.4466056901830417,2.4528951649650033,2.459184639746965,2.4654741145289267,2.4717635893108882,2.4780530640928498,2.4843425388748113,2.490632013656773,2.4969214884387343,2.503210963220696,2.5095004380026573,2.515789912784619,2.5220793875665803,2.528368862348542,2.5346583371305034,2.5409478119124653,2.547237286694427,2.5535267614763884,2.55981623625835,2.5661057110403114,2.572395185822273,2.5786846606042344,2.584974135386196,2.5912636101681574,2.597553084950119,2.6038425597320805,2.610132034514042,2.6164215092960035,2.6227109840779654,2.629000458859927,2.6352899336418885,2.64157940842385,2.6478688832058115,2.654158357987773,2.6604478327697345,2.666737307551696,2.6730267823336575,2.679316257115619,2.6856057318975806,2.691895206679542,2.698184681461504,2.7044741562434655,2.710763631025427,2.7170531058073886,2.72334258058935,2.7296320553713116,2.735921530153273,2.7422110049352346,2.748500479717196,2.7547899544991576,2.761079429281119,2.7673689040630807,2.773658378845042,2.779947853627004,2.7862373284089657,2.792526803190927,2.7988162779728887,2.80510575275485,2.8113952275368117,2.817684702318773,2.8239741771007347,2.8302636518826962,2.8365531266646578,2.8428426014466193,2.849132076228581,2.8554215510105423,2.8617110257925042,2.8680005005744658,2.8742899753564273,2.880579450138389,2.8868689249203503,2.893158399702312,2.8994478744842733,2.905737349266235,2.9120268240481963,2.918316298830158,2.9246057736121194,2.930895248394081,2.9371847231760424,2.9434741979580044,2.949763672739966,2.9560531475219274,2.962342622303889,2.9686320970858504,2.974921571867812,2.9812110466497734,2.987500521431735,2.9937899962136965,3.000079470995658,3.0063689457776195,3.012658420559581,3.018947895341543,3.0252373701235045,3.031526844905466,3.0378163196874275,3.044105794469389,3.0503952692513505,3.056684744033312,3.0629742188152735,3.069263693597235,3.0755531683791966,3.081842643161158,3.0881321179431196,3.094421592725081,3.100711067507043,3.1070005422890046,3.113290017070966,3.1195794918529276,3.125868966634889,3.1321584414168506,3.138447916198812,3.1447373909807737,3.151026865762735,3.1573163405446967,3.163605815326658,3.1698952901086197,3.176184764890581,3.182474239672543,3.1887637144545047,3.195053189236466,3.2013426640184277,3.207632138800389,3.2139216135823507,3.2202110883643122,3.2265005631462738,3.2327900379282353,3.239079512710197,3.2453689874921583,3.25165846227412,3.2579479370560813,3.2642374118380433,3.270526886620005,3.2768163614019663,3.283105836183928,3.2893953109658893,3.295684785747851,3.3019742605298124,3.308263735311774,3.3145532100937354,3.320842684875697,3.3271321596576584,3.33342163443962,3.3397111092215814,3.3460005840035434,3.352290058785505,3.3585795335674664,3.364869008349428,3.3711584831313894,3.377447957913351,3.3837374326953125,3.390026907477274,3.3963163822592355,3.402605857041197,3.4088953318231585,3.41518480660512,3.4214742813870815,3.4277637561690435,3.434053230951005,3.4403427057329665,3.446632180514928,3.4529216552968895,3.459211130078851,3.4655006048608126,3.471790079642774,3.4780795544247356,3.484369029206697,3.4906585039886586,3.49694797877062,3.503237453552582,3.5095269283345436,3.515816403116505,3.5221058778984666,3.528395352680428,3.5346848274623897,3.540974302244351,3.5472637770263127,3.553553251808274,3.5598427265902357,3.566132201372197,3.5724216761541587,3.5787111509361202,3.585000625718082,3.5912901005000437,3.5975795752820052,3.6038690500639667,3.6101585248459283,3.6164479996278898,3.6227374744098513,3.629026949191813,3.6353164239737743,3.641605898755736,3.6478953735376973,3.654184848319659,3.6604743231016204,3.6667637978835823,3.673053272665544,3.6793427474475053,3.685632222229467,3.6919216970114284,3.69821117179339,3.7045006465753514,3.710790121357313,3.7170795961392744,3.723369070921236,3.7296585457031974,3.735948020485159,3.7422374952671205,3.7485269700490824,3.754816444831044,3.7611059196130054,3.767395394394967,3.7736848691769285,3.77997434395889,3.7862638187408515,3.792553293522813,3.7988427683047745,3.805132243086736,3.8114217178686975,3.817711192650659,3.824000667432621,3.8302901422145825,3.836579616996544,3.8428690917785056,3.849158566560467,3.8554480413424286,3.86173751612439,3.8680269909063516,3.874316465688313,3.8806059404702746,3.886895415252236,3.8931848900341977,3.899474364816159,3.905763839598121,3.9120533143800826,3.918342789162044,3.9246322639440057,3.930921738725967,3.9372112135079287,3.94350068828989,3.9497901630718517,3.9560796378538132,3.9623691126357747,3.9686585874177362,3.9749480621996978,3.9812375369816593,3.9875270117636212,3.9938164865455827,4.000105961327544,4.006395436109505,4.012684910891467,4.018974385673428,4.02526386045539,4.031553335237352,4.037842810019313,4.044132284801275,4.050421759583236,4.056711234365198,4.063000709147159,4.069290183929121,4.075579658711082,4.081869133493044,4.088158608275005,4.094448083056967,4.1007375578389285,4.10702703262089,4.113316507402852,4.119605982184813,4.125895456966775,4.1321849317487365,4.138474406530698,4.1447638813126595,4.1510533560946214,4.1573428308765825,4.1636323056585445,4.1699217804405055,4.1762112552224675,4.182500730004429,4.1887902047863905,4.1950796795683525,4.2013691543503136,4.2076586291322755,4.213948103914237,4.2202375786961985,4.22652705347816,4.232816528260122,4.239106003042083,4.245395477824045,4.251684952606006,4.257974427387968,4.264263902169929,4.270553376951891,4.276842851733853,4.283132326515814,4.289421801297776,4.295711276079737,4.302000750861699,4.30829022564366,4.314579700425622,4.320869175207583,4.327158649989545,4.333448124771506,4.339737599553468,4.346027074335429,4.352316549117391,4.358606023899353,4.364895498681314,4.371184973463276,4.377474448245237,4.383763923027199,4.39005339780916,4.396342872591122,4.402632347373083,4.408921822155045,4.415211296937006,4.421500771718968,4.42779024650093,4.434079721282891,4.440369196064853,4.446658670846814,4.452948145628776,4.459237620410737,4.465527095192699,4.47181656997466,4.478106044756622,4.484395519538583,4.490684994320545,4.496974469102506,4.503263943884468,4.50955341866643,4.515842893448391,4.522132368230353,4.528421843012314,4.534711317794276,4.541000792576237,4.547290267358199,4.55357974214016,4.559869216922122,4.566158691704083,4.572448166486045,4.578737641268006,4.585027116049968,4.59131659083193,4.597606065613891,4.603895540395853,4.610185015177814,4.616474489959776,4.622763964741737,4.629053439523699,4.63534291430566,4.641632389087622,4.647921863869583,4.654211338651545,4.660500813433506,4.666790288215468,4.67307976299743,4.679369237779391,4.685658712561353,4.691948187343314,4.698237662125276,4.704527136907237,4.710816611689199,4.71710608647116,4.723395561253122,4.729685036035083,4.735974510817045,4.742263985599006,4.748553460380968,4.75484293516293,4.761132409944891,4.767421884726853,4.773711359508814,4.780000834290776,4.786290309072737,4.792579783854699,4.79886925863666,4.805158733418622,4.811448208200583,4.817737682982545,4.824027157764506,4.830316632546468,4.83660610732843,4.842895582110391,4.849185056892353,4.855474531674314,4.861764006456276,4.8680534812382374,4.874342956020199,4.8806324308021605,4.886921905584122,4.8932113803660835,4.8995008551480455,4.9057903299300065,4.9120798047119685,4.91836927949393,4.9246587542758915,4.9309482290578535,4.9372377038398145,4.9435271786217765,4.9498166534037376,4.9561061281856995,4.962395602967661,4.9686850777496225,4.974974552531584,4.981264027313546,4.987553502095507,4.993842976877469,5.0001324516594305,5.006421926441392,5.012711401223354,5.019000876005315,5.025290350787277,5.031579825569238,5.0378693003512,5.044158775133161,5.050448249915123,5.056737724697084,5.063027199479046,5.069316674261007,5.075606149042969,5.081895623824931,5.088185098606892,5.094474573388854,5.100764048170815,5.107053522952777,5.113342997734738,5.1196324725167,5.125921947298661,5.132211422080623,5.138500896862584,5.144790371644546,5.151079846426507,5.157369321208469,5.163658795990431,5.169948270772392,5.176237745554354,5.182527220336315,5.188816695118277,5.195106169900238,5.2013956446822,5.207685119464161,5.213974594246123,5.220264069028084,5.226553543810046,5.232843018592007,5.239132493373969,5.245421968155931,5.251711442937892,5.258000917719854,5.264290392501815,5.270579867283777,5.276869342065738,5.2831588168477,5.289448291629661,5.295737766411623,5.302027241193584,5.308316715975546,5.314606190757508,5.320895665539469,5.327185140321431,5.333474615103392,5.339764089885354,5.346053564667315,5.352343039449277,5.358632514231238,5.3649219890132,5.371211463795161,5.377500938577123,5.383790413359084,5.390079888141046,5.396369362923008,5.402658837704969,5.408948312486931,5.415237787268892,5.421527262050854,5.427816736832815,5.434106211614777,5.440395686396738,5.4466851611787,5.452974635960661,5.459264110742623,5.465553585524584,5.471843060306546,5.478132535088508,5.484422009870469,5.490711484652431,5.497000959434392,5.503290434216354,5.509579908998315,5.515869383780277,5.522158858562238,5.5284483333442,5.534737808126161,5.541027282908123,5.547316757690084,5.553606232472046,5.559895707254008,5.566185182035969,5.572474656817931,5.578764131599892,5.585053606381854,5.591343081163815,5.597632555945777,5.603922030727738,5.6102115055097,5.6165009802916614,5.622790455073623,5.6290799298555845,5.635369404637546,5.641658879419508,5.6479483542014695,5.654237828983431,5.6605273037653925,5.666816778547354,5.6731062533293155,5.6793957281112775,5.6856852028932385,5.6919746776752005,5.698264152457162,5.7045536272391235,5.710843102021085,5.7171325768030465,5.7234220515850085,5.72971152636697,5.7360010011489315,5.742290475930893,5.7485799507128545,5.754869425494816,5.761158900276778,5.767448375058739,5.773737849840701,5.780027324622662,5.786316799404624,5.792606274186585,5.798895748968547,5.805185223750509,5.81147469853247,5.817764173314432,5.824053648096393,5.830343122878355,5.836632597660316,5.842922072442278,5.849211547224239,5.855501022006201,5.861790496788162,5.868079971570124,5.874369446352085,5.880658921134047,5.886948395916009,5.89323787069797,5.899527345479932,5.905816820261893,5.912106295043855,5.918395769825816,5.924685244607778,5.930974719389739,5.937264194171701,5.943553668953662,5.949843143735624,5.956132618517585,5.962422093299547,5.968711568081509,5.97500104286347,5.981290517645432,5.987579992427393,5.993869467209355,6.000158941991316,6.006448416773278,6.012737891555239,6.019027366337201,6.025316841119162,6.031606315901124,6.037895790683086,6.044185265465047,6.050474740247009,6.05676421502897,6.063053689810932,6.069343164592893,6.075632639374855,6.081922114156816,6.088211588938778,6.094501063720739,6.100790538502701,6.107080013284662,6.113369488066624,6.119658962848586,6.125948437630547,6.132237912412509,6.13852738719447,6.144816861976432,6.151106336758393,6.157395811540355,6.163685286322316,6.169974761104278,6.176264235886239,6.182553710668201,6.188843185450162,6.195132660232124,6.201422135014086,6.207711609796047,6.214001084578009,6.22029055935997,6.226580034141932,6.232869508923893,6.239158983705855,6.245448458487816,6.251737933269778,6.258027408051739,6.264316882833701,6.270606357615662,6.276895832397624,6.283185307179586],\"xaxis\":\"x\",\"y\":[0.4330127018922193,0.4361230990097431,0.4391644892913843,0.4421363915043888,0.44503833541095295,0.44786986184262767,0.45063052277297233,0.45331988138844465,0.4559375121575169,0.4584830008980067,0.46095594484261254,0.46335595270264246,0.4656826447299271,0.467935652776906,0.47011462035487944,0.4722192026904144,0.4742490667798976,0.4762038914422257,0.4780833673696255,0.4798871971765945,0.4816150954469563,0.4832667887790207,0.4848420158288438,0.48634052735158,0.4877620862409193,0.4891064675666042,0.4903734586100198,0.4915628588978521,0.4926744802338082,0.49370814672839447,0.49466369482674677,0.4955409733345098,0.49633984344176013,0.4970601787449696,0.49770186526700627,0.49826480147516833,0.49874889829724983,0.4991540791356341,0.4994802798794137,0.49972744891453463,0.4998955471319631,0.4999845479338734,0.499994437237857,0.4999252134791502,0.49977688761088196,0.49954948310234076,0.4992430359352612,0.4988575945981307,0.49839322007851716,0.4978499858534189,0.4972279778776388,0.49652729457018385,0.4957480467986924,0.4948903578618917,0.49395436347008903,0.49294021172369795,0.4918480630898051,0.4906780903767798,0.48943047870693074,0.4881054254872148,0.4867031403780014,0.4852238452598985,0.48366777419864515,0.4820351734080754,0.48032630121116054,0.4785414279991354,0.47668083618871465,0.4747448201774067,0.47273368629693174,0.4706477527647517,0.4684873496337191,0.46625281873985375,0.4639445136482547,0.4615627995971562,0.45910805344013705,0.45658066358649174,0.4539810299397732,0.4513095638345171,0.44856668797115706,0.445752836349142,0.44286845419826476,0.4399139979082148,0.43688993495636425,0.4337967438338007,0.4306349139696154,0.42740494565346304,0.4241073499564012,0.42074264865002514,0.4173113741239088,0.4138140693013657,0.4102512875535439,0.40662359261186665,0.4029315584788346,0.39917576933720306,0.39535681945754697,0.39147531310423156,0.3875318644398008,0.3835270974277994,0.3794616457340445,0.3753361526263623,0.37115127087280475,0.366907662638364,0.36260599938019883,0.3582469617413918,0.35383123944325245,0.3493595311761838,0.34483254448913103,0.34025099567762634,0.3356156096704514,0.33092711991493406,0.32618626826089553,0.32139380484326974,0.31655048796341073,0.31165708396910846,0.30671436713333106,0.30172311953171327,0.2966841309188104,0.29159819860313674,0.28646612732101007,0.28128872910921865,0.2760668231765351,0.27080123577409504,0.2654928000646602,0.26014235599078955,0.2547507501419367,0.2493188356204959,0.24384747190681744,0.23833752472321393,0.23278986589697878,0.22720537322243897,0.22158493032206314,0.2159294265066488,0.2102397566346073,0.20451682097037294,0.19876152504195652,0.19297477949766442,0.18715749996200953,0.1813106068908336,0.17543502542566541,0.1695316852473378,0.16360152042888604,0.1576454692877515,0.1516644742373136,0.14565948163777373,0.1396314416464152,0.13358130806726085,0.12751003820015522,0.12141859268929361,0.11530793537122017,0.10917903312232283,0.10303285570584643,0.096870375618449,0.09069256793632575,0.08450041016092479,0.07829488206427912,0.07207696553397946,0.06584764441781193,0.05960790436808684,0.05335873268567966,0.04710111816381315,0.040836050931603377,0.03456452229739236,0.0282875245918963,0.02200605101119099,0.015721095459560498,0.009433652392233776,0.003144716658034141,-0.0031447166580335748,-0.00943365239223321,-0.01572109545955993,-0.02200605101119087,-0.02828752459189618,-0.034564522297392236,-0.04083605093160325,-0.04710111816381302,-0.05335873268567932,-0.0596079043680865,-0.0658476444178116,-0.07207696553397891,-0.07829488206427856,-0.08450041016092423,-0.0906925679363252,-0.09687037561844844,-0.1030328557058463,-0.1091790331223227,-0.11530793537122004,-0.1214185926892935,-0.1275100382001551,-0.1335813080672605,-0.13963144164641486,-0.1456594816377734,-0.15166447423731308,-0.15764546928775094,-0.1636015204288855,-0.16953168524733728,-0.1754350254256649,-0.18131060689083345,-0.18715749996200942,-0.1929747794976643,-0.19876152504195638,-0.20451682097037283,-0.210239756634607,-0.2159294265066485,-0.22158493032206283,-0.22720537322243847,-0.23278986589697828,-0.23833752472321343,-0.24384747190681694,-0.2493188356204954,-0.2547507501419366,-0.26014235599078944,-0.2654928000646601,-0.27080123577409493,-0.27606682317653497,-0.28128872910921837,-0.2864661273210098,-0.29159819860313646,-0.29668413091880996,-0.3017231195317128,-0.3067143671333306,-0.311657083969108,-0.3165504879634107,-0.3213938048432696,-0.3261862682608955,-0.33092711991493395,-0.3356156096704513,-0.34025099567762607,-0.3448325444891308,-0.34935953117618357,-0.353831239443252,-0.35824696174139137,-0.36260599938019844,-0.3669076626383636,-0.37115127087280436,-0.37533615262636216,-0.3794616457340444,-0.38352709742779933,-0.38753186443980076,-0.39147531310423145,-0.39535681945754675,-0.39917576933720283,-0.4029315584788344,-0.4066235926118663,-0.41025128755354356,-0.4138140693013654,-0.41731137412390845,-0.42074264865002486,-0.42410734995640115,-0.42740494565346293,-0.43063491396961534,-0.43379674383380057,-0.4368899349563642,-0.4399139979082146,-0.4428684541982646,-0.4457528363491418,-0.4485666879711569,-0.45130956383451687,-0.45398102993977296,-0.45658066358649146,-0.45910805344013683,-0.4615627995971562,-0.4639445136482546,-0.4662528187398537,-0.46848734963371896,-0.47064775276475157,-0.47273368629693163,-0.4747448201774066,-0.4766808361887146,-0.4785414279991353,-0.48032630121116043,-0.4820351734080752,-0.483667774198645,-0.48522384525989837,-0.48670314037800133,-0.48810542548721475,-0.48943047870693074,-0.49067809037677973,-0.49184806308980505,-0.49294021172369784,-0.493954363470089,-0.49489035786189167,-0.49574804679869233,-0.4965272945701838,-0.4972279778776387,-0.49784998585341883,-0.4983932200785171,-0.4988575945981307,-0.4992430359352612,-0.4995494831023407,-0.4997768876108819,-0.4999252134791502,-0.499994437237857,-0.4999845479338735,-0.4998955471319631,-0.4997274489145347,-0.49948027987941374,-0.49915407913563414,-0.4987488982972499,-0.4982648014751684,-0.49770186526700627,-0.49706017874496966,-0.49633984344176013,-0.49554097333450986,-0.4946636948267468,-0.4937081467283945,-0.4926744802338083,-0.4915628588978522,-0.4903734586100199,-0.4891064675666043,-0.48776208624091943,-0.4863405273515801,-0.48484201582884384,-0.4832667887790207,-0.48161509544695635,-0.47988719717659456,-0.47808336736962553,-0.4762038914422258,-0.4742490667798977,-0.47221920269041456,-0.4701146203548796,-0.46793565277690613,-0.4656826447299272,-0.4633559527026427,-0.46095594484261276,-0.4584830008980069,-0.4559375121575171,-0.4533198813884449,-0.45063052277297244,-0.4478698618426278,-0.44503833541095306,-0.442136391504389,-0.43916448929138446,-0.43612309900974333,-0.4330127018922195,-0.4298337900903728,-0.42658686659669665,-0.42327244516503054,-0.41989105022927015,-0.41644321682038704,-0.4129294904817719,-0.40935042718291414,-0.40570659323143304,-0.40199856518347044,-0.3982269297524647,-0.3943922837163159,-0.390495233822959,-0.38653639669435913,-0.3825163987289453,-0.3784358760024962,-0.37429547416749565,-0.37009584835097215,-0.3658376630508396,-0.3615215920307548,-0.3571483182135106,-0.3527185335729767,-0.3482329390246111,-0.34369224431455536,-0.33909716790733346,-0.3344484368721701,-0.3297467867679483,-0.32499296152682366,-0.32018771333651336,-0.315331802521279,-0.31042599742162225,-0.305471074272712,-0.3004678170815616,-0.2954170175029792,-0.29031947471430297,-0.28517599528895093,-0.279987393068798,-0.27475448903540334,-0.26947811118010856,-0.2641590943730261,-0.25879828023093965,-0.25339651698413673,-0.2479546593421952,-0.2424735683587444,-0.23695411129522212,-0.2313971614836497,-0.22580359818844775,-0.22017430646730993,-0.2145101770311635,-0.2088121061032338,-0.20308099527723658,-0.1973177513747208,-0.19152328630158427,-0.18569851690378453,-0.17984436482226834,-0.17396175634714248,-0.1680516222711086,-0.16211489774218607,-0.15615252211574496,-0.1501654388058755,-0.1441545951361112,-0.13812094218953752,-0.1320654346583035,-0.12598903069256298,-0.11989269174886842,-0.11377738243804165,-0.10764407037254566,-0.1014937260133812,-0.09532732251653285,-0.08914583557898859,-0.08295024328435732,-0.07674152594810837,-0.07052066596245994,-0.06428864764093464,-0.058046457062615464,-0.05179508191612004,-0.04553551134332083,-0.03926873578283526,-0.032995746813310745,-0.026717536996529238,-0.020435099720356353,-0.014149429041559644,-0.007861519528521132,-0.001572366103868849,0.004717036112948118,0.011005691963113486,0.017292606405908326,0.023576784676152467,0.029857232441604542,0.03613295596029306,0.042402962237754124,0.04866625918415081,0.05492185577124947,0.06116876218922803,0.0674059900032915,0.07363255231006993,0.07984746389377448,0.08604974138208424,0.09223840340174587,0.09841247073385237,0.1045709664687833,0.11071291616077916,0.11683734798212578,0.12294329287692467,0.1290297847144246,0.13509586044189054,0.1411405602369853,0.14716292765964029,0.1531620098033911,0.15913685744615402,0.1650865252004181,0.17101007166283405,0.176906559563169,0.18277505591260915,0.18861463215138455,0.19442436429569332,0.20020333308390148,0.20595062412199586,0.2116653280282667,0.21734654057719727,0.22299336284253743,0.22860490133953895,0.23418026816633003,0.2397185811444046,0.24521896395820997,0.2506805462938026,0.2561024639765568,0.26148385910790084,0.26682388020106074,0.2721216823157891,0.27737642719205813,0.2825872833826959,0.2877534263849445,0.29287403877091917,0.2979483103169483,0.30297543813177386,0.30795462678358954,0.3128850884259027,0.31776604292219174,0.32259671796934636,0.32737634921986714,0.33210418040280665,0.33677946344343257,0.3414014585815941,0.34596943448877265,0.35048266838379827,0.3549404461472138,0.35934206243426897,0.36368682078652415,0.36797403374205145,0.37220302294420926,0.37637311924897715,0.3804836628308335,0.3845340032871581,0.3885234997411439,0.3924515209432019,0.396317445370842,0.4001206613270157,0.40386056703690304,0.4075365707431307,0.41114809079940456,0.4146945557625412,0.41817540448288787,0.421590086193111,0.424938060595343,0.4282187979466727,0.4314317791429653,0.43457649580099916,0.4376524503389062,0.44065915605490324,0.44359613720430174,0.44646292907478397,0.4492590780599333,0.4519841417310079,0.4546376889069441,0.4572192997225827,0.45972856569510256,0.462165089788654,0.4645284864771812,0.4668183818054229,0.4690344134480827,0.47117623076715914,0.473243494867426,0.47523587865005557,0.4771530668643742,0.47899475615774423,0.48076065512356264,0.4824504843473694,0.4840639764510593,0.48560087613518804,0.487060940219368,0.4884439376807462,0.4897496496905581,0.49097786964875323,0.4921284032166842,0.4932010683478572,0.4941956953167363,0.4951121267455992,0.49595021762943836,0.4967098353589053,0.4973908597412926,0.49799318301955214,0.49851670988934504,0.4989613575141216,0.4993270555382282,0.4996137460980397,0.49982138383111496,0.49994993588337444,0.4999993819142987,0.49996971410014684,0.49986093713519436,0.49967306823099045,0.4994061371136346,0.49906018601907315,0.4986352696864164,0.4981314553492772,0.49754882272513307,0.49688746400271216,0.4961474838274069,0.49532899928471597,0.49443213988171786,0.4934570475265801,0.49240387650610407,0.49127279346131403,0.49006397736108837,0.4887776194738431,0.4874139233372672,0.4859731047261168,0.4844553916180749,0.48286102415767734,0.4811902546183169,0.4794433473623249,0.4776205787991436,0.4757222373415884,0.4737486233602151,0.4717000491357907,0.46957683880988416,0.46737932833357565,0.4651078654143021,0.46276280946083914,0.46034453152643157,0.45785341425008474,0.45528985179601783,0.4526542497912986,0.44994702526165914,0.4471686065655139,0.444319433326178,0.4413999563623101,0.4384106376165769,0.43535195008256417,0.43222437772993266,0.42902841542784376,0.42576456886665587,0.4224333544779089,0.4190352993526135,0.4155709411578469,0.4120408280516825,0.4084455185964528,0.4047855816703724,0.40106159637752203,0.3972741519562223,0.3934238476857952,0.38951129279174607,0.38553710634936256,0.38150191718576365,0.3774063637803997,0.3732510941640261,0.36903676581616984,0.3647640455610943,0.36043360946229297,0.3560461427155129,0.3516023395403424,0.34710290307036146,0.342548545241891,0.3379399866813398,0.3332779565911859,0.3285631926345946,0.323796440818697,0.31897845537655634,0.3141099986478212,0.3091918409581081,0.30422476049710867,0.2992095431954639,0.29414698260040273,0.2890378797501859,0.2838830430473541,0.2786832881308217,0.273439437746814,0.2681523216186912,0.2628227763156607,0.25745164512040636,0.25203977789566273,0.24658803094973725,0.24109726690102434,0.23556835454150904,0.23000216869930606,0.22439959010023128,0.21876150522845278,0.2130888061862179,0.2073823905527042,0.20164316124199094,0.19587202636019863,0.19006989906179875,0.18423769740512497,0.17837634420711634,0.17248676689729533,0.1665698973710293,0.160626671842072,0.1546580306944342,0.1486649183335864,0.1426482830370247,0.13660907680423323,0.13054825520604402,0.12446677723344618,0.11836560514583984,0.11224570431878672,0.10610804309125398,0.09995359261240279,0.09378332668791867,0.08759822162593506,0.08139925608254733,0.07518741090696812,0.06896366898632703,0.06272901509014786,0.05648443571453673,0.050230918926083876,0.04396945420553101,0.03770103229120077,0.03142664502224143,0.025147285181683136,0.01886394633935911,0.012577622694688038,0.006289308919371122,1.8369701987210297e-16,-0.006289308919370754,-0.01257762269468767,-0.018863946339358745,-0.02514728518168277,-0.03142664502224106,-0.0377010322912004,-0.04396945420553064,-0.050230918926083515,-0.05648443571453636,-0.06272901509014749,-0.06896366898632666,-0.07518741090696776,-0.08139925608254697,-0.0875982216259347,-0.0937833266879183,-0.09995359261240243,-0.10610804309125361,-0.11224570431878637,-0.11836560514583948,-0.12446677723344582,-0.13054825520604366,-0.13660907680423287,-0.14264828303702437,-0.14866491833358603,-0.15465803069443387,-0.16062667184207166,-0.16656989737102898,-0.17248676689729497,-0.17837634420711598,-0.18423769740512463,-0.19006989906179841,-0.19587202636019826,-0.2016431612419906,-0.20738239055270305,-0.21308880618621756,-0.21876150522845164,-0.22439959010023094,-0.23000216869930573,-0.23556835454150873,-0.24109726690102404,-0.24658803094973694,-0.2520397778956624,-0.257451645120406,-0.26282277631566037,-0.26815232161869085,-0.2734394377468137,-0.27868328813082066,-0.28388304304735384,-0.2890378797501849,-0.2941469826004024,-0.2992095431954636,-0.30422476049710834,-0.3091918409581078,-0.3141099986478209,-0.318978455376556,-0.32379644081869674,-0.3285631926345943,-0.33327795659118564,-0.3379399866813395,-0.34254854524189005,-0.3471029030703612,-0.35160233954034154,-0.3560461427155126,-0.3604336094622927,-0.36476404556109404,-0.3690367658161696,-0.3732510941640258,-0.3774063637803995,-0.3815019171857634,-0.38553710634936234,-0.3895112927917453,-0.39342384768579497,-0.3972741519562215,-0.4010615963775218,-0.40478558167037165,-0.40844551859645256,-0.4120408280516823,-0.41557094115784665,-0.4190352993526133,-0.42243335447790875,-0.4257645688666557,-0.42902841542784353,-0.43222437772993244,-0.4353519500825635,-0.4384106376165767,-0.44139995636230955,-0.44431943332617785,-0.4471686065655133,-0.449947025261659,-0.4526542497912984,-0.45528985179601766,-0.45785341425008463,-0.4603445315264314,-0.462762809460839,-0.465107865414302,-0.46737932833357554,-0.4695768388098837,-0.4717000491357906,-0.4737486233602147,-0.4757222373415883,-0.4776205787991432,-0.4794433473623248,-0.48119025461831677,-0.48286102415767723,-0.4844553916180748,-0.4859731047261167,-0.48741392333726713,-0.488777619473843,-0.4900639773610883,-0.49127279346131375,-0.492403876506104,-0.4934570475265799,-0.49443213988171786,-0.49532899928471574,-0.4961474838274068,-0.4968874640027121,-0.49754882272513296,-0.4981314553492772,-0.4986352696864163,-0.49906018601907315,-0.4994061371136346,-0.49967306823099045,-0.49986093713519436,-0.49996971410014684,-0.4999993819142987,-0.49994993588337444,-0.49982138383111496,-0.4996137460980397,-0.4993270555382282,-0.49896135751412163,-0.4985167098893451,-0.4979931830195522,-0.49739085974129266,-0.4967098353589054,-0.4959502176294385,-0.49511212674559935,-0.4941956953167364,-0.4932010683478574,-0.4921284032166844,-0.49097786964875345,-0.4897496496905583,-0.48844393768074623,-0.4870609402193682,-0.4856008761351881,-0.4840639764510595,-0.48245048434736953,-0.48076065512356286,-0.47899475615774445,-0.4771530668643746,-0.47523587865005584,-0.47324349486742645,-0.4711762307671594,-0.46903441344808317,-0.4668183818054232,-0.4645284864771813,-0.46216508978865434,-0.4597285656951027,-0.457219299722583,-0.4546376889069442,-0.45198414173100826,-0.4492590780599337,-0.4464629290747845,-0.4435961372043021,-0.4406591560549038,-0.4376524503389066,-0.4345764958009998,-0.4314317791429657,-0.4282187979466729,-0.4249380605953434,-0.42159008619311117,-0.4181754044828883,-0.4146945557625414,-0.411148090799405,-0.40753657074313115,-0.40386056703690376,-0.4001206613270161,-0.3963174453708428,-0.3924515209432024,-0.38852349974114414,-0.3845340032871586,-0.38048366283083374,-0.37637311924897765,-0.3722030229442095,-0.367974033742052,-0.3636868207865244,-0.3593420624342695,-0.3549404461472144,-0.35048266838379916,-0.34596943448877326,-0.34140145858159504,-0.3367794634434331,-0.3321041804028069,-0.3273763492198678,-0.3225967179693467,-0.31776604292219235,-0.31288508842590296,-0.3079546267835902,-0.30297543813177413,-0.2979483103169493,-0.29287403877091983,-0.2877534263849455,-0.28258728338269656,-0.2773764271920591,-0.27212168231578976,-0.26682388020106107,-0.26148385910790156,-0.2561024639765571,-0.2506805462938033,-0.24521896395821027,-0.23971858114440533,-0.23418026816633036,-0.22860490133954006,-0.22299336284253815,-0.2173465405771984,-0.21166532802826743,-0.205950624121997,-0.2002033330839022,-0.19442436429569365,-0.1886146321513853,-0.18277505591260948,-0.17690655956316978,-0.1710100716628344,-0.16508652520041886,-0.15913685744615438,-0.15316200980339228,-0.14716292765964106,-0.14114056023698648,-0.1350958604418913,-0.1290297847144258,-0.12294329287692544,-0.11683734798212614,-0.11071291616077995,-0.10457096646878367,-0.09841247073385316,-0.09223840340174623,-0.08604974138208504,-0.07984746389377484,-0.07363255231007118,-0.06740599000329231,-0.06116876218922928,-0.05492185577125028,-0.04866625918415206,-0.042402962237754936,-0.03613295596029343,-0.029857232441605354,-0.023576784676152835,-0.017292606405909138,-0.011005691963113854,-0.004717036112948929,0.0015723661038680376,0.007861519528519878,0.014149429041558833,0.020435099720355097,0.02671753699652843,0.03299574681330949,0.039268735782834456,0.04553551134332046,0.05179508191611923,0.058046457062615096,0.06428864764093384,0.07052066596245958,0.07674152594810757,0.08295024328435653,0.08914583557898735,0.09532732251653205,0.10149372601337997,0.10764407037254486,0.11377738243804043,0.11989269174886763,0.12598903069256265,0.13206543465830273,0.13812094218953716,0.14415459513611042,0.15016543880587513,0.15615252211574418,0.1621148977421853,0.16805162227110743,0.17396175634714173,0.17984436482226718,0.18569851690378378,0.1915232863015831,0.19731775137472007,0.20308099527723622,0.20881210610323306,0.21451017703116318,0.22017430646730918,0.22580359818844742,0.23139716148364897,0.23695411129522143,0.24247356835874329,0.24795465934219452,0.2533965169841356,0.2587982802309389,0.26415909437302576,0.2694781111801079,0.274754489035403,0.2799873930687973,0.28517599528895066,0.2903194747143023,0.2954170175029789,0.30046781708156095,0.3054710742727113,0.31042599742162125,0.31533180252127835,0.3201877133365124,0.32499296152682305,0.329746786767948,0.3344484368721694,0.3390971679073332,0.3436922443145548,0.34823293902461083,0.35271853357297617,0.3571483182135104,0.36152159203075424,0.36583766305083903,0.3700958483509713,0.3742954741674951,0.37843587600249534,0.3825163987289447,0.3865363966943589,0.3904952338229585,0.3943922837163157,0.3982269297524642,0.4019985651834702,0.40570659323143254,0.4093504271829139,0.4129294904817712,0.4164432168203866,0.4198910502292695,0.4232724451650301,0.426586866596696,0.4298337900903724,0.43301270189221935],\"yaxis\":\"y\",\"type\":\"scatter\"}],                        {\"template\":{\"data\":{\"histogram2dcontour\":[{\"type\":\"histogram2dcontour\",\"colorbar\":{\"outlinewidth\":0,\"ticks\":\"\"},\"colorscale\":[[0.0,\"#0d0887\"],[0.1111111111111111,\"#46039f\"],[0.2222222222222222,\"#7201a8\"],[0.3333333333333333,\"#9c179e\"],[0.4444444444444444,\"#bd3786\"],[0.5555555555555556,\"#d8576b\"],[0.6666666666666666,\"#ed7953\"],[0.7777777777777778,\"#fb9f3a\"],[0.8888888888888888,\"#fdca26\"],[1.0,\"#f0f921\"]]}],\"choropleth\":[{\"type\":\"choropleth\",\"colorbar\":{\"outlinewidth\":0,\"ticks\":\"\"}}],\"histogram2d\":[{\"type\":\"histogram2d\",\"colorbar\":{\"outlinewidth\":0,\"ticks\":\"\"},\"colorscale\":[[0.0,\"#0d0887\"],[0.1111111111111111,\"#46039f\"],[0.2222222222222222,\"#7201a8\"],[0.3333333333333333,\"#9c179e\"],[0.4444444444444444,\"#bd3786\"],[0.5555555555555556,\"#d8576b\"],[0.6666666666666666,\"#ed7953\"],[0.7777777777777778,\"#fb9f3a\"],[0.8888888888888888,\"#fdca26\"],[1.0,\"#f0f921\"]]}],\"heatmap\":[{\"type\":\"heatmap\",\"colorbar\":{\"outlinewidth\":0,\"ticks\":\"\"},\"colorscale\":[[0.0,\"#0d0887\"],[0.1111111111111111,\"#46039f\"],[0.2222222222222222,\"#7201a8\"],[0.3333333333333333,\"#9c179e\"],[0.4444444444444444,\"#bd3786\"],[0.5555555555555556,\"#d8576b\"],[0.6666666666666666,\"#ed7953\"],[0.7777777777777778,\"#fb9f3a\"],[0.8888888888888888,\"#fdca26\"],[1.0,\"#f0f921\"]]}],\"heatmapgl\":[{\"type\":\"heatmapgl\",\"colorbar\":{\"outlinewidth\":0,\"ticks\":\"\"},\"colorscale\":[[0.0,\"#0d0887\"],[0.1111111111111111,\"#46039f\"],[0.2222222222222222,\"#7201a8\"],[0.3333333333333333,\"#9c179e\"],[0.4444444444444444,\"#bd3786\"],[0.5555555555555556,\"#d8576b\"],[0.6666666666666666,\"#ed7953\"],[0.7777777777777778,\"#fb9f3a\"],[0.8888888888888888,\"#fdca26\"],[1.0,\"#f0f921\"]]}],\"contourcarpet\":[{\"type\":\"contourcarpet\",\"colorbar\":{\"outlinewidth\":0,\"ticks\":\"\"}}],\"contour\":[{\"type\":\"contour\",\"colorbar\":{\"outlinewidth\":0,\"ticks\":\"\"},\"colorscale\":[[0.0,\"#0d0887\"],[0.1111111111111111,\"#46039f\"],[0.2222222222222222,\"#7201a8\"],[0.3333333333333333,\"#9c179e\"],[0.4444444444444444,\"#bd3786\"],[0.5555555555555556,\"#d8576b\"],[0.6666666666666666,\"#ed7953\"],[0.7777777777777778,\"#fb9f3a\"],[0.8888888888888888,\"#fdca26\"],[1.0,\"#f0f921\"]]}],\"surface\":[{\"type\":\"surface\",\"colorbar\":{\"outlinewidth\":0,\"ticks\":\"\"},\"colorscale\":[[0.0,\"#0d0887\"],[0.1111111111111111,\"#46039f\"],[0.2222222222222222,\"#7201a8\"],[0.3333333333333333,\"#9c179e\"],[0.4444444444444444,\"#bd3786\"],[0.5555555555555556,\"#d8576b\"],[0.6666666666666666,\"#ed7953\"],[0.7777777777777778,\"#fb9f3a\"],[0.8888888888888888,\"#fdca26\"],[1.0,\"#f0f921\"]]}],\"mesh3d\":[{\"type\":\"mesh3d\",\"colorbar\":{\"outlinewidth\":0,\"ticks\":\"\"}}],\"scatter\":[{\"marker\":{\"line\":{\"color\":\"#283442\"}},\"type\":\"scatter\"}],\"parcoords\":[{\"type\":\"parcoords\",\"line\":{\"colorbar\":{\"outlinewidth\":0,\"ticks\":\"\"}}}],\"scatterpolargl\":[{\"type\":\"scatterpolargl\",\"marker\":{\"colorbar\":{\"outlinewidth\":0,\"ticks\":\"\"}}}],\"bar\":[{\"error_x\":{\"color\":\"#f2f5fa\"},\"error_y\":{\"color\":\"#f2f5fa\"},\"marker\":{\"line\":{\"color\":\"rgb(17,17,17)\",\"width\":0.5},\"pattern\":{\"fillmode\":\"overlay\",\"size\":10,\"solidity\":0.2}},\"type\":\"bar\"}],\"scattergeo\":[{\"type\":\"scattergeo\",\"marker\":{\"colorbar\":{\"outlinewidth\":0,\"ticks\":\"\"}}}],\"scatterpolar\":[{\"type\":\"scatterpolar\",\"marker\":{\"colorbar\":{\"outlinewidth\":0,\"ticks\":\"\"}}}],\"histogram\":[{\"marker\":{\"pattern\":{\"fillmode\":\"overlay\",\"size\":10,\"solidity\":0.2}},\"type\":\"histogram\"}],\"scattergl\":[{\"marker\":{\"line\":{\"color\":\"#283442\"}},\"type\":\"scattergl\"}],\"scatter3d\":[{\"type\":\"scatter3d\",\"line\":{\"colorbar\":{\"outlinewidth\":0,\"ticks\":\"\"}},\"marker\":{\"colorbar\":{\"outlinewidth\":0,\"ticks\":\"\"}}}],\"scattermapbox\":[{\"type\":\"scattermapbox\",\"marker\":{\"colorbar\":{\"outlinewidth\":0,\"ticks\":\"\"}}}],\"scatterternary\":[{\"type\":\"scatterternary\",\"marker\":{\"colorbar\":{\"outlinewidth\":0,\"ticks\":\"\"}}}],\"scattercarpet\":[{\"type\":\"scattercarpet\",\"marker\":{\"colorbar\":{\"outlinewidth\":0,\"ticks\":\"\"}}}],\"carpet\":[{\"aaxis\":{\"endlinecolor\":\"#A2B1C6\",\"gridcolor\":\"#506784\",\"linecolor\":\"#506784\",\"minorgridcolor\":\"#506784\",\"startlinecolor\":\"#A2B1C6\"},\"baxis\":{\"endlinecolor\":\"#A2B1C6\",\"gridcolor\":\"#506784\",\"linecolor\":\"#506784\",\"minorgridcolor\":\"#506784\",\"startlinecolor\":\"#A2B1C6\"},\"type\":\"carpet\"}],\"table\":[{\"cells\":{\"fill\":{\"color\":\"#506784\"},\"line\":{\"color\":\"rgb(17,17,17)\"}},\"header\":{\"fill\":{\"color\":\"#2a3f5f\"},\"line\":{\"color\":\"rgb(17,17,17)\"}},\"type\":\"table\"}],\"barpolar\":[{\"marker\":{\"line\":{\"color\":\"rgb(17,17,17)\",\"width\":0.5},\"pattern\":{\"fillmode\":\"overlay\",\"size\":10,\"solidity\":0.2}},\"type\":\"barpolar\"}],\"pie\":[{\"automargin\":true,\"type\":\"pie\"}]},\"layout\":{\"autotypenumbers\":\"strict\",\"colorway\":[\"#636efa\",\"#EF553B\",\"#00cc96\",\"#ab63fa\",\"#FFA15A\",\"#19d3f3\",\"#FF6692\",\"#B6E880\",\"#FF97FF\",\"#FECB52\"],\"font\":{\"color\":\"#f2f5fa\"},\"hovermode\":\"closest\",\"hoverlabel\":{\"align\":\"left\"},\"paper_bgcolor\":\"rgb(17,17,17)\",\"plot_bgcolor\":\"rgb(17,17,17)\",\"polar\":{\"bgcolor\":\"rgb(17,17,17)\",\"angularaxis\":{\"gridcolor\":\"#506784\",\"linecolor\":\"#506784\",\"ticks\":\"\"},\"radialaxis\":{\"gridcolor\":\"#506784\",\"linecolor\":\"#506784\",\"ticks\":\"\"}},\"ternary\":{\"bgcolor\":\"rgb(17,17,17)\",\"aaxis\":{\"gridcolor\":\"#506784\",\"linecolor\":\"#506784\",\"ticks\":\"\"},\"baxis\":{\"gridcolor\":\"#506784\",\"linecolor\":\"#506784\",\"ticks\":\"\"},\"caxis\":{\"gridcolor\":\"#506784\",\"linecolor\":\"#506784\",\"ticks\":\"\"}},\"coloraxis\":{\"colorbar\":{\"outlinewidth\":0,\"ticks\":\"\"}},\"colorscale\":{\"sequential\":[[0.0,\"#0d0887\"],[0.1111111111111111,\"#46039f\"],[0.2222222222222222,\"#7201a8\"],[0.3333333333333333,\"#9c179e\"],[0.4444444444444444,\"#bd3786\"],[0.5555555555555556,\"#d8576b\"],[0.6666666666666666,\"#ed7953\"],[0.7777777777777778,\"#fb9f3a\"],[0.8888888888888888,\"#fdca26\"],[1.0,\"#f0f921\"]],\"sequentialminus\":[[0.0,\"#0d0887\"],[0.1111111111111111,\"#46039f\"],[0.2222222222222222,\"#7201a8\"],[0.3333333333333333,\"#9c179e\"],[0.4444444444444444,\"#bd3786\"],[0.5555555555555556,\"#d8576b\"],[0.6666666666666666,\"#ed7953\"],[0.7777777777777778,\"#fb9f3a\"],[0.8888888888888888,\"#fdca26\"],[1.0,\"#f0f921\"]],\"diverging\":[[0,\"#8e0152\"],[0.1,\"#c51b7d\"],[0.2,\"#de77ae\"],[0.3,\"#f1b6da\"],[0.4,\"#fde0ef\"],[0.5,\"#f7f7f7\"],[0.6,\"#e6f5d0\"],[0.7,\"#b8e186\"],[0.8,\"#7fbc41\"],[0.9,\"#4d9221\"],[1,\"#276419\"]]},\"xaxis\":{\"gridcolor\":\"#283442\",\"linecolor\":\"#506784\",\"ticks\":\"\",\"title\":{\"standoff\":15},\"zerolinecolor\":\"#283442\",\"automargin\":true,\"zerolinewidth\":2},\"yaxis\":{\"gridcolor\":\"#283442\",\"linecolor\":\"#506784\",\"ticks\":\"\",\"title\":{\"standoff\":15},\"zerolinecolor\":\"#283442\",\"automargin\":true,\"zerolinewidth\":2},\"scene\":{\"xaxis\":{\"backgroundcolor\":\"rgb(17,17,17)\",\"gridcolor\":\"#506784\",\"linecolor\":\"#506784\",\"showbackground\":true,\"ticks\":\"\",\"zerolinecolor\":\"#C8D4E3\",\"gridwidth\":2},\"yaxis\":{\"backgroundcolor\":\"rgb(17,17,17)\",\"gridcolor\":\"#506784\",\"linecolor\":\"#506784\",\"showbackground\":true,\"ticks\":\"\",\"zerolinecolor\":\"#C8D4E3\",\"gridwidth\":2},\"zaxis\":{\"backgroundcolor\":\"rgb(17,17,17)\",\"gridcolor\":\"#506784\",\"linecolor\":\"#506784\",\"showbackground\":true,\"ticks\":\"\",\"zerolinecolor\":\"#C8D4E3\",\"gridwidth\":2}},\"shapedefaults\":{\"line\":{\"color\":\"#f2f5fa\"}},\"annotationdefaults\":{\"arrowcolor\":\"#f2f5fa\",\"arrowhead\":0,\"arrowwidth\":1},\"geo\":{\"bgcolor\":\"rgb(17,17,17)\",\"landcolor\":\"rgb(17,17,17)\",\"subunitcolor\":\"#506784\",\"showland\":true,\"showlakes\":true,\"lakecolor\":\"rgb(17,17,17)\"},\"title\":{\"x\":0.05},\"updatemenudefaults\":{\"bgcolor\":\"#506784\",\"borderwidth\":0},\"sliderdefaults\":{\"bgcolor\":\"#C8D4E3\",\"borderwidth\":1,\"bordercolor\":\"rgb(17,17,17)\",\"tickwidth\":0},\"mapbox\":{\"style\":\"dark\"}}},\"xaxis\":{\"anchor\":\"y\",\"domain\":[0.0,1.0],\"title\":{\"text\":\"x\"}},\"yaxis\":{\"anchor\":\"x\",\"domain\":[0.0,1.0],\"title\":{\"text\":\"y\"}},\"legend\":{\"tracegroupgap\":0},\"title\":{\"text\":\"2. \\u041d\\u0430 \\u043f\\u0440\\u043e\\u043c\\u0456\\u0436\\u043a\\u0443 [0;2\\ud835\\udf0b] \\u0444\\u0443\\u043d\\u043a\\u0446\\u0456\\u044f \\ud835\\udc66=(1\\u002f2)\\ud835\\udc60\\ud835\\udc56\\ud835\\udc5b(2\\ud835\\udc65+\\ud835\\udf0b\\u002f3)\",\"x\":0.5}},                        {\"responsive\": true}                    ).then(function(){\n                            \nvar gd = document.getElementById('77f601c2-5b6c-4576-98fd-5eb02c20132c');\nvar x = new MutationObserver(function (mutations, observer) {{\n        var display = window.getComputedStyle(gd).display;\n        if (!display || display === 'none') {{\n            console.log([gd, 'removed!']);\n            Plotly.purge(gd);\n            observer.disconnect();\n        }}\n}});\n\n// Listen for the removal of the full notebook cells\nvar notebookContainer = gd.closest('#notebook-container');\nif (notebookContainer) {{\n    x.observe(notebookContainer, {childList: true});\n}}\n\n// Listen for the clearing of the current output cell\nvar outputEl = gd.closest('.output');\nif (outputEl) {{\n    x.observe(outputEl, {childList: true});\n}}\n\n                        })                };                });            </script>        </div>"
     },
     "metadata": {},
     "output_type": "display_data"
    }
   ],
   "source": [
    "# Генерація значень x на проміжку [0, 2π]\n",
    "x = np.linspace(0, 2 * np.pi, 1000)\n",
    "\n",
    "# Обчислення значень y за заданою функцією\n",
    "y = (1/2) * np.sin(2 * x + (np.pi/3))\n",
    "\n",
    "fig = px.line(x=x, y=y, title='2. На проміжку [0;2𝜋] функція 𝑦=(1/2)𝑠𝑖𝑛(2𝑥+𝜋/3)')\n",
    "\n",
    "fig.update_layout(title_x=0.5)\n",
    "\n",
    "fig.show()"
   ],
   "metadata": {
    "collapsed": false,
    "ExecuteTime": {
     "end_time": "2023-10-27T14:02:26.481874Z",
     "start_time": "2023-10-27T14:02:26.472896Z"
    }
   },
   "id": "613640dcc3f2535f"
  },
  {
   "cell_type": "raw",
   "source": [
    "3. На проміжку [−2𝜋;2𝜋] функція 𝑦=2𝑡𝑔((1/2)𝑥+𝜋/𝑦)"
   ],
   "metadata": {
    "collapsed": false
   },
   "id": "ff4ca1ecc722e90e"
  },
  {
   "cell_type": "code",
   "execution_count": 71,
   "outputs": [
    {
     "data": {
      "application/vnd.plotly.v1+json": {
       "data": [
        {
         "hovertemplate": "x=%{x}<br>y=%{y}<extra></extra>",
         "legendgroup": "",
         "line": {
          "color": "#636efa",
          "dash": "solid"
         },
         "marker": {
          "symbol": "circle"
         },
         "mode": "lines",
         "name": "",
         "orientation": "v",
         "showlegend": false,
         "x": [
          -6.283185307179586,
          -6.270606357615663,
          -6.25802740805174,
          -6.245448458487817,
          -6.232869508923894,
          -6.220290559359971,
          -6.207711609796048,
          -6.195132660232124,
          -6.182553710668201,
          -6.169974761104278,
          -6.157395811540355,
          -6.144816861976432,
          -6.132237912412509,
          -6.119658962848586,
          -6.107080013284663,
          -6.09450106372074,
          -6.081922114156817,
          -6.069343164592894,
          -6.056764215028971,
          -6.044185265465048,
          -6.031606315901124,
          -6.019027366337201,
          -6.006448416773278,
          -5.993869467209355,
          -5.981290517645432,
          -5.968711568081509,
          -5.956132618517586,
          -5.943553668953663,
          -5.93097471938974,
          -5.918395769825817,
          -5.905816820261894,
          -5.893237870697971,
          -5.880658921134048,
          -5.868079971570124,
          -5.855501022006201,
          -5.842922072442278,
          -5.830343122878355,
          -5.817764173314432,
          -5.805185223750509,
          -5.792606274186586,
          -5.7800273246226626,
          -5.7674483750587395,
          -5.7548694254948165,
          -5.7422904759308935,
          -5.72971152636697,
          -5.717132576803047,
          -5.7045536272391235,
          -5.6919746776752005,
          -5.6793957281112775,
          -5.666816778547354,
          -5.654237828983431,
          -5.641658879419508,
          -5.629079929855585,
          -5.616500980291662,
          -5.603922030727739,
          -5.591343081163816,
          -5.578764131599893,
          -5.566185182035969,
          -5.553606232472047,
          -5.541027282908123,
          -5.5284483333442,
          -5.515869383780277,
          -5.503290434216354,
          -5.490711484652431,
          -5.478132535088508,
          -5.465553585524585,
          -5.452974635960662,
          -5.440395686396739,
          -5.427816736832816,
          -5.415237787268893,
          -5.402658837704969,
          -5.390079888141047,
          -5.377500938577123,
          -5.3649219890132,
          -5.352343039449277,
          -5.339764089885354,
          -5.327185140321431,
          -5.314606190757508,
          -5.302027241193585,
          -5.289448291629662,
          -5.276869342065739,
          -5.264290392501816,
          -5.251711442937893,
          -5.239132493373969,
          -5.226553543810047,
          -5.213974594246123,
          -5.2013956446822,
          -5.188816695118277,
          -5.176237745554354,
          -5.163658795990431,
          -5.151079846426508,
          -5.138500896862585,
          -5.125921947298662,
          -5.113342997734739,
          -5.100764048170816,
          -5.088185098606893,
          -5.075606149042969,
          -5.063027199479047,
          -5.050448249915123,
          -5.0378693003512,
          -5.025290350787277,
          -5.012711401223354,
          -5.0001324516594305,
          -4.9875535020955075,
          -4.9749745525315845,
          -4.9623956029676615,
          -4.949816653403738,
          -4.937237703839815,
          -4.924658754275892,
          -4.9120798047119685,
          -4.899500855148046,
          -4.886921905584122,
          -4.874342956020199,
          -4.861764006456276,
          -4.849185056892353,
          -4.83660610732843,
          -4.824027157764507,
          -4.811448208200584,
          -4.798869258636661,
          -4.786290309072738,
          -4.773711359508814,
          -4.761132409944892,
          -4.748553460380968,
          -4.735974510817046,
          -4.723395561253122,
          -4.710816611689199,
          -4.698237662125276,
          -4.685658712561353,
          -4.67307976299743,
          -4.660500813433507,
          -4.647921863869584,
          -4.635342914305661,
          -4.622763964741738,
          -4.610185015177814,
          -4.597606065613892,
          -4.585027116049968,
          -4.572448166486046,
          -4.559869216922122,
          -4.547290267358199,
          -4.534711317794276,
          -4.522132368230353,
          -4.50955341866643,
          -4.496974469102507,
          -4.484395519538584,
          -4.471816569974661,
          -4.459237620410738,
          -4.446658670846814,
          -4.434079721282892,
          -4.421500771718968,
          -4.408921822155045,
          -4.396342872591122,
          -4.383763923027199,
          -4.371184973463276,
          -4.358606023899353,
          -4.34602707433543,
          -4.333448124771507,
          -4.320869175207584,
          -4.308290225643661,
          -4.295711276079738,
          -4.283132326515814,
          -4.2705533769518915,
          -4.257974427387968,
          -4.2453954778240455,
          -4.232816528260122,
          -4.2202375786961985,
          -4.2076586291322755,
          -4.1950796795683525,
          -4.1825007300044295,
          -4.169921780440506,
          -4.157342830876583,
          -4.1447638813126595,
          -4.132184931748737,
          -4.119605982184813,
          -4.107027032620891,
          -4.094448083056967,
          -4.081869133493045,
          -4.069290183929121,
          -4.056711234365198,
          -4.044132284801275,
          -4.031553335237352,
          -4.018974385673429,
          -4.006395436109506,
          -3.993816486545583,
          -3.9812375369816597,
          -3.9686585874177367,
          -3.9560796378538137,
          -3.9435006882898906,
          -3.9309217387259676,
          -3.9183427891620446,
          -3.905763839598121,
          -3.893184890034198,
          -3.880605940470275,
          -3.868026990906352,
          -3.855448041342429,
          -3.842869091778506,
          -3.830290142214583,
          -3.8177111926506595,
          -3.8051322430867365,
          -3.7925532935228135,
          -3.7799743439588904,
          -3.7673953943949674,
          -3.7548164448310444,
          -3.742237495267121,
          -3.729658545703198,
          -3.717079596139275,
          -3.704500646575352,
          -3.691921697011429,
          -3.679342747447506,
          -3.6667637978835828,
          -3.6541848483196593,
          -3.6416058987557363,
          -3.6290269491918132,
          -3.61644799962789,
          -3.603869050063967,
          -3.591290100500044,
          -3.5787111509361207,
          -3.5661322013721977,
          -3.5535532518082746,
          -3.5409743022443516,
          -3.5283953526804286,
          -3.5158164031165056,
          -3.503237453552582,
          -3.490658503988659,
          -3.478079554424736,
          -3.465500604860813,
          -3.45292165529689,
          -3.440342705732967,
          -3.427763756169044,
          -3.4151848066051205,
          -3.4026058570411974,
          -3.3900269074772744,
          -3.3774479579133514,
          -3.3648690083494284,
          -3.3522900587855053,
          -3.339711109221582,
          -3.327132159657659,
          -3.314553210093736,
          -3.301974260529813,
          -3.2893953109658898,
          -3.2768163614019667,
          -3.2642374118380433,
          -3.2516584622741203,
          -3.2390795127101972,
          -3.226500563146274,
          -3.213921613582351,
          -3.201342664018428,
          -3.188763714454505,
          -3.1761847648905817,
          -3.1636058153266586,
          -3.1510268657627356,
          -3.1384479161988126,
          -3.1258689666348896,
          -3.1132900170709665,
          -3.100711067507043,
          -3.08813211794312,
          -3.075553168379197,
          -3.062974218815274,
          -3.050395269251351,
          -3.037816319687428,
          -3.025237370123505,
          -3.0126584205595814,
          -3.0000794709956584,
          -2.9875005214317354,
          -2.9749215718678124,
          -2.9623426223038893,
          -2.9497636727399663,
          -2.937184723176043,
          -2.92460577361212,
          -2.912026824048197,
          -2.8994478744842738,
          -2.8868689249203507,
          -2.8742899753564277,
          -2.8617110257925047,
          -2.8491320762285812,
          -2.836553126664658,
          -2.823974177100735,
          -2.811395227536812,
          -2.798816277972889,
          -2.786237328408966,
          -2.7736583788450426,
          -2.7610794292811196,
          -2.7485004797171966,
          -2.7359215301532736,
          -2.7233425805893505,
          -2.7107636310254275,
          -2.698184681461504,
          -2.685605731897581,
          -2.673026782333658,
          -2.660447832769735,
          -2.647868883205812,
          -2.635289933641889,
          -2.622710984077966,
          -2.6101320345140424,
          -2.5975530849501194,
          -2.5849741353861964,
          -2.5723951858222733,
          -2.5598162362583503,
          -2.5472372866944273,
          -2.534658337130504,
          -2.522079387566581,
          -2.5095004380026578,
          -2.4969214884387347,
          -2.4843425388748117,
          -2.4717635893108887,
          -2.459184639746965,
          -2.446605690183042,
          -2.434026740619119,
          -2.421447791055196,
          -2.408868841491273,
          -2.39628989192735,
          -2.383710942363427,
          -2.3711319927995036,
          -2.3585530432355806,
          -2.3459740936716575,
          -2.3333951441077345,
          -2.3208161945438115,
          -2.3082372449798885,
          -2.295658295415965,
          -2.283079345852042,
          -2.270500396288119,
          -2.257921446724196,
          -2.245342497160273,
          -2.23276354759635,
          -2.220184598032427,
          -2.207605648468504,
          -2.195026698904581,
          -2.1824477493406578,
          -2.169868799776734,
          -2.157289850212811,
          -2.144710900648888,
          -2.132131951084965,
          -2.1195530015210418,
          -2.1069740519571187,
          -2.0943951023931957,
          -2.0818161528292727,
          -2.0692372032653497,
          -2.0566582537014266,
          -2.0440793041375036,
          -2.0315003545735806,
          -2.0189214050096576,
          -2.0063424554457336,
          -1.9937635058818106,
          -1.9811845563178876,
          -1.9686056067539646,
          -1.9560266571900415,
          -1.9434477076261185,
          -1.9308687580621955,
          -1.9182898084982725,
          -1.9057108589343494,
          -1.8931319093704264,
          -1.8805529598065034,
          -1.8679740102425804,
          -1.8553950606786564,
          -1.8428161111147334,
          -1.8302371615508104,
          -1.8176582119868874,
          -1.8050792624229643,
          -1.7925003128590413,
          -1.7799213632951183,
          -1.7673424137311953,
          -1.7547634641672722,
          -1.7421845146033492,
          -1.7296055650394262,
          -1.7170266154755032,
          -1.7044476659115801,
          -1.6918687163476562,
          -1.6792897667837332,
          -1.6667108172198102,
          -1.6541318676558872,
          -1.6415529180919641,
          -1.628973968528041,
          -1.616395018964118,
          -1.603816069400195,
          -1.591237119836272,
          -1.578658170272349,
          -1.566079220708426,
          -1.553500271144503,
          -1.54092132158058,
          -1.528342372016656,
          -1.515763422452733,
          -1.50318447288881,
          -1.490605523324887,
          -1.478026573760964,
          -1.4654476241970409,
          -1.4528686746331179,
          -1.4402897250691948,
          -1.4277107755052718,
          -1.4151318259413488,
          -1.4025528763774258,
          -1.3899739268135027,
          -1.3773949772495797,
          -1.3648160276856558,
          -1.3522370781217328,
          -1.3396581285578097,
          -1.3270791789938867,
          -1.3145002294299637,
          -1.3019212798660407,
          -1.2893423303021176,
          -1.2767633807381946,
          -1.2641844311742716,
          -1.2516054816103486,
          -1.2390265320464255,
          -1.2264475824825025,
          -1.2138686329185795,
          -1.2012896833546556,
          -1.1887107337907326,
          -1.1761317842268095,
          -1.1635528346628865,
          -1.1509738850989635,
          -1.1383949355350405,
          -1.1258159859711174,
          -1.1132370364071944,
          -1.1006580868432714,
          -1.0880791372793484,
          -1.0755001877154253,
          -1.0629212381515023,
          -1.0503422885875793,
          -1.0377633390236554,
          -1.0251843894597323,
          -1.0126054398958093,
          -1.0000264903318863,
          -0.9874475407679633,
          -0.9748685912040402,
          -0.9622896416401172,
          -0.9497106920761942,
          -0.9371317425122712,
          -0.9245527929483481,
          -0.9119738433844251,
          -0.8993948938205021,
          -0.8868159442565782,
          -0.8742369946926551,
          -0.8616580451287321,
          -0.8490790955648091,
          -0.8365001460008861,
          -0.823921196436963,
          -0.81134224687304,
          -0.798763297309117,
          -0.786184347745194,
          -0.7736053981812709,
          -0.7610264486173479,
          -0.7484474990534249,
          -0.7358685494895019,
          -0.723289599925578,
          -0.7107106503616549,
          -0.6981317007977319,
          -0.6855527512338089,
          -0.6729738016698859,
          -0.6603948521059628,
          -0.6478159025420398,
          -0.6352369529781168,
          -0.6226580034141938,
          -0.6100790538502707,
          -0.5975001042863477,
          -0.5849211547224247,
          -0.5723422051585016,
          -0.5597632555945777,
          -0.5471843060306547,
          -0.5346053564667317,
          -0.5220264069028087,
          -0.5094474573388856,
          -0.4968685077749626,
          -0.4842895582110396,
          -0.47171060864711656,
          -0.45913165908319353,
          -0.4465527095192705,
          -0.4339737599553475,
          -0.42139481039142446,
          -0.40881586082750143,
          -0.3962369112635775,
          -0.3836579616996545,
          -0.37107901213573147,
          -0.35850006257180844,
          -0.3459211130078854,
          -0.3333421634439624,
          -0.32076321388003937,
          -0.30818426431611634,
          -0.2956053147521933,
          -0.2830263651882703,
          -0.27044741562434726,
          -0.25786846606042424,
          -0.24528951649650033,
          -0.2327105669325773,
          -0.22013161736865428,
          -0.20755266780473125,
          -0.19497371824080822,
          -0.1823947686768852,
          -0.16981581911296217,
          -0.15723686954903915,
          -0.14465791998511612,
          -0.1320789704211931,
          -0.11950002085727007,
          -0.10692107129334705,
          -0.09434212172942402,
          -0.08176317216550011,
          -0.06918422260157708,
          -0.05660527303765406,
          -0.04402632347373103,
          -0.03144737390980801,
          -0.018868424345884982,
          -0.006289474781961957,
          0.006289474781961069,
          0.018868424345884094,
          0.03144737390980712,
          0.044026323473730145,
          0.05660527303765317,
          0.0691842226015762,
          0.08176317216550011,
          0.09434212172942313,
          0.10692107129334616,
          0.11950002085726918,
          0.1320789704211922,
          0.14465791998511524,
          0.15723686954903826,
          0.16981581911296129,
          0.1823947686768843,
          0.19497371824080734,
          0.20755266780473036,
          0.2201316173686534,
          0.2327105669325764,
          0.24528951649650033,
          0.25786846606042335,
          0.2704474156243464,
          0.2830263651882694,
          0.2956053147521924,
          0.30818426431611545,
          0.3207632138800385,
          0.3333421634439615,
          0.34592111300788453,
          0.35850006257180755,
          0.3710790121357306,
          0.3836579616996536,
          0.39623691126357663,
          0.40881586082750054,
          0.42139481039142357,
          0.4339737599553466,
          0.4465527095192696,
          0.45913165908319264,
          0.47171060864711567,
          0.4842895582110387,
          0.4968685077749617,
          0.5094474573388847,
          0.5220264069028078,
          0.5346053564667308,
          0.5471843060306538,
          0.5597632555945768,
          0.5723422051585008,
          0.5849211547224238,
          0.5975001042863468,
          0.6100790538502698,
          0.6226580034141929,
          0.6352369529781159,
          0.6478159025420389,
          0.6603948521059619,
          0.672973801669885,
          0.685552751233808,
          0.698131700797731,
          0.710710650361654,
          0.723289599925578,
          0.735868549489501,
          0.748447499053424,
          0.761026448617347,
          0.77360539818127,
          0.7861843477451931,
          0.7987632973091161,
          0.8113422468730391,
          0.8239211964369622,
          0.8365001460008852,
          0.8490790955648082,
          0.8616580451287312,
          0.8742369946926543,
          0.8868159442565782,
          0.8993948938205012,
          0.9119738433844242,
          0.9245527929483472,
          0.9371317425122703,
          0.9497106920761933,
          0.9622896416401163,
          0.9748685912040393,
          0.9874475407679624,
          1.0000264903318854,
          1.0126054398958084,
          1.0251843894597314,
          1.0377633390236545,
          1.0503422885875784,
          1.0629212381515014,
          1.0755001877154244,
          1.0880791372793475,
          1.1006580868432705,
          1.1132370364071935,
          1.1258159859711165,
          1.1383949355350396,
          1.1509738850989626,
          1.1635528346628856,
          1.1761317842268086,
          1.1887107337907317,
          1.2012896833546547,
          1.2138686329185786,
          1.2264475824825016,
          1.2390265320464247,
          1.2516054816103477,
          1.2641844311742707,
          1.2767633807381937,
          1.2893423303021168,
          1.3019212798660398,
          1.3145002294299628,
          1.3270791789938858,
          1.3396581285578089,
          1.3522370781217319,
          1.3648160276856558,
          1.3773949772495788,
          1.3899739268135018,
          1.4025528763774249,
          1.415131825941348,
          1.427710775505271,
          1.440289725069194,
          1.452868674633117,
          1.46544762419704,
          1.478026573760963,
          1.490605523324886,
          1.503184472888809,
          1.515763422452732,
          1.528342372016656,
          1.540921321580579,
          1.553500271144502,
          1.566079220708425,
          1.5786581702723481,
          1.5912371198362711,
          1.6038160694001942,
          1.6163950189641172,
          1.6289739685280402,
          1.6415529180919632,
          1.6541318676558863,
          1.6667108172198093,
          1.6792897667837323,
          1.6918687163476562,
          1.7044476659115793,
          1.7170266154755023,
          1.7296055650394244,
          1.7421845146033483,
          1.7547634641672705,
          1.7673424137311944,
          1.7799213632951183,
          1.7925003128590404,
          1.8050792624229643,
          1.8176582119868865,
          1.8302371615508104,
          1.8428161111147325,
          1.8553950606786564,
          1.8679740102425786,
          1.8805529598065025,
          1.8931319093704246,
          1.9057108589343486,
          1.9182898084982707,
          1.9308687580621946,
          1.9434477076261185,
          1.9560266571900407,
          1.9686056067539646,
          1.9811845563178867,
          1.9937635058818106,
          2.0063424554457328,
          2.0189214050096567,
          2.031500354573579,
          2.0440793041375027,
          2.056658253701425,
          2.0692372032653488,
          2.081816152829271,
          2.094395102393195,
          2.1069740519571187,
          2.119553001521041,
          2.132131951084965,
          2.144710900648887,
          2.157289850212811,
          2.169868799776733,
          2.182447749340657,
          2.195026698904579,
          2.207605648468503,
          2.220184598032425,
          2.232763547596349,
          2.245342497160271,
          2.257921446724195,
          2.270500396288119,
          2.283079345852041,
          2.295658295415965,
          2.308237244979887,
          2.320816194543811,
          2.333395144107733,
          2.345974093671657,
          2.3585530432355792,
          2.371131992799503,
          2.3837109423634253,
          2.396289891927349,
          2.4088688414912713,
          2.4214477910551953,
          2.434026740619119,
          2.4466056901830413,
          2.459184639746965,
          2.4717635893108874,
          2.4843425388748113,
          2.4969214884387334,
          2.5095004380026573,
          2.5220793875665795,
          2.5346583371305034,
          2.5472372866944255,
          2.5598162362583494,
          2.5723951858222733,
          2.5849741353861955,
          2.5975530849501194,
          2.6101320345140415,
          2.6227109840779654,
          2.6352899336418876,
          2.6478688832058115,
          2.6604478327697336,
          2.6730267823336575,
          2.6856057318975797,
          2.6981846814615036,
          2.7107636310254257,
          2.7233425805893496,
          2.7359215301532736,
          2.7485004797171957,
          2.7610794292811196,
          2.7736583788450417,
          2.7862373284089657,
          2.798816277972888,
          2.8113952275368117,
          2.823974177100734,
          2.8365531266646578,
          2.84913207622858,
          2.861711025792504,
          2.874289975356426,
          2.88686892492035,
          2.8994478744842738,
          2.912026824048196,
          2.92460577361212,
          2.937184723176042,
          2.949763672739966,
          2.962342622303888,
          2.974921571867812,
          2.987500521431734,
          3.000079470995658,
          3.01265842055958,
          3.025237370123504,
          3.037816319687426,
          3.05039526925135,
          3.062974218815274,
          3.075553168379196,
          3.08813211794312,
          3.100711067507042,
          3.113290017070966,
          3.1258689666348882,
          3.138447916198812,
          3.1510268657627343,
          3.163605815326658,
          3.1761847648905803,
          3.1887637144545042,
          3.2013426640184264,
          3.2139216135823503,
          3.226500563146274,
          3.2390795127101963,
          3.2516584622741203,
          3.2642374118380424,
          3.2768163614019663,
          3.2893953109658884,
          3.3019742605298124,
          3.3145532100937345,
          3.3271321596576584,
          3.3397111092215805,
          3.3522900587855045,
          3.3648690083494266,
          3.3774479579133505,
          3.3900269074772744,
          3.4026058570411966,
          3.4151848066051205,
          3.4277637561690426,
          3.4403427057329665,
          3.4529216552968887,
          3.4655006048608126,
          3.4780795544247347,
          3.4906585039886586,
          3.5032374535525808,
          3.5158164031165047,
          3.528395352680427,
          3.5409743022443507,
          3.5535532518082746,
          3.5661322013721968,
          3.5787111509361207,
          3.591290100500043,
          3.6038690500639667,
          3.616447999627889,
          3.629026949191813,
          3.641605898755735,
          3.654184848319659,
          3.666763797883581,
          3.679342747447505,
          3.691921697011427,
          3.704500646575351,
          3.717079596139275,
          3.729658545703197,
          3.742237495267121,
          3.754816444831043,
          3.767395394394967,
          3.779974343958889,
          3.792553293522813,
          3.805132243086735,
          3.817711192650659,
          3.830290142214581,
          3.842869091778505,
          3.8554480413424272,
          3.868026990906351,
          3.880605940470275,
          3.893184890034197,
          3.905763839598121,
          3.9183427891620433,
          3.930921738725967,
          3.9435006882898893,
          3.9560796378538132,
          3.9686585874177354,
          3.9812375369816593,
          3.9938164865455814,
          4.006395436109505,
          4.0189743856734275,
          4.031553335237351,
          4.044132284801275,
          4.056711234365197,
          4.069290183929121,
          4.0818691334930435,
          4.094448083056967,
          4.1070270326208895,
          4.119605982184813,
          4.132184931748736,
          4.1447638813126595,
          4.157342830876582,
          4.1699217804405055,
          4.182500730004428,
          4.195079679568352,
          4.2076586291322755,
          4.220237578696198,
          4.232816528260122,
          4.245395477824044,
          4.257974427387968,
          4.27055337695189,
          4.283132326515814,
          4.295711276079736,
          4.30829022564366,
          4.320869175207582,
          4.333448124771506,
          4.34602707433543,
          4.358606023899352,
          4.371184973463276,
          4.383763923027198,
          4.396342872591122,
          4.408921822155044,
          4.421500771718968,
          4.43407972128289,
          4.446658670846814,
          4.459237620410736,
          4.47181656997466,
          4.484395519538582,
          4.496974469102506,
          4.50955341866643,
          4.522132368230352,
          4.534711317794276,
          4.547290267358198,
          4.559869216922122,
          4.572448166486044,
          4.585027116049968,
          4.59760606561389,
          4.610185015177814,
          4.622763964741736,
          4.63534291430566,
          4.647921863869582,
          4.660500813433506,
          4.67307976299743,
          4.685658712561352,
          4.698237662125276,
          4.710816611689198,
          4.723395561253122,
          4.735974510817044,
          4.748553460380968,
          4.76113240994489,
          4.773711359508814,
          4.7862903090727364,
          4.79886925863666,
          4.8114482082005825,
          4.824027157764506,
          4.83660610732843,
          4.8491850568923525,
          4.861764006456276,
          4.8743429560201985,
          4.886921905584122,
          4.899500855148045,
          4.9120798047119685,
          4.924658754275891,
          4.9372377038398145,
          4.949816653403737,
          4.962395602967661,
          4.974974552531583,
          4.987553502095507,
          5.0001324516594305,
          5.012711401223353,
          5.025290350787277,
          5.037869300351199,
          5.050448249915123,
          5.063027199479045,
          5.075606149042969,
          5.088185098606891,
          5.100764048170815,
          5.113342997734737,
          5.125921947298661,
          5.138500896862583,
          5.151079846426507,
          5.163658795990431,
          5.176237745554353,
          5.188816695118277,
          5.201395644682199,
          5.213974594246123,
          5.226553543810045,
          5.239132493373969,
          5.251711442937891,
          5.264290392501815,
          5.276869342065737,
          5.289448291629661,
          5.302027241193583,
          5.314606190757507,
          5.327185140321431,
          5.339764089885353,
          5.352343039449277,
          5.364921989013199,
          5.377500938577123,
          5.390079888141045,
          5.402658837704969,
          5.415237787268891,
          5.427816736832815,
          5.440395686396737,
          5.452974635960661,
          5.465553585524583,
          5.478132535088507,
          5.490711484652431,
          5.503290434216353,
          5.515869383780277,
          5.528448333344199,
          5.541027282908123,
          5.553606232472045,
          5.566185182035969,
          5.5787641315998915,
          5.591343081163815,
          5.6039220307277375,
          5.6165009802916614,
          5.629079929855584,
          5.6416588794195075,
          5.654237828983431,
          5.6668167785473536,
          5.6793957281112775,
          5.6919746776752,
          5.7045536272391235,
          5.717132576803046,
          5.72971152636697,
          5.742290475930892,
          5.754869425494816,
          5.767448375058738,
          5.780027324622662,
          5.792606274186586,
          5.805185223750508,
          5.817764173314432,
          5.830343122878354,
          5.842922072442278,
          5.8555010220062,
          5.868079971570124,
          5.880658921134046,
          5.89323787069797,
          5.905816820261892,
          5.918395769825816,
          5.930974719389738,
          5.943553668953662,
          5.956132618517586,
          5.968711568081508,
          5.981290517645432,
          5.993869467209354,
          6.006448416773278,
          6.0190273663372,
          6.031606315901124,
          6.044185265465046,
          6.05676421502897,
          6.069343164592892,
          6.081922114156816,
          6.094501063720738,
          6.107080013284662,
          6.119658962848586,
          6.132237912412508,
          6.144816861976432,
          6.157395811540354,
          6.169974761104278,
          6.1825537106682,
          6.195132660232124,
          6.207711609796046,
          6.22029055935997,
          6.232869508923892,
          6.245448458487816,
          6.258027408051738,
          6.270606357615662,
          6.283185307179586
         ],
         "xaxis": "x",
         "y": [
          3.670058760052219,
          4.941251246021144,
          7.297786021730506,
          13.484897071233476,
          85.15229562915009,
          -19.133469248653682,
          -8.316046068280702,
          -5.119065712817442,
          -3.5437446593431914,
          -2.574923866139485,
          -1.8945631831449796,
          -1.3697211748878777,
          -0.9334742102971297,
          -0.5465369395622296,
          -0.18174515613092865,
          0.18392281013117903,
          0.5753446198741579,
          1.0268863443704013,
          1.5975842681582717,
          2.4119527920425146,
          3.806617119105885,
          7.164600342329354,
          33.8792144404675,
          -12.84681957573896,
          -5.2159558149367,
          -3.092760897325672,
          -2.039154842578438,
          -1.3748491138293264,
          -0.8954685087387595,
          -0.5195166725445579,
          -0.20995797485908302,
          0.0499278354773177,
          0.2656705884988889,
          0.4359675439226447,
          0.5557679031423546,
          0.6192958913320498,
          0.6229213883750615,
          0.5669982582008792,
          0.455860098664586,
          0.2960329877171035,
          0.09356390291668132,
          -0.1485966177944431,
          -0.4329166115694353,
          -0.770014755949434,
          -1.1836944820116027,
          -1.7228871672997006,
          -2.4946771127947853,
          -3.776528124117189,
          -6.56749148954394,
          -19.277417622252187,
          22.658196659020653,
          7.026557452831155,
          4.003401442019418,
          2.6572838427850587,
          1.8575857135621485,
          1.3007838833363574,
          0.8701811913911954,
          0.5104581359128049,
          0.19108584693011654,
          -0.10719244319582438,
          -0.398316007594163,
          -0.6940234429465743,
          -1.0058997339354852,
          -1.3472095485284388,
          -1.7351684636900266,
          -2.194529263328005,
          -2.764218527696303,
          -3.5112337133654954,
          -4.563764857941463,
          -6.204514255493899,
          -9.208151366335652,
          -16.745764817571544,
          -75.4287058056667,
          31.449305038487754,
          13.101175903394058,
          8.253451289040944,
          5.983418308717635,
          4.6480437796299405,
          3.755373346518334,
          3.1065206231551072,
          2.605524041022627,
          2.2001999432636254,
          1.8595316727921414,
          1.5637029359999621,
          1.2992044339892013,
          1.0562021082313622,
          0.826984987976829,
          0.6049338905872633,
          0.3837003811402955,
          0.15636207701093036,
          -0.08572795264356688,
          -0.354920965011884,
          -0.6713478701942158,
          -1.0728091977386751,
          -1.6440249571941294,
          -2.6329011247547123,
          -5.266046054321578,
          533.8849825724549,
          3.679581413076161,
          0.7473057319020593,
          -2.038276721823804,
          0.24873215546680813,
          0.213077324095253,
          -20.86713687224367,
          -1.3150927398887984,
          4.4131893537296545,
          -8.708909295407796,
          1.195112702254734,
          -0.4882431675618234,
          -1.9929975039493673,
          -5.1292587946653825,
          -62.4356243915214,
          7.425772042337565,
          3.3809947559081444,
          1.9522892835489094,
          1.098097147143917,
          0.4132644261074086,
          -0.30438582425838756,
          -1.418853162632455,
          -7.826473977086633,
          1.06050236252501,
          -1.1971913750945913,
          -0.37191077333671546,
          -0.24426655630552221,
          0.460092901510843,
          -2.475469060886313,
          -835.8693342259692,
          3.467568439698201,
          1.2159362564821525,
          -0.09888394390509712,
          -3.119220356572003,
          -1.2220091975763414,
          -0.4619305331738312,
          1.4977977475002786,
          -4.5075892286661485,
          3.7995947458341495,
          0.531510112453942,
          -4.580201253284402,
          -13.450259031216273,
          0.5369306242276025,
          14.221631080315152,
          0.4736199075959001,
          0.2952060016886663,
          2.0692422416165432,
          4.5232197561726775,
          -2.757378876715321,
          6.249747591402679,
          1.9578474125425092,
          1.6927981992532573,
          4.442565326318593,
          0.520825985323563,
          0.6118687396847068,
          -6.234953840240522,
          4.39098348146519,
          1.9040018516519006,
          0.4787584684924021,
          3.0252989619581623,
          0.14501017927902,
          0.3773864582169197,
          1.8823215061853922,
          -6.720951662852511,
          -1.352185614477309,
          0.10459812092236583,
          -1.8198904116299388,
          -1.1832019505553963,
          -5.1454838114379,
          -4.3720619873946385,
          -5.674628445632063,
          -4.785203063590547,
          -0.6580933479789669,
          -1.1903246259647071,
          -24.889808947040535,
          41.319406610324535,
          2.741357238053337,
          -4.19480261510528,
          1.19660839835404,
          1.7695100273087152,
          1.5859917475623333,
          5.252421726588799,
          1.6509666267028518,
          3.1356466898558337,
          -4.073735768255519,
          1.4263392494710554,
          0.581089343102118,
          0.10527198052156467,
          0.07555428984590407,
          19.149654024180638,
          3.2446733327552946,
          -0.10396593002975256,
          -0.026244884150301302,
          4.138876880884029,
          -2.0972469200691948,
          1.892560128809053,
          -1.3027878283482772,
          6.4604915006167944,
          0.3165135460068645,
          1.128778648992279,
          21.05970937145365,
          0.14494028778854373,
          -5.054776434854315,
          5.212793466964549,
          1.0641366571715134,
          -1.2220392762718653,
          -0.19729947215631422,
          -1.3766618216606936,
          -2.163318970313973,
          0.18778891137832474,
          -2.0475779891078436,
          -9.027679699764597,
          8.868340167414338,
          2.718500398406142,
          1.0669261126374656,
          -0.13273396232684928,
          -2.4302077029743483,
          1.8624738422441962,
          -1.2135714942683216,
          -58.3177369283743,
          -0.6939222895096266,
          -3.2658673837625876,
          1.8422662976678903,
          0.007577729042777247,
          -1.0413878513023347,
          -2.21433907755181,
          -4.144444210127993,
          -9.540632803443343,
          175.15764771747553,
          9.125008235286373,
          4.543419444606735,
          2.8310211866021495,
          1.8531622562075951,
          1.1548749236951301,
          0.5668761829472614,
          -0.013005146376358115,
          -0.7090212809429616,
          -1.8678125983416283,
          -6.659706748143345,
          4.400560601442067,
          0.1784017588575755,
          26.526652411616826,
          4.926945588595773,
          0.2851859582459119,
          -25.32516644562672,
          -1.6018147190734002,
          -2.5486827748735448,
          -3.561080981924882,
          0.8688510755724771,
          -1.39229765904209,
          -7.118374959693078,
          8.701965199877387,
          2.8789148074481745,
          1.5577201605815856,
          0.8825030978094066,
          0.42650285461988124,
          0.07066689502182336,
          -0.2325771242783602,
          -0.5067270928622101,
          -0.7653003926737415,
          -1.0171220276955029,
          -1.268660952157442,
          -1.5252097635580668,
          -1.7915633182861073,
          -2.072471604676372,
          -2.3729996414056975,
          -2.6988709301417986,
          -3.056851425977889,
          -3.4552312814682247,
          -3.904477976748375,
          -4.418170870453907,
          -5.01439649882007,
          -5.717914586486719,
          -6.563658897966033,
          -7.602656680377151,
          -8.91258182472891,
          -10.617819012840586,
          -12.930816062597252,
          -16.246744485785808,
          -21.39358694153345,
          -30.447557966138834,
          -50.50606921087873,
          -132.0612565546836,
          258.5678322164805,
          68.77934086902094,
          40.890881234718684,
          29.74280772913305,
          23.787657617831364,
          20.119602600774115,
          17.665663066863377,
          15.938393677891698,
          14.68536500582262,
          13.763758511535297,
          13.087789819581163,
          12.604065285807224,
          12.279086334794659,
          12.092604812043742,
          12.034084366744386,
          12.101018090135714,
          12.29857049607075,
          12.640440609413817,
          13.151220298278467,
          13.871045643424921,
          14.864328854979766,
          16.236571731793884,
          18.16884785029643,
          20.995534545244883,
          25.404589408529635,
          33.065188446277006,
          49.33235163807422,
          105.90366273294954,
          -444.85719215300844,
          -67.50833223300499,
          -35.370856374341415,
          -23.44542219021754,
          -17.243673314535744,
          -13.451199075380018,
          -10.896784656929276,
          -9.061275503385557,
          -7.679299908918408,
          -6.60111752141854,
          -5.735841119153104,
          -5.025111923049807,
          -4.42973526557587,
          -3.9223960296720297,
          -3.4834531824350963,
          -3.098393229480365,
          -2.756224037134744,
          -2.4484245383345518,
          -2.1682343822115198,
          -1.910156762185628,
          -1.6695965916275195,
          -1.4425835638332383,
          -1.2255445959218414,
          -1.0150970472171426,
          -0.8078343231669791,
          -0.6000677973365518,
          -0.3874681901167762,
          -0.16450173678350155,
          0.07655493558574925,
          0.3475162666415123,
          0.6683789525449365,
          1.0773944733740781,
          1.66094352801637,
          2.671962406450356,
          5.3520035366852206,
          1106.2103088749197,
          -4.034232148608381,
          -1.0371774183690665,
          0.9714636855850433,
          -4.571985016665521,
          -5.9976217452967315,
          -8.170169544577783,
          19.333969985695756,
          -14.691939412774511,
          0.972444530293709,
          0.3107659350937824,
          -38.32020234040561,
          -1.3824946449926097,
          0.06336544721261839,
          1.1222202250597477,
          2.496155856802606,
          5.438411180332161,
          29.21106153712775,
          -10.302138872787804,
          -4.2520124734134015,
          -2.443624617838202,
          -1.4556318640734953,
          -0.7292194425768344,
          -0.0497210650336127,
          0.8059703885125385,
          2.8156694000210023,
          -6.042818810051901,
          2.14635844579151,
          -2.4095486015757297,
          -0.862964370008059,
          13.025462809049536,
          0.3148097576027935,
          3.72116590017683,
          -16.239937857972624,
          -2.7472418768935394,
          -0.9411075686834133,
          0.34374573408922066,
          4.598282232840213,
          2.5068303028623635,
          1.5397261246354972,
          -1.1056855384307438,
          6.398785925583643,
          -2.8951979422774436,
          -0.27262982717527445,
          6.238412537124779,
          4.564175703066903,
          -0.35568375203778974,
          -6.383254415018378,
          -0.10721133234583495,
          -0.08207719764565903,
          -1.3861707786691237,
          -2.5518498584919236,
          6.1487274563400725,
          -1.7933014926200463,
          -0.8837842070061848,
          13.205299172470378,
          -1.6045908423304591,
          -1.7757030308353468,
          0.9151251953891054,
          -3.525741086952386,
          2.7974282966910717,
          1.5703698592039395,
          -6.62103915944703,
          2.5516274984169574,
          -3.281023967250837,
          -1.4419825551776313,
          -1.7201455006560988,
          0.41577438512460735,
          -1.4738487405996725,
          -0.038545304595390864,
          7.629679859491655,
          -1.6968040959825237,
          -5.223237777994856,
          -0.9268443133732963,
          -0.15823025982667585,
          26.667964614644376,
          -12.778074588978285,
          3.241251877798368,
          0.8421678492456061,
          -1.334178289018501,
          -0.26264162492435694,
          0.10435761831076698,
          -16.269390948823048,
          -17.502192822165547,
          -44.5103414302719,
          -0.27943678131507477,
          0.32878781785255895,
          -0.726492426275537,
          58.303784075759104,
          -0.44236327600985015,
          -0.1318772788922741,
          2.9310996118902266,
          -0.10691292899476089,
          -5.601912514610869,
          -3.437655796238924,
          2.6307348347171926,
          25.40673408453567,
          -8.670350811119677,
          0.15668559289614714,
          -2.1600945890824783,
          0.3678486781442516,
          8.895612119343935,
          -1.2518159103762476,
          0.7944560819492431,
          -6.27194581095676,
          -1.2127891372239104,
          14.371163484475924,
          5.063930590007887,
          -2.913825107213314,
          -0.679765173658184,
          0.5439955048934267,
          3.0233452408783337,
          -2.8906280661660886,
          -1.96745946165762,
          92.74803214342404,
          2.300626819625589,
          0.7268407252428268,
          9.754659685054886,
          -4.798163210491855,
          -1.8441667383798568,
          -0.8190520992594194,
          -0.126420762658398,
          0.5323942050214383,
          1.386200392111592,
          3.1451554182738457,
          28.52205137394482,
          -2.8638404021746786,
          0.1890466245309087,
          -3.487871012404253,
          25.191245811055474,
          -5.755257058569661,
          -0.08923061400033902,
          -0.01803268763095638,
          -3.4841664780113133,
          0.04939790172996702,
          1.6588650452907014,
          4.56438467194585,
          31.780063184364014,
          -9.13779560749417,
          -4.181401282886926,
          -2.6655962244829086,
          -1.8758640935783304,
          -1.360198822942131,
          -0.9767975761144257,
          -0.6660029874946137,
          -0.3976451381335728,
          -0.1541837449285654,
          0.0759387851954488,
          0.30138232523891145,
          0.5296010522985728,
          0.7680003965585638,
          1.024996696362278,
          1.311325787736247,
          1.6420655061033322,
          2.0402637982741574,
          2.544242814169351,
          3.224135235279071,
          4.225233010839806,
          5.908055127321937,
          9.486644706630482,
          23.246340585764415,
          -50.190868704075896,
          -11.683892400954806,
          -6.38294891339573,
          -4.220819237940087,
          -3.0102617974791572,
          -2.20928321457912,
          -1.6178077320875583,
          -1.1433876453316967,
          -0.7357113347067343,
          -0.36283759029107454,
          -4.6000367483682304E-4,
          0.37460799204768097,
          0.7907644920059418,
          1.2919151679101835,
          1.961548113024187,
          2.996933277164039,
          5.032284154301183,
          11.958173208161744,
          -41.78452072821022,
          -7.499065322879309,
          -3.9303436868242847,
          -2.494565254016437,
          -1.6756783649336633,
          -1.1186549363696763,
          -0.6975221016287659,
          -0.3578157086259487,
          -0.07435142053445827,
          0.1632761654704497,
          0.35676239238740615,
          0.502559849193081,
          0.5948723036796864,
          0.6286776856135398,
          0.6022119604827005,
          0.5179448116841203,
          0.3816109898904094,
          0.1998437447945607,
          -0.022554625511472016,
          -0.2850549851740108,
          -0.593778168984653,
          -0.9650368612815721,
          -1.432931990293838,
          -2.0688183628330727,
          -3.040219070263347,
          -4.844391844312769,
          -9.892410233557861,
          -267.460943423898,
          10.80581621106503,
          5.144698276389366,
          3.227132896317545,
          2.2152492876797494,
          1.5582848008933117,
          1.0739959089141735,
          0.6837345647437041,
          0.3471056924283276,
          0.04026125625147356,
          -0.2528899844567285,
          -0.5448900324080672,
          -0.8471736175647245,
          -1.1719248449487378,
          -1.5340440998777252,
          -1.9539341922472289,
          -2.462299173677911,
          -3.109604641365162,
          -3.9871540134652634,
          -5.281330030945192,
          -7.444239921426369,
          -11.93556284586366,
          -27.584576494735646,
          106.518129298038,
          18.492326473392787,
          10.13617430895218,
          6.94691579238497,
          5.240596034889289,
          4.162371987867286,
          3.4079075409311677,
          2.8414711144593343,
          2.393185395501397,
          2.0232122012788096,
          1.706966484339413,
          1.4282164655086853,
          1.175534223727748,
          0.9402996243177922,
          0.7154575927232666,
          0.49462301712591916,
          0.27127705517426837,
          0.03781351828236079,
          -0.21593293885527912,
          -0.505469961459748,
          -0.8578611214981575,
          -1.328250480351972,
          -2.055494760933989,
          -3.5395684994964496,
          -10.293760578339532,
          8.51890377733987,
          1.870586222212406,
          -0.28400173480451096,
          16.09499634669887,
          4.053820189104478,
          6.048200934910195,
          2.0214321217710056,
          1.1449349704011622,
          -0.7283458466824311,
          3.752197218100815,
          0.22121164756679607,
          -1.1783741286015037,
          -3.138021264697201,
          -10.140698473779901,
          16.632816669295863,
          4.722958397537993,
          2.546105730671669,
          1.4883804834355758,
          0.7478166718477607,
          0.07194209885418638,
          -0.7639748307137002,
          -2.656578381567123,
          6.7644406141587305,
          -2.2831913906768317,
          27.821831726283918,
          5.921584784331584,
          5.4569153985199135,
          -0.8965030669442645,
          -6.227179181191937,
          7.226235131340536,
          2.0608846850226565,
          0.5538612965882084,
          -0.9631255391606465,
          6.205954045484423,
          -3.7105844247903175,
          0.2713890906462195,
          -1.0424959658465491,
          27.670028289796377,
          1.6550983520796565,
          -0.598193901028227,
          -0.02506173914420664,
          4.430509954435533,
          -3.0311688609780285,
          2.2749603275950787,
          -1.5929316260965167,
          -2.103908096975328,
          -3.7345473307285246,
          0.7218807909428973,
          0.3113709622038334,
          -6.561411534524374,
          -1.3162800580676868,
          -0.2686547830355802,
          -0.8218230766339994,
          -3.910144565865029,
          -5.285026433148234,
          -0.7282084317019364,
          1.082325173258667,
          0.8680717503767226,
          -9.351716380262484,
          -1.4708888017806738,
          -13.042421891219849,
          -0.6404759725392831,
          -1.116605118356534,
          4.672495617983109,
          4.135331353930421,
          0.15992834219822566,
          -5.825281702025604,
          12.331362510801775,
          -4.860597180834381,
          1.9739887469078126,
          -5.061012000694735,
          43.69874558574038,
          -4.286925392802849,
          1.6574643023742797,
          2.8805566001791365,
          -11.975016675558814,
          1.2465398394483356,
          10.97578638788721,
          0.6623077872340407,
          145.05388788425708,
          3.50632648192985,
          0.6981158298828806,
          17.751758322768318,
          17.615468551677353,
          -0.006776007855598251,
          -6.204219674499376,
          -5.869524810613087,
          9.217469629999544,
          3.79715670221603,
          -3.9223975053801317,
          -0.16475147873425033,
          0.856762658814797,
          -6.33275351916858,
          0.7698211277259246,
          254.83334165018474,
          2.6891024895855424,
          -7.966307205266579,
          1.8897577857579355,
          -1.805941983561572,
          -1.6358578147884164,
          -60.679928853457064,
          -1.652724362868412,
          116.70553650643751,
          2.3274787686857823,
          0.08954991869785095,
          -18.76445879013815,
          1.271662724129792,
          -0.2544039084065881,
          2.4079098640949965,
          -0.8928849360256998,
          -3.9080246431091417,
          208.6012225933087,
          4.389336213631638,
          1.759360854366974,
          0.47280249874395,
          -0.9081383285760473,
          -26.670268278469035,
          -1.7648239329136386,
          -1.209001941457432,
          0.852784899040674,
          0.5961882585302031,
          7.378771846911048,
          0.6812445205012343,
          -0.5310388574416322,
          -1.5833287767004967,
          -3.0168721828678917,
          -5.9527845308820915,
          -20.92503208971493,
          17.353795826863493,
          6.128455619147841,
          3.5399866228549115,
          2.290302333252097,
          1.4825018202999278,
          0.8539342514539677,
          0.28208606236927514,
          -0.33481152869283,
          -1.1835842859851164,
          -3.0940815930257095,
          54.098602574804374,
          1.5941566968967233,
          -1.5417794229896664,
          0.23004352334846478,
          2.337087097660955,
          0.7527862654964751,
          -3.107847539947365,
          -2.0402460646857774,
          0.5436230281212001,
          4.234773297279242,
          -0.31027541037452394,
          -2.9982349202815186,
          -345.58819650685194,
          4.379173321270854,
          2.077864808743653,
          1.179247053323015,
          0.6372558728487896,
          0.23988111604057083,
          -0.08572937114144638,
          -0.37229366808874564,
          -0.63733479474898,
          -0.8916129006958936,
          -1.1425779747824647,
          -1.3960037748111969,
          -1.6568674726222143,
          -1.9298928976206724,
          -2.219945039405187,
          -2.5323739542489037,
          -2.873371716471427,
          -3.2503974845243753,
          -3.672734028226866,
          -4.152264484528821,
          -4.704608635640789,
          -5.350852926113518,
          -6.120289692938244,
          -7.054941944154025,
          -8.217410105332425,
          -9.705294069276249,
          -11.67967210305069,
          -14.426729777872275,
          -18.50840000426666,
          -25.199552749559246,
          -38.14284616460491,
          -73.60573380194701,
          -569.682693351531,
          107.54517738043518,
          51.043190832690094,
          34.326477220452325,
          26.36860953070074,
          21.755603267731345,
          18.77919235347369,
          16.730472743125222,
          15.26328120166297,
          14.189460884914114,
          13.398980837086826,
          12.82435948427718,
          12.423256110590156,
          12.169392597471253,
          12.04768430274004,
          12.051730385977967,
          12.182829888374846,
          12.450224539850963,
          12.87264857933576,
          13.48168847520835,
          14.328155874104132,
          15.494133269269359,
          17.11681713096725,
          19.43957350093318,
          22.934263948040034,
          28.645320020089994,
          39.42646597036846,
          66.82767261770158,
          269.8523101843337,
          -118.7633986807662,
          -46.66532385592978,
          -28.29274266718522,
          -19.920532787019518,
          -15.14291336738801,
          -12.060245001661189,
          -9.909476417725177,
          -8.324783113993762,
          -7.108897110221497,
          -6.14607885271641,
          -5.363951618538287,
          -4.714930336598855,
          -4.166432691091278,
          -3.695380091587704,
          -3.2849430139010747,
          -2.9225281633995635,
          -2.5984852253991426,
          -2.3052467005065758,
          -2.0367362700042593,
          -1.787946948969427,
          -1.554626853807685,
          -1.333030800400957,
          -1.119706540921642,
          -0.911287983021874,
          -0.7042643518531572,
          -0.4946810415082366,
          -0.2776962416318055,
          -0.046844902933068144,
          0.20731269770046848,
          0.4999392206830864,
          0.8582169676570437,
          1.3382161521053673,
          2.0816724862052256,
          3.5975261036677004,
          10.380183495613181,
          -9.252797295887271,
          -2.150125475061669,
          -0.12605661864304019,
          4.029543272513883,
          0.12234224796161625,
          -7.685631404378989,
          -0.37319870798482896,
          -2.9724846334170967,
          2.149527334771532,
          -3.0751198359248617,
          3.0306466458954273,
          -3.223162011374218,
          -0.5351774898899357,
          0.5890551355958494,
          1.7284516024751493,
          3.5931079769849634,
          9.544526037983742,
          -31.255318251332053,
          -6.105344676394741,
          -3.1736219699430004,
          -1.8971002488143247,
          -1.0756946201718252,
          -0.39442738369703906,
          0.33350795695924174,
          1.4886998496498187,
          9.008343665215722,
          -1.0073314771439987,
          0.5475512342177856,
          7.469365983346507,
          -1.857823136032353,
          -1.2943490495232788,
          1.6049704068681725,
          12.137439069069991,
          -4.973977175235712,
          -1.6706593063129882,
          -0.31952225912687865,
          1.3221158497092993,
          -3.4866930280133377,
          -1.547537011110963,
          0.25291483084492056,
          1.3619760017675826,
          -10.463636866504418,
          -1.2771395857917,
          0.8723375194700916,
          0.024166362527455812,
          -17.95273860286095,
          4.2463120499086315,
          -1.60118679022564,
          2.2553918652160796,
          -0.8935587050132225,
          7.602037808119163,
          -0.16371170165187857,
          -6.739141627005808,
          -33.47865051978018,
          3.6052092653702084,
          1.9604142445255337,
          3.7119943319774014,
          -9.569375115239199,
          -6.270351890937907,
          -9.086173709270476,
          1.5630072783538935,
          5.100984631779545,
          0.6419982939631819,
          -0.8799841141823035,
          -4.280920906035993,
          2.1226062557542327,
          4.389935874314625,
          -1.1630671280751184,
          0.7715226095990458,
          -0.19532481468293977,
          1.0400073492026147,
          -0.575409562400086,
          -0.25468663038747835,
          0.3594816398369944,
          0.2324107329192077,
          -1.2791948464399865,
          2.044224938012102,
          2.4396581560445085,
          -1.276025397801686,
          1.2909127886845737,
          0.7802315192827788,
          -1.632482547924458,
          -1.3250569737890612,
          0.008387667453097975,
          1.9517672347321384,
          52.246094766922155,
          0.16271392377095747,
          -1.2371854467886638,
          0.7249615057091883,
          14.27117190382821,
          -1.5229910126003836,
          -6.350984514189614,
          -116.84610670018579,
          0.8863380975987505,
          -0.26233193955650136,
          1.1438911567725418,
          0.7117713939069267,
          -1.2976678204381846,
          2.3730373168138086,
          -1.595269942441769,
          -0.07006211067706591,
          -3.6955338747808875,
          -0.2051899757256368,
          2.9483196457928917,
          1.3779183636701555,
          2.040382799786427,
          0.5773094556210219,
          -10.477174838666821,
          -1.4604675564432303,
          -0.07099242458201035,
          1.3584213088351609,
          22.472872185298947,
          0.29345153208604624,
          0.47366172124129874,
          -1.2045768221289703,
          -1.295989528917084,
          2.7543368199382883,
          -15.718130233305276,
          -2.779438643017677,
          -1.256076614886233,
          -0.4557287280885271,
          0.19514645538873504,
          0.9139698936728914,
          2.0444378252887025,
          5.755906212077808,
          -8.21575640960446,
          -1.0948338600178142,
          2.54629231672862,
          2.4204712140625975,
          -0.8422688803118102,
          -1.8363639771322593,
          3.4112406072108796,
          5.975002628850176,
          -0.9408192179695241,
          0.8275859593475939,
          2.7586070165172822,
          8.664680241330055,
          -23.903053193104622,
          -5.7322333482347405,
          -3.273913996183712,
          -2.2210012567420554,
          -1.595679190222851,
          -1.1567116619889308,
          -0.8146259950102678,
          -0.5278079726308748,
          -0.27361888420861163,
          -0.03804044748393397,
          0.1887661703738337,
          0.4146928716566862,
          0.6470390460178522,
          0.8935760264463416,
          1.1636855577066723,
          1.4699504805592452,
          1.8308218606717428,
          2.2756959339862606,
          2.855731065630559,
          3.670058760052256
         ],
         "yaxis": "y",
         "type": "scatter"
        }
       ],
       "layout": {
        "template": {
         "data": {
          "histogram2dcontour": [
           {
            "type": "histogram2dcontour",
            "colorbar": {
             "outlinewidth": 0,
             "ticks": ""
            },
            "colorscale": [
             [
              0.0,
              "#0d0887"
             ],
             [
              0.1111111111111111,
              "#46039f"
             ],
             [
              0.2222222222222222,
              "#7201a8"
             ],
             [
              0.3333333333333333,
              "#9c179e"
             ],
             [
              0.4444444444444444,
              "#bd3786"
             ],
             [
              0.5555555555555556,
              "#d8576b"
             ],
             [
              0.6666666666666666,
              "#ed7953"
             ],
             [
              0.7777777777777778,
              "#fb9f3a"
             ],
             [
              0.8888888888888888,
              "#fdca26"
             ],
             [
              1.0,
              "#f0f921"
             ]
            ]
           }
          ],
          "choropleth": [
           {
            "type": "choropleth",
            "colorbar": {
             "outlinewidth": 0,
             "ticks": ""
            }
           }
          ],
          "histogram2d": [
           {
            "type": "histogram2d",
            "colorbar": {
             "outlinewidth": 0,
             "ticks": ""
            },
            "colorscale": [
             [
              0.0,
              "#0d0887"
             ],
             [
              0.1111111111111111,
              "#46039f"
             ],
             [
              0.2222222222222222,
              "#7201a8"
             ],
             [
              0.3333333333333333,
              "#9c179e"
             ],
             [
              0.4444444444444444,
              "#bd3786"
             ],
             [
              0.5555555555555556,
              "#d8576b"
             ],
             [
              0.6666666666666666,
              "#ed7953"
             ],
             [
              0.7777777777777778,
              "#fb9f3a"
             ],
             [
              0.8888888888888888,
              "#fdca26"
             ],
             [
              1.0,
              "#f0f921"
             ]
            ]
           }
          ],
          "heatmap": [
           {
            "type": "heatmap",
            "colorbar": {
             "outlinewidth": 0,
             "ticks": ""
            },
            "colorscale": [
             [
              0.0,
              "#0d0887"
             ],
             [
              0.1111111111111111,
              "#46039f"
             ],
             [
              0.2222222222222222,
              "#7201a8"
             ],
             [
              0.3333333333333333,
              "#9c179e"
             ],
             [
              0.4444444444444444,
              "#bd3786"
             ],
             [
              0.5555555555555556,
              "#d8576b"
             ],
             [
              0.6666666666666666,
              "#ed7953"
             ],
             [
              0.7777777777777778,
              "#fb9f3a"
             ],
             [
              0.8888888888888888,
              "#fdca26"
             ],
             [
              1.0,
              "#f0f921"
             ]
            ]
           }
          ],
          "heatmapgl": [
           {
            "type": "heatmapgl",
            "colorbar": {
             "outlinewidth": 0,
             "ticks": ""
            },
            "colorscale": [
             [
              0.0,
              "#0d0887"
             ],
             [
              0.1111111111111111,
              "#46039f"
             ],
             [
              0.2222222222222222,
              "#7201a8"
             ],
             [
              0.3333333333333333,
              "#9c179e"
             ],
             [
              0.4444444444444444,
              "#bd3786"
             ],
             [
              0.5555555555555556,
              "#d8576b"
             ],
             [
              0.6666666666666666,
              "#ed7953"
             ],
             [
              0.7777777777777778,
              "#fb9f3a"
             ],
             [
              0.8888888888888888,
              "#fdca26"
             ],
             [
              1.0,
              "#f0f921"
             ]
            ]
           }
          ],
          "contourcarpet": [
           {
            "type": "contourcarpet",
            "colorbar": {
             "outlinewidth": 0,
             "ticks": ""
            }
           }
          ],
          "contour": [
           {
            "type": "contour",
            "colorbar": {
             "outlinewidth": 0,
             "ticks": ""
            },
            "colorscale": [
             [
              0.0,
              "#0d0887"
             ],
             [
              0.1111111111111111,
              "#46039f"
             ],
             [
              0.2222222222222222,
              "#7201a8"
             ],
             [
              0.3333333333333333,
              "#9c179e"
             ],
             [
              0.4444444444444444,
              "#bd3786"
             ],
             [
              0.5555555555555556,
              "#d8576b"
             ],
             [
              0.6666666666666666,
              "#ed7953"
             ],
             [
              0.7777777777777778,
              "#fb9f3a"
             ],
             [
              0.8888888888888888,
              "#fdca26"
             ],
             [
              1.0,
              "#f0f921"
             ]
            ]
           }
          ],
          "surface": [
           {
            "type": "surface",
            "colorbar": {
             "outlinewidth": 0,
             "ticks": ""
            },
            "colorscale": [
             [
              0.0,
              "#0d0887"
             ],
             [
              0.1111111111111111,
              "#46039f"
             ],
             [
              0.2222222222222222,
              "#7201a8"
             ],
             [
              0.3333333333333333,
              "#9c179e"
             ],
             [
              0.4444444444444444,
              "#bd3786"
             ],
             [
              0.5555555555555556,
              "#d8576b"
             ],
             [
              0.6666666666666666,
              "#ed7953"
             ],
             [
              0.7777777777777778,
              "#fb9f3a"
             ],
             [
              0.8888888888888888,
              "#fdca26"
             ],
             [
              1.0,
              "#f0f921"
             ]
            ]
           }
          ],
          "mesh3d": [
           {
            "type": "mesh3d",
            "colorbar": {
             "outlinewidth": 0,
             "ticks": ""
            }
           }
          ],
          "scatter": [
           {
            "marker": {
             "line": {
              "color": "#283442"
             }
            },
            "type": "scatter"
           }
          ],
          "parcoords": [
           {
            "type": "parcoords",
            "line": {
             "colorbar": {
              "outlinewidth": 0,
              "ticks": ""
             }
            }
           }
          ],
          "scatterpolargl": [
           {
            "type": "scatterpolargl",
            "marker": {
             "colorbar": {
              "outlinewidth": 0,
              "ticks": ""
             }
            }
           }
          ],
          "bar": [
           {
            "error_x": {
             "color": "#f2f5fa"
            },
            "error_y": {
             "color": "#f2f5fa"
            },
            "marker": {
             "line": {
              "color": "rgb(17,17,17)",
              "width": 0.5
             },
             "pattern": {
              "fillmode": "overlay",
              "size": 10,
              "solidity": 0.2
             }
            },
            "type": "bar"
           }
          ],
          "scattergeo": [
           {
            "type": "scattergeo",
            "marker": {
             "colorbar": {
              "outlinewidth": 0,
              "ticks": ""
             }
            }
           }
          ],
          "scatterpolar": [
           {
            "type": "scatterpolar",
            "marker": {
             "colorbar": {
              "outlinewidth": 0,
              "ticks": ""
             }
            }
           }
          ],
          "histogram": [
           {
            "marker": {
             "pattern": {
              "fillmode": "overlay",
              "size": 10,
              "solidity": 0.2
             }
            },
            "type": "histogram"
           }
          ],
          "scattergl": [
           {
            "marker": {
             "line": {
              "color": "#283442"
             }
            },
            "type": "scattergl"
           }
          ],
          "scatter3d": [
           {
            "type": "scatter3d",
            "line": {
             "colorbar": {
              "outlinewidth": 0,
              "ticks": ""
             }
            },
            "marker": {
             "colorbar": {
              "outlinewidth": 0,
              "ticks": ""
             }
            }
           }
          ],
          "scattermapbox": [
           {
            "type": "scattermapbox",
            "marker": {
             "colorbar": {
              "outlinewidth": 0,
              "ticks": ""
             }
            }
           }
          ],
          "scatterternary": [
           {
            "type": "scatterternary",
            "marker": {
             "colorbar": {
              "outlinewidth": 0,
              "ticks": ""
             }
            }
           }
          ],
          "scattercarpet": [
           {
            "type": "scattercarpet",
            "marker": {
             "colorbar": {
              "outlinewidth": 0,
              "ticks": ""
             }
            }
           }
          ],
          "carpet": [
           {
            "aaxis": {
             "endlinecolor": "#A2B1C6",
             "gridcolor": "#506784",
             "linecolor": "#506784",
             "minorgridcolor": "#506784",
             "startlinecolor": "#A2B1C6"
            },
            "baxis": {
             "endlinecolor": "#A2B1C6",
             "gridcolor": "#506784",
             "linecolor": "#506784",
             "minorgridcolor": "#506784",
             "startlinecolor": "#A2B1C6"
            },
            "type": "carpet"
           }
          ],
          "table": [
           {
            "cells": {
             "fill": {
              "color": "#506784"
             },
             "line": {
              "color": "rgb(17,17,17)"
             }
            },
            "header": {
             "fill": {
              "color": "#2a3f5f"
             },
             "line": {
              "color": "rgb(17,17,17)"
             }
            },
            "type": "table"
           }
          ],
          "barpolar": [
           {
            "marker": {
             "line": {
              "color": "rgb(17,17,17)",
              "width": 0.5
             },
             "pattern": {
              "fillmode": "overlay",
              "size": 10,
              "solidity": 0.2
             }
            },
            "type": "barpolar"
           }
          ],
          "pie": [
           {
            "automargin": true,
            "type": "pie"
           }
          ]
         },
         "layout": {
          "autotypenumbers": "strict",
          "colorway": [
           "#636efa",
           "#EF553B",
           "#00cc96",
           "#ab63fa",
           "#FFA15A",
           "#19d3f3",
           "#FF6692",
           "#B6E880",
           "#FF97FF",
           "#FECB52"
          ],
          "font": {
           "color": "#f2f5fa"
          },
          "hovermode": "closest",
          "hoverlabel": {
           "align": "left"
          },
          "paper_bgcolor": "rgb(17,17,17)",
          "plot_bgcolor": "rgb(17,17,17)",
          "polar": {
           "bgcolor": "rgb(17,17,17)",
           "angularaxis": {
            "gridcolor": "#506784",
            "linecolor": "#506784",
            "ticks": ""
           },
           "radialaxis": {
            "gridcolor": "#506784",
            "linecolor": "#506784",
            "ticks": ""
           }
          },
          "ternary": {
           "bgcolor": "rgb(17,17,17)",
           "aaxis": {
            "gridcolor": "#506784",
            "linecolor": "#506784",
            "ticks": ""
           },
           "baxis": {
            "gridcolor": "#506784",
            "linecolor": "#506784",
            "ticks": ""
           },
           "caxis": {
            "gridcolor": "#506784",
            "linecolor": "#506784",
            "ticks": ""
           }
          },
          "coloraxis": {
           "colorbar": {
            "outlinewidth": 0,
            "ticks": ""
           }
          },
          "colorscale": {
           "sequential": [
            [
             0.0,
             "#0d0887"
            ],
            [
             0.1111111111111111,
             "#46039f"
            ],
            [
             0.2222222222222222,
             "#7201a8"
            ],
            [
             0.3333333333333333,
             "#9c179e"
            ],
            [
             0.4444444444444444,
             "#bd3786"
            ],
            [
             0.5555555555555556,
             "#d8576b"
            ],
            [
             0.6666666666666666,
             "#ed7953"
            ],
            [
             0.7777777777777778,
             "#fb9f3a"
            ],
            [
             0.8888888888888888,
             "#fdca26"
            ],
            [
             1.0,
             "#f0f921"
            ]
           ],
           "sequentialminus": [
            [
             0.0,
             "#0d0887"
            ],
            [
             0.1111111111111111,
             "#46039f"
            ],
            [
             0.2222222222222222,
             "#7201a8"
            ],
            [
             0.3333333333333333,
             "#9c179e"
            ],
            [
             0.4444444444444444,
             "#bd3786"
            ],
            [
             0.5555555555555556,
             "#d8576b"
            ],
            [
             0.6666666666666666,
             "#ed7953"
            ],
            [
             0.7777777777777778,
             "#fb9f3a"
            ],
            [
             0.8888888888888888,
             "#fdca26"
            ],
            [
             1.0,
             "#f0f921"
            ]
           ],
           "diverging": [
            [
             0,
             "#8e0152"
            ],
            [
             0.1,
             "#c51b7d"
            ],
            [
             0.2,
             "#de77ae"
            ],
            [
             0.3,
             "#f1b6da"
            ],
            [
             0.4,
             "#fde0ef"
            ],
            [
             0.5,
             "#f7f7f7"
            ],
            [
             0.6,
             "#e6f5d0"
            ],
            [
             0.7,
             "#b8e186"
            ],
            [
             0.8,
             "#7fbc41"
            ],
            [
             0.9,
             "#4d9221"
            ],
            [
             1,
             "#276419"
            ]
           ]
          },
          "xaxis": {
           "gridcolor": "#283442",
           "linecolor": "#506784",
           "ticks": "",
           "title": {
            "standoff": 15
           },
           "zerolinecolor": "#283442",
           "automargin": true,
           "zerolinewidth": 2
          },
          "yaxis": {
           "gridcolor": "#283442",
           "linecolor": "#506784",
           "ticks": "",
           "title": {
            "standoff": 15
           },
           "zerolinecolor": "#283442",
           "automargin": true,
           "zerolinewidth": 2
          },
          "scene": {
           "xaxis": {
            "backgroundcolor": "rgb(17,17,17)",
            "gridcolor": "#506784",
            "linecolor": "#506784",
            "showbackground": true,
            "ticks": "",
            "zerolinecolor": "#C8D4E3",
            "gridwidth": 2
           },
           "yaxis": {
            "backgroundcolor": "rgb(17,17,17)",
            "gridcolor": "#506784",
            "linecolor": "#506784",
            "showbackground": true,
            "ticks": "",
            "zerolinecolor": "#C8D4E3",
            "gridwidth": 2
           },
           "zaxis": {
            "backgroundcolor": "rgb(17,17,17)",
            "gridcolor": "#506784",
            "linecolor": "#506784",
            "showbackground": true,
            "ticks": "",
            "zerolinecolor": "#C8D4E3",
            "gridwidth": 2
           }
          },
          "shapedefaults": {
           "line": {
            "color": "#f2f5fa"
           }
          },
          "annotationdefaults": {
           "arrowcolor": "#f2f5fa",
           "arrowhead": 0,
           "arrowwidth": 1
          },
          "geo": {
           "bgcolor": "rgb(17,17,17)",
           "landcolor": "rgb(17,17,17)",
           "subunitcolor": "#506784",
           "showland": true,
           "showlakes": true,
           "lakecolor": "rgb(17,17,17)"
          },
          "title": {
           "x": 0.05
          },
          "updatemenudefaults": {
           "bgcolor": "#506784",
           "borderwidth": 0
          },
          "sliderdefaults": {
           "bgcolor": "#C8D4E3",
           "borderwidth": 1,
           "bordercolor": "rgb(17,17,17)",
           "tickwidth": 0
          },
          "mapbox": {
           "style": "dark"
          }
         }
        },
        "xaxis": {
         "anchor": "y",
         "domain": [
          0.0,
          1.0
         ],
         "title": {
          "text": "x"
         }
        },
        "yaxis": {
         "anchor": "x",
         "domain": [
          0.0,
          1.0
         ],
         "title": {
          "text": "y"
         }
        },
        "legend": {
         "tracegroupgap": 0
        },
        "title": {
         "text": "На проміжку [−2𝜋;2𝜋] функція 𝑦=2𝑡𝑔((1/2)𝑥+𝜋/𝑦)",
         "x": 0.5
        }
       },
       "config": {
        "plotlyServerURL": "https://plot.ly"
       }
      },
      "text/html": "<div>                            <div id=\"70ed2266-a3fc-49e6-b7bb-6a82ab62b14e\" class=\"plotly-graph-div\" style=\"height:525px; width:100%;\"></div>            <script type=\"text/javascript\">                require([\"plotly\"], function(Plotly) {                    window.PLOTLYENV=window.PLOTLYENV || {};                                    if (document.getElementById(\"70ed2266-a3fc-49e6-b7bb-6a82ab62b14e\")) {                    Plotly.newPlot(                        \"70ed2266-a3fc-49e6-b7bb-6a82ab62b14e\",                        [{\"hovertemplate\":\"x=%{x}\\u003cbr\\u003ey=%{y}\\u003cextra\\u003e\\u003c\\u002fextra\\u003e\",\"legendgroup\":\"\",\"line\":{\"color\":\"#636efa\",\"dash\":\"solid\"},\"marker\":{\"symbol\":\"circle\"},\"mode\":\"lines\",\"name\":\"\",\"orientation\":\"v\",\"showlegend\":false,\"x\":[-6.283185307179586,-6.270606357615663,-6.25802740805174,-6.245448458487817,-6.232869508923894,-6.220290559359971,-6.207711609796048,-6.195132660232124,-6.182553710668201,-6.169974761104278,-6.157395811540355,-6.144816861976432,-6.132237912412509,-6.119658962848586,-6.107080013284663,-6.09450106372074,-6.081922114156817,-6.069343164592894,-6.056764215028971,-6.044185265465048,-6.031606315901124,-6.019027366337201,-6.006448416773278,-5.993869467209355,-5.981290517645432,-5.968711568081509,-5.956132618517586,-5.943553668953663,-5.93097471938974,-5.918395769825817,-5.905816820261894,-5.893237870697971,-5.880658921134048,-5.868079971570124,-5.855501022006201,-5.842922072442278,-5.830343122878355,-5.817764173314432,-5.805185223750509,-5.792606274186586,-5.7800273246226626,-5.7674483750587395,-5.7548694254948165,-5.7422904759308935,-5.72971152636697,-5.717132576803047,-5.7045536272391235,-5.6919746776752005,-5.6793957281112775,-5.666816778547354,-5.654237828983431,-5.641658879419508,-5.629079929855585,-5.616500980291662,-5.603922030727739,-5.591343081163816,-5.578764131599893,-5.566185182035969,-5.553606232472047,-5.541027282908123,-5.5284483333442,-5.515869383780277,-5.503290434216354,-5.490711484652431,-5.478132535088508,-5.465553585524585,-5.452974635960662,-5.440395686396739,-5.427816736832816,-5.415237787268893,-5.402658837704969,-5.390079888141047,-5.377500938577123,-5.3649219890132,-5.352343039449277,-5.339764089885354,-5.327185140321431,-5.314606190757508,-5.302027241193585,-5.289448291629662,-5.276869342065739,-5.264290392501816,-5.251711442937893,-5.239132493373969,-5.226553543810047,-5.213974594246123,-5.2013956446822,-5.188816695118277,-5.176237745554354,-5.163658795990431,-5.151079846426508,-5.138500896862585,-5.125921947298662,-5.113342997734739,-5.100764048170816,-5.088185098606893,-5.075606149042969,-5.063027199479047,-5.050448249915123,-5.0378693003512,-5.025290350787277,-5.012711401223354,-5.0001324516594305,-4.9875535020955075,-4.9749745525315845,-4.9623956029676615,-4.949816653403738,-4.937237703839815,-4.924658754275892,-4.9120798047119685,-4.899500855148046,-4.886921905584122,-4.874342956020199,-4.861764006456276,-4.849185056892353,-4.83660610732843,-4.824027157764507,-4.811448208200584,-4.798869258636661,-4.786290309072738,-4.773711359508814,-4.761132409944892,-4.748553460380968,-4.735974510817046,-4.723395561253122,-4.710816611689199,-4.698237662125276,-4.685658712561353,-4.67307976299743,-4.660500813433507,-4.647921863869584,-4.635342914305661,-4.622763964741738,-4.610185015177814,-4.597606065613892,-4.585027116049968,-4.572448166486046,-4.559869216922122,-4.547290267358199,-4.534711317794276,-4.522132368230353,-4.50955341866643,-4.496974469102507,-4.484395519538584,-4.471816569974661,-4.459237620410738,-4.446658670846814,-4.434079721282892,-4.421500771718968,-4.408921822155045,-4.396342872591122,-4.383763923027199,-4.371184973463276,-4.358606023899353,-4.34602707433543,-4.333448124771507,-4.320869175207584,-4.308290225643661,-4.295711276079738,-4.283132326515814,-4.2705533769518915,-4.257974427387968,-4.2453954778240455,-4.232816528260122,-4.2202375786961985,-4.2076586291322755,-4.1950796795683525,-4.1825007300044295,-4.169921780440506,-4.157342830876583,-4.1447638813126595,-4.132184931748737,-4.119605982184813,-4.107027032620891,-4.094448083056967,-4.081869133493045,-4.069290183929121,-4.056711234365198,-4.044132284801275,-4.031553335237352,-4.018974385673429,-4.006395436109506,-3.993816486545583,-3.9812375369816597,-3.9686585874177367,-3.9560796378538137,-3.9435006882898906,-3.9309217387259676,-3.9183427891620446,-3.905763839598121,-3.893184890034198,-3.880605940470275,-3.868026990906352,-3.855448041342429,-3.842869091778506,-3.830290142214583,-3.8177111926506595,-3.8051322430867365,-3.7925532935228135,-3.7799743439588904,-3.7673953943949674,-3.7548164448310444,-3.742237495267121,-3.729658545703198,-3.717079596139275,-3.704500646575352,-3.691921697011429,-3.679342747447506,-3.6667637978835828,-3.6541848483196593,-3.6416058987557363,-3.6290269491918132,-3.61644799962789,-3.603869050063967,-3.591290100500044,-3.5787111509361207,-3.5661322013721977,-3.5535532518082746,-3.5409743022443516,-3.5283953526804286,-3.5158164031165056,-3.503237453552582,-3.490658503988659,-3.478079554424736,-3.465500604860813,-3.45292165529689,-3.440342705732967,-3.427763756169044,-3.4151848066051205,-3.4026058570411974,-3.3900269074772744,-3.3774479579133514,-3.3648690083494284,-3.3522900587855053,-3.339711109221582,-3.327132159657659,-3.314553210093736,-3.301974260529813,-3.2893953109658898,-3.2768163614019667,-3.2642374118380433,-3.2516584622741203,-3.2390795127101972,-3.226500563146274,-3.213921613582351,-3.201342664018428,-3.188763714454505,-3.1761847648905817,-3.1636058153266586,-3.1510268657627356,-3.1384479161988126,-3.1258689666348896,-3.1132900170709665,-3.100711067507043,-3.08813211794312,-3.075553168379197,-3.062974218815274,-3.050395269251351,-3.037816319687428,-3.025237370123505,-3.0126584205595814,-3.0000794709956584,-2.9875005214317354,-2.9749215718678124,-2.9623426223038893,-2.9497636727399663,-2.937184723176043,-2.92460577361212,-2.912026824048197,-2.8994478744842738,-2.8868689249203507,-2.8742899753564277,-2.8617110257925047,-2.8491320762285812,-2.836553126664658,-2.823974177100735,-2.811395227536812,-2.798816277972889,-2.786237328408966,-2.7736583788450426,-2.7610794292811196,-2.7485004797171966,-2.7359215301532736,-2.7233425805893505,-2.7107636310254275,-2.698184681461504,-2.685605731897581,-2.673026782333658,-2.660447832769735,-2.647868883205812,-2.635289933641889,-2.622710984077966,-2.6101320345140424,-2.5975530849501194,-2.5849741353861964,-2.5723951858222733,-2.5598162362583503,-2.5472372866944273,-2.534658337130504,-2.522079387566581,-2.5095004380026578,-2.4969214884387347,-2.4843425388748117,-2.4717635893108887,-2.459184639746965,-2.446605690183042,-2.434026740619119,-2.421447791055196,-2.408868841491273,-2.39628989192735,-2.383710942363427,-2.3711319927995036,-2.3585530432355806,-2.3459740936716575,-2.3333951441077345,-2.3208161945438115,-2.3082372449798885,-2.295658295415965,-2.283079345852042,-2.270500396288119,-2.257921446724196,-2.245342497160273,-2.23276354759635,-2.220184598032427,-2.207605648468504,-2.195026698904581,-2.1824477493406578,-2.169868799776734,-2.157289850212811,-2.144710900648888,-2.132131951084965,-2.1195530015210418,-2.1069740519571187,-2.0943951023931957,-2.0818161528292727,-2.0692372032653497,-2.0566582537014266,-2.0440793041375036,-2.0315003545735806,-2.0189214050096576,-2.0063424554457336,-1.9937635058818106,-1.9811845563178876,-1.9686056067539646,-1.9560266571900415,-1.9434477076261185,-1.9308687580621955,-1.9182898084982725,-1.9057108589343494,-1.8931319093704264,-1.8805529598065034,-1.8679740102425804,-1.8553950606786564,-1.8428161111147334,-1.8302371615508104,-1.8176582119868874,-1.8050792624229643,-1.7925003128590413,-1.7799213632951183,-1.7673424137311953,-1.7547634641672722,-1.7421845146033492,-1.7296055650394262,-1.7170266154755032,-1.7044476659115801,-1.6918687163476562,-1.6792897667837332,-1.6667108172198102,-1.6541318676558872,-1.6415529180919641,-1.628973968528041,-1.616395018964118,-1.603816069400195,-1.591237119836272,-1.578658170272349,-1.566079220708426,-1.553500271144503,-1.54092132158058,-1.528342372016656,-1.515763422452733,-1.50318447288881,-1.490605523324887,-1.478026573760964,-1.4654476241970409,-1.4528686746331179,-1.4402897250691948,-1.4277107755052718,-1.4151318259413488,-1.4025528763774258,-1.3899739268135027,-1.3773949772495797,-1.3648160276856558,-1.3522370781217328,-1.3396581285578097,-1.3270791789938867,-1.3145002294299637,-1.3019212798660407,-1.2893423303021176,-1.2767633807381946,-1.2641844311742716,-1.2516054816103486,-1.2390265320464255,-1.2264475824825025,-1.2138686329185795,-1.2012896833546556,-1.1887107337907326,-1.1761317842268095,-1.1635528346628865,-1.1509738850989635,-1.1383949355350405,-1.1258159859711174,-1.1132370364071944,-1.1006580868432714,-1.0880791372793484,-1.0755001877154253,-1.0629212381515023,-1.0503422885875793,-1.0377633390236554,-1.0251843894597323,-1.0126054398958093,-1.0000264903318863,-0.9874475407679633,-0.9748685912040402,-0.9622896416401172,-0.9497106920761942,-0.9371317425122712,-0.9245527929483481,-0.9119738433844251,-0.8993948938205021,-0.8868159442565782,-0.8742369946926551,-0.8616580451287321,-0.8490790955648091,-0.8365001460008861,-0.823921196436963,-0.81134224687304,-0.798763297309117,-0.786184347745194,-0.7736053981812709,-0.7610264486173479,-0.7484474990534249,-0.7358685494895019,-0.723289599925578,-0.7107106503616549,-0.6981317007977319,-0.6855527512338089,-0.6729738016698859,-0.6603948521059628,-0.6478159025420398,-0.6352369529781168,-0.6226580034141938,-0.6100790538502707,-0.5975001042863477,-0.5849211547224247,-0.5723422051585016,-0.5597632555945777,-0.5471843060306547,-0.5346053564667317,-0.5220264069028087,-0.5094474573388856,-0.4968685077749626,-0.4842895582110396,-0.47171060864711656,-0.45913165908319353,-0.4465527095192705,-0.4339737599553475,-0.42139481039142446,-0.40881586082750143,-0.3962369112635775,-0.3836579616996545,-0.37107901213573147,-0.35850006257180844,-0.3459211130078854,-0.3333421634439624,-0.32076321388003937,-0.30818426431611634,-0.2956053147521933,-0.2830263651882703,-0.27044741562434726,-0.25786846606042424,-0.24528951649650033,-0.2327105669325773,-0.22013161736865428,-0.20755266780473125,-0.19497371824080822,-0.1823947686768852,-0.16981581911296217,-0.15723686954903915,-0.14465791998511612,-0.1320789704211931,-0.11950002085727007,-0.10692107129334705,-0.09434212172942402,-0.08176317216550011,-0.06918422260157708,-0.05660527303765406,-0.04402632347373103,-0.03144737390980801,-0.018868424345884982,-0.006289474781961957,0.006289474781961069,0.018868424345884094,0.03144737390980712,0.044026323473730145,0.05660527303765317,0.0691842226015762,0.08176317216550011,0.09434212172942313,0.10692107129334616,0.11950002085726918,0.1320789704211922,0.14465791998511524,0.15723686954903826,0.16981581911296129,0.1823947686768843,0.19497371824080734,0.20755266780473036,0.2201316173686534,0.2327105669325764,0.24528951649650033,0.25786846606042335,0.2704474156243464,0.2830263651882694,0.2956053147521924,0.30818426431611545,0.3207632138800385,0.3333421634439615,0.34592111300788453,0.35850006257180755,0.3710790121357306,0.3836579616996536,0.39623691126357663,0.40881586082750054,0.42139481039142357,0.4339737599553466,0.4465527095192696,0.45913165908319264,0.47171060864711567,0.4842895582110387,0.4968685077749617,0.5094474573388847,0.5220264069028078,0.5346053564667308,0.5471843060306538,0.5597632555945768,0.5723422051585008,0.5849211547224238,0.5975001042863468,0.6100790538502698,0.6226580034141929,0.6352369529781159,0.6478159025420389,0.6603948521059619,0.672973801669885,0.685552751233808,0.698131700797731,0.710710650361654,0.723289599925578,0.735868549489501,0.748447499053424,0.761026448617347,0.77360539818127,0.7861843477451931,0.7987632973091161,0.8113422468730391,0.8239211964369622,0.8365001460008852,0.8490790955648082,0.8616580451287312,0.8742369946926543,0.8868159442565782,0.8993948938205012,0.9119738433844242,0.9245527929483472,0.9371317425122703,0.9497106920761933,0.9622896416401163,0.9748685912040393,0.9874475407679624,1.0000264903318854,1.0126054398958084,1.0251843894597314,1.0377633390236545,1.0503422885875784,1.0629212381515014,1.0755001877154244,1.0880791372793475,1.1006580868432705,1.1132370364071935,1.1258159859711165,1.1383949355350396,1.1509738850989626,1.1635528346628856,1.1761317842268086,1.1887107337907317,1.2012896833546547,1.2138686329185786,1.2264475824825016,1.2390265320464247,1.2516054816103477,1.2641844311742707,1.2767633807381937,1.2893423303021168,1.3019212798660398,1.3145002294299628,1.3270791789938858,1.3396581285578089,1.3522370781217319,1.3648160276856558,1.3773949772495788,1.3899739268135018,1.4025528763774249,1.415131825941348,1.427710775505271,1.440289725069194,1.452868674633117,1.46544762419704,1.478026573760963,1.490605523324886,1.503184472888809,1.515763422452732,1.528342372016656,1.540921321580579,1.553500271144502,1.566079220708425,1.5786581702723481,1.5912371198362711,1.6038160694001942,1.6163950189641172,1.6289739685280402,1.6415529180919632,1.6541318676558863,1.6667108172198093,1.6792897667837323,1.6918687163476562,1.7044476659115793,1.7170266154755023,1.7296055650394244,1.7421845146033483,1.7547634641672705,1.7673424137311944,1.7799213632951183,1.7925003128590404,1.8050792624229643,1.8176582119868865,1.8302371615508104,1.8428161111147325,1.8553950606786564,1.8679740102425786,1.8805529598065025,1.8931319093704246,1.9057108589343486,1.9182898084982707,1.9308687580621946,1.9434477076261185,1.9560266571900407,1.9686056067539646,1.9811845563178867,1.9937635058818106,2.0063424554457328,2.0189214050096567,2.031500354573579,2.0440793041375027,2.056658253701425,2.0692372032653488,2.081816152829271,2.094395102393195,2.1069740519571187,2.119553001521041,2.132131951084965,2.144710900648887,2.157289850212811,2.169868799776733,2.182447749340657,2.195026698904579,2.207605648468503,2.220184598032425,2.232763547596349,2.245342497160271,2.257921446724195,2.270500396288119,2.283079345852041,2.295658295415965,2.308237244979887,2.320816194543811,2.333395144107733,2.345974093671657,2.3585530432355792,2.371131992799503,2.3837109423634253,2.396289891927349,2.4088688414912713,2.4214477910551953,2.434026740619119,2.4466056901830413,2.459184639746965,2.4717635893108874,2.4843425388748113,2.4969214884387334,2.5095004380026573,2.5220793875665795,2.5346583371305034,2.5472372866944255,2.5598162362583494,2.5723951858222733,2.5849741353861955,2.5975530849501194,2.6101320345140415,2.6227109840779654,2.6352899336418876,2.6478688832058115,2.6604478327697336,2.6730267823336575,2.6856057318975797,2.6981846814615036,2.7107636310254257,2.7233425805893496,2.7359215301532736,2.7485004797171957,2.7610794292811196,2.7736583788450417,2.7862373284089657,2.798816277972888,2.8113952275368117,2.823974177100734,2.8365531266646578,2.84913207622858,2.861711025792504,2.874289975356426,2.88686892492035,2.8994478744842738,2.912026824048196,2.92460577361212,2.937184723176042,2.949763672739966,2.962342622303888,2.974921571867812,2.987500521431734,3.000079470995658,3.01265842055958,3.025237370123504,3.037816319687426,3.05039526925135,3.062974218815274,3.075553168379196,3.08813211794312,3.100711067507042,3.113290017070966,3.1258689666348882,3.138447916198812,3.1510268657627343,3.163605815326658,3.1761847648905803,3.1887637144545042,3.2013426640184264,3.2139216135823503,3.226500563146274,3.2390795127101963,3.2516584622741203,3.2642374118380424,3.2768163614019663,3.2893953109658884,3.3019742605298124,3.3145532100937345,3.3271321596576584,3.3397111092215805,3.3522900587855045,3.3648690083494266,3.3774479579133505,3.3900269074772744,3.4026058570411966,3.4151848066051205,3.4277637561690426,3.4403427057329665,3.4529216552968887,3.4655006048608126,3.4780795544247347,3.4906585039886586,3.5032374535525808,3.5158164031165047,3.528395352680427,3.5409743022443507,3.5535532518082746,3.5661322013721968,3.5787111509361207,3.591290100500043,3.6038690500639667,3.616447999627889,3.629026949191813,3.641605898755735,3.654184848319659,3.666763797883581,3.679342747447505,3.691921697011427,3.704500646575351,3.717079596139275,3.729658545703197,3.742237495267121,3.754816444831043,3.767395394394967,3.779974343958889,3.792553293522813,3.805132243086735,3.817711192650659,3.830290142214581,3.842869091778505,3.8554480413424272,3.868026990906351,3.880605940470275,3.893184890034197,3.905763839598121,3.9183427891620433,3.930921738725967,3.9435006882898893,3.9560796378538132,3.9686585874177354,3.9812375369816593,3.9938164865455814,4.006395436109505,4.0189743856734275,4.031553335237351,4.044132284801275,4.056711234365197,4.069290183929121,4.0818691334930435,4.094448083056967,4.1070270326208895,4.119605982184813,4.132184931748736,4.1447638813126595,4.157342830876582,4.1699217804405055,4.182500730004428,4.195079679568352,4.2076586291322755,4.220237578696198,4.232816528260122,4.245395477824044,4.257974427387968,4.27055337695189,4.283132326515814,4.295711276079736,4.30829022564366,4.320869175207582,4.333448124771506,4.34602707433543,4.358606023899352,4.371184973463276,4.383763923027198,4.396342872591122,4.408921822155044,4.421500771718968,4.43407972128289,4.446658670846814,4.459237620410736,4.47181656997466,4.484395519538582,4.496974469102506,4.50955341866643,4.522132368230352,4.534711317794276,4.547290267358198,4.559869216922122,4.572448166486044,4.585027116049968,4.59760606561389,4.610185015177814,4.622763964741736,4.63534291430566,4.647921863869582,4.660500813433506,4.67307976299743,4.685658712561352,4.698237662125276,4.710816611689198,4.723395561253122,4.735974510817044,4.748553460380968,4.76113240994489,4.773711359508814,4.7862903090727364,4.79886925863666,4.8114482082005825,4.824027157764506,4.83660610732843,4.8491850568923525,4.861764006456276,4.8743429560201985,4.886921905584122,4.899500855148045,4.9120798047119685,4.924658754275891,4.9372377038398145,4.949816653403737,4.962395602967661,4.974974552531583,4.987553502095507,5.0001324516594305,5.012711401223353,5.025290350787277,5.037869300351199,5.050448249915123,5.063027199479045,5.075606149042969,5.088185098606891,5.100764048170815,5.113342997734737,5.125921947298661,5.138500896862583,5.151079846426507,5.163658795990431,5.176237745554353,5.188816695118277,5.201395644682199,5.213974594246123,5.226553543810045,5.239132493373969,5.251711442937891,5.264290392501815,5.276869342065737,5.289448291629661,5.302027241193583,5.314606190757507,5.327185140321431,5.339764089885353,5.352343039449277,5.364921989013199,5.377500938577123,5.390079888141045,5.402658837704969,5.415237787268891,5.427816736832815,5.440395686396737,5.452974635960661,5.465553585524583,5.478132535088507,5.490711484652431,5.503290434216353,5.515869383780277,5.528448333344199,5.541027282908123,5.553606232472045,5.566185182035969,5.5787641315998915,5.591343081163815,5.6039220307277375,5.6165009802916614,5.629079929855584,5.6416588794195075,5.654237828983431,5.6668167785473536,5.6793957281112775,5.6919746776752,5.7045536272391235,5.717132576803046,5.72971152636697,5.742290475930892,5.754869425494816,5.767448375058738,5.780027324622662,5.792606274186586,5.805185223750508,5.817764173314432,5.830343122878354,5.842922072442278,5.8555010220062,5.868079971570124,5.880658921134046,5.89323787069797,5.905816820261892,5.918395769825816,5.930974719389738,5.943553668953662,5.956132618517586,5.968711568081508,5.981290517645432,5.993869467209354,6.006448416773278,6.0190273663372,6.031606315901124,6.044185265465046,6.05676421502897,6.069343164592892,6.081922114156816,6.094501063720738,6.107080013284662,6.119658962848586,6.132237912412508,6.144816861976432,6.157395811540354,6.169974761104278,6.1825537106682,6.195132660232124,6.207711609796046,6.22029055935997,6.232869508923892,6.245448458487816,6.258027408051738,6.270606357615662,6.283185307179586],\"xaxis\":\"x\",\"y\":[3.670058760052219,4.941251246021144,7.297786021730506,13.484897071233476,85.15229562915009,-19.133469248653682,-8.316046068280702,-5.119065712817442,-3.5437446593431914,-2.574923866139485,-1.8945631831449796,-1.3697211748878777,-0.9334742102971297,-0.5465369395622296,-0.18174515613092865,0.18392281013117903,0.5753446198741579,1.0268863443704013,1.5975842681582717,2.4119527920425146,3.806617119105885,7.164600342329354,33.8792144404675,-12.84681957573896,-5.2159558149367,-3.092760897325672,-2.039154842578438,-1.3748491138293264,-0.8954685087387595,-0.5195166725445579,-0.20995797485908302,0.0499278354773177,0.2656705884988889,0.4359675439226447,0.5557679031423546,0.6192958913320498,0.6229213883750615,0.5669982582008792,0.455860098664586,0.2960329877171035,0.09356390291668132,-0.1485966177944431,-0.4329166115694353,-0.770014755949434,-1.1836944820116027,-1.7228871672997006,-2.4946771127947853,-3.776528124117189,-6.56749148954394,-19.277417622252187,22.658196659020653,7.026557452831155,4.003401442019418,2.6572838427850587,1.8575857135621485,1.3007838833363574,0.8701811913911954,0.5104581359128049,0.19108584693011654,-0.10719244319582438,-0.398316007594163,-0.6940234429465743,-1.0058997339354852,-1.3472095485284388,-1.7351684636900266,-2.194529263328005,-2.764218527696303,-3.5112337133654954,-4.563764857941463,-6.204514255493899,-9.208151366335652,-16.745764817571544,-75.4287058056667,31.449305038487754,13.101175903394058,8.253451289040944,5.983418308717635,4.6480437796299405,3.755373346518334,3.1065206231551072,2.605524041022627,2.2001999432636254,1.8595316727921414,1.5637029359999621,1.2992044339892013,1.0562021082313622,0.826984987976829,0.6049338905872633,0.3837003811402955,0.15636207701093036,-0.08572795264356688,-0.354920965011884,-0.6713478701942158,-1.0728091977386751,-1.6440249571941294,-2.6329011247547123,-5.266046054321578,533.8849825724549,3.679581413076161,0.7473057319020593,-2.038276721823804,0.24873215546680813,0.213077324095253,-20.86713687224367,-1.3150927398887984,4.4131893537296545,-8.708909295407796,1.195112702254734,-0.4882431675618234,-1.9929975039493673,-5.1292587946653825,-62.4356243915214,7.425772042337565,3.3809947559081444,1.9522892835489094,1.098097147143917,0.4132644261074086,-0.30438582425838756,-1.418853162632455,-7.826473977086633,1.06050236252501,-1.1971913750945913,-0.37191077333671546,-0.24426655630552221,0.460092901510843,-2.475469060886313,-835.8693342259692,3.467568439698201,1.2159362564821525,-0.09888394390509712,-3.119220356572003,-1.2220091975763414,-0.4619305331738312,1.4977977475002786,-4.5075892286661485,3.7995947458341495,0.531510112453942,-4.580201253284402,-13.450259031216273,0.5369306242276025,14.221631080315152,0.4736199075959001,0.2952060016886663,2.0692422416165432,4.5232197561726775,-2.757378876715321,6.249747591402679,1.9578474125425092,1.6927981992532573,4.442565326318593,0.520825985323563,0.6118687396847068,-6.234953840240522,4.39098348146519,1.9040018516519006,0.4787584684924021,3.0252989619581623,0.14501017927902,0.3773864582169197,1.8823215061853922,-6.720951662852511,-1.352185614477309,0.10459812092236583,-1.8198904116299388,-1.1832019505553963,-5.1454838114379,-4.3720619873946385,-5.674628445632063,-4.785203063590547,-0.6580933479789669,-1.1903246259647071,-24.889808947040535,41.319406610324535,2.741357238053337,-4.19480261510528,1.19660839835404,1.7695100273087152,1.5859917475623333,5.252421726588799,1.6509666267028518,3.1356466898558337,-4.073735768255519,1.4263392494710554,0.581089343102118,0.10527198052156467,0.07555428984590407,19.149654024180638,3.2446733327552946,-0.10396593002975256,-0.026244884150301302,4.138876880884029,-2.0972469200691948,1.892560128809053,-1.3027878283482772,6.4604915006167944,0.3165135460068645,1.128778648992279,21.05970937145365,0.14494028778854373,-5.054776434854315,5.212793466964549,1.0641366571715134,-1.2220392762718653,-0.19729947215631422,-1.3766618216606936,-2.163318970313973,0.18778891137832474,-2.0475779891078436,-9.027679699764597,8.868340167414338,2.718500398406142,1.0669261126374656,-0.13273396232684928,-2.4302077029743483,1.8624738422441962,-1.2135714942683216,-58.3177369283743,-0.6939222895096266,-3.2658673837625876,1.8422662976678903,0.007577729042777247,-1.0413878513023347,-2.21433907755181,-4.144444210127993,-9.540632803443343,175.15764771747553,9.125008235286373,4.543419444606735,2.8310211866021495,1.8531622562075951,1.1548749236951301,0.5668761829472614,-0.013005146376358115,-0.7090212809429616,-1.8678125983416283,-6.659706748143345,4.400560601442067,0.1784017588575755,26.526652411616826,4.926945588595773,0.2851859582459119,-25.32516644562672,-1.6018147190734002,-2.5486827748735448,-3.561080981924882,0.8688510755724771,-1.39229765904209,-7.118374959693078,8.701965199877387,2.8789148074481745,1.5577201605815856,0.8825030978094066,0.42650285461988124,0.07066689502182336,-0.2325771242783602,-0.5067270928622101,-0.7653003926737415,-1.0171220276955029,-1.268660952157442,-1.5252097635580668,-1.7915633182861073,-2.072471604676372,-2.3729996414056975,-2.6988709301417986,-3.056851425977889,-3.4552312814682247,-3.904477976748375,-4.418170870453907,-5.01439649882007,-5.717914586486719,-6.563658897966033,-7.602656680377151,-8.91258182472891,-10.617819012840586,-12.930816062597252,-16.246744485785808,-21.39358694153345,-30.447557966138834,-50.50606921087873,-132.0612565546836,258.5678322164805,68.77934086902094,40.890881234718684,29.74280772913305,23.787657617831364,20.119602600774115,17.665663066863377,15.938393677891698,14.68536500582262,13.763758511535297,13.087789819581163,12.604065285807224,12.279086334794659,12.092604812043742,12.034084366744386,12.101018090135714,12.29857049607075,12.640440609413817,13.151220298278467,13.871045643424921,14.864328854979766,16.236571731793884,18.16884785029643,20.995534545244883,25.404589408529635,33.065188446277006,49.33235163807422,105.90366273294954,-444.85719215300844,-67.50833223300499,-35.370856374341415,-23.44542219021754,-17.243673314535744,-13.451199075380018,-10.896784656929276,-9.061275503385557,-7.679299908918408,-6.60111752141854,-5.735841119153104,-5.025111923049807,-4.42973526557587,-3.9223960296720297,-3.4834531824350963,-3.098393229480365,-2.756224037134744,-2.4484245383345518,-2.1682343822115198,-1.910156762185628,-1.6695965916275195,-1.4425835638332383,-1.2255445959218414,-1.0150970472171426,-0.8078343231669791,-0.6000677973365518,-0.3874681901167762,-0.16450173678350155,0.07655493558574925,0.3475162666415123,0.6683789525449365,1.0773944733740781,1.66094352801637,2.671962406450356,5.3520035366852206,1106.2103088749197,-4.034232148608381,-1.0371774183690665,0.9714636855850433,-4.571985016665521,-5.9976217452967315,-8.170169544577783,19.333969985695756,-14.691939412774511,0.972444530293709,0.3107659350937824,-38.32020234040561,-1.3824946449926097,0.06336544721261839,1.1222202250597477,2.496155856802606,5.438411180332161,29.21106153712775,-10.302138872787804,-4.2520124734134015,-2.443624617838202,-1.4556318640734953,-0.7292194425768344,-0.0497210650336127,0.8059703885125385,2.8156694000210023,-6.042818810051901,2.14635844579151,-2.4095486015757297,-0.862964370008059,13.025462809049536,0.3148097576027935,3.72116590017683,-16.239937857972624,-2.7472418768935394,-0.9411075686834133,0.34374573408922066,4.598282232840213,2.5068303028623635,1.5397261246354972,-1.1056855384307438,6.398785925583643,-2.8951979422774436,-0.27262982717527445,6.238412537124779,4.564175703066903,-0.35568375203778974,-6.383254415018378,-0.10721133234583495,-0.08207719764565903,-1.3861707786691237,-2.5518498584919236,6.1487274563400725,-1.7933014926200463,-0.8837842070061848,13.205299172470378,-1.6045908423304591,-1.7757030308353468,0.9151251953891054,-3.525741086952386,2.7974282966910717,1.5703698592039395,-6.62103915944703,2.5516274984169574,-3.281023967250837,-1.4419825551776313,-1.7201455006560988,0.41577438512460735,-1.4738487405996725,-0.038545304595390864,7.629679859491655,-1.6968040959825237,-5.223237777994856,-0.9268443133732963,-0.15823025982667585,26.667964614644376,-12.778074588978285,3.241251877798368,0.8421678492456061,-1.334178289018501,-0.26264162492435694,0.10435761831076698,-16.269390948823048,-17.502192822165547,-44.5103414302719,-0.27943678131507477,0.32878781785255895,-0.726492426275537,58.303784075759104,-0.44236327600985015,-0.1318772788922741,2.9310996118902266,-0.10691292899476089,-5.601912514610869,-3.437655796238924,2.6307348347171926,25.40673408453567,-8.670350811119677,0.15668559289614714,-2.1600945890824783,0.3678486781442516,8.895612119343935,-1.2518159103762476,0.7944560819492431,-6.27194581095676,-1.2127891372239104,14.371163484475924,5.063930590007887,-2.913825107213314,-0.679765173658184,0.5439955048934267,3.0233452408783337,-2.8906280661660886,-1.96745946165762,92.74803214342404,2.300626819625589,0.7268407252428268,9.754659685054886,-4.798163210491855,-1.8441667383798568,-0.8190520992594194,-0.126420762658398,0.5323942050214383,1.386200392111592,3.1451554182738457,28.52205137394482,-2.8638404021746786,0.1890466245309087,-3.487871012404253,25.191245811055474,-5.755257058569661,-0.08923061400033902,-0.01803268763095638,-3.4841664780113133,0.04939790172996702,1.6588650452907014,4.56438467194585,31.780063184364014,-9.13779560749417,-4.181401282886926,-2.6655962244829086,-1.8758640935783304,-1.360198822942131,-0.9767975761144257,-0.6660029874946137,-0.3976451381335728,-0.1541837449285654,0.0759387851954488,0.30138232523891145,0.5296010522985728,0.7680003965585638,1.024996696362278,1.311325787736247,1.6420655061033322,2.0402637982741574,2.544242814169351,3.224135235279071,4.225233010839806,5.908055127321937,9.486644706630482,23.246340585764415,-50.190868704075896,-11.683892400954806,-6.38294891339573,-4.220819237940087,-3.0102617974791572,-2.20928321457912,-1.6178077320875583,-1.1433876453316967,-0.7357113347067343,-0.36283759029107454,-0.00046000367483682304,0.37460799204768097,0.7907644920059418,1.2919151679101835,1.961548113024187,2.996933277164039,5.032284154301183,11.958173208161744,-41.78452072821022,-7.499065322879309,-3.9303436868242847,-2.494565254016437,-1.6756783649336633,-1.1186549363696763,-0.6975221016287659,-0.3578157086259487,-0.07435142053445827,0.1632761654704497,0.35676239238740615,0.502559849193081,0.5948723036796864,0.6286776856135398,0.6022119604827005,0.5179448116841203,0.3816109898904094,0.1998437447945607,-0.022554625511472016,-0.2850549851740108,-0.593778168984653,-0.9650368612815721,-1.432931990293838,-2.0688183628330727,-3.040219070263347,-4.844391844312769,-9.892410233557861,-267.460943423898,10.80581621106503,5.144698276389366,3.227132896317545,2.2152492876797494,1.5582848008933117,1.0739959089141735,0.6837345647437041,0.3471056924283276,0.04026125625147356,-0.2528899844567285,-0.5448900324080672,-0.8471736175647245,-1.1719248449487378,-1.5340440998777252,-1.9539341922472289,-2.462299173677911,-3.109604641365162,-3.9871540134652634,-5.281330030945192,-7.444239921426369,-11.93556284586366,-27.584576494735646,106.518129298038,18.492326473392787,10.13617430895218,6.94691579238497,5.240596034889289,4.162371987867286,3.4079075409311677,2.8414711144593343,2.393185395501397,2.0232122012788096,1.706966484339413,1.4282164655086853,1.175534223727748,0.9402996243177922,0.7154575927232666,0.49462301712591916,0.27127705517426837,0.03781351828236079,-0.21593293885527912,-0.505469961459748,-0.8578611214981575,-1.328250480351972,-2.055494760933989,-3.5395684994964496,-10.293760578339532,8.51890377733987,1.870586222212406,-0.28400173480451096,16.09499634669887,4.053820189104478,6.048200934910195,2.0214321217710056,1.1449349704011622,-0.7283458466824311,3.752197218100815,0.22121164756679607,-1.1783741286015037,-3.138021264697201,-10.140698473779901,16.632816669295863,4.722958397537993,2.546105730671669,1.4883804834355758,0.7478166718477607,0.07194209885418638,-0.7639748307137002,-2.656578381567123,6.7644406141587305,-2.2831913906768317,27.821831726283918,5.921584784331584,5.4569153985199135,-0.8965030669442645,-6.227179181191937,7.226235131340536,2.0608846850226565,0.5538612965882084,-0.9631255391606465,6.205954045484423,-3.7105844247903175,0.2713890906462195,-1.0424959658465491,27.670028289796377,1.6550983520796565,-0.598193901028227,-0.02506173914420664,4.430509954435533,-3.0311688609780285,2.2749603275950787,-1.5929316260965167,-2.103908096975328,-3.7345473307285246,0.7218807909428973,0.3113709622038334,-6.561411534524374,-1.3162800580676868,-0.2686547830355802,-0.8218230766339994,-3.910144565865029,-5.285026433148234,-0.7282084317019364,1.082325173258667,0.8680717503767226,-9.351716380262484,-1.4708888017806738,-13.042421891219849,-0.6404759725392831,-1.116605118356534,4.672495617983109,4.135331353930421,0.15992834219822566,-5.825281702025604,12.331362510801775,-4.860597180834381,1.9739887469078126,-5.061012000694735,43.69874558574038,-4.286925392802849,1.6574643023742797,2.8805566001791365,-11.975016675558814,1.2465398394483356,10.97578638788721,0.6623077872340407,145.05388788425708,3.50632648192985,0.6981158298828806,17.751758322768318,17.615468551677353,-0.006776007855598251,-6.204219674499376,-5.869524810613087,9.217469629999544,3.79715670221603,-3.9223975053801317,-0.16475147873425033,0.856762658814797,-6.33275351916858,0.7698211277259246,254.83334165018474,2.6891024895855424,-7.966307205266579,1.8897577857579355,-1.805941983561572,-1.6358578147884164,-60.679928853457064,-1.652724362868412,116.70553650643751,2.3274787686857823,0.08954991869785095,-18.76445879013815,1.271662724129792,-0.2544039084065881,2.4079098640949965,-0.8928849360256998,-3.9080246431091417,208.6012225933087,4.389336213631638,1.759360854366974,0.47280249874395,-0.9081383285760473,-26.670268278469035,-1.7648239329136386,-1.209001941457432,0.852784899040674,0.5961882585302031,7.378771846911048,0.6812445205012343,-0.5310388574416322,-1.5833287767004967,-3.0168721828678917,-5.9527845308820915,-20.92503208971493,17.353795826863493,6.128455619147841,3.5399866228549115,2.290302333252097,1.4825018202999278,0.8539342514539677,0.28208606236927514,-0.33481152869283,-1.1835842859851164,-3.0940815930257095,54.098602574804374,1.5941566968967233,-1.5417794229896664,0.23004352334846478,2.337087097660955,0.7527862654964751,-3.107847539947365,-2.0402460646857774,0.5436230281212001,4.234773297279242,-0.31027541037452394,-2.9982349202815186,-345.58819650685194,4.379173321270854,2.077864808743653,1.179247053323015,0.6372558728487896,0.23988111604057083,-0.08572937114144638,-0.37229366808874564,-0.63733479474898,-0.8916129006958936,-1.1425779747824647,-1.3960037748111969,-1.6568674726222143,-1.9298928976206724,-2.219945039405187,-2.5323739542489037,-2.873371716471427,-3.2503974845243753,-3.672734028226866,-4.152264484528821,-4.704608635640789,-5.350852926113518,-6.120289692938244,-7.054941944154025,-8.217410105332425,-9.705294069276249,-11.67967210305069,-14.426729777872275,-18.50840000426666,-25.199552749559246,-38.14284616460491,-73.60573380194701,-569.682693351531,107.54517738043518,51.043190832690094,34.326477220452325,26.36860953070074,21.755603267731345,18.77919235347369,16.730472743125222,15.26328120166297,14.189460884914114,13.398980837086826,12.82435948427718,12.423256110590156,12.169392597471253,12.04768430274004,12.051730385977967,12.182829888374846,12.450224539850963,12.87264857933576,13.48168847520835,14.328155874104132,15.494133269269359,17.11681713096725,19.43957350093318,22.934263948040034,28.645320020089994,39.42646597036846,66.82767261770158,269.8523101843337,-118.7633986807662,-46.66532385592978,-28.29274266718522,-19.920532787019518,-15.14291336738801,-12.060245001661189,-9.909476417725177,-8.324783113993762,-7.108897110221497,-6.14607885271641,-5.363951618538287,-4.714930336598855,-4.166432691091278,-3.695380091587704,-3.2849430139010747,-2.9225281633995635,-2.5984852253991426,-2.3052467005065758,-2.0367362700042593,-1.787946948969427,-1.554626853807685,-1.333030800400957,-1.119706540921642,-0.911287983021874,-0.7042643518531572,-0.4946810415082366,-0.2776962416318055,-0.046844902933068144,0.20731269770046848,0.4999392206830864,0.8582169676570437,1.3382161521053673,2.0816724862052256,3.5975261036677004,10.380183495613181,-9.252797295887271,-2.150125475061669,-0.12605661864304019,4.029543272513883,0.12234224796161625,-7.685631404378989,-0.37319870798482896,-2.9724846334170967,2.149527334771532,-3.0751198359248617,3.0306466458954273,-3.223162011374218,-0.5351774898899357,0.5890551355958494,1.7284516024751493,3.5931079769849634,9.544526037983742,-31.255318251332053,-6.105344676394741,-3.1736219699430004,-1.8971002488143247,-1.0756946201718252,-0.39442738369703906,0.33350795695924174,1.4886998496498187,9.008343665215722,-1.0073314771439987,0.5475512342177856,7.469365983346507,-1.857823136032353,-1.2943490495232788,1.6049704068681725,12.137439069069991,-4.973977175235712,-1.6706593063129882,-0.31952225912687865,1.3221158497092993,-3.4866930280133377,-1.547537011110963,0.25291483084492056,1.3619760017675826,-10.463636866504418,-1.2771395857917,0.8723375194700916,0.024166362527455812,-17.95273860286095,4.2463120499086315,-1.60118679022564,2.2553918652160796,-0.8935587050132225,7.602037808119163,-0.16371170165187857,-6.739141627005808,-33.47865051978018,3.6052092653702084,1.9604142445255337,3.7119943319774014,-9.569375115239199,-6.270351890937907,-9.086173709270476,1.5630072783538935,5.100984631779545,0.6419982939631819,-0.8799841141823035,-4.280920906035993,2.1226062557542327,4.389935874314625,-1.1630671280751184,0.7715226095990458,-0.19532481468293977,1.0400073492026147,-0.575409562400086,-0.25468663038747835,0.3594816398369944,0.2324107329192077,-1.2791948464399865,2.044224938012102,2.4396581560445085,-1.276025397801686,1.2909127886845737,0.7802315192827788,-1.632482547924458,-1.3250569737890612,0.008387667453097975,1.9517672347321384,52.246094766922155,0.16271392377095747,-1.2371854467886638,0.7249615057091883,14.27117190382821,-1.5229910126003836,-6.350984514189614,-116.84610670018579,0.8863380975987505,-0.26233193955650136,1.1438911567725418,0.7117713939069267,-1.2976678204381846,2.3730373168138086,-1.595269942441769,-0.07006211067706591,-3.6955338747808875,-0.2051899757256368,2.9483196457928917,1.3779183636701555,2.040382799786427,0.5773094556210219,-10.477174838666821,-1.4604675564432303,-0.07099242458201035,1.3584213088351609,22.472872185298947,0.29345153208604624,0.47366172124129874,-1.2045768221289703,-1.295989528917084,2.7543368199382883,-15.718130233305276,-2.779438643017677,-1.256076614886233,-0.4557287280885271,0.19514645538873504,0.9139698936728914,2.0444378252887025,5.755906212077808,-8.21575640960446,-1.0948338600178142,2.54629231672862,2.4204712140625975,-0.8422688803118102,-1.8363639771322593,3.4112406072108796,5.975002628850176,-0.9408192179695241,0.8275859593475939,2.7586070165172822,8.664680241330055,-23.903053193104622,-5.7322333482347405,-3.273913996183712,-2.2210012567420554,-1.595679190222851,-1.1567116619889308,-0.8146259950102678,-0.5278079726308748,-0.27361888420861163,-0.03804044748393397,0.1887661703738337,0.4146928716566862,0.6470390460178522,0.8935760264463416,1.1636855577066723,1.4699504805592452,1.8308218606717428,2.2756959339862606,2.855731065630559,3.670058760052256],\"yaxis\":\"y\",\"type\":\"scatter\"}],                        {\"template\":{\"data\":{\"histogram2dcontour\":[{\"type\":\"histogram2dcontour\",\"colorbar\":{\"outlinewidth\":0,\"ticks\":\"\"},\"colorscale\":[[0.0,\"#0d0887\"],[0.1111111111111111,\"#46039f\"],[0.2222222222222222,\"#7201a8\"],[0.3333333333333333,\"#9c179e\"],[0.4444444444444444,\"#bd3786\"],[0.5555555555555556,\"#d8576b\"],[0.6666666666666666,\"#ed7953\"],[0.7777777777777778,\"#fb9f3a\"],[0.8888888888888888,\"#fdca26\"],[1.0,\"#f0f921\"]]}],\"choropleth\":[{\"type\":\"choropleth\",\"colorbar\":{\"outlinewidth\":0,\"ticks\":\"\"}}],\"histogram2d\":[{\"type\":\"histogram2d\",\"colorbar\":{\"outlinewidth\":0,\"ticks\":\"\"},\"colorscale\":[[0.0,\"#0d0887\"],[0.1111111111111111,\"#46039f\"],[0.2222222222222222,\"#7201a8\"],[0.3333333333333333,\"#9c179e\"],[0.4444444444444444,\"#bd3786\"],[0.5555555555555556,\"#d8576b\"],[0.6666666666666666,\"#ed7953\"],[0.7777777777777778,\"#fb9f3a\"],[0.8888888888888888,\"#fdca26\"],[1.0,\"#f0f921\"]]}],\"heatmap\":[{\"type\":\"heatmap\",\"colorbar\":{\"outlinewidth\":0,\"ticks\":\"\"},\"colorscale\":[[0.0,\"#0d0887\"],[0.1111111111111111,\"#46039f\"],[0.2222222222222222,\"#7201a8\"],[0.3333333333333333,\"#9c179e\"],[0.4444444444444444,\"#bd3786\"],[0.5555555555555556,\"#d8576b\"],[0.6666666666666666,\"#ed7953\"],[0.7777777777777778,\"#fb9f3a\"],[0.8888888888888888,\"#fdca26\"],[1.0,\"#f0f921\"]]}],\"heatmapgl\":[{\"type\":\"heatmapgl\",\"colorbar\":{\"outlinewidth\":0,\"ticks\":\"\"},\"colorscale\":[[0.0,\"#0d0887\"],[0.1111111111111111,\"#46039f\"],[0.2222222222222222,\"#7201a8\"],[0.3333333333333333,\"#9c179e\"],[0.4444444444444444,\"#bd3786\"],[0.5555555555555556,\"#d8576b\"],[0.6666666666666666,\"#ed7953\"],[0.7777777777777778,\"#fb9f3a\"],[0.8888888888888888,\"#fdca26\"],[1.0,\"#f0f921\"]]}],\"contourcarpet\":[{\"type\":\"contourcarpet\",\"colorbar\":{\"outlinewidth\":0,\"ticks\":\"\"}}],\"contour\":[{\"type\":\"contour\",\"colorbar\":{\"outlinewidth\":0,\"ticks\":\"\"},\"colorscale\":[[0.0,\"#0d0887\"],[0.1111111111111111,\"#46039f\"],[0.2222222222222222,\"#7201a8\"],[0.3333333333333333,\"#9c179e\"],[0.4444444444444444,\"#bd3786\"],[0.5555555555555556,\"#d8576b\"],[0.6666666666666666,\"#ed7953\"],[0.7777777777777778,\"#fb9f3a\"],[0.8888888888888888,\"#fdca26\"],[1.0,\"#f0f921\"]]}],\"surface\":[{\"type\":\"surface\",\"colorbar\":{\"outlinewidth\":0,\"ticks\":\"\"},\"colorscale\":[[0.0,\"#0d0887\"],[0.1111111111111111,\"#46039f\"],[0.2222222222222222,\"#7201a8\"],[0.3333333333333333,\"#9c179e\"],[0.4444444444444444,\"#bd3786\"],[0.5555555555555556,\"#d8576b\"],[0.6666666666666666,\"#ed7953\"],[0.7777777777777778,\"#fb9f3a\"],[0.8888888888888888,\"#fdca26\"],[1.0,\"#f0f921\"]]}],\"mesh3d\":[{\"type\":\"mesh3d\",\"colorbar\":{\"outlinewidth\":0,\"ticks\":\"\"}}],\"scatter\":[{\"marker\":{\"line\":{\"color\":\"#283442\"}},\"type\":\"scatter\"}],\"parcoords\":[{\"type\":\"parcoords\",\"line\":{\"colorbar\":{\"outlinewidth\":0,\"ticks\":\"\"}}}],\"scatterpolargl\":[{\"type\":\"scatterpolargl\",\"marker\":{\"colorbar\":{\"outlinewidth\":0,\"ticks\":\"\"}}}],\"bar\":[{\"error_x\":{\"color\":\"#f2f5fa\"},\"error_y\":{\"color\":\"#f2f5fa\"},\"marker\":{\"line\":{\"color\":\"rgb(17,17,17)\",\"width\":0.5},\"pattern\":{\"fillmode\":\"overlay\",\"size\":10,\"solidity\":0.2}},\"type\":\"bar\"}],\"scattergeo\":[{\"type\":\"scattergeo\",\"marker\":{\"colorbar\":{\"outlinewidth\":0,\"ticks\":\"\"}}}],\"scatterpolar\":[{\"type\":\"scatterpolar\",\"marker\":{\"colorbar\":{\"outlinewidth\":0,\"ticks\":\"\"}}}],\"histogram\":[{\"marker\":{\"pattern\":{\"fillmode\":\"overlay\",\"size\":10,\"solidity\":0.2}},\"type\":\"histogram\"}],\"scattergl\":[{\"marker\":{\"line\":{\"color\":\"#283442\"}},\"type\":\"scattergl\"}],\"scatter3d\":[{\"type\":\"scatter3d\",\"line\":{\"colorbar\":{\"outlinewidth\":0,\"ticks\":\"\"}},\"marker\":{\"colorbar\":{\"outlinewidth\":0,\"ticks\":\"\"}}}],\"scattermapbox\":[{\"type\":\"scattermapbox\",\"marker\":{\"colorbar\":{\"outlinewidth\":0,\"ticks\":\"\"}}}],\"scatterternary\":[{\"type\":\"scatterternary\",\"marker\":{\"colorbar\":{\"outlinewidth\":0,\"ticks\":\"\"}}}],\"scattercarpet\":[{\"type\":\"scattercarpet\",\"marker\":{\"colorbar\":{\"outlinewidth\":0,\"ticks\":\"\"}}}],\"carpet\":[{\"aaxis\":{\"endlinecolor\":\"#A2B1C6\",\"gridcolor\":\"#506784\",\"linecolor\":\"#506784\",\"minorgridcolor\":\"#506784\",\"startlinecolor\":\"#A2B1C6\"},\"baxis\":{\"endlinecolor\":\"#A2B1C6\",\"gridcolor\":\"#506784\",\"linecolor\":\"#506784\",\"minorgridcolor\":\"#506784\",\"startlinecolor\":\"#A2B1C6\"},\"type\":\"carpet\"}],\"table\":[{\"cells\":{\"fill\":{\"color\":\"#506784\"},\"line\":{\"color\":\"rgb(17,17,17)\"}},\"header\":{\"fill\":{\"color\":\"#2a3f5f\"},\"line\":{\"color\":\"rgb(17,17,17)\"}},\"type\":\"table\"}],\"barpolar\":[{\"marker\":{\"line\":{\"color\":\"rgb(17,17,17)\",\"width\":0.5},\"pattern\":{\"fillmode\":\"overlay\",\"size\":10,\"solidity\":0.2}},\"type\":\"barpolar\"}],\"pie\":[{\"automargin\":true,\"type\":\"pie\"}]},\"layout\":{\"autotypenumbers\":\"strict\",\"colorway\":[\"#636efa\",\"#EF553B\",\"#00cc96\",\"#ab63fa\",\"#FFA15A\",\"#19d3f3\",\"#FF6692\",\"#B6E880\",\"#FF97FF\",\"#FECB52\"],\"font\":{\"color\":\"#f2f5fa\"},\"hovermode\":\"closest\",\"hoverlabel\":{\"align\":\"left\"},\"paper_bgcolor\":\"rgb(17,17,17)\",\"plot_bgcolor\":\"rgb(17,17,17)\",\"polar\":{\"bgcolor\":\"rgb(17,17,17)\",\"angularaxis\":{\"gridcolor\":\"#506784\",\"linecolor\":\"#506784\",\"ticks\":\"\"},\"radialaxis\":{\"gridcolor\":\"#506784\",\"linecolor\":\"#506784\",\"ticks\":\"\"}},\"ternary\":{\"bgcolor\":\"rgb(17,17,17)\",\"aaxis\":{\"gridcolor\":\"#506784\",\"linecolor\":\"#506784\",\"ticks\":\"\"},\"baxis\":{\"gridcolor\":\"#506784\",\"linecolor\":\"#506784\",\"ticks\":\"\"},\"caxis\":{\"gridcolor\":\"#506784\",\"linecolor\":\"#506784\",\"ticks\":\"\"}},\"coloraxis\":{\"colorbar\":{\"outlinewidth\":0,\"ticks\":\"\"}},\"colorscale\":{\"sequential\":[[0.0,\"#0d0887\"],[0.1111111111111111,\"#46039f\"],[0.2222222222222222,\"#7201a8\"],[0.3333333333333333,\"#9c179e\"],[0.4444444444444444,\"#bd3786\"],[0.5555555555555556,\"#d8576b\"],[0.6666666666666666,\"#ed7953\"],[0.7777777777777778,\"#fb9f3a\"],[0.8888888888888888,\"#fdca26\"],[1.0,\"#f0f921\"]],\"sequentialminus\":[[0.0,\"#0d0887\"],[0.1111111111111111,\"#46039f\"],[0.2222222222222222,\"#7201a8\"],[0.3333333333333333,\"#9c179e\"],[0.4444444444444444,\"#bd3786\"],[0.5555555555555556,\"#d8576b\"],[0.6666666666666666,\"#ed7953\"],[0.7777777777777778,\"#fb9f3a\"],[0.8888888888888888,\"#fdca26\"],[1.0,\"#f0f921\"]],\"diverging\":[[0,\"#8e0152\"],[0.1,\"#c51b7d\"],[0.2,\"#de77ae\"],[0.3,\"#f1b6da\"],[0.4,\"#fde0ef\"],[0.5,\"#f7f7f7\"],[0.6,\"#e6f5d0\"],[0.7,\"#b8e186\"],[0.8,\"#7fbc41\"],[0.9,\"#4d9221\"],[1,\"#276419\"]]},\"xaxis\":{\"gridcolor\":\"#283442\",\"linecolor\":\"#506784\",\"ticks\":\"\",\"title\":{\"standoff\":15},\"zerolinecolor\":\"#283442\",\"automargin\":true,\"zerolinewidth\":2},\"yaxis\":{\"gridcolor\":\"#283442\",\"linecolor\":\"#506784\",\"ticks\":\"\",\"title\":{\"standoff\":15},\"zerolinecolor\":\"#283442\",\"automargin\":true,\"zerolinewidth\":2},\"scene\":{\"xaxis\":{\"backgroundcolor\":\"rgb(17,17,17)\",\"gridcolor\":\"#506784\",\"linecolor\":\"#506784\",\"showbackground\":true,\"ticks\":\"\",\"zerolinecolor\":\"#C8D4E3\",\"gridwidth\":2},\"yaxis\":{\"backgroundcolor\":\"rgb(17,17,17)\",\"gridcolor\":\"#506784\",\"linecolor\":\"#506784\",\"showbackground\":true,\"ticks\":\"\",\"zerolinecolor\":\"#C8D4E3\",\"gridwidth\":2},\"zaxis\":{\"backgroundcolor\":\"rgb(17,17,17)\",\"gridcolor\":\"#506784\",\"linecolor\":\"#506784\",\"showbackground\":true,\"ticks\":\"\",\"zerolinecolor\":\"#C8D4E3\",\"gridwidth\":2}},\"shapedefaults\":{\"line\":{\"color\":\"#f2f5fa\"}},\"annotationdefaults\":{\"arrowcolor\":\"#f2f5fa\",\"arrowhead\":0,\"arrowwidth\":1},\"geo\":{\"bgcolor\":\"rgb(17,17,17)\",\"landcolor\":\"rgb(17,17,17)\",\"subunitcolor\":\"#506784\",\"showland\":true,\"showlakes\":true,\"lakecolor\":\"rgb(17,17,17)\"},\"title\":{\"x\":0.05},\"updatemenudefaults\":{\"bgcolor\":\"#506784\",\"borderwidth\":0},\"sliderdefaults\":{\"bgcolor\":\"#C8D4E3\",\"borderwidth\":1,\"bordercolor\":\"rgb(17,17,17)\",\"tickwidth\":0},\"mapbox\":{\"style\":\"dark\"}}},\"xaxis\":{\"anchor\":\"y\",\"domain\":[0.0,1.0],\"title\":{\"text\":\"x\"}},\"yaxis\":{\"anchor\":\"x\",\"domain\":[0.0,1.0],\"title\":{\"text\":\"y\"}},\"legend\":{\"tracegroupgap\":0},\"title\":{\"text\":\"\\u041d\\u0430 \\u043f\\u0440\\u043e\\u043c\\u0456\\u0436\\u043a\\u0443 [\\u22122\\ud835\\udf0b;2\\ud835\\udf0b] \\u0444\\u0443\\u043d\\u043a\\u0446\\u0456\\u044f \\ud835\\udc66=2\\ud835\\udc61\\ud835\\udc54((1\\u002f2)\\ud835\\udc65+\\ud835\\udf0b\\u002f\\ud835\\udc66)\",\"x\":0.5}},                        {\"responsive\": true}                    ).then(function(){\n                            \nvar gd = document.getElementById('70ed2266-a3fc-49e6-b7bb-6a82ab62b14e');\nvar x = new MutationObserver(function (mutations, observer) {{\n        var display = window.getComputedStyle(gd).display;\n        if (!display || display === 'none') {{\n            console.log([gd, 'removed!']);\n            Plotly.purge(gd);\n            observer.disconnect();\n        }}\n}});\n\n// Listen for the removal of the full notebook cells\nvar notebookContainer = gd.closest('#notebook-container');\nif (notebookContainer) {{\n    x.observe(notebookContainer, {childList: true});\n}}\n\n// Listen for the clearing of the current output cell\nvar outputEl = gd.closest('.output');\nif (outputEl) {{\n    x.observe(outputEl, {childList: true});\n}}\n\n                        })                };                });            </script>        </div>"
     },
     "metadata": {},
     "output_type": "display_data"
    }
   ],
   "source": [
    "# Генерація значень x на проміжку [−2π, 2π]\n",
    "x = np.linspace(-2 * np.pi, 2 * np.pi, 1000)\n",
    "\n",
    "# Обчислення значень y за заданою функцією\n",
    "y = 2 * np.tan((1/2) * x + (np.pi/y))\n",
    "\n",
    "fig = px.line(x=x, y=y, title='На проміжку [−2𝜋;2𝜋] функція 𝑦=2𝑡𝑔((1/2)𝑥+𝜋/𝑦)')\n",
    "\n",
    "fig.update_layout(title_x=0.5)\n",
    "\n",
    "fig.show()"
   ],
   "metadata": {
    "collapsed": false,
    "ExecuteTime": {
     "end_time": "2023-10-27T14:02:34.090583Z",
     "start_time": "2023-10-27T14:02:34.084761Z"
    }
   },
   "id": "8ea2e03d7a844606"
  },
  {
   "cell_type": "raw",
   "source": [
    "Висновок: візуалізація за допомогою Plotly - це потужний інструмент для створення інтерактивних графіків та\n",
    " візуалізації даних у Python. Plotly дозволяє користувачам створювати багато різних типів графіків,\n",
    " включаючи лінійні,кругові,гістограми та 3D-графіки.Він має зручний інтерфейс для створення \n",
    " графіків і підтримує інтерактивність для полегшення розуміння даних."
   ],
   "metadata": {
    "collapsed": false
   },
   "id": "39d7646d046609e3"
  }
 ],
 "metadata": {
  "kernelspec": {
   "display_name": "Python 3",
   "language": "python",
   "name": "python3"
  },
  "language_info": {
   "codemirror_mode": {
    "name": "ipython",
    "version": 2
   },
   "file_extension": ".py",
   "mimetype": "text/x-python",
   "name": "python",
   "nbconvert_exporter": "python",
   "pygments_lexer": "ipython2",
   "version": "2.7.6"
  }
 },
 "nbformat": 4,
 "nbformat_minor": 5
}
