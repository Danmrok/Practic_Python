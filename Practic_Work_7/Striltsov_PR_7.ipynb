{
 "cells": [
  {
   "cell_type": "raw",
   "source": [
    "Практична робота 7. Аналіз даних даних і візуалізація Pyspark\n",
    "Завдання 1\n",
    "Скачайте датасет Amazon Top 50 Bestselling Books 2009 – 2019, що\n",
    "знаходиться за посиланням"
   ],
   "metadata": {
    "collapsed": false
   },
   "id": "6ae830dedece75d4"
  },
  {
   "cell_type": "code",
   "execution_count": 29,
   "outputs": [],
   "source": [
    "from pyspark.sql import SparkSession\n",
    "from pyspark.sql.functions import col\n",
    "from pyspark.sql.types import DoubleType\n",
    "import matplotlib.pyplot as plt"
   ],
   "metadata": {
    "collapsed": false,
    "ExecuteTime": {
     "end_time": "2023-11-23T18:37:33.464179Z",
     "start_time": "2023-11-23T18:37:33.451083Z"
    }
   },
   "id": "11a3ce5188e244e7"
  },
  {
   "cell_type": "raw",
   "source": [
    "1. Виконайте наступні завдання:\n",
    "Прочитайте CSV файл spark.read.csv()"
   ],
   "metadata": {
    "collapsed": false
   },
   "id": "59cd62992bdea424"
  },
  {
   "cell_type": "code",
   "execution_count": 4,
   "outputs": [
    {
     "name": "stdout",
     "output_type": "stream",
     "text": [
      "+--------------------+--------------------+-----------+-------+-----+----+-----------+\n",
      "|                Name|              Author|User Rating|Reviews|Price|Year|      Genre|\n",
      "+--------------------+--------------------+-----------+-------+-----+----+-----------+\n",
      "|10-Day Green Smoo...|            JJ Smith|        4.7|  17350|    8|2016|Non Fiction|\n",
      "|   11/22/63: A Novel|        Stephen King|        4.6|   2052|   22|2011|    Fiction|\n",
      "|12 Rules for Life...|  Jordan B. Peterson|        4.7|  18979|   15|2018|Non Fiction|\n",
      "|1984 (Signet Clas...|       George Orwell|        4.7|  21424|    6|2017|    Fiction|\n",
      "|5,000 Awesome Fac...|National Geograph...|        4.8|   7665|   12|2019|Non Fiction|\n",
      "|A Dance with Drag...| George R. R. Martin|        4.4|  12643|   11|2011|    Fiction|\n",
      "|A Game of Thrones...| George R. R. Martin|        4.7|  19735|   30|2014|    Fiction|\n",
      "|A Gentleman in Mo...|         Amor Towles|        4.7|  19699|   15|2017|    Fiction|\n",
      "|A Higher Loyalty:...|         James Comey|        4.7|   5983|    3|2018|Non Fiction|\n",
      "|A Man Called Ove:...|     Fredrik Backman|        4.6|  23848|    8|2016|    Fiction|\n",
      "|A Man Called Ove:...|     Fredrik Backman|        4.6|  23848|    8|2017|    Fiction|\n",
      "|A Patriot's Histo...|    Larry Schweikart|        4.6|    460|    2|2010|Non Fiction|\n",
      "|A Stolen Life: A ...|       Jaycee Dugard|        4.6|   4149|   32|2011|Non Fiction|\n",
      "|A Wrinkle in Time...|   Madeleine L'Engle|        4.5|   5153|    5|2018|    Fiction|\n",
      "|Act Like a Lady, ...|        Steve Harvey|        4.6|   5013|   17|2009|Non Fiction|\n",
      "|Adult Coloring Bo...|Adult Coloring Bo...|        4.5|   2313|    4|2016|Non Fiction|\n",
      "|Adult Coloring Bo...|  Blue Star Coloring|        4.6|   2925|    6|2015|Non Fiction|\n",
      "|Adult Coloring Bo...|  Blue Star Coloring|        4.4|   2951|    6|2015|Non Fiction|\n",
      "|Adult Coloring Bo...|Coloring Books fo...|        4.5|   2426|    8|2015|Non Fiction|\n",
      "|  Alexander Hamilton|         Ron Chernow|        4.8|   9198|   13|2016|Non Fiction|\n",
      "+--------------------+--------------------+-----------+-------+-----+----+-----------+\n"
     ]
    }
   ],
   "source": [
    "# Створення сесії Spark\n",
    "spark = SparkSession.builder.appName(\"AmazonBooksAnalysis\").getOrCreate()\n",
    "\n",
    "\n",
    "df = spark.read.csv(\"bestsellers_with_categories.csv\", header=True)\n",
    "df.show()"
   ],
   "metadata": {
    "collapsed": false,
    "ExecuteTime": {
     "end_time": "2023-11-23T18:19:39.830189Z",
     "start_time": "2023-11-23T18:19:38.765530Z"
    }
   },
   "id": "8b6f8c55c3f859e8"
  },
  {
   "cell_type": "raw",
   "source": [
    "2. Вивести схему даних за допомогою PrintSchema."
   ],
   "metadata": {
    "collapsed": false
   },
   "id": "d21cc37c7b8c5bb9"
  },
  {
   "cell_type": "code",
   "execution_count": 5,
   "outputs": [
    {
     "name": "stdout",
     "output_type": "stream",
     "text": [
      "root\n",
      " |-- Name: string (nullable = true)\n",
      " |-- Author: string (nullable = true)\n",
      " |-- User Rating: string (nullable = true)\n",
      " |-- Reviews: string (nullable = true)\n",
      " |-- Price: string (nullable = true)\n",
      " |-- Year: string (nullable = true)\n",
      " |-- Genre: string (nullable = true)\n"
     ]
    }
   ],
   "source": [
    "df.printSchema()"
   ],
   "metadata": {
    "collapsed": false,
    "ExecuteTime": {
     "end_time": "2023-11-23T18:20:39.240842Z",
     "start_time": "2023-11-23T18:20:39.202716Z"
    }
   },
   "id": "1096d7b3697b24bb"
  },
  {
   "cell_type": "raw",
   "source": [
    "3. Вивести назви стовпців і типи даних за допомогою dtypes"
   ],
   "metadata": {
    "collapsed": false
   },
   "id": "cef4eb85059796a8"
  },
  {
   "cell_type": "code",
   "execution_count": 6,
   "outputs": [
    {
     "data": {
      "text/plain": "[('Name', 'string'),\n ('Author', 'string'),\n ('User Rating', 'string'),\n ('Reviews', 'string'),\n ('Price', 'string'),\n ('Year', 'string'),\n ('Genre', 'string')]"
     },
     "execution_count": 6,
     "metadata": {},
     "output_type": "execute_result"
    }
   ],
   "source": [
    "df.dtypes"
   ],
   "metadata": {
    "collapsed": false,
    "ExecuteTime": {
     "end_time": "2023-11-23T18:21:09.870551Z",
     "start_time": "2023-11-23T18:21:09.858373Z"
    }
   },
   "id": "1f70d9a204e352e8"
  },
  {
   "cell_type": "raw",
   "source": [
    "4. Виведіть перші п'ять рядків (використовується метод head)"
   ],
   "metadata": {
    "collapsed": false
   },
   "id": "81247e46d882636f"
  },
  {
   "cell_type": "code",
   "execution_count": 7,
   "outputs": [
    {
     "name": "stdout",
     "output_type": "stream",
     "text": [
      "+--------------------+--------------------+-----------+-------+-----+----+-----------+\n",
      "|                Name|              Author|User Rating|Reviews|Price|Year|      Genre|\n",
      "+--------------------+--------------------+-----------+-------+-----+----+-----------+\n",
      "|10-Day Green Smoo...|            JJ Smith|        4.7|  17350|    8|2016|Non Fiction|\n",
      "|   11/22/63: A Novel|        Stephen King|        4.6|   2052|   22|2011|    Fiction|\n",
      "|12 Rules for Life...|  Jordan B. Peterson|        4.7|  18979|   15|2018|Non Fiction|\n",
      "|1984 (Signet Clas...|       George Orwell|        4.7|  21424|    6|2017|    Fiction|\n",
      "|5,000 Awesome Fac...|National Geograph...|        4.8|   7665|   12|2019|Non Fiction|\n",
      "+--------------------+--------------------+-----------+-------+-----+----+-----------+\n"
     ]
    }
   ],
   "source": [
    "df.show(5)"
   ],
   "metadata": {
    "collapsed": false,
    "ExecuteTime": {
     "end_time": "2023-11-23T18:21:35.052722Z",
     "start_time": "2023-11-23T18:21:34.733806Z"
    }
   },
   "id": "67e8be62c8548542"
  },
  {
   "cell_type": "raw",
   "source": [
    "5. Вивести перший рядок за допомогою first()"
   ],
   "metadata": {
    "collapsed": false
   },
   "id": "6458127be34e262b"
  },
  {
   "cell_type": "code",
   "execution_count": 8,
   "outputs": [
    {
     "data": {
      "text/plain": "Row(Name='10-Day Green Smoothie Cleanse', Author='JJ Smith', User Rating='4.7', Reviews='17350', Price='8', Year='2016', Genre='Non Fiction')"
     },
     "execution_count": 8,
     "metadata": {},
     "output_type": "execute_result"
    }
   ],
   "source": [
    "df.first()"
   ],
   "metadata": {
    "collapsed": false,
    "ExecuteTime": {
     "end_time": "2023-11-23T18:22:13.658598Z",
     "start_time": "2023-11-23T18:22:13.460054Z"
    }
   },
   "id": "3c5132962bf67fbf"
  },
  {
   "cell_type": "raw",
   "source": [
    "6. Зробіть опис датасету за допомогою describe()"
   ],
   "metadata": {
    "collapsed": false
   },
   "id": "93a4a411e5410262"
  },
  {
   "cell_type": "code",
   "execution_count": 9,
   "outputs": [
    {
     "name": "stderr",
     "output_type": "stream",
     "text": [
      "23/11/23 20:26:01 WARN SparkStringUtils: Truncated the string representation of a plan since it was too large. This behavior can be adjusted by setting 'spark.sql.debug.maxToStringFields'.\n",
      "                                                                                \r"
     ]
    },
    {
     "name": "stdout",
     "output_type": "stream",
     "text": [
      "+-------+--------------------+----------------+-------------------+------------------+------------------+------------------+-----------+\n",
      "|summary|                Name|          Author|        User Rating|           Reviews|             Price|              Year|      Genre|\n",
      "+-------+--------------------+----------------+-------------------+------------------+------------------+------------------+-----------+\n",
      "|  count|                 550|             550|                550|               550|               550|               550|        550|\n",
      "|   mean|                NULL|            NULL|  4.618363636363641|11953.281818181818|              13.1|            2014.0|       NULL|\n",
      "| stddev|                NULL|            NULL|0.22698036502519656|11731.132017431892|10.842261978422364|3.1651563841692782|       NULL|\n",
      "|    min|\"The Plant Parado...|Abraham Verghese|                3.3|             10009|                 0|              2009|    Fiction|\n",
      "|    max|You Are a Badass:...|    Zhi Gang Sha|                4.9|              9967|                 9|              2019|Non Fiction|\n",
      "+-------+--------------------+----------------+-------------------+------------------+------------------+------------------+-----------+\n"
     ]
    }
   ],
   "source": [
    "df.describe().show()"
   ],
   "metadata": {
    "collapsed": false,
    "ExecuteTime": {
     "end_time": "2023-11-23T18:26:04.303812Z",
     "start_time": "2023-11-23T18:26:00.710326Z"
    }
   },
   "id": "51dd23e1e30bff01"
  },
  {
   "cell_type": "raw",
   "source": [
    "7. Виведіть список стовпців за допомогою columns()"
   ],
   "metadata": {
    "collapsed": false
   },
   "id": "cd1bf26c1bf52303"
  },
  {
   "cell_type": "code",
   "execution_count": 10,
   "outputs": [
    {
     "data": {
      "text/plain": "['Name', 'Author', 'User Rating', 'Reviews', 'Price', 'Year', 'Genre']"
     },
     "execution_count": 10,
     "metadata": {},
     "output_type": "execute_result"
    }
   ],
   "source": [
    "df.columns"
   ],
   "metadata": {
    "collapsed": false,
    "ExecuteTime": {
     "end_time": "2023-11-23T18:26:35.196615Z",
     "start_time": "2023-11-23T18:26:35.182718Z"
    }
   },
   "id": "c45b8e9b803b5400"
  },
  {
   "cell_type": "raw",
   "source": [
    "8. Виведіть загальну кількість рядків даних за допомогою count()"
   ],
   "metadata": {
    "collapsed": false
   },
   "id": "c4f54cf0e25777aa"
  },
  {
   "cell_type": "code",
   "execution_count": 11,
   "outputs": [
    {
     "data": {
      "text/plain": "550"
     },
     "execution_count": 11,
     "metadata": {},
     "output_type": "execute_result"
    }
   ],
   "source": [
    "df.count()"
   ],
   "metadata": {
    "collapsed": false,
    "ExecuteTime": {
     "end_time": "2023-11-23T18:26:39.959586Z",
     "start_time": "2023-11-23T18:26:39.432449Z"
    }
   },
   "id": "b5012c7548df7530"
  },
  {
   "cell_type": "raw",
   "source": [
    "9. Перевірте, чи у всіх рядків вистачає даних. Якщо є пропуски, замінить\n",
    "їх на NaN, потім тип даних на числовий."
   ],
   "metadata": {
    "collapsed": false
   },
   "id": "756e983c9d0bd5ff"
  },
  {
   "cell_type": "code",
   "execution_count": 14,
   "outputs": [
    {
     "name": "stdout",
     "output_type": "stream",
     "text": [
      "+--------------------+--------------------+-----------+-------+-----+----+-----------+\n",
      "|                Name|              Author|User Rating|reviews|Price|Year|      Genre|\n",
      "+--------------------+--------------------+-----------+-------+-----+----+-----------+\n",
      "|10-Day Green Smoo...|            JJ Smith|        4.7|17350.0|  8.0|2016|Non Fiction|\n",
      "|   11/22/63: A Novel|        Stephen King|        4.6| 2052.0| 22.0|2011|    Fiction|\n",
      "|12 Rules for Life...|  Jordan B. Peterson|        4.7|18979.0| 15.0|2018|Non Fiction|\n",
      "|1984 (Signet Clas...|       George Orwell|        4.7|21424.0|  6.0|2017|    Fiction|\n",
      "|5,000 Awesome Fac...|National Geograph...|        4.8| 7665.0| 12.0|2019|Non Fiction|\n",
      "|A Dance with Drag...| George R. R. Martin|        4.4|12643.0| 11.0|2011|    Fiction|\n",
      "|A Game of Thrones...| George R. R. Martin|        4.7|19735.0| 30.0|2014|    Fiction|\n",
      "|A Gentleman in Mo...|         Amor Towles|        4.7|19699.0| 15.0|2017|    Fiction|\n",
      "|A Higher Loyalty:...|         James Comey|        4.7| 5983.0|  3.0|2018|Non Fiction|\n",
      "|A Man Called Ove:...|     Fredrik Backman|        4.6|23848.0|  8.0|2016|    Fiction|\n",
      "|A Man Called Ove:...|     Fredrik Backman|        4.6|23848.0|  8.0|2017|    Fiction|\n",
      "|A Patriot's Histo...|    Larry Schweikart|        4.6|  460.0|  2.0|2010|Non Fiction|\n",
      "|A Stolen Life: A ...|       Jaycee Dugard|        4.6| 4149.0| 32.0|2011|Non Fiction|\n",
      "|A Wrinkle in Time...|   Madeleine L'Engle|        4.5| 5153.0|  5.0|2018|    Fiction|\n",
      "|Act Like a Lady, ...|        Steve Harvey|        4.6| 5013.0| 17.0|2009|Non Fiction|\n",
      "|Adult Coloring Bo...|Adult Coloring Bo...|        4.5| 2313.0|  4.0|2016|Non Fiction|\n",
      "|Adult Coloring Bo...|  Blue Star Coloring|        4.6| 2925.0|  6.0|2015|Non Fiction|\n",
      "|Adult Coloring Bo...|  Blue Star Coloring|        4.4| 2951.0|  6.0|2015|Non Fiction|\n",
      "|Adult Coloring Bo...|Coloring Books fo...|        4.5| 2426.0|  8.0|2015|Non Fiction|\n",
      "|  Alexander Hamilton|         Ron Chernow|        4.8| 9198.0| 13.0|2016|Non Fiction|\n",
      "+--------------------+--------------------+-----------+-------+-----+----+-----------+\n"
     ]
    }
   ],
   "source": [
    "df = df.na.fill(0)\n",
    "df = df.withColumn(\"reviews\", col(\"reviews\").cast(DoubleType()))\n",
    "df = df.withColumn(\"Price\", col(\"Price\").cast(DoubleType()))\n",
    "\n",
    "df.show()"
   ],
   "metadata": {
    "collapsed": false,
    "ExecuteTime": {
     "end_time": "2023-11-23T18:28:56.246684Z",
     "start_time": "2023-11-23T18:28:55.767805Z"
    }
   },
   "id": "b4ccb703704ad28a"
  },
  {
   "cell_type": "raw",
   "source": [
    "10. Замініть комірки з пропущеними значенями на середні за стовпцем. І\n",
    "тип даних на float. Про скільки книг зберігає дані датасет?"
   ],
   "metadata": {
    "collapsed": false
   },
   "id": "c4f7f0642d669e98"
  },
  {
   "cell_type": "code",
   "execution_count": 28,
   "outputs": [],
   "source": [
    "for column in df.columns:\n",
    "    if any(type(data_type) in (DoubleType, int) for data_type in df.select(column).dtypes):\n",
    "        mean_value = df.agg({column: \"mean\"}).collect()[0][0]\n",
    "        df = df.na.fill(mean_value, [column])\n",
    "        df = df.withColumn(column, col(column).cast(DoubleType()))"
   ],
   "metadata": {
    "collapsed": false,
    "ExecuteTime": {
     "end_time": "2023-11-23T18:36:04.082322Z",
     "start_time": "2023-11-23T18:36:03.982355Z"
    }
   },
   "id": "27c3bcfdad611f3a"
  },
  {
   "cell_type": "raw",
   "source": [
    "11. Змініть назви всіх колонок: назва з маленької букви, без пробілів через\n",
    "підкреслення."
   ],
   "metadata": {
    "collapsed": false
   },
   "id": "9e508e1bedf199e0"
  },
  {
   "cell_type": "code",
   "execution_count": 25,
   "outputs": [
    {
     "data": {
      "text/plain": "DataFrame[name: string, author: string, user_rating: string, reviews: double, price: double, year: string, genre: string]"
     },
     "execution_count": 25,
     "metadata": {},
     "output_type": "execute_result"
    }
   ],
   "source": [
    "df = df.toDF('name', 'author', 'user_rating', 'reviews', 'price', 'year', 'genre')\n",
    "df"
   ],
   "metadata": {
    "collapsed": false,
    "ExecuteTime": {
     "end_time": "2023-11-23T18:34:58.517621Z",
     "start_time": "2023-11-23T18:34:58.439933Z"
    }
   },
   "id": "4b92633a948aa3d2"
  },
  {
   "cell_type": "raw",
   "source": [
    "12. df.columns = ['name', 'author', 'user_rating', 'reviews', 'price', 'year', 'genre']"
   ],
   "metadata": {
    "collapsed": false
   },
   "id": "ae3c9f8bdb4a8666"
  },
  {
   "cell_type": "code",
   "execution_count": 26,
   "outputs": [
    {
     "name": "stdout",
     "output_type": "stream",
     "text": [
      "+--------------------+--------------------+-----------+-------+-----+----+-----------+\n",
      "|                name|              author|user_rating|reviews|price|year|      genre|\n",
      "+--------------------+--------------------+-----------+-------+-----+----+-----------+\n",
      "|10-Day Green Smoo...|            JJ Smith|        4.7|17350.0|  8.0|2016|Non Fiction|\n",
      "|   11/22/63: A Novel|        Stephen King|        4.6| 2052.0| 22.0|2011|    Fiction|\n",
      "|12 Rules for Life...|  Jordan B. Peterson|        4.7|18979.0| 15.0|2018|Non Fiction|\n",
      "|1984 (Signet Clas...|       George Orwell|        4.7|21424.0|  6.0|2017|    Fiction|\n",
      "|5,000 Awesome Fac...|National Geograph...|        4.8| 7665.0| 12.0|2019|Non Fiction|\n",
      "|A Dance with Drag...| George R. R. Martin|        4.4|12643.0| 11.0|2011|    Fiction|\n",
      "|A Game of Thrones...| George R. R. Martin|        4.7|19735.0| 30.0|2014|    Fiction|\n",
      "|A Gentleman in Mo...|         Amor Towles|        4.7|19699.0| 15.0|2017|    Fiction|\n",
      "|A Higher Loyalty:...|         James Comey|        4.7| 5983.0|  3.0|2018|Non Fiction|\n",
      "|A Man Called Ove:...|     Fredrik Backman|        4.6|23848.0|  8.0|2016|    Fiction|\n",
      "|A Man Called Ove:...|     Fredrik Backman|        4.6|23848.0|  8.0|2017|    Fiction|\n",
      "|A Patriot's Histo...|    Larry Schweikart|        4.6|  460.0|  2.0|2010|Non Fiction|\n",
      "|A Stolen Life: A ...|       Jaycee Dugard|        4.6| 4149.0| 32.0|2011|Non Fiction|\n",
      "|A Wrinkle in Time...|   Madeleine L'Engle|        4.5| 5153.0|  5.0|2018|    Fiction|\n",
      "|Act Like a Lady, ...|        Steve Harvey|        4.6| 5013.0| 17.0|2009|Non Fiction|\n",
      "|Adult Coloring Bo...|Adult Coloring Bo...|        4.5| 2313.0|  4.0|2016|Non Fiction|\n",
      "|Adult Coloring Bo...|  Blue Star Coloring|        4.6| 2925.0|  6.0|2015|Non Fiction|\n",
      "|Adult Coloring Bo...|  Blue Star Coloring|        4.4| 2951.0|  6.0|2015|Non Fiction|\n",
      "|Adult Coloring Bo...|Coloring Books fo...|        4.5| 2426.0|  8.0|2015|Non Fiction|\n",
      "|  Alexander Hamilton|         Ron Chernow|        4.8| 9198.0| 13.0|2016|Non Fiction|\n",
      "+--------------------+--------------------+-----------+-------+-----+----+-----------+\n"
     ]
    }
   ],
   "source": [
    "df = df.toDF('name', 'author', 'user_rating', 'reviews', 'price', 'year', 'genre')\n",
    "df.show()"
   ],
   "metadata": {
    "collapsed": false,
    "ExecuteTime": {
     "end_time": "2023-11-23T18:35:03.078656Z",
     "start_time": "2023-11-23T18:35:02.801729Z"
    }
   },
   "id": "76e58512a3489f59"
  },
  {
   "cell_type": "raw",
   "source": [
    "13. Знайдіть автора з найвищим рейтингом."
   ],
   "metadata": {
    "collapsed": false
   },
   "id": "e2f8916f7b8b30ab"
  },
  {
   "cell_type": "code",
   "execution_count": 18,
   "outputs": [
    {
     "data": {
      "text/plain": "'Bill Martin Jr.'"
     },
     "execution_count": 18,
     "metadata": {},
     "output_type": "execute_result"
    }
   ],
   "source": [
    "highest_rated_author = df.orderBy(col(\"user_rating\").desc()).first().author\n",
    "highest_rated_author"
   ],
   "metadata": {
    "collapsed": false,
    "ExecuteTime": {
     "end_time": "2023-11-23T18:31:14.434209Z",
     "start_time": "2023-11-23T18:31:13.911248Z"
    }
   },
   "id": "c3fe288813a67b82"
  },
  {
   "cell_type": "raw",
   "source": [
    "14. Знайдіть автора з найнижчим рейтингом."
   ],
   "metadata": {
    "collapsed": false
   },
   "id": "4a7943f2895cd418"
  },
  {
   "cell_type": "code",
   "execution_count": 19,
   "outputs": [
    {
     "data": {
      "text/plain": "'J.K. Rowling'"
     },
     "execution_count": 19,
     "metadata": {},
     "output_type": "execute_result"
    }
   ],
   "source": [
    "lowest_rated_author = df.orderBy(col(\"user_rating\").asc()).first().author\n",
    "lowest_rated_author"
   ],
   "metadata": {
    "collapsed": false,
    "ExecuteTime": {
     "end_time": "2023-11-23T18:31:21.126996Z",
     "start_time": "2023-11-23T18:31:20.830101Z"
    }
   },
   "id": "34f243214991ddc"
  },
  {
   "cell_type": "raw",
   "source": [
    "15. Знайдіть автора, що має найбільшу кількіть рецензій."
   ],
   "metadata": {
    "collapsed": false
   },
   "id": "c1e4678d7542df55"
  },
  {
   "cell_type": "code",
   "execution_count": 20,
   "outputs": [
    {
     "data": {
      "text/plain": "'Delia Owens'"
     },
     "execution_count": 20,
     "metadata": {},
     "output_type": "execute_result"
    }
   ],
   "source": [
    "most_reviewed_author = df.orderBy(col(\"reviews\").desc()).first().author\n",
    "most_reviewed_author"
   ],
   "metadata": {
    "collapsed": false,
    "ExecuteTime": {
     "end_time": "2023-11-23T18:31:29.850053Z",
     "start_time": "2023-11-23T18:31:29.650509Z"
    }
   },
   "id": "df1f906dce87f946"
  },
  {
   "cell_type": "raw",
   "source": [
    "16. Побудуйте гістограму рейтингу 10 найкращих книг (відібрати книги з\n",
    "найбільшим рейтингом)."
   ],
   "metadata": {
    "collapsed": false
   },
   "id": "6e9413c12da28a8f"
  },
  {
   "cell_type": "code",
   "execution_count": 32,
   "outputs": [
    {
     "data": {
      "text/plain": "<Figure size 640x480 with 1 Axes>",
      "image/png": "[encoded data removed]"
     },
     "metadata": {},
     "output_type": "display_data"
    }
   ],
   "source": [
    "top_10_books = df.orderBy(col(\"user_rating\").desc()).limit(10)\n",
    "# Збираємо рейтинги та назви книг з DataFrame\n",
    "data = top_10_books.select(\"name\", \"user_rating\").rdd.collect()\n",
    "\n",
    "# Розділяємо дані на імена та рейтинги\n",
    "name = [row.name for row in data]\n",
    "ratings = [float(row.user_rating) for row in data]\n",
    "\n",
    "# Створюємо гістограму з іменами книг на осі x\n",
    "plt.bar(name, ratings, color='skyblue')\n",
    "\n",
    "# Додаємо заголовок та підписи осей\n",
    "plt.title('Top 10 Books and Their Ratings')\n",
    "plt.xlabel('Book Title')\n",
    "plt.ylabel('Rating')\n",
    "\n",
    "# Повертаємо гістограму\n",
    "plt.show()"
   ],
   "metadata": {
    "collapsed": false,
    "ExecuteTime": {
     "end_time": "2023-11-23T18:44:15.481176Z",
     "start_time": "2023-11-23T18:44:14.968544Z"
    }
   },
   "id": "7a09f38db3ec393e"
  },
  {
   "cell_type": "raw",
   "source": [
    "17. Побудуйте матрицю кореляції для стовпчиків 'user_rating', 'reviews',\n",
    "'price'."
   ],
   "metadata": {
    "collapsed": false
   },
   "id": "7000ef22c87f131"
  },
  {
   "cell_type": "code",
   "execution_count": 22,
   "outputs": [
    {
     "data": {
      "text/plain": "             user_rating   reviews     price\nuser_rating     1.000000 -0.001729 -0.133086\nreviews        -0.001729  1.000000 -0.109182\nprice          -0.133086 -0.109182  1.000000",
      "text/html": "<div>\n<style scoped>\n    .dataframe tbody tr th:only-of-type {\n        vertical-align: middle;\n    }\n\n    .dataframe tbody tr th {\n        vertical-align: top;\n    }\n\n    .dataframe thead th {\n        text-align: right;\n    }\n</style>\n<table border=\"1\" class=\"dataframe\">\n  <thead>\n    <tr style=\"text-align: right;\">\n      <th></th>\n      <th>user_rating</th>\n      <th>reviews</th>\n      <th>price</th>\n    </tr>\n  </thead>\n  <tbody>\n    <tr>\n      <th>user_rating</th>\n      <td>1.000000</td>\n      <td>-0.001729</td>\n      <td>-0.133086</td>\n    </tr>\n    <tr>\n      <th>reviews</th>\n      <td>-0.001729</td>\n      <td>1.000000</td>\n      <td>-0.109182</td>\n    </tr>\n    <tr>\n      <th>price</th>\n      <td>-0.133086</td>\n      <td>-0.109182</td>\n      <td>1.000000</td>\n    </tr>\n  </tbody>\n</table>\n</div>"
     },
     "execution_count": 22,
     "metadata": {},
     "output_type": "execute_result"
    }
   ],
   "source": [
    "correlation_matrix = df.select('user_rating', 'reviews', 'price').toPandas().corr()\n",
    "correlation_matrix"
   ],
   "metadata": {
    "collapsed": false,
    "ExecuteTime": {
     "end_time": "2023-11-23T18:32:21.125269Z",
     "start_time": "2023-11-23T18:32:20.865581Z"
    }
   },
   "id": "13093fca7c5ff63a"
  },
  {
   "cell_type": "code",
   "execution_count": 33,
   "outputs": [],
   "source": [
    "# Команда для зупинення PySpark\n",
    "spark.stop()"
   ],
   "metadata": {
    "collapsed": false,
    "ExecuteTime": {
     "end_time": "2023-11-23T18:45:22.184263Z",
     "start_time": "2023-11-23T18:45:21.011284Z"
    }
   },
   "id": "e8945c4137ccfc85"
  },
  {
   "cell_type": "raw",
   "source": [
    "Висновок: Аналіз і візуалізація даних за допомогою PySpark допоможе вам виявити значущі тенденції та закономірності \n",
    "у великих масивах даних PySpark надає потужні інструменти для оброблення та агрегування даних на розподілених обчислювальних ресурсах,\n",
    " а візуалізації допоможуть вам отримати графічне представлення, яке допомагає краще зрозуміти результати.\n",
    "Такий підхід дає змогу ухвалювати обґрунтовані рішення та виділяти важливі аспекти великих обсягів даних."
   ],
   "metadata": {
    "collapsed": false
   },
   "id": "149ab92690bbda34"
  }
 ],
 "metadata": {
  "kernelspec": {
   "display_name": "Python 3",
   "language": "python",
   "name": "python3"
  },
  "language_info": {
   "codemirror_mode": {
    "name": "ipython",
    "version": 2
   },
   "file_extension": ".py",
   "mimetype": "text/x-python",
   "name": "python",
   "nbconvert_exporter": "python",
   "pygments_lexer": "ipython2",
   "version": "2.7.6"
  }
 },
 "nbformat": 4,
 "nbformat_minor": 5
}
