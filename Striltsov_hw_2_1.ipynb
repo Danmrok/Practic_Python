{
 "cells": [
  {
   "cell_type": "raw",
   "source": [
    "Завдання 1.  Загрузить датасет Kaggle : Global YouTube Statistics 2023 за посиланням "
   ],
   "metadata": {
    "collapsed": false
   },
   "id": "1e49e87f4ccfd6e3"
  },
  {
   "cell_type": "code",
   "execution_count": 1,
   "outputs": [],
   "source": [
    "import pandas as pd\n",
    "import matplotlib.pyplot as plt"
   ],
   "metadata": {
    "collapsed": false,
    "ExecuteTime": {
     "end_time": "2023-10-03T19:28:53.786771Z",
     "start_time": "2023-10-03T19:28:53.288607Z"
    }
   },
   "id": "7e75f90ed7ea30e4"
  },
  {
   "cell_type": "raw",
   "source": [
    "1. Прочитайте CSV файл (використовуйте метод read_csv): "
   ],
   "metadata": {
    "collapsed": false
   },
   "id": "a99ef796ff1b32e"
  },
  {
   "cell_type": "code",
   "execution_count": 2,
   "outputs": [
    {
     "data": {
      "text/plain": "     rank                    Youtuber  subscribers   video views  \\\n0       1                    T-Series    245000000  2.280000e+11   \n1       2              YouTube Movies    170000000  0.000000e+00   \n2       3                     MrBeast    166000000  2.836884e+10   \n3       4  Cocomelon - Nursery Rhymes    162000000  1.640000e+11   \n4       5                   SET India    159000000  1.480000e+11   \n..    ...                         ...          ...           ...   \n990   991               Natan por Aï¿     12300000  9.029610e+09   \n991   992    Free Fire India Official     12300000  1.674410e+09   \n992   993                       Panda     12300000  2.214684e+09   \n993   994                 RobTopGames     12300000  3.741235e+08   \n994   995                Make Joke Of     12300000  2.129774e+09   \n\n             category                       Title  uploads         Country  \\\n0               Music                    T-Series    20082           India   \n1    Film & Animation               youtubemovies        1   United States   \n2       Entertainment                     MrBeast      741   United States   \n3           Education  Cocomelon - Nursery Rhymes      966   United States   \n4               Shows                   SET India   116536           India   \n..                ...                         ...      ...             ...   \n990            Sports               Natan por Aï¿     1200          Brazil   \n991    People & Blogs    Free Fire India Official     1500           India   \n992               NaN                 HybridPanda     2452  United Kingdom   \n993            Gaming                 RobTopGames       39          Sweden   \n994            Comedy                Make Joke Of       62           India   \n\n    Abbreviation   channel_type  ...  subscribers_for_last_30_days  \\\n0             IN          Music  ...                     2000000.0   \n1             US          Games  ...                           NaN   \n2             US  Entertainment  ...                     8000000.0   \n3             US      Education  ...                     1000000.0   \n4             IN  Entertainment  ...                     1000000.0   \n..           ...            ...  ...                           ...   \n990           BR  Entertainment  ...                      700000.0   \n991           IN          Games  ...                      300000.0   \n992           GB          Games  ...                        1000.0   \n993           SE          Games  ...                      100000.0   \n994           IN         Comedy  ...                      100000.0   \n\n     created_year  created_month  created_date  \\\n0          2006.0            Mar          13.0   \n1          2006.0            Mar           5.0   \n2          2012.0            Feb          20.0   \n3          2006.0            Sep           1.0   \n4          2006.0            Sep          20.0   \n..            ...            ...           ...   \n990        2017.0            Feb          12.0   \n991        2018.0            Sep          14.0   \n992        2006.0            Sep          11.0   \n993        2012.0            May           9.0   \n994        2017.0            Aug           1.0   \n\n     Gross tertiary education enrollment (%)    Population  Unemployment rate  \\\n0                                       28.1  1.366418e+09               5.36   \n1                                       88.2  3.282395e+08              14.70   \n2                                       88.2  3.282395e+08              14.70   \n3                                       88.2  3.282395e+08              14.70   \n4                                       28.1  1.366418e+09               5.36   \n..                                       ...           ...                ...   \n990                                     51.3  2.125594e+08              12.08   \n991                                     28.1  1.366418e+09               5.36   \n992                                     60.0  6.683440e+07               3.85   \n993                                     67.0  1.028545e+07               6.48   \n994                                     28.1  1.366418e+09               5.36   \n\n     Urban_population   Latitude  Longitude  \n0         471031528.0  20.593684  78.962880  \n1         270663028.0  37.090240 -95.712891  \n2         270663028.0  37.090240 -95.712891  \n3         270663028.0  37.090240 -95.712891  \n4         471031528.0  20.593684  78.962880  \n..                ...        ...        ...  \n990       183241641.0 -14.235004 -51.925280  \n991       471031528.0  20.593684  78.962880  \n992        55908316.0  55.378051  -3.435973  \n993         9021165.0  60.128161  18.643501  \n994       471031528.0  20.593684  78.962880  \n\n[995 rows x 28 columns]",
      "text/html": "<div>\n<style scoped>\n    .dataframe tbody tr th:only-of-type {\n        vertical-align: middle;\n    }\n\n    .dataframe tbody tr th {\n        vertical-align: top;\n    }\n\n    .dataframe thead th {\n        text-align: right;\n    }\n</style>\n<table border=\"1\" class=\"dataframe\">\n  <thead>\n    <tr style=\"text-align: right;\">\n      <th></th>\n      <th>rank</th>\n      <th>Youtuber</th>\n      <th>subscribers</th>\n      <th>video views</th>\n      <th>category</th>\n      <th>Title</th>\n      <th>uploads</th>\n      <th>Country</th>\n      <th>Abbreviation</th>\n      <th>channel_type</th>\n      <th>...</th>\n      <th>subscribers_for_last_30_days</th>\n      <th>created_year</th>\n      <th>created_month</th>\n      <th>created_date</th>\n      <th>Gross tertiary education enrollment (%)</th>\n      <th>Population</th>\n      <th>Unemployment rate</th>\n      <th>Urban_population</th>\n      <th>Latitude</th>\n      <th>Longitude</th>\n    </tr>\n  </thead>\n  <tbody>\n    <tr>\n      <th>0</th>\n      <td>1</td>\n      <td>T-Series</td>\n      <td>245000000</td>\n      <td>2.280000e+11</td>\n      <td>Music</td>\n      <td>T-Series</td>\n      <td>20082</td>\n      <td>India</td>\n      <td>IN</td>\n      <td>Music</td>\n      <td>...</td>\n      <td>2000000.0</td>\n      <td>2006.0</td>\n      <td>Mar</td>\n      <td>13.0</td>\n      <td>28.1</td>\n      <td>1.366418e+09</td>\n      <td>5.36</td>\n      <td>471031528.0</td>\n      <td>20.593684</td>\n      <td>78.962880</td>\n    </tr>\n    <tr>\n      <th>1</th>\n      <td>2</td>\n      <td>YouTube Movies</td>\n      <td>170000000</td>\n      <td>0.000000e+00</td>\n      <td>Film &amp; Animation</td>\n      <td>youtubemovies</td>\n      <td>1</td>\n      <td>United States</td>\n      <td>US</td>\n      <td>Games</td>\n      <td>...</td>\n      <td>NaN</td>\n      <td>2006.0</td>\n      <td>Mar</td>\n      <td>5.0</td>\n      <td>88.2</td>\n      <td>3.282395e+08</td>\n      <td>14.70</td>\n      <td>270663028.0</td>\n      <td>37.090240</td>\n      <td>-95.712891</td>\n    </tr>\n    <tr>\n      <th>2</th>\n      <td>3</td>\n      <td>MrBeast</td>\n      <td>166000000</td>\n      <td>2.836884e+10</td>\n      <td>Entertainment</td>\n      <td>MrBeast</td>\n      <td>741</td>\n      <td>United States</td>\n      <td>US</td>\n      <td>Entertainment</td>\n      <td>...</td>\n      <td>8000000.0</td>\n      <td>2012.0</td>\n      <td>Feb</td>\n      <td>20.0</td>\n      <td>88.2</td>\n      <td>3.282395e+08</td>\n      <td>14.70</td>\n      <td>270663028.0</td>\n      <td>37.090240</td>\n      <td>-95.712891</td>\n    </tr>\n    <tr>\n      <th>3</th>\n      <td>4</td>\n      <td>Cocomelon - Nursery Rhymes</td>\n      <td>162000000</td>\n      <td>1.640000e+11</td>\n      <td>Education</td>\n      <td>Cocomelon - Nursery Rhymes</td>\n      <td>966</td>\n      <td>United States</td>\n      <td>US</td>\n      <td>Education</td>\n      <td>...</td>\n      <td>1000000.0</td>\n      <td>2006.0</td>\n      <td>Sep</td>\n      <td>1.0</td>\n      <td>88.2</td>\n      <td>3.282395e+08</td>\n      <td>14.70</td>\n      <td>270663028.0</td>\n      <td>37.090240</td>\n      <td>-95.712891</td>\n    </tr>\n    <tr>\n      <th>4</th>\n      <td>5</td>\n      <td>SET India</td>\n      <td>159000000</td>\n      <td>1.480000e+11</td>\n      <td>Shows</td>\n      <td>SET India</td>\n      <td>116536</td>\n      <td>India</td>\n      <td>IN</td>\n      <td>Entertainment</td>\n      <td>...</td>\n      <td>1000000.0</td>\n      <td>2006.0</td>\n      <td>Sep</td>\n      <td>20.0</td>\n      <td>28.1</td>\n      <td>1.366418e+09</td>\n      <td>5.36</td>\n      <td>471031528.0</td>\n      <td>20.593684</td>\n      <td>78.962880</td>\n    </tr>\n    <tr>\n      <th>...</th>\n      <td>...</td>\n      <td>...</td>\n      <td>...</td>\n      <td>...</td>\n      <td>...</td>\n      <td>...</td>\n      <td>...</td>\n      <td>...</td>\n      <td>...</td>\n      <td>...</td>\n      <td>...</td>\n      <td>...</td>\n      <td>...</td>\n      <td>...</td>\n      <td>...</td>\n      <td>...</td>\n      <td>...</td>\n      <td>...</td>\n      <td>...</td>\n      <td>...</td>\n      <td>...</td>\n    </tr>\n    <tr>\n      <th>990</th>\n      <td>991</td>\n      <td>Natan por Aï¿</td>\n      <td>12300000</td>\n      <td>9.029610e+09</td>\n      <td>Sports</td>\n      <td>Natan por Aï¿</td>\n      <td>1200</td>\n      <td>Brazil</td>\n      <td>BR</td>\n      <td>Entertainment</td>\n      <td>...</td>\n      <td>700000.0</td>\n      <td>2017.0</td>\n      <td>Feb</td>\n      <td>12.0</td>\n      <td>51.3</td>\n      <td>2.125594e+08</td>\n      <td>12.08</td>\n      <td>183241641.0</td>\n      <td>-14.235004</td>\n      <td>-51.925280</td>\n    </tr>\n    <tr>\n      <th>991</th>\n      <td>992</td>\n      <td>Free Fire India Official</td>\n      <td>12300000</td>\n      <td>1.674410e+09</td>\n      <td>People &amp; Blogs</td>\n      <td>Free Fire India Official</td>\n      <td>1500</td>\n      <td>India</td>\n      <td>IN</td>\n      <td>Games</td>\n      <td>...</td>\n      <td>300000.0</td>\n      <td>2018.0</td>\n      <td>Sep</td>\n      <td>14.0</td>\n      <td>28.1</td>\n      <td>1.366418e+09</td>\n      <td>5.36</td>\n      <td>471031528.0</td>\n      <td>20.593684</td>\n      <td>78.962880</td>\n    </tr>\n    <tr>\n      <th>992</th>\n      <td>993</td>\n      <td>Panda</td>\n      <td>12300000</td>\n      <td>2.214684e+09</td>\n      <td>NaN</td>\n      <td>HybridPanda</td>\n      <td>2452</td>\n      <td>United Kingdom</td>\n      <td>GB</td>\n      <td>Games</td>\n      <td>...</td>\n      <td>1000.0</td>\n      <td>2006.0</td>\n      <td>Sep</td>\n      <td>11.0</td>\n      <td>60.0</td>\n      <td>6.683440e+07</td>\n      <td>3.85</td>\n      <td>55908316.0</td>\n      <td>55.378051</td>\n      <td>-3.435973</td>\n    </tr>\n    <tr>\n      <th>993</th>\n      <td>994</td>\n      <td>RobTopGames</td>\n      <td>12300000</td>\n      <td>3.741235e+08</td>\n      <td>Gaming</td>\n      <td>RobTopGames</td>\n      <td>39</td>\n      <td>Sweden</td>\n      <td>SE</td>\n      <td>Games</td>\n      <td>...</td>\n      <td>100000.0</td>\n      <td>2012.0</td>\n      <td>May</td>\n      <td>9.0</td>\n      <td>67.0</td>\n      <td>1.028545e+07</td>\n      <td>6.48</td>\n      <td>9021165.0</td>\n      <td>60.128161</td>\n      <td>18.643501</td>\n    </tr>\n    <tr>\n      <th>994</th>\n      <td>995</td>\n      <td>Make Joke Of</td>\n      <td>12300000</td>\n      <td>2.129774e+09</td>\n      <td>Comedy</td>\n      <td>Make Joke Of</td>\n      <td>62</td>\n      <td>India</td>\n      <td>IN</td>\n      <td>Comedy</td>\n      <td>...</td>\n      <td>100000.0</td>\n      <td>2017.0</td>\n      <td>Aug</td>\n      <td>1.0</td>\n      <td>28.1</td>\n      <td>1.366418e+09</td>\n      <td>5.36</td>\n      <td>471031528.0</td>\n      <td>20.593684</td>\n      <td>78.962880</td>\n    </tr>\n  </tbody>\n</table>\n<p>995 rows × 28 columns</p>\n</div>"
     },
     "execution_count": 2,
     "metadata": {},
     "output_type": "execute_result"
    }
   ],
   "source": [
    "df = pd.read_csv(\"Global YouTube Statistics.csv\", encoding=\"ISO-8859-1\")\n",
    "df"
   ],
   "metadata": {
    "collapsed": false,
    "ExecuteTime": {
     "end_time": "2023-10-03T19:28:55.270071Z",
     "start_time": "2023-10-03T19:28:55.232992Z"
    }
   },
   "id": "7ae1f358c99774d8"
  },
  {
   "cell_type": "raw",
   "source": [
    "2. Виведіть перші п'ять рядків (використовується метод head): "
   ],
   "metadata": {
    "collapsed": false
   },
   "id": "23d09fe6bf232039"
  },
  {
   "cell_type": "code",
   "execution_count": 3,
   "outputs": [
    {
     "data": {
      "text/plain": "   rank                    Youtuber  subscribers   video views  \\\n0     1                    T-Series    245000000  2.280000e+11   \n1     2              YouTube Movies    170000000  0.000000e+00   \n2     3                     MrBeast    166000000  2.836884e+10   \n3     4  Cocomelon - Nursery Rhymes    162000000  1.640000e+11   \n4     5                   SET India    159000000  1.480000e+11   \n\n           category                       Title  uploads        Country  \\\n0             Music                    T-Series    20082          India   \n1  Film & Animation               youtubemovies        1  United States   \n2     Entertainment                     MrBeast      741  United States   \n3         Education  Cocomelon - Nursery Rhymes      966  United States   \n4             Shows                   SET India   116536          India   \n\n  Abbreviation   channel_type  ...  subscribers_for_last_30_days  \\\n0           IN          Music  ...                     2000000.0   \n1           US          Games  ...                           NaN   \n2           US  Entertainment  ...                     8000000.0   \n3           US      Education  ...                     1000000.0   \n4           IN  Entertainment  ...                     1000000.0   \n\n   created_year  created_month  created_date  \\\n0        2006.0            Mar          13.0   \n1        2006.0            Mar           5.0   \n2        2012.0            Feb          20.0   \n3        2006.0            Sep           1.0   \n4        2006.0            Sep          20.0   \n\n   Gross tertiary education enrollment (%)    Population  Unemployment rate  \\\n0                                     28.1  1.366418e+09               5.36   \n1                                     88.2  3.282395e+08              14.70   \n2                                     88.2  3.282395e+08              14.70   \n3                                     88.2  3.282395e+08              14.70   \n4                                     28.1  1.366418e+09               5.36   \n\n   Urban_population   Latitude  Longitude  \n0       471031528.0  20.593684  78.962880  \n1       270663028.0  37.090240 -95.712891  \n2       270663028.0  37.090240 -95.712891  \n3       270663028.0  37.090240 -95.712891  \n4       471031528.0  20.593684  78.962880  \n\n[5 rows x 28 columns]",
      "text/html": "<div>\n<style scoped>\n    .dataframe tbody tr th:only-of-type {\n        vertical-align: middle;\n    }\n\n    .dataframe tbody tr th {\n        vertical-align: top;\n    }\n\n    .dataframe thead th {\n        text-align: right;\n    }\n</style>\n<table border=\"1\" class=\"dataframe\">\n  <thead>\n    <tr style=\"text-align: right;\">\n      <th></th>\n      <th>rank</th>\n      <th>Youtuber</th>\n      <th>subscribers</th>\n      <th>video views</th>\n      <th>category</th>\n      <th>Title</th>\n      <th>uploads</th>\n      <th>Country</th>\n      <th>Abbreviation</th>\n      <th>channel_type</th>\n      <th>...</th>\n      <th>subscribers_for_last_30_days</th>\n      <th>created_year</th>\n      <th>created_month</th>\n      <th>created_date</th>\n      <th>Gross tertiary education enrollment (%)</th>\n      <th>Population</th>\n      <th>Unemployment rate</th>\n      <th>Urban_population</th>\n      <th>Latitude</th>\n      <th>Longitude</th>\n    </tr>\n  </thead>\n  <tbody>\n    <tr>\n      <th>0</th>\n      <td>1</td>\n      <td>T-Series</td>\n      <td>245000000</td>\n      <td>2.280000e+11</td>\n      <td>Music</td>\n      <td>T-Series</td>\n      <td>20082</td>\n      <td>India</td>\n      <td>IN</td>\n      <td>Music</td>\n      <td>...</td>\n      <td>2000000.0</td>\n      <td>2006.0</td>\n      <td>Mar</td>\n      <td>13.0</td>\n      <td>28.1</td>\n      <td>1.366418e+09</td>\n      <td>5.36</td>\n      <td>471031528.0</td>\n      <td>20.593684</td>\n      <td>78.962880</td>\n    </tr>\n    <tr>\n      <th>1</th>\n      <td>2</td>\n      <td>YouTube Movies</td>\n      <td>170000000</td>\n      <td>0.000000e+00</td>\n      <td>Film &amp; Animation</td>\n      <td>youtubemovies</td>\n      <td>1</td>\n      <td>United States</td>\n      <td>US</td>\n      <td>Games</td>\n      <td>...</td>\n      <td>NaN</td>\n      <td>2006.0</td>\n      <td>Mar</td>\n      <td>5.0</td>\n      <td>88.2</td>\n      <td>3.282395e+08</td>\n      <td>14.70</td>\n      <td>270663028.0</td>\n      <td>37.090240</td>\n      <td>-95.712891</td>\n    </tr>\n    <tr>\n      <th>2</th>\n      <td>3</td>\n      <td>MrBeast</td>\n      <td>166000000</td>\n      <td>2.836884e+10</td>\n      <td>Entertainment</td>\n      <td>MrBeast</td>\n      <td>741</td>\n      <td>United States</td>\n      <td>US</td>\n      <td>Entertainment</td>\n      <td>...</td>\n      <td>8000000.0</td>\n      <td>2012.0</td>\n      <td>Feb</td>\n      <td>20.0</td>\n      <td>88.2</td>\n      <td>3.282395e+08</td>\n      <td>14.70</td>\n      <td>270663028.0</td>\n      <td>37.090240</td>\n      <td>-95.712891</td>\n    </tr>\n    <tr>\n      <th>3</th>\n      <td>4</td>\n      <td>Cocomelon - Nursery Rhymes</td>\n      <td>162000000</td>\n      <td>1.640000e+11</td>\n      <td>Education</td>\n      <td>Cocomelon - Nursery Rhymes</td>\n      <td>966</td>\n      <td>United States</td>\n      <td>US</td>\n      <td>Education</td>\n      <td>...</td>\n      <td>1000000.0</td>\n      <td>2006.0</td>\n      <td>Sep</td>\n      <td>1.0</td>\n      <td>88.2</td>\n      <td>3.282395e+08</td>\n      <td>14.70</td>\n      <td>270663028.0</td>\n      <td>37.090240</td>\n      <td>-95.712891</td>\n    </tr>\n    <tr>\n      <th>4</th>\n      <td>5</td>\n      <td>SET India</td>\n      <td>159000000</td>\n      <td>1.480000e+11</td>\n      <td>Shows</td>\n      <td>SET India</td>\n      <td>116536</td>\n      <td>India</td>\n      <td>IN</td>\n      <td>Entertainment</td>\n      <td>...</td>\n      <td>1000000.0</td>\n      <td>2006.0</td>\n      <td>Sep</td>\n      <td>20.0</td>\n      <td>28.1</td>\n      <td>1.366418e+09</td>\n      <td>5.36</td>\n      <td>471031528.0</td>\n      <td>20.593684</td>\n      <td>78.962880</td>\n    </tr>\n  </tbody>\n</table>\n<p>5 rows × 28 columns</p>\n</div>"
     },
     "execution_count": 3,
     "metadata": {},
     "output_type": "execute_result"
    }
   ],
   "source": [
    "df.head()"
   ],
   "metadata": {
    "collapsed": false,
    "ExecuteTime": {
     "end_time": "2023-10-03T19:29:00.780845Z",
     "start_time": "2023-10-03T19:29:00.763188Z"
    }
   },
   "id": "47b3e8217217587f"
  },
  {
   "cell_type": "raw",
   "source": [
    "3. Виведіть розміри датасету (використовуйте метод shape): "
   ],
   "metadata": {
    "collapsed": false
   },
   "id": "68d496cd5084c146"
  },
  {
   "cell_type": "code",
   "execution_count": 4,
   "outputs": [
    {
     "data": {
      "text/plain": "(995, 28)"
     },
     "execution_count": 4,
     "metadata": {},
     "output_type": "execute_result"
    }
   ],
   "source": [
    "df.shape"
   ],
   "metadata": {
    "collapsed": false,
    "ExecuteTime": {
     "end_time": "2023-10-03T19:29:04.332104Z",
     "start_time": "2023-10-03T19:29:04.324723Z"
    }
   },
   "id": "98be321d1d326e47"
  },
  {
   "cell_type": "raw",
   "source": [
    "4. Перевірте, чи у всіх рядків вистачає даних: виведіть кількість пропусків  у кожному зі стовпців \n",
    "(використовуйте методи isna та sum). \n",
    "Якщо є пропуски, замінить їх на NaN, потім тип даних на числовий. "
   ],
   "metadata": {
    "collapsed": false
   },
   "id": "d3db6c676eab250b"
  },
  {
   "cell_type": "code",
   "execution_count": 5,
   "outputs": [
    {
     "data": {
      "text/plain": "rank                                         0\nYoutuber                                     0\nsubscribers                                  0\nvideo views                                  0\ncategory                                    46\nTitle                                        0\nuploads                                      0\nCountry                                    122\nAbbreviation                               122\nchannel_type                                30\nvideo_views_rank                             1\ncountry_rank                               116\nchannel_type_rank                           33\nvideo_views_for_the_last_30_days            56\nlowest_monthly_earnings                      0\nhighest_monthly_earnings                     0\nlowest_yearly_earnings                       0\nhighest_yearly_earnings                      0\nsubscribers_for_last_30_days               337\ncreated_year                                 5\ncreated_month                                5\ncreated_date                                 5\nGross tertiary education enrollment (%)    123\nPopulation                                 123\nUnemployment rate                          123\nUrban_population                           123\nLatitude                                   123\nLongitude                                  123\ndtype: int64"
     },
     "execution_count": 5,
     "metadata": {},
     "output_type": "execute_result"
    }
   ],
   "source": [
    "missing_values = df.isna().sum()\n",
    "missing_values"
   ],
   "metadata": {
    "collapsed": false,
    "ExecuteTime": {
     "end_time": "2023-10-03T19:29:09.145184Z",
     "start_time": "2023-10-03T19:29:09.140153Z"
    }
   },
   "id": "e1e2a2552e9856da"
  },
  {
   "cell_type": "raw",
   "source": [
    "5. Замініть комірки з пропущеними значенями на середні за стовпцем. І тип даних на float."
   ],
   "metadata": {
    "collapsed": false
   },
   "id": "8a92548c27d6c24e"
  },
  {
   "cell_type": "code",
   "execution_count": 7,
   "outputs": [
    {
     "data": {
      "text/plain": "     rank                    Youtuber  subscribers   video views  \\\n0       1                    T-Series    245000000  2.280000e+11   \n1       2              YouTube Movies    170000000  0.000000e+00   \n2       3                     MrBeast    166000000  2.836884e+10   \n3       4  Cocomelon - Nursery Rhymes    162000000  1.640000e+11   \n4       5                   SET India    159000000  1.480000e+11   \n..    ...                         ...          ...           ...   \n990   991               Natan por Aï¿     12300000  9.029610e+09   \n991   992    Free Fire India Official     12300000  1.674410e+09   \n992   993                       Panda     12300000  2.214684e+09   \n993   994                 RobTopGames     12300000  3.741235e+08   \n994   995                Make Joke Of     12300000  2.129774e+09   \n\n             category                       Title  uploads         Country  \\\n0               Music                    T-Series    20082           India   \n1    Film & Animation               youtubemovies        1   United States   \n2       Entertainment                     MrBeast      741   United States   \n3           Education  Cocomelon - Nursery Rhymes      966   United States   \n4               Shows                   SET India   116536           India   \n..                ...                         ...      ...             ...   \n990            Sports               Natan por Aï¿     1200          Brazil   \n991    People & Blogs    Free Fire India Official     1500           India   \n992               NaN                 HybridPanda     2452  United Kingdom   \n993            Gaming                 RobTopGames       39          Sweden   \n994            Comedy                Make Joke Of       62           India   \n\n    Abbreviation   channel_type  ...  subscribers_for_last_30_days  \\\n0             IN          Music  ...                  2.000000e+06   \n1             US          Games  ...                  3.490791e+05   \n2             US  Entertainment  ...                  8.000000e+06   \n3             US      Education  ...                  1.000000e+06   \n4             IN  Entertainment  ...                  1.000000e+06   \n..           ...            ...  ...                           ...   \n990           BR  Entertainment  ...                  7.000000e+05   \n991           IN          Games  ...                  3.000000e+05   \n992           GB          Games  ...                  1.000000e+03   \n993           SE          Games  ...                  1.000000e+05   \n994           IN         Comedy  ...                  1.000000e+05   \n\n     created_year  created_month  created_date  \\\n0          2006.0            Mar          13.0   \n1          2006.0            Mar           5.0   \n2          2012.0            Feb          20.0   \n3          2006.0            Sep           1.0   \n4          2006.0            Sep          20.0   \n..            ...            ...           ...   \n990        2017.0            Feb          12.0   \n991        2018.0            Sep          14.0   \n992        2006.0            Sep          11.0   \n993        2012.0            May           9.0   \n994        2017.0            Aug           1.0   \n\n     Gross tertiary education enrollment (%)    Population  Unemployment rate  \\\n0                                       28.1  1.366418e+09               5.36   \n1                                       88.2  3.282395e+08              14.70   \n2                                       88.2  3.282395e+08              14.70   \n3                                       88.2  3.282395e+08              14.70   \n4                                       28.1  1.366418e+09               5.36   \n..                                       ...           ...                ...   \n990                                     51.3  2.125594e+08              12.08   \n991                                     28.1  1.366418e+09               5.36   \n992                                     60.0  6.683440e+07               3.85   \n993                                     67.0  1.028545e+07               6.48   \n994                                     28.1  1.366418e+09               5.36   \n\n     Urban_population   Latitude  Longitude  \n0         471031528.0  20.593684  78.962880  \n1         270663028.0  37.090240 -95.712891  \n2         270663028.0  37.090240 -95.712891  \n3         270663028.0  37.090240 -95.712891  \n4         471031528.0  20.593684  78.962880  \n..                ...        ...        ...  \n990       183241641.0 -14.235004 -51.925280  \n991       471031528.0  20.593684  78.962880  \n992        55908316.0  55.378051  -3.435973  \n993         9021165.0  60.128161  18.643501  \n994       471031528.0  20.593684  78.962880  \n\n[995 rows x 28 columns]",
      "text/html": "<div>\n<style scoped>\n    .dataframe tbody tr th:only-of-type {\n        vertical-align: middle;\n    }\n\n    .dataframe tbody tr th {\n        vertical-align: top;\n    }\n\n    .dataframe thead th {\n        text-align: right;\n    }\n</style>\n<table border=\"1\" class=\"dataframe\">\n  <thead>\n    <tr style=\"text-align: right;\">\n      <th></th>\n      <th>rank</th>\n      <th>Youtuber</th>\n      <th>subscribers</th>\n      <th>video views</th>\n      <th>category</th>\n      <th>Title</th>\n      <th>uploads</th>\n      <th>Country</th>\n      <th>Abbreviation</th>\n      <th>channel_type</th>\n      <th>...</th>\n      <th>subscribers_for_last_30_days</th>\n      <th>created_year</th>\n      <th>created_month</th>\n      <th>created_date</th>\n      <th>Gross tertiary education enrollment (%)</th>\n      <th>Population</th>\n      <th>Unemployment rate</th>\n      <th>Urban_population</th>\n      <th>Latitude</th>\n      <th>Longitude</th>\n    </tr>\n  </thead>\n  <tbody>\n    <tr>\n      <th>0</th>\n      <td>1</td>\n      <td>T-Series</td>\n      <td>245000000</td>\n      <td>2.280000e+11</td>\n      <td>Music</td>\n      <td>T-Series</td>\n      <td>20082</td>\n      <td>India</td>\n      <td>IN</td>\n      <td>Music</td>\n      <td>...</td>\n      <td>2.000000e+06</td>\n      <td>2006.0</td>\n      <td>Mar</td>\n      <td>13.0</td>\n      <td>28.1</td>\n      <td>1.366418e+09</td>\n      <td>5.36</td>\n      <td>471031528.0</td>\n      <td>20.593684</td>\n      <td>78.962880</td>\n    </tr>\n    <tr>\n      <th>1</th>\n      <td>2</td>\n      <td>YouTube Movies</td>\n      <td>170000000</td>\n      <td>0.000000e+00</td>\n      <td>Film &amp; Animation</td>\n      <td>youtubemovies</td>\n      <td>1</td>\n      <td>United States</td>\n      <td>US</td>\n      <td>Games</td>\n      <td>...</td>\n      <td>3.490791e+05</td>\n      <td>2006.0</td>\n      <td>Mar</td>\n      <td>5.0</td>\n      <td>88.2</td>\n      <td>3.282395e+08</td>\n      <td>14.70</td>\n      <td>270663028.0</td>\n      <td>37.090240</td>\n      <td>-95.712891</td>\n    </tr>\n    <tr>\n      <th>2</th>\n      <td>3</td>\n      <td>MrBeast</td>\n      <td>166000000</td>\n      <td>2.836884e+10</td>\n      <td>Entertainment</td>\n      <td>MrBeast</td>\n      <td>741</td>\n      <td>United States</td>\n      <td>US</td>\n      <td>Entertainment</td>\n      <td>...</td>\n      <td>8.000000e+06</td>\n      <td>2012.0</td>\n      <td>Feb</td>\n      <td>20.0</td>\n      <td>88.2</td>\n      <td>3.282395e+08</td>\n      <td>14.70</td>\n      <td>270663028.0</td>\n      <td>37.090240</td>\n      <td>-95.712891</td>\n    </tr>\n    <tr>\n      <th>3</th>\n      <td>4</td>\n      <td>Cocomelon - Nursery Rhymes</td>\n      <td>162000000</td>\n      <td>1.640000e+11</td>\n      <td>Education</td>\n      <td>Cocomelon - Nursery Rhymes</td>\n      <td>966</td>\n      <td>United States</td>\n      <td>US</td>\n      <td>Education</td>\n      <td>...</td>\n      <td>1.000000e+06</td>\n      <td>2006.0</td>\n      <td>Sep</td>\n      <td>1.0</td>\n      <td>88.2</td>\n      <td>3.282395e+08</td>\n      <td>14.70</td>\n      <td>270663028.0</td>\n      <td>37.090240</td>\n      <td>-95.712891</td>\n    </tr>\n    <tr>\n      <th>4</th>\n      <td>5</td>\n      <td>SET India</td>\n      <td>159000000</td>\n      <td>1.480000e+11</td>\n      <td>Shows</td>\n      <td>SET India</td>\n      <td>116536</td>\n      <td>India</td>\n      <td>IN</td>\n      <td>Entertainment</td>\n      <td>...</td>\n      <td>1.000000e+06</td>\n      <td>2006.0</td>\n      <td>Sep</td>\n      <td>20.0</td>\n      <td>28.1</td>\n      <td>1.366418e+09</td>\n      <td>5.36</td>\n      <td>471031528.0</td>\n      <td>20.593684</td>\n      <td>78.962880</td>\n    </tr>\n    <tr>\n      <th>...</th>\n      <td>...</td>\n      <td>...</td>\n      <td>...</td>\n      <td>...</td>\n      <td>...</td>\n      <td>...</td>\n      <td>...</td>\n      <td>...</td>\n      <td>...</td>\n      <td>...</td>\n      <td>...</td>\n      <td>...</td>\n      <td>...</td>\n      <td>...</td>\n      <td>...</td>\n      <td>...</td>\n      <td>...</td>\n      <td>...</td>\n      <td>...</td>\n      <td>...</td>\n      <td>...</td>\n    </tr>\n    <tr>\n      <th>990</th>\n      <td>991</td>\n      <td>Natan por Aï¿</td>\n      <td>12300000</td>\n      <td>9.029610e+09</td>\n      <td>Sports</td>\n      <td>Natan por Aï¿</td>\n      <td>1200</td>\n      <td>Brazil</td>\n      <td>BR</td>\n      <td>Entertainment</td>\n      <td>...</td>\n      <td>7.000000e+05</td>\n      <td>2017.0</td>\n      <td>Feb</td>\n      <td>12.0</td>\n      <td>51.3</td>\n      <td>2.125594e+08</td>\n      <td>12.08</td>\n      <td>183241641.0</td>\n      <td>-14.235004</td>\n      <td>-51.925280</td>\n    </tr>\n    <tr>\n      <th>991</th>\n      <td>992</td>\n      <td>Free Fire India Official</td>\n      <td>12300000</td>\n      <td>1.674410e+09</td>\n      <td>People &amp; Blogs</td>\n      <td>Free Fire India Official</td>\n      <td>1500</td>\n      <td>India</td>\n      <td>IN</td>\n      <td>Games</td>\n      <td>...</td>\n      <td>3.000000e+05</td>\n      <td>2018.0</td>\n      <td>Sep</td>\n      <td>14.0</td>\n      <td>28.1</td>\n      <td>1.366418e+09</td>\n      <td>5.36</td>\n      <td>471031528.0</td>\n      <td>20.593684</td>\n      <td>78.962880</td>\n    </tr>\n    <tr>\n      <th>992</th>\n      <td>993</td>\n      <td>Panda</td>\n      <td>12300000</td>\n      <td>2.214684e+09</td>\n      <td>NaN</td>\n      <td>HybridPanda</td>\n      <td>2452</td>\n      <td>United Kingdom</td>\n      <td>GB</td>\n      <td>Games</td>\n      <td>...</td>\n      <td>1.000000e+03</td>\n      <td>2006.0</td>\n      <td>Sep</td>\n      <td>11.0</td>\n      <td>60.0</td>\n      <td>6.683440e+07</td>\n      <td>3.85</td>\n      <td>55908316.0</td>\n      <td>55.378051</td>\n      <td>-3.435973</td>\n    </tr>\n    <tr>\n      <th>993</th>\n      <td>994</td>\n      <td>RobTopGames</td>\n      <td>12300000</td>\n      <td>3.741235e+08</td>\n      <td>Gaming</td>\n      <td>RobTopGames</td>\n      <td>39</td>\n      <td>Sweden</td>\n      <td>SE</td>\n      <td>Games</td>\n      <td>...</td>\n      <td>1.000000e+05</td>\n      <td>2012.0</td>\n      <td>May</td>\n      <td>9.0</td>\n      <td>67.0</td>\n      <td>1.028545e+07</td>\n      <td>6.48</td>\n      <td>9021165.0</td>\n      <td>60.128161</td>\n      <td>18.643501</td>\n    </tr>\n    <tr>\n      <th>994</th>\n      <td>995</td>\n      <td>Make Joke Of</td>\n      <td>12300000</td>\n      <td>2.129774e+09</td>\n      <td>Comedy</td>\n      <td>Make Joke Of</td>\n      <td>62</td>\n      <td>India</td>\n      <td>IN</td>\n      <td>Comedy</td>\n      <td>...</td>\n      <td>1.000000e+05</td>\n      <td>2017.0</td>\n      <td>Aug</td>\n      <td>1.0</td>\n      <td>28.1</td>\n      <td>1.366418e+09</td>\n      <td>5.36</td>\n      <td>471031528.0</td>\n      <td>20.593684</td>\n      <td>78.962880</td>\n    </tr>\n  </tbody>\n</table>\n<p>995 rows × 28 columns</p>\n</div>"
     },
     "execution_count": 7,
     "metadata": {},
     "output_type": "execute_result"
    }
   ],
   "source": [
    "#column_types = df.dtypes\n",
    "#print(column_types)\n",
    "for column in missing_values.index:\n",
    "    if missing_values[column] > 0:\n",
    "        if df[column].dtype == 'int64' or df[column].dtype == 'float64':\n",
    "            mean_value = df[column].mean()\n",
    "            df[column].fillna(mean_value, inplace=True)\n",
    "            df[column] = df[column].astype(float)\n",
    "\n",
    "df"
   ],
   "metadata": {
    "collapsed": false,
    "ExecuteTime": {
     "end_time": "2023-10-03T19:29:29.230465Z",
     "start_time": "2023-10-03T19:29:29.210404Z"
    }
   },
   "id": "f128a33aaefb0b06"
  },
  {
   "cell_type": "raw",
   "source": [
    "6. Перевірте ще раз кількість пропусків"
   ],
   "metadata": {
    "collapsed": false
   },
   "id": "fd46e210638f2196"
  },
  {
   "cell_type": "code",
   "execution_count": 8,
   "outputs": [
    {
     "data": {
      "text/plain": "rank                                         0\nYoutuber                                     0\nsubscribers                                  0\nvideo views                                  0\ncategory                                    46\nTitle                                        0\nuploads                                      0\nCountry                                    122\nAbbreviation                               122\nchannel_type                                30\nvideo_views_rank                             0\ncountry_rank                                 0\nchannel_type_rank                            0\nvideo_views_for_the_last_30_days             0\nlowest_monthly_earnings                      0\nhighest_monthly_earnings                     0\nlowest_yearly_earnings                       0\nhighest_yearly_earnings                      0\nsubscribers_for_last_30_days                 0\ncreated_year                                 0\ncreated_month                                5\ncreated_date                                 0\nGross tertiary education enrollment (%)      0\nPopulation                                   0\nUnemployment rate                            0\nUrban_population                             0\nLatitude                                     0\nLongitude                                    0\ndtype: int64"
     },
     "execution_count": 8,
     "metadata": {},
     "output_type": "execute_result"
    }
   ],
   "source": [
    "missing_values_after_filling = df.isna().sum()\n",
    "missing_values_after_filling"
   ],
   "metadata": {
    "collapsed": false,
    "ExecuteTime": {
     "end_time": "2023-10-03T19:30:12.224472Z",
     "start_time": "2023-10-03T19:30:12.215510Z"
    }
   },
   "id": "27c8275de4a0c6ff"
  },
  {
   "cell_type": "raw",
   "source": [
    "7. Перевірте, скільки унікальних країн представлено у колонці \"Country\""
   ],
   "metadata": {
    "collapsed": false
   },
   "id": "3f3ddbf1b30adee8"
  },
  {
   "cell_type": "code",
   "execution_count": 9,
   "outputs": [
    {
     "name": "stdout",
     "output_type": "stream",
     "text": [
      "Унікальних країн: 49\n"
     ]
    }
   ],
   "source": [
    "unique_countries = df['Country'].nunique()\n",
    "print(f\"Унікальних країн: {unique_countries}\")"
   ],
   "metadata": {
    "collapsed": false,
    "ExecuteTime": {
     "end_time": "2023-10-03T19:31:01.853136Z",
     "start_time": "2023-10-03T19:31:01.839878Z"
    }
   },
   "id": "bf8c4ec24a9aa4f"
  },
  {
   "cell_type": "raw",
   "source": [
    "8. Побудуйте діаграму розподілу переглядів"
   ],
   "metadata": {
    "collapsed": false
   },
   "id": "653ec7032677484a"
  },
  {
   "cell_type": "code",
   "execution_count": 14,
   "outputs": [
    {
     "data": {
      "text/plain": "<Figure size 640x480 with 1 Axes>",
      "image/png": "[encoded data removed]"
     },
     "metadata": {},
     "output_type": "display_data"
    }
   ],
   "source": [
    "df['video views'].plot(kind='hist')\n",
    "plt.xlabel('Кількість відео')\n",
    "plt.ylabel('Кількість переглядів')\n",
    "plt.title('Розподіл переглядів')\n",
    "plt.show()"
   ],
   "metadata": {
    "collapsed": false,
    "ExecuteTime": {
     "end_time": "2023-10-03T19:34:25.046523Z",
     "start_time": "2023-10-03T19:34:24.951789Z"
    }
   },
   "id": "8607daf756b95054"
  },
  {
   "cell_type": "raw",
   "source": [
    "9. Визначте максимальну, мінімальну та середню кількість переглядів"
   ],
   "metadata": {
    "collapsed": false
   },
   "id": "eb265ac1105ec9dc"
  },
  {
   "cell_type": "code",
   "execution_count": 15,
   "outputs": [
    {
     "name": "stdout",
     "output_type": "stream",
     "text": [
      "Максимальна кількість переглядів: 228000000000.0\n",
      "Мінімальна кількість переглядів: 0.0\n",
      "Середня кількість переглядів: 11039537052.03819\n"
     ]
    }
   ],
   "source": [
    "max_views = df['video views'].max()\n",
    "min_views = df['video views'].min()\n",
    "mean_views = df['video views'].mean()\n",
    "print(f\"Максимальна кількість переглядів: {max_views}\")\n",
    "print(f\"Мінімальна кількість переглядів: {min_views}\")\n",
    "print(f\"Середня кількість переглядів: {mean_views}\")"
   ],
   "metadata": {
    "collapsed": false,
    "ExecuteTime": {
     "end_time": "2023-10-03T19:35:29.129735Z",
     "start_time": "2023-10-03T19:35:29.110567Z"
    }
   },
   "id": "4ef8cb047719794c"
  },
  {
   "cell_type": "raw",
   "source": [
    "10. Знайдіть країну, де найбільше відео було завантажено на YouTube"
   ],
   "metadata": {
    "collapsed": false
   },
   "id": "70e936cb96ec0967"
  },
  {
   "cell_type": "code",
   "execution_count": 17,
   "outputs": [
    {
     "name": "stdout",
     "output_type": "stream",
     "text": [
      "Країна з найбільшою кількістю завантажень відео: India\n"
     ]
    }
   ],
   "source": [
    "most_uploads_country = df[df['uploads'] == df['uploads'].max()]['Country'].values[0]\n",
    "print(f\"Країна з найбільшою кількістю завантажень відео: {most_uploads_country}\")"
   ],
   "metadata": {
    "collapsed": false,
    "ExecuteTime": {
     "end_time": "2023-10-03T19:37:06.404941Z",
     "start_time": "2023-10-03T19:37:06.397821Z"
    }
   },
   "id": "e725fc6efcdad1e5"
  },
  {
   "cell_type": "raw",
   "source": [
    "11. Знайдіть відео з найбільшою та найменшою кількістю завантажень"
   ],
   "metadata": {
    "collapsed": false
   },
   "id": "1dd848155e555646"
  },
  {
   "cell_type": "code",
   "execution_count": 18,
   "outputs": [
    {
     "name": "stdout",
     "output_type": "stream",
     "text": [
      "Відео з найбільшою кількістю завантажень: ABP NEWS\n",
      "Відео з найменшою кількістю завантажень: Music\n"
     ]
    }
   ],
   "source": [
    "max_uploads_video = df[df['uploads'] == df['uploads'].max()]['Title'].values[0]\n",
    "min_uploads_video = df[df['uploads'] == df['uploads'].min()]['Title'].values[0]\n",
    "print(f\"Відео з найбільшою кількістю завантажень: {max_uploads_video}\")\n",
    "print(f\"Відео з найменшою кількістю завантажень: {min_uploads_video}\")"
   ],
   "metadata": {
    "collapsed": false,
    "ExecuteTime": {
     "end_time": "2023-10-03T19:38:19.734511Z",
     "start_time": "2023-10-03T19:38:19.709131Z"
    }
   },
   "id": "b313d2d280becb84"
  },
  {
   "cell_type": "code",
   "execution_count": null,
   "outputs": [],
   "source": [],
   "metadata": {
    "collapsed": false
   },
   "id": "87bb59e6a13f44c6"
  }
 ],
 "metadata": {
  "kernelspec": {
   "display_name": "Python 3",
   "language": "python",
   "name": "python3"
  },
  "language_info": {
   "codemirror_mode": {
    "name": "ipython",
    "version": 2
   },
   "file_extension": ".py",
   "mimetype": "text/x-python",
   "name": "python",
   "nbconvert_exporter": "python",
   "pygments_lexer": "ipython2",
   "version": "2.7.6"
  }
 },
 "nbformat": 4,
 "nbformat_minor": 5
}
